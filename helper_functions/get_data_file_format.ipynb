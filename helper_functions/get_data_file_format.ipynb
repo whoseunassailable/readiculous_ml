{
 "cells": [
  {
   "cell_type": "code",
   "execution_count": 2,
   "id": "013202ad",
   "metadata": {},
   "outputs": [],
   "source": [
    "import pandas as pd\n",
    "import os\n",
    "\n",
    "def extract_first_rows(file_paths, output_dir, n=10):\n",
    "    \"\"\"\n",
    "    Extracts the first `n` rows from each CSV file in `file_paths`\n",
    "    and saves them as new CSV files in `output_dir`.\n",
    "\n",
    "    Args:\n",
    "        file_paths (list): List of input CSV file paths.\n",
    "        output_dir (str): Directory to save the output CSV files.\n",
    "        n (int): Number of rows to extract from each file (default: 10).\n",
    "    \"\"\"\n",
    "    os.makedirs(output_dir, exist_ok=True)\n",
    "\n",
    "    for file_path in file_paths:\n",
    "        try:\n",
    "            df = pd.read_csv(file_path, nrows=n)\n",
    "            filename = os.path.basename(file_path)\n",
    "            output_file = os.path.join(output_dir, f\"sample_{filename}\")\n",
    "            df.to_csv(output_file, index=False)\n",
    "            print(f\"Saved first {n} rows of '{filename}' to '{output_file}'\")\n",
    "        except Exception as e:\n",
    "            print(f\"Error processing {file_path}: {e}\")\n"
   ]
  },
  {
   "cell_type": "code",
   "execution_count": 3,
   "id": "73dbf875",
   "metadata": {},
   "outputs": [
    {
     "name": "stdout",
     "output_type": "stream",
     "text": [
      "Saved first 10 rows of 'books_dataset.csv' to 'samples/sample_books_dataset.csv'\n",
      "Saved first 10 rows of 'combined_books.csv' to 'samples/sample_combined_books.csv'\n",
      "Saved first 10 rows of 'data_with_no_null_genre.csv' to 'samples/sample_data_with_no_null_genre.csv'\n",
      "Saved first 10 rows of 'df_final_with_genres.csv' to 'samples/sample_df_final_with_genres.csv'\n",
      "Saved first 10 rows of 'enriched_titles_with_genres.csv' to 'samples/sample_enriched_titles_with_genres.csv'\n",
      "Saved first 10 rows of 'feature_engineering_done.csv' to 'samples/sample_feature_engineering_done.csv'\n",
      "Saved first 10 rows of 'genre_based_filtering_cleaned.csv' to 'samples/sample_genre_based_filtering_cleaned.csv'\n",
      "Saved first 10 rows of 'genre_based_filtering.csv' to 'samples/sample_genre_based_filtering.csv'\n",
      "Saved first 10 rows of 'processed_books_data.csv' to 'samples/sample_processed_books_data.csv'\n",
      "Saved first 10 rows of 'ready_for_feature_engineering.csv' to 'samples/sample_ready_for_feature_engineering.csv'\n",
      "Saved first 10 rows of 'title_genres.csv' to 'samples/sample_title_genres.csv'\n",
      "Saved first 10 rows of 'unique_titles.csv' to 'samples/sample_unique_titles.csv'\n",
      "Saved first 10 rows of 'best_books.csv' to 'samples/sample_best_books.csv'\n",
      "Saved first 10 rows of 'Books.csv' to 'samples/sample_Books.csv'\n",
      "Saved first 10 rows of 'good_read_books_100k.csv' to 'samples/sample_good_read_books_100k.csv'\n",
      "Saved first 10 rows of 'Ratings.csv' to 'samples/sample_Ratings.csv'\n",
      "Saved first 10 rows of 'Users.csv' to 'samples/sample_Users.csv'\n"
     ]
    }
   ],
   "source": [
    "file_list = ['/Users/whoseunassailable/Documents/coding_projects/college_projects/readiculous/data/processed/books_dataset.csv', '/Users/whoseunassailable/Documents/coding_projects/college_projects/readiculous/data/processed/combined_books.csv',\n",
    "            '/Users/whoseunassailable/Documents/coding_projects/college_projects/readiculous/data/processed/data_with_no_null_genre.csv',\n",
    "            '/Users/whoseunassailable/Documents/coding_projects/college_projects/readiculous/data/processed/df_final_with_genres.csv',\n",
    "            '/Users/whoseunassailable/Documents/coding_projects/college_projects/readiculous/data/processed/enriched_titles_with_genres.csv',\n",
    "             '/Users/whoseunassailable/Documents/coding_projects/college_projects/readiculous/data/processed/feature_engineering_done.csv',\n",
    "                '/Users/whoseunassailable/Documents/coding_projects/college_projects/readiculous/data/processed/genre_based_filtering_cleaned.csv',\n",
    "                '/Users/whoseunassailable/Documents/coding_projects/college_projects/readiculous/data/processed/genre_based_filtering.csv',\n",
    "                '/Users/whoseunassailable/Documents/coding_projects/college_projects/readiculous/data/processed/processed_books_data.csv',\n",
    "                 '/Users/whoseunassailable/Documents/coding_projects/college_projects/readiculous/data/processed/ready_for_feature_engineering.csv',\n",
    "                    '/Users/whoseunassailable/Documents/coding_projects/college_projects/readiculous/data/processed/title_genres.csv',\n",
    "                     '/Users/whoseunassailable/Documents/coding_projects/college_projects/readiculous/data/processed/unique_titles.csv',\n",
    "                        '/Users/whoseunassailable/Documents/coding_projects/college_projects/readiculous/data/raw/best_books.csv',\n",
    "                         '/Users/whoseunassailable/Documents/coding_projects/college_projects/readiculous/data/raw/Books.csv',\n",
    "                         '/Users/whoseunassailable/Documents/coding_projects/college_projects/readiculous/data/raw/good_read_books_100k.csv',\n",
    "                         '/Users/whoseunassailable/Documents/coding_projects/college_projects/readiculous/data/raw/Ratings.csv',\n",
    "                          '/Users/whoseunassailable/Documents/coding_projects/college_projects/readiculous/data/raw/Users.csv'                                                                                                                                                                                                                                                                                                                                                                                                                                                                                                                                                                                                                                                                                                                                                                                                                                                                                                                                                                                                                                                                                                                                                                                                                                                                                                                                                                                                                                                                                                                                                                                                                                                                                                                                                                                                                                                                                                                                                                                                                                                                                                                                                                                                                                                                                                                                                                                                                                                                                                                                                                                                                                                                                                                                                                                                                                                                                                                                                                                                                                                                                                                                                                                                                                                                                                                                                                                                                                                                                                                                                                                                                                                                                                                                                                                                                                                                                                                                                                                                                                                                                                                                                                                                                                                                                                                                                                                                                                                                                                                                                                                                                                                                                                                                                                                                                                                                                                                                                                                                                                                                                                                                                                                                                                                                                                                                                                                                                                                                                                                                                                                                                                                                                                                                                                                                                                                                                                                                                                                                                                                                                                                                                                                                                                                                                                                                                                                                                                                                                                                                                                                                                                                                                                                                                                                                                                                                                                                                                                                                                                                                                                                                                                                                                                                                                                                                                                                                                                                                                                                                                                                                                                                                                                                                                                                                                                                                                                                                                                                                                                                                                                                                                                                                                                                                                                                                                                                                                                                                                                                                                                                                                                                                                                                                                                                                                                                                                                                                                                                                                                                                                                                                                                                                                                                                                                                                                                                                                                                                                                                                                                                                                                                                                                                                                                                                                                                                                                                                                                                                                                                                                                                                                                                                                                                                                                                                                                                                                                                                                                                                                                                                                                                                                                                                                                                                                                                                                                                                                                                                                                                                                                                                                                                                                                                                                                       ]\n",
    "extract_first_rows(file_list, output_dir='samples')\n"
   ]
  }
 ],
 "metadata": {
  "kernelspec": {
   "display_name": "base",
   "language": "python",
   "name": "python3"
  },
  "language_info": {
   "codemirror_mode": {
    "name": "ipython",
    "version": 3
   },
   "file_extension": ".py",
   "mimetype": "text/x-python",
   "name": "python",
   "nbconvert_exporter": "python",
   "pygments_lexer": "ipython3",
   "version": "3.12.7"
  }
 },
 "nbformat": 4,
 "nbformat_minor": 5
}

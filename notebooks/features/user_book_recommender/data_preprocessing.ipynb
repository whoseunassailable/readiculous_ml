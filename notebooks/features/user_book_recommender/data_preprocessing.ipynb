{
 "cells": [
  {
   "cell_type": "code",
   "execution_count": 46,
   "id": "b8bcc749",
   "metadata": {},
   "outputs": [],
   "source": [
    "import pandas as pd\n",
    "from ydata_profiling import ProfileReport\n",
    "import seaborn as sns\n",
    "import matplotlib.pyplot as plt\n",
    "import plotly.express as px"
   ]
  },
  {
   "cell_type": "code",
   "execution_count": 47,
   "id": "2244df82",
   "metadata": {},
   "outputs": [
    {
     "name": "stderr",
     "output_type": "stream",
     "text": [
      "/var/folders/dw/fn12lc3x2b317ydc5b70v2340000gn/T/ipykernel_85713/797220179.py:1: DtypeWarning: Columns (1,3,4,8,9,10) have mixed types. Specify dtype option on import or set low_memory=False.\n",
      "  df = pd.read_csv(\"/Users/whoseunassailable/Documents/coding_projects/college_projects/readiculous/data/processed/combined_books.csv\")\n"
     ]
    }
   ],
   "source": [
    "df = pd.read_csv(\"/Users/whoseunassailable/Documents/coding_projects/college_projects/readiculous/data/processed/combined_books.csv\")"
   ]
  },
  {
   "cell_type": "markdown",
   "id": "8eb31cc9",
   "metadata": {},
   "source": [
    "## We will pre-process the data and see what are all the missing and duplicate values present in the dataset"
   ]
  },
  {
   "cell_type": "code",
   "execution_count": 48,
   "id": "3f6df44b",
   "metadata": {},
   "outputs": [
    {
     "data": {
      "text/plain": [
       "user_id              97108\n",
       "isbn                 38923\n",
       "rating               24441\n",
       "title                24442\n",
       "author               24441\n",
       "year                 97108\n",
       "publisher            97108\n",
       "age                 113480\n",
       "normalized_title     26196\n",
       "matched_genres       24441\n",
       "desc                 58546\n",
       "dtype: int64"
      ]
     },
     "execution_count": 48,
     "metadata": {},
     "output_type": "execute_result"
    }
   ],
   "source": [
    "df.isnull().sum()"
   ]
  },
  {
   "cell_type": "markdown",
   "id": "7e33cd13",
   "metadata": {},
   "source": [
    "### Columns that should NOT be missing (ideally):\n",
    "rating - Drop rows where rating is missing\n",
    "\n",
    "title -  Drop rows where title is missing\n",
    "\n",
    "author - Drop rows where author is missing\n",
    "\n",
    "matched_genres - Drop rows where matched_genres is missing"
   ]
  },
  {
   "cell_type": "code",
   "execution_count": 49,
   "id": "b2693607",
   "metadata": {},
   "outputs": [],
   "source": [
    "required_cols = ['rating', 'title', 'author', 'matched_genres']\n",
    "df = df.dropna(subset=required_cols).copy()\n"
   ]
  },
  {
   "cell_type": "code",
   "execution_count": 50,
   "id": "fc1c5c83",
   "metadata": {},
   "outputs": [
    {
     "data": {
      "text/plain": [
       "(127332, 11)"
      ]
     },
     "execution_count": 50,
     "metadata": {},
     "output_type": "execute_result"
    }
   ],
   "source": [
    "df.shape"
   ]
  },
  {
   "cell_type": "code",
   "execution_count": 51,
   "id": "61b0edaf",
   "metadata": {},
   "outputs": [],
   "source": [
    "df['normalized_title'] = df['normalized_title'].fillna(df['title'].str.lower())\n"
   ]
  },
  {
   "cell_type": "code",
   "execution_count": 52,
   "id": "5980e775",
   "metadata": {},
   "outputs": [
    {
     "data": {
      "text/plain": [
       "(127332, 11)"
      ]
     },
     "execution_count": 52,
     "metadata": {},
     "output_type": "execute_result"
    }
   ],
   "source": [
    "df.shape"
   ]
  },
  {
   "cell_type": "code",
   "execution_count": 53,
   "id": "ed655710",
   "metadata": {},
   "outputs": [],
   "source": [
    "df = df.drop(columns=['user_id', 'age', 'publisher', 'year'])\n"
   ]
  },
  {
   "cell_type": "code",
   "execution_count": 54,
   "id": "fd365e35",
   "metadata": {},
   "outputs": [
    {
     "data": {
      "text/plain": [
       "Index(['isbn', 'rating', 'title', 'author', 'normalized_title',\n",
       "       'matched_genres', 'desc'],\n",
       "      dtype='object')"
      ]
     },
     "execution_count": 54,
     "metadata": {},
     "output_type": "execute_result"
    }
   ],
   "source": [
    "df.columns"
   ]
  },
  {
   "cell_type": "code",
   "execution_count": 55,
   "id": "a996f384",
   "metadata": {},
   "outputs": [],
   "source": [
    "def inspect_all_dirty_strings(df):\n",
    "    cols_to_check = [\n",
    "        'isbn', 'rating', 'title', 'author',\n",
    "        'normalized_title', 'matched_genres', 'desc'\n",
    "    ]\n",
    "    \n",
    "    for col in cols_to_check:\n",
    "        print(f\"\\n--- Inspecting column: {col} ---\")\n",
    "        \n",
    "        # Convert to string and drop missing\n",
    "        df_col = df[col].dropna().astype(str)\n",
    "        \n",
    "        print(\"Non-null count:\", df_col.shape[0])\n",
    "        print(\"Unique values:\", df_col.nunique())\n",
    "\n",
    "        # Check for only-numeric strings or very short strings\n",
    "        print(\"\\nSuspicious values (pure numbers or < 3 chars):\")\n",
    "        suspicious = df_col[df_col.str.match(r'^\\d+$') | df_col.str.len().lt(3)]\n",
    "        print(suspicious.value_counts().head(10))\n",
    "\n",
    "        # Check for null-like values stored as strings\n",
    "        print(\"\\nString values that look like nulls ('nan', 'none', etc.):\")\n",
    "        null_like = df_col[df_col.str.lower().isin(['nan', 'none', 'null', 'n/a', 'na'])].value_counts()\n",
    "        print(null_like)\n",
    "\n",
    "        # Top 5 most common values\n",
    "        print(\"\\nTop 5 most frequent entries:\")\n",
    "        print(df_col.value_counts().head(5))\n",
    "        \n",
    "        print(\"-\" * 60)\n"
   ]
  },
  {
   "cell_type": "code",
   "execution_count": 56,
   "id": "264152d9",
   "metadata": {},
   "outputs": [
    {
     "name": "stdout",
     "output_type": "stream",
     "text": [
      "\n",
      "--- Inspecting column: isbn ---\n",
      "Non-null count: 112851\n",
      "Unique values: 88793\n",
      "\n",
      "Suspicious values (pure numbers or < 3 chars):\n",
      "isbn\n",
      "0061015725    462\n",
      "0316777730    268\n",
      "0515122734    217\n",
      "0440224675    202\n",
      "1551667509    200\n",
      "0446611808    200\n",
      "0345378490    196\n",
      "0345417623    195\n",
      "0451184963    162\n",
      "0440176484    154\n",
      "Name: count, dtype: int64\n",
      "\n",
      "String values that look like nulls ('nan', 'none', etc.):\n",
      "Series([], Name: count, dtype: int64)\n",
      "\n",
      "Top 5 most frequent entries:\n",
      "isbn\n",
      "0061015725    462\n",
      "0316777730    268\n",
      "0515122734    217\n",
      "0440224675    202\n",
      "1551667509    200\n",
      "Name: count, dtype: int64\n",
      "------------------------------------------------------------\n",
      "\n",
      "--- Inspecting column: rating ---\n",
      "Non-null count: 127332\n",
      "Unique values: 290\n",
      "\n",
      "Suspicious values (pure numbers or < 3 chars):\n",
      "Series([], Name: count, dtype: int64)\n",
      "\n",
      "String values that look like nulls ('nan', 'none', etc.):\n",
      "Series([], Name: count, dtype: int64)\n",
      "\n",
      "Top 5 most frequent entries:\n",
      "rating\n",
      "4.0    10317\n",
      "3.5     6057\n",
      "5.0     5576\n",
      "4.5     5418\n",
      "2.5     3362\n",
      "Name: count, dtype: int64\n",
      "------------------------------------------------------------\n",
      "\n",
      "--- Inspecting column: title ---\n",
      "Non-null count: 127332\n",
      "Unique values: 98628\n",
      "\n",
      "Suspicious values (pure numbers or < 3 chars):\n",
      "title\n",
      "It      204\n",
      "1984    144\n",
      "We       13\n",
      "S.       11\n",
      "V         8\n",
      "V.        6\n",
      "Q         6\n",
      "Go        3\n",
      "14        2\n",
      "300       2\n",
      "Name: count, dtype: int64\n",
      "\n",
      "String values that look like nulls ('nan', 'none', etc.):\n",
      "Series([], Name: count, dtype: int64)\n",
      "\n",
      "Top 5 most frequent entries:\n",
      "title\n",
      "Prey            500\n",
      "Dreamcatcher    429\n",
      "Naked           410\n",
      "Hannibal        362\n",
      "Sanctuary       347\n",
      "Name: count, dtype: int64\n",
      "------------------------------------------------------------\n",
      "\n",
      "--- Inspecting column: author ---\n",
      "Non-null count: 127332\n",
      "Unique values: 69823\n",
      "\n",
      "Suspicious values (pure numbers or < 3 chars):\n",
      "author\n",
      "19    1\n",
      "Ai    1\n",
      "J.    1\n",
      "Name: count, dtype: int64\n",
      "\n",
      "String values that look like nulls ('nan', 'none', etc.):\n",
      "Series([], Name: count, dtype: int64)\n",
      "\n",
      "Top 5 most frequent entries:\n",
      "author\n",
      "Stephen King        1447\n",
      "Dean R. Koontz       990\n",
      "Michael Crichton     962\n",
      "Nora Roberts         727\n",
      "Julie Garwood        558\n",
      "Name: count, dtype: int64\n",
      "------------------------------------------------------------\n",
      "\n",
      "--- Inspecting column: normalized_title ---\n",
      "Non-null count: 127332\n",
      "Unique values: 97951\n",
      "\n",
      "Suspicious values (pure numbers or < 3 chars):\n",
      "normalized_title\n",
      "it      205\n",
      "1984    147\n",
      "1        39\n",
      "2        36\n",
      "3        31\n",
      "911      19\n",
      "4        18\n",
      "9        15\n",
      "8        15\n",
      "7        15\n",
      "Name: count, dtype: int64\n",
      "\n",
      "String values that look like nulls ('nan', 'none', etc.):\n",
      "Series([], Name: count, dtype: int64)\n",
      "\n",
      "Top 5 most frequent entries:\n",
      "normalized_title\n",
      "prey            500\n",
      "dreamcatcher    429\n",
      "naked           414\n",
      "hannibal        362\n",
      "sanctuary       347\n",
      "Name: count, dtype: int64\n",
      "------------------------------------------------------------\n",
      "\n",
      "--- Inspecting column: matched_genres ---\n",
      "Non-null count: 127332\n",
      "Unique values: 73094\n",
      "\n",
      "Suspicious values (pure numbers or < 3 chars):\n",
      "matched_genres\n",
      "[]    10957\n",
      "Name: count, dtype: int64\n",
      "\n",
      "String values that look like nulls ('nan', 'none', etc.):\n",
      "Series([], Name: count, dtype: int64)\n",
      "\n",
      "Top 5 most frequent entries:\n",
      "matched_genres\n",
      "[]                                                                                                                                                 10957\n",
      "['Fiction', 'Mystery', 'Fantasy', 'Books About Books', 'Thriller', 'Contemporary', 'Adult', 'Romance', 'Mystery Thriller', 'Novels']                1226\n",
      "['Science Fiction', 'Fiction', 'Horror', 'Fantasy', 'Media Tie In', 'Science Fiction Fantasy', 'Mystery', 'Novels', 'War', 'Aliens']                 926\n",
      "['Nonfiction', 'Fashion', 'Biography', 'Memoir', 'Art', 'Autobiography', 'Biography Memoir', 'Adult', 'Contemporary', 'Photography']                 849\n",
      "['Romance', 'Romantic Suspense', 'Suspense', 'Contemporary', 'Contemporary Romance', 'Fiction', 'Thriller', 'Mystery', 'Audiobook', 'Survival']      498\n",
      "Name: count, dtype: int64\n",
      "------------------------------------------------------------\n",
      "\n",
      "--- Inspecting column: desc ---\n",
      "Non-null count: 93228\n",
      "Unique values: 92499\n",
      "\n",
      "Suspicious values (pure numbers or < 3 chars):\n",
      "desc\n",
      ".     6\n",
      ">     4\n",
      "Â     1\n",
      "No    1\n",
      "b     1\n",
      "PB    1\n",
      "a     1\n",
      "Name: count, dtype: int64\n",
      "\n",
      "String values that look like nulls ('nan', 'none', etc.):\n",
      "Series([], Name: count, dtype: int64)\n",
      "\n",
      "Top 5 most frequent entries:\n",
      "desc\n",
      "This scarce antiquarian book is a facsimile reprint of the original. Due to its age, it may contain imperfections such as marks, notations, marginalia and flawed pages. Because we believe this work is culturally important, we have made it available as part of our commitment for protecting, preserving, and promoting the world's literature in affordable, high quality, modern editions that are true to the original work.                                                                                                                                                                                                                                                                                                                                                                                                                                                                                                                                                                                                                                                                                                                                                                                                                                                                                                                                                                                                                                                                                                                                                                                                                                                                                                77\n",
      "This book was converted from its physical edition to the digital format by a community of volunteers. You may find it for free on the web. Purchase of the Kindle edition includes wireless delivery.                                                                                                                                                                                                                                                                                                                                                                                                                                                                                                                                                                                                                                                                                                                                                                                                                                                                                                                                                                                                                                                                                                                                                                                                                                                                                                                                                                                                                                                                                                                               64\n",
      "This is a pre-1923 historical reproduction that was curated for quality. Quality assurance was conducted on each of these books in an attempt to remove books with imperfections introduced by the digitization process. Though we have made best efforts - the books may have occasional errors that do not impede the reading experience. We believe this work is culturally important and have elected to bring the book back into print as part of our continuing commitment to the preservation of printed works worldwide.                                                                                                                                                                                                                                                                                                                                                                                                                                                                                                                                                                                                                                                                                                                                                                                                                                                                                                                                                                                                                                                                                                                                                                                                    40\n",
      "Many of the earliest books, particularly those dating back to the 1900s and before, are now extremely scarce and increasingly expensive. We are republishing these classic works in affordable, high quality, modern editions, using the original text and artwork.                                                                                                                                                                                                                                                                                                                                                                                                                                                                                                                                                                                                                                                                                                                                                                                                                                                                                                                                                                                                                                                                                                                                                                                                                                                                                                                                                                                                                                                                 35\n",
      "The story focuses on Kenichi, an average 16-year-old high school student who has been picked on his whole life. However, on his first day of class, he meets and befriends the mysterious transfer student, Miu FÅ«rinji. Driven by his desire to become stronger and to protect those around him, he follows her to RyÅzanpaku, a dojo where those who are truly strong and have mastered their arts gather (RyÅzanpaku comes from the Chinese story of Heroes of the Water Margin who train together at Liangshan æ¢å±±). After learning basics from Miu, Kenichi is able to beat a high-ranking member of the school's karate club, and becomes a target for all the delinquents in the school. Kenichi's reason for training is to fulfill the promise he made to protect Miu. Subsequently, Kenichi's daily routine is divided between hellish training under the six masters of RyÅzanpaku, and his fights against the members of Ragnarok, a gang that views him as either a possible ally or an impending threat to their plans.,After defeating Ragnarok, Kenichi faces a new enemy called Yomi, a group of disciples who are each personally trained by a master of an even bigger organization rivaling RyÅzanpaku, Yami. While the masters of RyÅzanpaku follow the principle of always sparing their opponents' lives (Katsujin-ken), the members of Yami believe that defeating an opponent is valid by any means including murder (Satsujin-ken). Caught in the struggle between the two factions, Kenichi, Miu and their ever growing team of allies join forces to fight the members of Yomi, while his masters confront the members of Yami in a battle to decide the future of the martial arts' world.    31\n",
      "Name: count, dtype: int64\n",
      "------------------------------------------------------------\n"
     ]
    }
   ],
   "source": [
    "inspect_all_dirty_strings(df)\n"
   ]
  },
  {
   "cell_type": "markdown",
   "id": "70497f3d",
   "metadata": {},
   "source": [
    "### Cleaning Summary & Recommendations\n",
    "isbn\n",
    "Mostly clean. Looks like valid ISBNs (all numeric, fixed length).\n",
    "Optional: Remove rows where isbn is missing if you plan to use it as a unique book key.\n",
    "\n",
    "rating\n",
    "We'll drop rows where rating is missing for collaborative filtering.\n",
    "\n",
    "title / normalized_title\n",
    "Some entries are very short (like \"It\", \"V\", \"14\"), which may be ambiguous or junk.\n",
    "Keep short ones like “1984”, “It” (real books).\n",
    "Remove/flag single-character or number-only titles like \"1\", \"911\", \"Q\".\n",
    "\n",
    "author\n",
    "A few numeric or junk entries (\"19\", \"J.\", \"Ai\") so replace them with empty author\n",
    "Keep known short names if verified (Ai might be real).\n",
    "\n",
    "matched_genres\n",
    "Drop rows where matched_genres == '[]' (these can't be used in genre filtering).\n",
    "\n",
    "for description\n",
    "Remove junk entries like \".\", \">\", \"No\", \"a\", \"PB\" and make the value empty instead\n"
   ]
  },
  {
   "cell_type": "code",
   "execution_count": 57,
   "id": "35a5c81b",
   "metadata": {},
   "outputs": [],
   "source": [
    "# Drop rows missing required columns (except isbn)\n",
    "df = df.dropna(subset=['rating', 'title', 'author', 'matched_genres']).copy()\n"
   ]
  },
  {
   "cell_type": "code",
   "execution_count": 58,
   "id": "1c4a262c",
   "metadata": {},
   "outputs": [],
   "source": [
    "# Convert columns to string for safe processing\n",
    "df['title'] = df['title'].astype(str)\n",
    "df['author'] = df['author'].astype(str)\n",
    "df['matched_genres'] = df['matched_genres'].astype(str)\n",
    "df['desc'] = df['desc'].astype(str)\n",
    "df['normalized_title'] = df['normalized_title'].astype(str)\n"
   ]
  },
  {
   "cell_type": "code",
   "execution_count": 59,
   "id": "9cdf39da",
   "metadata": {},
   "outputs": [],
   "source": [
    "# Step 1: Remove titles that are purely numeric or single character (but keep legit short ones like \"1984\", \"It\")\n",
    "legit_short_titles = {'it', 'we', 's.', 'v.', 'v', 'go'}\n",
    "def is_bad_title(title):\n",
    "    t = title.strip().lower()\n",
    "    return ((len(t) <= 3 or t.isdigit()) and t not in legit_short_titles)\n"
   ]
  },
  {
   "cell_type": "code",
   "execution_count": 60,
   "id": "c87dd78d",
   "metadata": {},
   "outputs": [],
   "source": [
    "df = df[~df['title'].apply(is_bad_title)]\n"
   ]
  },
  {
   "cell_type": "code",
   "execution_count": 61,
   "id": "eb5ca95f",
   "metadata": {},
   "outputs": [],
   "source": [
    "# Step 2: Replace junk author names (numbers or 1-2 character codes) with empty string\n",
    "def clean_author(author):\n",
    "    a = author.strip()\n",
    "    if a.lower() in {'nan', 'none'} or a.isdigit() or len(a) <= 2 or a.lower() in {'j.', 'a.', 'b.'}:\n",
    "        return ''\n",
    "    return a\n",
    "df['author'] = df['author'].apply(clean_author)\n"
   ]
  },
  {
   "cell_type": "code",
   "execution_count": 62,
   "id": "73b9af74",
   "metadata": {},
   "outputs": [],
   "source": [
    "# Step 3: Drop rows where matched_genres is just an empty list\n",
    "df = df[df['matched_genres'].str.strip() != '[]']\n"
   ]
  },
  {
   "cell_type": "code",
   "execution_count": 63,
   "id": "481f17b0",
   "metadata": {},
   "outputs": [],
   "source": [
    "# Step 4: Replace junk descriptions with empty string\n",
    "junk_descs = {'.', '>', 'no', 'b', 'a', 'pb', 'Â '}\n",
    "df['desc'] = df['desc'].apply(lambda x: '' if x.strip().lower() in junk_descs or len(x.strip()) < 10 else x)\n"
   ]
  },
  {
   "cell_type": "code",
   "execution_count": 64,
   "id": "38b6cf95",
   "metadata": {},
   "outputs": [],
   "source": [
    "# Step 5: Normalize title if not available\n",
    "df['normalized_title'] = df['normalized_title'].replace('nan', np.nan)\n",
    "df['normalized_title'] = df['normalized_title'].fillna(df['title'].str.lower())\n"
   ]
  },
  {
   "cell_type": "code",
   "execution_count": 65,
   "id": "84628936",
   "metadata": {},
   "outputs": [],
   "source": [
    "# Reset index for safety\n",
    "df = df.reset_index(drop=True)\n"
   ]
  },
  {
   "cell_type": "code",
   "execution_count": 66,
   "id": "0ee0e02e",
   "metadata": {},
   "outputs": [
    {
     "data": {
      "text/plain": [
       "(115758, 7)"
      ]
     },
     "execution_count": 66,
     "metadata": {},
     "output_type": "execute_result"
    }
   ],
   "source": [
    "df.shape"
   ]
  },
  {
   "cell_type": "code",
   "execution_count": null,
   "id": "3694ee4f",
   "metadata": {},
   "outputs": [],
   "source": [
    "df['author'] = df['author'].apply(lambda x: x.title())"
   ]
  },
  {
   "cell_type": "code",
   "execution_count": 67,
   "id": "851dd280",
   "metadata": {},
   "outputs": [],
   "source": [
    "df.to_csv(\"/Users/whoseunassailable/Documents/coding_projects/college_projects/readiculous/data/processed/ready_for_feature_engineering.csv\")"
   ]
  }
 ],
 "metadata": {
  "kernelspec": {
   "display_name": "base",
   "language": "python",
   "name": "python3"
  },
  "language_info": {
   "codemirror_mode": {
    "name": "ipython",
    "version": 3
   },
   "file_extension": ".py",
   "mimetype": "text/x-python",
   "name": "python",
   "nbconvert_exporter": "python",
   "pygments_lexer": "ipython3",
   "version": "3.12.7"
  }
 },
 "nbformat": 4,
 "nbformat_minor": 5
}

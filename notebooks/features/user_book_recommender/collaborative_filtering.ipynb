{
 "cells": [
  {
   "cell_type": "code",
   "execution_count": 41,
   "id": "517ede4a",
   "metadata": {},
   "outputs": [],
   "source": [
    "from surprise import Dataset, Reader, SVD\n",
    "from surprise.model_selection import train_test_split\n",
    "from surprise import accuracy\n",
    "from surprise.model_selection import cross_validate\n",
    "import pandas as pd"
   ]
  },
  {
   "cell_type": "code",
   "execution_count": 43,
   "id": "f87f726d",
   "metadata": {},
   "outputs": [],
   "source": [
    "# Rename or extract just these columns\n",
    "ratings_df = df[['title', 'rating']].copy()\n",
    "\n",
    "# Simulate a single-session user (e.g., 'user_1') if no user_id is available\n",
    "ratings_df['user_id'] = 'user_1'\n",
    "\n",
    "# Reorder for Surprise: user, item, rating\n",
    "ratings_df = ratings_df[['user_id', 'title', 'rating']]\n"
   ]
  },
  {
   "cell_type": "code",
   "execution_count": 44,
   "id": "3919f632",
   "metadata": {},
   "outputs": [],
   "source": [
    "reader = Reader(rating_scale=(0.5, 5.0))\n",
    "data = Dataset.load_from_df(ratings_df, reader)\n",
    "trainset = data.build_full_trainset()\n"
   ]
  },
  {
   "cell_type": "code",
   "execution_count": 45,
   "id": "9a551392",
   "metadata": {},
   "outputs": [
    {
     "data": {
      "text/plain": [
       "<surprise.prediction_algorithms.matrix_factorization.SVD at 0x3063969c0>"
      ]
     },
     "execution_count": 45,
     "metadata": {},
     "output_type": "execute_result"
    }
   ],
   "source": [
    "model = SVD()\n",
    "model.fit(trainset)\n"
   ]
  },
  {
   "cell_type": "code",
   "execution_count": 46,
   "id": "b973d1d0",
   "metadata": {},
   "outputs": [],
   "source": [
    "# List of all unique books\n",
    "all_books = df['title'].unique()\n",
    "\n",
    "# Books already rated\n",
    "rated_books = ratings_df['title'].unique()\n",
    "\n",
    "# Predict for books not rated yet\n",
    "unrated_books = [book for book in all_books if book not in rated_books]\n",
    "\n",
    "# Predict ratings for unrated books\n",
    "predictions = [model.predict('user_1', book) for book in unrated_books]\n",
    "\n",
    "# Sort predictions by estimated rating\n",
    "predicted_ratings = sorted(predictions, key=lambda x: x.est, reverse=True)\n",
    "\n",
    "# Top N recommendations\n",
    "top_n = 10\n",
    "top_books = [pred.iid for pred in predicted_ratings[:top_n]]\n"
   ]
  },
  {
   "cell_type": "code",
   "execution_count": 47,
   "id": "204d06ae",
   "metadata": {},
   "outputs": [
    {
     "name": "stdout",
     "output_type": "stream",
     "text": [
      "Empty DataFrame\n",
      "Columns: [title, author, matched_genres]\n",
      "Index: []\n"
     ]
    }
   ],
   "source": [
    "recommended_df = df[df['title'].isin(top_books)][['title', 'author', 'matched_genres']]\n",
    "recommended_df = recommended_df.drop_duplicates(subset=['title', 'author']).head(top_n)\n",
    "print(recommended_df)\n"
   ]
  },
  {
   "cell_type": "code",
   "execution_count": 48,
   "id": "6004e667",
   "metadata": {},
   "outputs": [
    {
     "data": {
      "text/plain": [
       "Index(['Unnamed: 0.2', 'Unnamed: 0.1', 'Unnamed: 0', 'isbn', 'rating', 'title',\n",
       "       'author', 'normalized_title', 'matched_genres', 'desc', 'combined_text',\n",
       "       'genres_list'],\n",
       "      dtype='object')"
      ]
     },
     "execution_count": 48,
     "metadata": {},
     "output_type": "execute_result"
    }
   ],
   "source": [
    "df.columns"
   ]
  },
  {
   "cell_type": "code",
   "execution_count": 49,
   "id": "56bd989d",
   "metadata": {},
   "outputs": [
    {
     "name": "stderr",
     "output_type": "stream",
     "text": [
      "/var/folders/dw/fn12lc3x2b317ydc5b70v2340000gn/T/ipykernel_92505/3077481372.py:4: DtypeWarning: Columns (0) have mixed types. Specify dtype option on import or set low_memory=False.\n",
      "  users_df = pd.read_csv('/Users/whoseunassailable/Documents/coding_projects/college_projects/readiculous/data/raw/Users.csv', sep=';')\n"
     ]
    },
    {
     "name": "stdout",
     "output_type": "stream",
     "text": [
      "   user_id                                              title  rating\n",
      "0   276726                                   Rites of Passage     2.5\n",
      "1   276729                                     Help!: Level 1     1.5\n",
      "2   276729  The Amsterdam Connection : Level 4 (Cambridge ...     3.0\n",
      "3   276744                                    A Painted House     3.5\n",
      "4   276747                           Little Altars Everywhere     4.5\n"
     ]
    }
   ],
   "source": [
    "# Load small samples\n",
    "books_df = pd.read_csv('/Users/whoseunassailable/Documents/coding_projects/college_projects/readiculous/data/raw/Books.csv', sep=';')\n",
    "ratings_df = pd.read_csv('/Users/whoseunassailable/Documents/coding_projects/college_projects/readiculous/data/raw/Ratings.csv', sep=';')\n",
    "users_df = pd.read_csv('/Users/whoseunassailable/Documents/coding_projects/college_projects/readiculous/data/raw/Users.csv', sep=';')\n",
    "\n",
    "# Normalize rating: convert 0–10 scale to 0.5–5.0 (0 stays 0)\n",
    "ratings_df['Rating'] = ratings_df['Rating'].apply(lambda x: round(x / 2, 1) if x > 0 else 0)\n",
    "\n",
    "# Optional: drop 0 ratings (implies no opinion)\n",
    "ratings_df = ratings_df[ratings_df['Rating'] > 0]\n",
    "\n",
    "# Join ratings with book titles via ISBN\n",
    "ratings_books = ratings_df.merge(books_df[['ISBN', 'Title']], on='ISBN', how='inner')\n",
    "\n",
    "# Rename for Surprise format\n",
    "ratings_for_surprise = ratings_books.rename(columns={\n",
    "    'User-ID': 'user_id',\n",
    "    'Title': 'title',\n",
    "    'Rating': 'rating'\n",
    "})[['user_id', 'title', 'rating']]\n",
    "\n",
    "# Preview\n",
    "print(ratings_for_surprise.head())\n"
   ]
  },
  {
   "cell_type": "code",
   "execution_count": 50,
   "id": "13131cb4",
   "metadata": {},
   "outputs": [],
   "source": [
    "genre_based_df = pd.read_csv(\n",
    "    \"/Users/whoseunassailable/Documents/coding_projects/college_projects/readiculous/data/processed/genre_based_filtering.csv\"\n",
    ")\n",
    "\n",
    "# Ensure title formatting matches collaborative filtering dataset\n",
    "genre_based_df['title'] = genre_based_df['title'].astype(str).str.strip().str.lower()\n"
   ]
  },
  {
   "cell_type": "code",
   "execution_count": 51,
   "id": "22940da7",
   "metadata": {},
   "outputs": [],
   "source": [
    "ratings_for_surprise['title'] = ratings_for_surprise['title'].astype(str).str.strip().str.lower()"
   ]
  },
  {
   "cell_type": "markdown",
   "id": "49228c27",
   "metadata": {},
   "source": [
    "### 🔀 Hybrid =\n",
    "α × SVD Estimated Rating\n",
    "\n",
    "β × Genre Overlap Score\n",
    "\n"
   ]
  },
  {
   "cell_type": "code",
   "execution_count": 52,
   "id": "72a4b7e1",
   "metadata": {},
   "outputs": [],
   "source": [
    "# Predict ratings for all books not yet rated by the user\n",
    "def get_svd_predictions(model, ratings_df, user_id, top_n=50):\n",
    "    rated_books = ratings_df[ratings_df['user_id'] == user_id]['title'].tolist()\n",
    "    all_books = ratings_df['title'].unique()\n",
    "    unseen_books = [book for book in all_books if book not in rated_books]\n",
    "\n",
    "    predictions = [model.predict(user_id, book) for book in unseen_books]\n",
    "    predictions_sorted = sorted(predictions, key=lambda x: x.est, reverse=True)\n",
    "    \n",
    "    return predictions_sorted[:top_n]\n"
   ]
  },
  {
   "cell_type": "code",
   "execution_count": 53,
   "id": "1b0422bd",
   "metadata": {},
   "outputs": [],
   "source": [
    "def merge_with_genres(predictions, genre_df, selected_genres):\n",
    "    data = []\n",
    "    selected_genres = set(selected_genres)\n",
    "    \n",
    "    for pred in predictions:\n",
    "        title = pred.iid\n",
    "        est_rating = pred.est\n",
    "\n",
    "        match = genre_df[genre_df['title'].str.strip().str.lower() == title.strip().lower()]\n",
    "        if not match.empty:\n",
    "            genres = match.iloc[0]['genres_list'] if 'genres_list' in match.columns else []\n",
    "            overlap = len(set(genres) & selected_genres)\n",
    "            data.append({\n",
    "                'title': title,\n",
    "                'estimated_rating': est_rating,\n",
    "                'genre_overlap': overlap,\n",
    "                'author': match.iloc[0]['author'],\n",
    "                'matched_genres': match.iloc[0]['matched_genres']\n",
    "            })\n",
    "    return pd.DataFrame(data)\n"
   ]
  },
  {
   "cell_type": "code",
   "execution_count": 54,
   "id": "45bb2655",
   "metadata": {},
   "outputs": [],
   "source": [
    "def hybrid_recommendation(model, ratings_df, genre_df, user_id, selected_genres, alpha=0.7, beta=0.3, top_n=10):\n",
    "    preds = get_svd_predictions(model, ratings_df, user_id, top_n=100)\n",
    "    enriched = merge_with_genres(preds, genre_df, selected_genres)\n",
    "\n",
    "    # Normalize scores (0 to 1)\n",
    "    enriched['norm_rating'] = (enriched['estimated_rating'] - enriched['estimated_rating'].min()) / \\\n",
    "                              (enriched['estimated_rating'].max() - enriched['estimated_rating'].min())\n",
    "    enriched['norm_genre'] = enriched['genre_overlap'] / enriched['genre_overlap'].max()\n",
    "\n",
    "    # Blended score\n",
    "    enriched['hybrid_score'] = alpha * enriched['norm_rating'] + beta * enriched['norm_genre']\n",
    "\n",
    "    # Sort and return\n",
    "    result = enriched.sort_values(by='hybrid_score', ascending=False).head(top_n)\n",
    "    return result[['title', 'author', 'matched_genres', 'estimated_rating', 'genre_overlap', 'hybrid_score']]\n"
   ]
  },
  {
   "cell_type": "code",
   "execution_count": 55,
   "id": "c60f078b",
   "metadata": {},
   "outputs": [
    {
     "name": "stdout",
     "output_type": "stream",
     "text": [
      "               title                                             author  \\\n",
      "0               9-11                                       Noam Chomsky   \n",
      "1           stardust                                        Neil Gaiman   \n",
      "2              1984.                                      George Orwell   \n",
      "3                 it                                       Stephen King   \n",
      "4            thirsty                                     M. T. Anderson   \n",
      "5  waiting to exhale                                     Terry Mcmillan   \n",
      "6      anna karenina  Leo Tolstoy,Constance Garnett,Aylmer Maude,Lou...   \n",
      "7       false memory                                         Dan Krokos   \n",
      "8  the boy next door                                    Annabelle Costa   \n",
      "9        the contest                                    Nonny Hogrogian   \n",
      "\n",
      "                                      matched_genres  estimated_rating  \\\n",
      "0  ['Politics', 'Nonfiction', 'History', 'Philoso...          4.153006   \n",
      "1  ['Fantasy', 'Fiction', 'Romance', 'Young Adult...          4.122571   \n",
      "2  ['Classics', 'Fiction', 'Science Fiction', 'Dy...          3.938833   \n",
      "3  ['Fantasy', 'Fiction', 'Classics', 'Adventure'...          3.923047   \n",
      "4  ['Fiction', 'Mystery', 'Fantasy', 'Books About...          3.877963   \n",
      "5  ['Fiction', 'Cultural', 'African American', 'R...          3.870934   \n",
      "6  ['Classics', 'Fiction', 'Romance', 'Cultural',...          3.870934   \n",
      "7  ['Young Adult', 'Science Fiction', 'Science Fi...          3.870934   \n",
      "8  ['Romance', 'Romance', 'Contemporary Romance',...          3.870934   \n",
      "9  ['Childrens', 'Picture Books', 'Childrens', 'F...          3.870934   \n",
      "\n",
      "   genre_overlap  hybrid_score  \n",
      "0              0           NaN  \n",
      "1              0           NaN  \n",
      "2              0           NaN  \n",
      "3              0           NaN  \n",
      "4              0           NaN  \n",
      "5              0           NaN  \n",
      "6              0           NaN  \n",
      "7              0           NaN  \n",
      "8              0           NaN  \n",
      "9              0           NaN  \n"
     ]
    }
   ],
   "source": [
    "selected_genres = ['Fantasy', 'Romance', 'Mystery']\n",
    "user_id = 276726  # Pick from your real users in ratings_for_surprise\n",
    "\n",
    "recommendations = hybrid_recommendation(\n",
    "    model, ratings_for_surprise, genre_based_df, user_id, selected_genres\n",
    ")\n",
    "\n",
    "print(recommendations)\n"
   ]
  },
  {
   "cell_type": "code",
   "execution_count": null,
   "id": "311b8498",
   "metadata": {},
   "outputs": [],
   "source": []
  }
 ],
 "metadata": {
  "kernelspec": {
   "display_name": "base",
   "language": "python",
   "name": "python3"
  },
  "language_info": {
   "codemirror_mode": {
    "name": "ipython",
    "version": 3
   },
   "file_extension": ".py",
   "mimetype": "text/x-python",
   "name": "python",
   "nbconvert_exporter": "python",
   "pygments_lexer": "ipython3",
   "version": "3.12.7"
  }
 },
 "nbformat": 4,
 "nbformat_minor": 5
}

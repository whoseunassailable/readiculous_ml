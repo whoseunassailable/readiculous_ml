{
 "cells": [
  {
   "cell_type": "code",
   "execution_count": 93,
   "id": "9c3f9bfb",
   "metadata": {},
   "outputs": [],
   "source": [
    "import pandas as pd\n",
    "import numpy as np\n",
    "from sklearn.model_selection import train_test_split, cross_val_score\n",
    "from sklearn.preprocessing import StandardScaler, LabelEncoder, OneHotEncoder\n",
    "from sklearn.cluster import KMeans\n",
    "from sklearn.neighbors import KNeighborsClassifier\n",
    "from sklearn.metrics import accuracy_score, precision_score, recall_score, f1_score, confusion_matrix\n",
    "from sklearn.decomposition import TruncatedSVD\n",
    "from sklearn.linear_model import LogisticRegression\n",
    "import xgboost as xgb\n",
    "from sklearn.metrics.pairwise import cosine_similarity\n",
    "import time\n",
    "import gc  \n",
    "import pprint\n",
    "from rich import print\n",
    "import plotly.express as px\n",
    "from langdetect import detect, DetectorFactory\n",
    "from sklearn.neighbors import KNeighborsClassifier\n",
    "from tabulate import tabulate\n",
    "import joblib\n",
    "import warnings\n",
    "warnings.filterwarnings(\"ignore\")\n"
   ]
  },
  {
   "cell_type": "markdown",
   "id": "1ee97c0e",
   "metadata": {},
   "source": [
    "## ===== PHASE 1: DATA LOADING & PREPROCESSING =====\n"
   ]
  },
  {
   "cell_type": "code",
   "execution_count": 94,
   "id": "5102936c",
   "metadata": {},
   "outputs": [],
   "source": [
    "start_time = time.time()"
   ]
  },
  {
   "cell_type": "markdown",
   "id": "aff6e7cf",
   "metadata": {},
   "source": [
    "### Loading Data"
   ]
  },
  {
   "cell_type": "code",
   "execution_count": 95,
   "id": "965cce89",
   "metadata": {},
   "outputs": [],
   "source": [
    "df = pd.read_csv(\"/Users/whoseunassailable/Documents/coding_projects/college_projects/data/raw/good_read_books_100k.csv\", encoding='utf-8')\n"
   ]
  },
  {
   "cell_type": "code",
   "execution_count": 96,
   "id": "fc12110d",
   "metadata": {},
   "outputs": [
    {
     "data": {
      "text/html": [
       "<div>\n",
       "<style scoped>\n",
       "    .dataframe tbody tr th:only-of-type {\n",
       "        vertical-align: middle;\n",
       "    }\n",
       "\n",
       "    .dataframe tbody tr th {\n",
       "        vertical-align: top;\n",
       "    }\n",
       "\n",
       "    .dataframe thead th {\n",
       "        text-align: right;\n",
       "    }\n",
       "</style>\n",
       "<table border=\"1\" class=\"dataframe\">\n",
       "  <thead>\n",
       "    <tr style=\"text-align: right;\">\n",
       "      <th></th>\n",
       "      <th>author</th>\n",
       "      <th>bookformat</th>\n",
       "      <th>desc</th>\n",
       "      <th>genre</th>\n",
       "      <th>img</th>\n",
       "      <th>isbn</th>\n",
       "      <th>isbn13</th>\n",
       "      <th>link</th>\n",
       "      <th>pages</th>\n",
       "      <th>rating</th>\n",
       "      <th>reviews</th>\n",
       "      <th>title</th>\n",
       "      <th>totalratings</th>\n",
       "    </tr>\n",
       "  </thead>\n",
       "  <tbody>\n",
       "    <tr>\n",
       "      <th>0</th>\n",
       "      <td>Laurence M. Hauptman</td>\n",
       "      <td>Hardcover</td>\n",
       "      <td>Reveals that several hundred thousand Indians ...</td>\n",
       "      <td>History,Military History,Civil War,American Hi...</td>\n",
       "      <td>https://i.gr-assets.com/images/S/compressed.ph...</td>\n",
       "      <td>002914180X</td>\n",
       "      <td>9.78E+12</td>\n",
       "      <td>https://goodreads.com/book/show/1001053.Betwee...</td>\n",
       "      <td>0</td>\n",
       "      <td>3.52</td>\n",
       "      <td>5</td>\n",
       "      <td>Between Two Fires: American Indians in the Civ...</td>\n",
       "      <td>33</td>\n",
       "    </tr>\n",
       "    <tr>\n",
       "      <th>1</th>\n",
       "      <td>Charlotte Fiell,Emmanuelle Dirix</td>\n",
       "      <td>Paperback</td>\n",
       "      <td>Fashion Sourcebook - 1920s is the first book i...</td>\n",
       "      <td>Couture,Fashion,Historical,Art,Nonfiction</td>\n",
       "      <td>https://i.gr-assets.com/images/S/compressed.ph...</td>\n",
       "      <td>1906863482</td>\n",
       "      <td>9.78E+12</td>\n",
       "      <td>https://goodreads.com/book/show/10010552-fashi...</td>\n",
       "      <td>576</td>\n",
       "      <td>4.51</td>\n",
       "      <td>6</td>\n",
       "      <td>Fashion Sourcebook 1920s</td>\n",
       "      <td>41</td>\n",
       "    </tr>\n",
       "    <tr>\n",
       "      <th>2</th>\n",
       "      <td>Andy Anderson</td>\n",
       "      <td>Paperback</td>\n",
       "      <td>The seminal history and analysis of the Hungar...</td>\n",
       "      <td>Politics,History</td>\n",
       "      <td>https://i.gr-assets.com/images/S/compressed.ph...</td>\n",
       "      <td>948984147</td>\n",
       "      <td>9.78E+12</td>\n",
       "      <td>https://goodreads.com/book/show/1001077.Hungar...</td>\n",
       "      <td>124</td>\n",
       "      <td>4.15</td>\n",
       "      <td>2</td>\n",
       "      <td>Hungary 56</td>\n",
       "      <td>26</td>\n",
       "    </tr>\n",
       "    <tr>\n",
       "      <th>3</th>\n",
       "      <td>Carlotta R. Anderson</td>\n",
       "      <td>Hardcover</td>\n",
       "      <td>\"All-American Anarchist\" chronicles the life a...</td>\n",
       "      <td>Labor,History</td>\n",
       "      <td>https://i.gr-assets.com/images/S/compressed.ph...</td>\n",
       "      <td>814327079</td>\n",
       "      <td>9.78E+12</td>\n",
       "      <td>https://goodreads.com/book/show/1001079.All_Am...</td>\n",
       "      <td>324</td>\n",
       "      <td>3.83</td>\n",
       "      <td>1</td>\n",
       "      <td>All-American Anarchist: Joseph A. Labadie and ...</td>\n",
       "      <td>6</td>\n",
       "    </tr>\n",
       "    <tr>\n",
       "      <th>4</th>\n",
       "      <td>Jean Leveille</td>\n",
       "      <td>NaN</td>\n",
       "      <td>Aujourdâ€™hui, lâ€™oiseau nous invite Ã  sa ta...</td>\n",
       "      <td>NaN</td>\n",
       "      <td>https://i.gr-assets.com/images/S/compressed.ph...</td>\n",
       "      <td>2761920813</td>\n",
       "      <td>NaN</td>\n",
       "      <td>https://goodreads.com/book/show/10010880-les-o...</td>\n",
       "      <td>177</td>\n",
       "      <td>4.00</td>\n",
       "      <td>1</td>\n",
       "      <td>Les oiseaux gourmands</td>\n",
       "      <td>1</td>\n",
       "    </tr>\n",
       "  </tbody>\n",
       "</table>\n",
       "</div>"
      ],
      "text/plain": [
       "                             author bookformat  \\\n",
       "0              Laurence M. Hauptman  Hardcover   \n",
       "1  Charlotte Fiell,Emmanuelle Dirix  Paperback   \n",
       "2                     Andy Anderson  Paperback   \n",
       "3              Carlotta R. Anderson  Hardcover   \n",
       "4                     Jean Leveille        NaN   \n",
       "\n",
       "                                                desc  \\\n",
       "0  Reveals that several hundred thousand Indians ...   \n",
       "1  Fashion Sourcebook - 1920s is the first book i...   \n",
       "2  The seminal history and analysis of the Hungar...   \n",
       "3  \"All-American Anarchist\" chronicles the life a...   \n",
       "4  Aujourdâ€™hui, lâ€™oiseau nous invite Ã  sa ta...   \n",
       "\n",
       "                                               genre  \\\n",
       "0  History,Military History,Civil War,American Hi...   \n",
       "1          Couture,Fashion,Historical,Art,Nonfiction   \n",
       "2                                   Politics,History   \n",
       "3                                      Labor,History   \n",
       "4                                                NaN   \n",
       "\n",
       "                                                 img        isbn    isbn13  \\\n",
       "0  https://i.gr-assets.com/images/S/compressed.ph...  002914180X  9.78E+12   \n",
       "1  https://i.gr-assets.com/images/S/compressed.ph...  1906863482  9.78E+12   \n",
       "2  https://i.gr-assets.com/images/S/compressed.ph...   948984147  9.78E+12   \n",
       "3  https://i.gr-assets.com/images/S/compressed.ph...   814327079  9.78E+12   \n",
       "4  https://i.gr-assets.com/images/S/compressed.ph...  2761920813       NaN   \n",
       "\n",
       "                                                link  pages  rating  reviews  \\\n",
       "0  https://goodreads.com/book/show/1001053.Betwee...      0    3.52        5   \n",
       "1  https://goodreads.com/book/show/10010552-fashi...    576    4.51        6   \n",
       "2  https://goodreads.com/book/show/1001077.Hungar...    124    4.15        2   \n",
       "3  https://goodreads.com/book/show/1001079.All_Am...    324    3.83        1   \n",
       "4  https://goodreads.com/book/show/10010880-les-o...    177    4.00        1   \n",
       "\n",
       "                                               title  totalratings  \n",
       "0  Between Two Fires: American Indians in the Civ...            33  \n",
       "1                           Fashion Sourcebook 1920s            41  \n",
       "2                                         Hungary 56            26  \n",
       "3  All-American Anarchist: Joseph A. Labadie and ...             6  \n",
       "4                              Les oiseaux gourmands             1  "
      ]
     },
     "execution_count": 96,
     "metadata": {},
     "output_type": "execute_result"
    }
   ],
   "source": [
    "df.head(5)"
   ]
  },
  {
   "cell_type": "code",
   "execution_count": 97,
   "id": "73d7802b",
   "metadata": {},
   "outputs": [
    {
     "data": {
      "text/plain": [
       "Index(['author', 'bookformat', 'desc', 'genre', 'img', 'isbn', 'isbn13',\n",
       "       'link', 'pages', 'rating', 'reviews', 'title', 'totalratings'],\n",
       "      dtype='object')"
      ]
     },
     "execution_count": 97,
     "metadata": {},
     "output_type": "execute_result"
    }
   ],
   "source": [
    "df.columns"
   ]
  },
  {
   "cell_type": "code",
   "execution_count": 98,
   "id": "ac732887",
   "metadata": {},
   "outputs": [
    {
     "data": {
      "text/html": [
       "<div>\n",
       "<style scoped>\n",
       "    .dataframe tbody tr th:only-of-type {\n",
       "        vertical-align: middle;\n",
       "    }\n",
       "\n",
       "    .dataframe tbody tr th {\n",
       "        vertical-align: top;\n",
       "    }\n",
       "\n",
       "    .dataframe thead th {\n",
       "        text-align: right;\n",
       "    }\n",
       "</style>\n",
       "<table border=\"1\" class=\"dataframe\">\n",
       "  <thead>\n",
       "    <tr style=\"text-align: right;\">\n",
       "      <th></th>\n",
       "      <th>pages</th>\n",
       "      <th>rating</th>\n",
       "      <th>reviews</th>\n",
       "      <th>totalratings</th>\n",
       "    </tr>\n",
       "  </thead>\n",
       "  <tbody>\n",
       "    <tr>\n",
       "      <th>count</th>\n",
       "      <td>100000.000000</td>\n",
       "      <td>100000.000000</td>\n",
       "      <td>100000.000000</td>\n",
       "      <td>1.000000e+05</td>\n",
       "    </tr>\n",
       "    <tr>\n",
       "      <th>mean</th>\n",
       "      <td>255.010240</td>\n",
       "      <td>3.833055</td>\n",
       "      <td>181.528450</td>\n",
       "      <td>2.990764e+03</td>\n",
       "    </tr>\n",
       "    <tr>\n",
       "      <th>std</th>\n",
       "      <td>367.913582</td>\n",
       "      <td>0.621237</td>\n",
       "      <td>1449.451229</td>\n",
       "      <td>3.635338e+04</td>\n",
       "    </tr>\n",
       "    <tr>\n",
       "      <th>min</th>\n",
       "      <td>0.000000</td>\n",
       "      <td>0.000000</td>\n",
       "      <td>0.000000</td>\n",
       "      <td>0.000000e+00</td>\n",
       "    </tr>\n",
       "    <tr>\n",
       "      <th>25%</th>\n",
       "      <td>135.000000</td>\n",
       "      <td>3.660000</td>\n",
       "      <td>3.000000</td>\n",
       "      <td>3.100000e+01</td>\n",
       "    </tr>\n",
       "    <tr>\n",
       "      <th>50%</th>\n",
       "      <td>240.000000</td>\n",
       "      <td>3.910000</td>\n",
       "      <td>15.000000</td>\n",
       "      <td>1.460000e+02</td>\n",
       "    </tr>\n",
       "    <tr>\n",
       "      <th>75%</th>\n",
       "      <td>336.000000</td>\n",
       "      <td>4.140000</td>\n",
       "      <td>67.000000</td>\n",
       "      <td>7.440000e+02</td>\n",
       "    </tr>\n",
       "    <tr>\n",
       "      <th>max</th>\n",
       "      <td>70000.000000</td>\n",
       "      <td>5.000000</td>\n",
       "      <td>158776.000000</td>\n",
       "      <td>3.819326e+06</td>\n",
       "    </tr>\n",
       "  </tbody>\n",
       "</table>\n",
       "</div>"
      ],
      "text/plain": [
       "               pages         rating        reviews  totalratings\n",
       "count  100000.000000  100000.000000  100000.000000  1.000000e+05\n",
       "mean      255.010240       3.833055     181.528450  2.990764e+03\n",
       "std       367.913582       0.621237    1449.451229  3.635338e+04\n",
       "min         0.000000       0.000000       0.000000  0.000000e+00\n",
       "25%       135.000000       3.660000       3.000000  3.100000e+01\n",
       "50%       240.000000       3.910000      15.000000  1.460000e+02\n",
       "75%       336.000000       4.140000      67.000000  7.440000e+02\n",
       "max     70000.000000       5.000000  158776.000000  3.819326e+06"
      ]
     },
     "execution_count": 98,
     "metadata": {},
     "output_type": "execute_result"
    }
   ],
   "source": [
    "df.describe()"
   ]
  },
  {
   "cell_type": "code",
   "execution_count": 99,
   "id": "f8c60262",
   "metadata": {},
   "outputs": [
    {
     "data": {
      "text/html": [
       "<pre style=\"white-space:pre;overflow-x:auto;line-height:normal;font-family:Menlo,'DejaVu Sans Mono',consolas,'Courier New',monospace\">Original shape: <span style=\"font-weight: bold\">(</span><span style=\"color: #008080; text-decoration-color: #008080; font-weight: bold\">100000</span>, <span style=\"color: #008080; text-decoration-color: #008080; font-weight: bold\">13</span><span style=\"font-weight: bold\">)</span>\n",
       "</pre>\n"
      ],
      "text/plain": [
       "Original shape: \u001b[1m(\u001b[0m\u001b[1;36m100000\u001b[0m, \u001b[1;36m13\u001b[0m\u001b[1m)\u001b[0m\n"
      ]
     },
     "metadata": {},
     "output_type": "display_data"
    }
   ],
   "source": [
    "# Read only necessary columns to save memory\n",
    "cols_to_use = ['author', 'bookformat', 'genre', 'pages', 'rating', 'reviews', 'title', 'totalratings']\n",
    "print(f\"Original shape: {df.shape}\")"
   ]
  },
  {
   "cell_type": "code",
   "execution_count": 100,
   "id": "06fbb717",
   "metadata": {},
   "outputs": [
    {
     "data": {
      "text/html": [
       "<pre style=\"white-space:pre;overflow-x:auto;line-height:normal;font-family:Menlo,'DejaVu Sans Mono',consolas,'Courier New',monospace\">Shape after dropping NAs: <span style=\"font-weight: bold\">(</span><span style=\"color: #008080; text-decoration-color: #008080; font-weight: bold\">89533</span>, <span style=\"color: #008080; text-decoration-color: #008080; font-weight: bold\">13</span><span style=\"font-weight: bold\">)</span>\n",
       "</pre>\n"
      ],
      "text/plain": [
       "Shape after dropping NAs: \u001b[1m(\u001b[0m\u001b[1;36m89533\u001b[0m, \u001b[1;36m13\u001b[0m\u001b[1m)\u001b[0m\n"
      ]
     },
     "metadata": {},
     "output_type": "display_data"
    }
   ],
   "source": [
    "df = df.dropna(subset=['rating', 'genre', 'author'])\n",
    "print(f\"Shape after dropping NAs: {df.shape}\")"
   ]
  },
  {
   "cell_type": "code",
   "execution_count": 101,
   "id": "b9fed06b",
   "metadata": {},
   "outputs": [
    {
     "data": {
      "text/plain": [
       "Index(['author', 'bookformat', 'desc', 'genre', 'img', 'isbn', 'isbn13',\n",
       "       'link', 'pages', 'rating', 'reviews', 'title', 'totalratings'],\n",
       "      dtype='object')"
      ]
     },
     "execution_count": 101,
     "metadata": {},
     "output_type": "execute_result"
    }
   ],
   "source": [
    "df.columns"
   ]
  },
  {
   "cell_type": "code",
   "execution_count": 102,
   "id": "2e5eb524",
   "metadata": {},
   "outputs": [
    {
     "data": {
      "text/html": [
       "<div>\n",
       "<style scoped>\n",
       "    .dataframe tbody tr th:only-of-type {\n",
       "        vertical-align: middle;\n",
       "    }\n",
       "\n",
       "    .dataframe tbody tr th {\n",
       "        vertical-align: top;\n",
       "    }\n",
       "\n",
       "    .dataframe thead th {\n",
       "        text-align: right;\n",
       "    }\n",
       "</style>\n",
       "<table border=\"1\" class=\"dataframe\">\n",
       "  <thead>\n",
       "    <tr style=\"text-align: right;\">\n",
       "      <th></th>\n",
       "      <th>pages</th>\n",
       "      <th>rating</th>\n",
       "      <th>reviews</th>\n",
       "      <th>totalratings</th>\n",
       "    </tr>\n",
       "  </thead>\n",
       "  <tbody>\n",
       "    <tr>\n",
       "      <th>count</th>\n",
       "      <td>89533.000000</td>\n",
       "      <td>89533.000000</td>\n",
       "      <td>89533.000000</td>\n",
       "      <td>8.953300e+04</td>\n",
       "    </tr>\n",
       "    <tr>\n",
       "      <th>mean</th>\n",
       "      <td>259.271174</td>\n",
       "      <td>3.890213</td>\n",
       "      <td>202.626897</td>\n",
       "      <td>3.339266e+03</td>\n",
       "    </tr>\n",
       "    <tr>\n",
       "      <th>std</th>\n",
       "      <td>338.807842</td>\n",
       "      <td>0.385779</td>\n",
       "      <td>1530.447003</td>\n",
       "      <td>3.840455e+04</td>\n",
       "    </tr>\n",
       "    <tr>\n",
       "      <th>min</th>\n",
       "      <td>0.000000</td>\n",
       "      <td>0.000000</td>\n",
       "      <td>0.000000</td>\n",
       "      <td>0.000000e+00</td>\n",
       "    </tr>\n",
       "    <tr>\n",
       "      <th>25%</th>\n",
       "      <td>144.000000</td>\n",
       "      <td>3.680000</td>\n",
       "      <td>5.000000</td>\n",
       "      <td>5.200000e+01</td>\n",
       "    </tr>\n",
       "    <tr>\n",
       "      <th>50%</th>\n",
       "      <td>242.000000</td>\n",
       "      <td>3.910000</td>\n",
       "      <td>20.000000</td>\n",
       "      <td>2.000000e+02</td>\n",
       "    </tr>\n",
       "    <tr>\n",
       "      <th>75%</th>\n",
       "      <td>338.000000</td>\n",
       "      <td>4.130000</td>\n",
       "      <td>81.000000</td>\n",
       "      <td>9.180000e+02</td>\n",
       "    </tr>\n",
       "    <tr>\n",
       "      <th>max</th>\n",
       "      <td>70000.000000</td>\n",
       "      <td>5.000000</td>\n",
       "      <td>158776.000000</td>\n",
       "      <td>3.819326e+06</td>\n",
       "    </tr>\n",
       "  </tbody>\n",
       "</table>\n",
       "</div>"
      ],
      "text/plain": [
       "              pages        rating        reviews  totalratings\n",
       "count  89533.000000  89533.000000   89533.000000  8.953300e+04\n",
       "mean     259.271174      3.890213     202.626897  3.339266e+03\n",
       "std      338.807842      0.385779    1530.447003  3.840455e+04\n",
       "min        0.000000      0.000000       0.000000  0.000000e+00\n",
       "25%      144.000000      3.680000       5.000000  5.200000e+01\n",
       "50%      242.000000      3.910000      20.000000  2.000000e+02\n",
       "75%      338.000000      4.130000      81.000000  9.180000e+02\n",
       "max    70000.000000      5.000000  158776.000000  3.819326e+06"
      ]
     },
     "execution_count": 102,
     "metadata": {},
     "output_type": "execute_result"
    }
   ],
   "source": [
    "df.describe()"
   ]
  },
  {
   "cell_type": "code",
   "execution_count": 103,
   "id": "726841b0",
   "metadata": {},
   "outputs": [],
   "source": [
    "# Initialize tracking dictionaries\n",
    "model_metrics = {}\n",
    "model_training_time = {}"
   ]
  },
  {
   "cell_type": "code",
   "execution_count": 104,
   "id": "3f581e03",
   "metadata": {},
   "outputs": [],
   "source": [
    "# Reduce memory usage\n",
    "df['pages'] = df['pages'].fillna(0).astype('int32')\n",
    "df['reviews'] = df['reviews'].fillna(0).astype('int32')\n",
    "df['totalratings'] = df['totalratings'].fillna(0).astype('int32')\n",
    "df['rating'] = df['rating'].astype('float32')"
   ]
  },
  {
   "cell_type": "code",
   "execution_count": 105,
   "id": "655f3218",
   "metadata": {},
   "outputs": [
    {
     "data": {
      "text/html": [
       "<div>\n",
       "<style scoped>\n",
       "    .dataframe tbody tr th:only-of-type {\n",
       "        vertical-align: middle;\n",
       "    }\n",
       "\n",
       "    .dataframe tbody tr th {\n",
       "        vertical-align: top;\n",
       "    }\n",
       "\n",
       "    .dataframe thead th {\n",
       "        text-align: right;\n",
       "    }\n",
       "</style>\n",
       "<table border=\"1\" class=\"dataframe\">\n",
       "  <thead>\n",
       "    <tr style=\"text-align: right;\">\n",
       "      <th></th>\n",
       "      <th>author</th>\n",
       "      <th>bookformat</th>\n",
       "      <th>desc</th>\n",
       "      <th>genre</th>\n",
       "      <th>img</th>\n",
       "      <th>isbn</th>\n",
       "      <th>isbn13</th>\n",
       "      <th>link</th>\n",
       "      <th>pages</th>\n",
       "      <th>rating</th>\n",
       "      <th>reviews</th>\n",
       "      <th>title</th>\n",
       "      <th>totalratings</th>\n",
       "    </tr>\n",
       "  </thead>\n",
       "  <tbody>\n",
       "    <tr>\n",
       "      <th>0</th>\n",
       "      <td>Laurence M. Hauptman</td>\n",
       "      <td>Hardcover</td>\n",
       "      <td>Reveals that several hundred thousand Indians ...</td>\n",
       "      <td>History,Military History,Civil War,American Hi...</td>\n",
       "      <td>https://i.gr-assets.com/images/S/compressed.ph...</td>\n",
       "      <td>002914180X</td>\n",
       "      <td>9.78E+12</td>\n",
       "      <td>https://goodreads.com/book/show/1001053.Betwee...</td>\n",
       "      <td>0</td>\n",
       "      <td>3.52</td>\n",
       "      <td>5</td>\n",
       "      <td>Between Two Fires: American Indians in the Civ...</td>\n",
       "      <td>33</td>\n",
       "    </tr>\n",
       "    <tr>\n",
       "      <th>1</th>\n",
       "      <td>Charlotte Fiell,Emmanuelle Dirix</td>\n",
       "      <td>Paperback</td>\n",
       "      <td>Fashion Sourcebook - 1920s is the first book i...</td>\n",
       "      <td>Couture,Fashion,Historical,Art,Nonfiction</td>\n",
       "      <td>https://i.gr-assets.com/images/S/compressed.ph...</td>\n",
       "      <td>1906863482</td>\n",
       "      <td>9.78E+12</td>\n",
       "      <td>https://goodreads.com/book/show/10010552-fashi...</td>\n",
       "      <td>576</td>\n",
       "      <td>4.51</td>\n",
       "      <td>6</td>\n",
       "      <td>Fashion Sourcebook 1920s</td>\n",
       "      <td>41</td>\n",
       "    </tr>\n",
       "    <tr>\n",
       "      <th>2</th>\n",
       "      <td>Andy Anderson</td>\n",
       "      <td>Paperback</td>\n",
       "      <td>The seminal history and analysis of the Hungar...</td>\n",
       "      <td>Politics,History</td>\n",
       "      <td>https://i.gr-assets.com/images/S/compressed.ph...</td>\n",
       "      <td>948984147</td>\n",
       "      <td>9.78E+12</td>\n",
       "      <td>https://goodreads.com/book/show/1001077.Hungar...</td>\n",
       "      <td>124</td>\n",
       "      <td>4.15</td>\n",
       "      <td>2</td>\n",
       "      <td>Hungary 56</td>\n",
       "      <td>26</td>\n",
       "    </tr>\n",
       "    <tr>\n",
       "      <th>3</th>\n",
       "      <td>Carlotta R. Anderson</td>\n",
       "      <td>Hardcover</td>\n",
       "      <td>\"All-American Anarchist\" chronicles the life a...</td>\n",
       "      <td>Labor,History</td>\n",
       "      <td>https://i.gr-assets.com/images/S/compressed.ph...</td>\n",
       "      <td>814327079</td>\n",
       "      <td>9.78E+12</td>\n",
       "      <td>https://goodreads.com/book/show/1001079.All_Am...</td>\n",
       "      <td>324</td>\n",
       "      <td>3.83</td>\n",
       "      <td>1</td>\n",
       "      <td>All-American Anarchist: Joseph A. Labadie and ...</td>\n",
       "      <td>6</td>\n",
       "    </tr>\n",
       "    <tr>\n",
       "      <th>5</th>\n",
       "      <td>Jeffrey Pfeffer</td>\n",
       "      <td>Hardcover</td>\n",
       "      <td>Why is common sense so uncommon when it comes ...</td>\n",
       "      <td>Business,Leadership,Romance,Historical Romance...</td>\n",
       "      <td>https://i.gr-assets.com/images/S/compressed.ph...</td>\n",
       "      <td>875848419</td>\n",
       "      <td>9.78E+12</td>\n",
       "      <td>https://goodreads.com/book/show/1001090.The_Hu...</td>\n",
       "      <td>368</td>\n",
       "      <td>3.73</td>\n",
       "      <td>7</td>\n",
       "      <td>The Human Equation: Building Profits by Puttin...</td>\n",
       "      <td>119</td>\n",
       "    </tr>\n",
       "  </tbody>\n",
       "</table>\n",
       "</div>"
      ],
      "text/plain": [
       "                             author bookformat  \\\n",
       "0              Laurence M. Hauptman  Hardcover   \n",
       "1  Charlotte Fiell,Emmanuelle Dirix  Paperback   \n",
       "2                     Andy Anderson  Paperback   \n",
       "3              Carlotta R. Anderson  Hardcover   \n",
       "5                   Jeffrey Pfeffer  Hardcover   \n",
       "\n",
       "                                                desc  \\\n",
       "0  Reveals that several hundred thousand Indians ...   \n",
       "1  Fashion Sourcebook - 1920s is the first book i...   \n",
       "2  The seminal history and analysis of the Hungar...   \n",
       "3  \"All-American Anarchist\" chronicles the life a...   \n",
       "5  Why is common sense so uncommon when it comes ...   \n",
       "\n",
       "                                               genre  \\\n",
       "0  History,Military History,Civil War,American Hi...   \n",
       "1          Couture,Fashion,Historical,Art,Nonfiction   \n",
       "2                                   Politics,History   \n",
       "3                                      Labor,History   \n",
       "5  Business,Leadership,Romance,Historical Romance...   \n",
       "\n",
       "                                                 img        isbn    isbn13  \\\n",
       "0  https://i.gr-assets.com/images/S/compressed.ph...  002914180X  9.78E+12   \n",
       "1  https://i.gr-assets.com/images/S/compressed.ph...  1906863482  9.78E+12   \n",
       "2  https://i.gr-assets.com/images/S/compressed.ph...   948984147  9.78E+12   \n",
       "3  https://i.gr-assets.com/images/S/compressed.ph...   814327079  9.78E+12   \n",
       "5  https://i.gr-assets.com/images/S/compressed.ph...   875848419  9.78E+12   \n",
       "\n",
       "                                                link  pages  rating  reviews  \\\n",
       "0  https://goodreads.com/book/show/1001053.Betwee...      0    3.52        5   \n",
       "1  https://goodreads.com/book/show/10010552-fashi...    576    4.51        6   \n",
       "2  https://goodreads.com/book/show/1001077.Hungar...    124    4.15        2   \n",
       "3  https://goodreads.com/book/show/1001079.All_Am...    324    3.83        1   \n",
       "5  https://goodreads.com/book/show/1001090.The_Hu...    368    3.73        7   \n",
       "\n",
       "                                               title  totalratings  \n",
       "0  Between Two Fires: American Indians in the Civ...            33  \n",
       "1                           Fashion Sourcebook 1920s            41  \n",
       "2                                         Hungary 56            26  \n",
       "3  All-American Anarchist: Joseph A. Labadie and ...             6  \n",
       "5  The Human Equation: Building Profits by Puttin...           119  "
      ]
     },
     "execution_count": 105,
     "metadata": {},
     "output_type": "execute_result"
    }
   ],
   "source": [
    "df.head()"
   ]
  },
  {
   "cell_type": "code",
   "execution_count": 106,
   "id": "944f1bc0",
   "metadata": {},
   "outputs": [],
   "source": [
    "# Create more informative features\n",
    "df['log_pages'] = np.log1p(df['pages']).astype('float32')\n",
    "df['log_reviews'] = np.log1p(df['reviews']).astype('float32')\n",
    "df['log_totalratings'] = np.log1p(df['totalratings']).astype('float32')\n",
    "df['popularity_score'] = df['rating'] * np.log1p(df['totalratings']).astype('float32')\n",
    "df['review_ratio'] = (df['reviews'] / (df['totalratings'] + 1)).astype('float32')"
   ]
  },
  {
   "cell_type": "code",
   "execution_count": 107,
   "id": "34ecbc27",
   "metadata": {},
   "outputs": [
    {
     "data": {
      "text/plain": [
       "18"
      ]
     },
     "execution_count": 107,
     "metadata": {},
     "output_type": "execute_result"
    }
   ],
   "source": [
    "len(df.columns)"
   ]
  },
  {
   "cell_type": "code",
   "execution_count": 108,
   "id": "30df0b86",
   "metadata": {},
   "outputs": [],
   "source": [
    "# # One-hot encode genre (limited to top genres to save memory)\n",
    "# genre_counts = df['genre'].value_counts().head(20)"
   ]
  },
  {
   "cell_type": "code",
   "execution_count": 109,
   "id": "f7a26ed4",
   "metadata": {},
   "outputs": [],
   "source": [
    "# top_genres = genre_counts.index.tolist()\n",
    "# df['top_genre'] = df['genre'].apply(lambda x: x if x in top_genres else 'Other')\n",
    "# genre_ohe = pd.get_dummies(df['top_genre'], prefix='genre', sparse=True)\n",
    "# df = pd.concat([df, genre_ohe], axis=1)"
   ]
  },
  {
   "cell_type": "code",
   "execution_count": 110,
   "id": "71b8cbdd",
   "metadata": {},
   "outputs": [
    {
     "data": {
      "text/html": [
       "<pre style=\"white-space:pre;overflow-x:auto;line-height:normal;font-family:Menlo,'DejaVu Sans Mono',consolas,'Courier New',monospace\">Target distribution: <span style=\"font-weight: bold\">[</span><span style=\"color: #008080; text-decoration-color: #008080; font-weight: bold\">52913</span> <span style=\"color: #008080; text-decoration-color: #008080; font-weight: bold\">36620</span><span style=\"font-weight: bold\">]</span>\n",
       "</pre>\n"
      ],
      "text/plain": [
       "Target distribution: \u001b[1m[\u001b[0m\u001b[1;36m52913\u001b[0m \u001b[1;36m36620\u001b[0m\u001b[1m]\u001b[0m\n"
      ]
     },
     "metadata": {},
     "output_type": "display_data"
    }
   ],
   "source": [
    "# Target variable\n",
    "target = (df['rating'] >= 4.0).astype('int8')\n",
    "print(f\"Target distribution: {np.bincount(target)}\")"
   ]
  },
  {
   "cell_type": "code",
   "execution_count": 111,
   "id": "f438a864",
   "metadata": {},
   "outputs": [
    {
     "data": {
      "text/plain": [
       "author                  0\n",
       "bookformat           2324\n",
       "desc                 4048\n",
       "genre                   0\n",
       "img                  1224\n",
       "isbn                12624\n",
       "isbn13               9789\n",
       "link                    0\n",
       "pages                   0\n",
       "rating                  0\n",
       "reviews                 0\n",
       "title                   1\n",
       "totalratings            0\n",
       "log_pages               0\n",
       "log_reviews             0\n",
       "log_totalratings        0\n",
       "popularity_score        0\n",
       "review_ratio            0\n",
       "dtype: int64"
      ]
     },
     "execution_count": 111,
     "metadata": {},
     "output_type": "execute_result"
    }
   ],
   "source": [
    "df.isna().sum()"
   ]
  },
  {
   "cell_type": "code",
   "execution_count": 112,
   "id": "3f3c624a",
   "metadata": {},
   "outputs": [
    {
     "data": {
      "text/plain": [
       "0        Between Two Fires: American Indians in the Civ...\n",
       "1                                 Fashion Sourcebook 1920s\n",
       "2                                               Hungary 56\n",
       "3        All-American Anarchist: Joseph A. Labadie and ...\n",
       "5        The Human Equation: Building Profits by Puttin...\n",
       "                               ...                        \n",
       "99993                                       The Sea Inside\n",
       "99994                                    A Horse for Angel\n",
       "99997    A Faith Worth Sharing: A Lifetime of Conversat...\n",
       "99998    A Volcano Beneath the Snow: John Brown's War A...\n",
       "99999    Paranormal Nation: Why America Needs Ghosts, U...\n",
       "Name: title, Length: 89533, dtype: object"
      ]
     },
     "execution_count": 112,
     "metadata": {},
     "output_type": "execute_result"
    }
   ],
   "source": [
    "df['title']"
   ]
  },
  {
   "cell_type": "code",
   "execution_count": 113,
   "id": "20d3e825",
   "metadata": {},
   "outputs": [],
   "source": [
    "# Sample: apply language detection\n",
    "def detect_language(text):\n",
    "    try:\n",
    "        return detect(text)\n",
    "    except:\n",
    "        return 'unknown'\n"
   ]
  },
  {
   "cell_type": "code",
   "execution_count": 114,
   "id": "28efbfca",
   "metadata": {},
   "outputs": [
    {
     "data": {
      "text/plain": [
       "language\n",
       "en         67549\n",
       "de          3694\n",
       "nl          1429\n",
       "da          1428\n",
       "pt          1363\n",
       "fr          1344\n",
       "it          1140\n",
       "id          1118\n",
       "ro           984\n",
       "tl           940\n",
       "af           923\n",
       "no           832\n",
       "es           720\n",
       "ca           681\n",
       "tr           517\n",
       "et           508\n",
       "fi           501\n",
       "sv           479\n",
       "cy           444\n",
       "pl           370\n",
       "sw           365\n",
       "so           326\n",
       "vi           278\n",
       "hu           260\n",
       "sl           235\n",
       "lt           230\n",
       "hr           212\n",
       "unknown      144\n",
       "sk           138\n",
       "sq           130\n",
       "cs           124\n",
       "zh-cn         68\n",
       "lv            42\n",
       "ko            17\n",
       "Name: count, dtype: int64"
      ]
     },
     "execution_count": 114,
     "metadata": {},
     "output_type": "execute_result"
    }
   ],
   "source": [
    "# Detect languages\n",
    "df['language'] = df['title'].apply(detect_language)\n",
    "df['language'].value_counts()\n"
   ]
  },
  {
   "cell_type": "code",
   "execution_count": 115,
   "id": "233760b4",
   "metadata": {},
   "outputs": [
    {
     "data": {
      "text/html": [
       "<pre style=\"white-space:pre;overflow-x:auto;line-height:normal;font-family:Menlo,'DejaVu Sans Mono',consolas,'Courier New',monospace\">                                                  title language\n",
       "<span style=\"color: #008080; text-decoration-color: #008080; font-weight: bold\">344</span>            Ð¢Ð¾Ñ€ÐµÐ°Ð´Ð¾Ñ€Ð¸ Ð· Ð’Ð°ÑÑŽÐºÑ–Ð²ÐºÐ¸       ko\n",
       "<span style=\"color: #008080; text-decoration-color: #008080; font-weight: bold\">4814</span>  ÐÐ¾Ñ‡Ð½Ð¾Ð¹ Ð´Ð¾Ð·Ð¾Ñ€. Ð”Ð½ÐµÐ²Ð½Ð¾Ð¹ Ð´Ð¾Ð·<span style=\"color: #808000; text-decoration-color: #808000\">...</span>    zh-cn\n",
       "<span style=\"color: #008080; text-decoration-color: #008080; font-weight: bold\">4881</span>                                      Dinosaurumpus       lv\n",
       "<span style=\"color: #008080; text-decoration-color: #008080; font-weight: bold\">6393</span>  <span style=\"color: #008080; text-decoration-color: #008080; font-weight: bold\">100</span> ÐºÐ°Ð·Ð¾Ðº. ÐÐ°Ð¹ÐºÑ€Ð°Ñ‰Ñ– ÑƒÐºÑ€Ð°Ñ—Ð½Ñ<span style=\"color: #808000; text-decoration-color: #808000\">...</span>    zh-cn\n",
       "<span style=\"color: #008080; text-decoration-color: #008080; font-weight: bold\">7169</span>         Ð›ÐµÐºÑÐ¸ÐºÐ¾Ð½ Ñ‚Ð°Ñ”Ð¼Ð½Ð¸Ñ… Ð·Ð½Ð°Ð½ÑŒ    zh-cn\n",
       "</pre>\n"
      ],
      "text/plain": [
       "                                                  title language\n",
       "\u001b[1;36m344\u001b[0m            Ð¢Ð¾Ñ€ÐµÐ°Ð´Ð¾Ñ€Ð¸ Ð· Ð’Ð°ÑÑŽÐºÑ–Ð²ÐºÐ¸       ko\n",
       "\u001b[1;36m4814\u001b[0m  ÐÐ¾Ñ‡Ð½Ð¾Ð¹ Ð´Ð¾Ð·Ð¾Ñ€. Ð”Ð½ÐµÐ²Ð½Ð¾Ð¹ Ð´Ð¾Ð·\u001b[33m...\u001b[0m    zh-cn\n",
       "\u001b[1;36m4881\u001b[0m                                      Dinosaurumpus       lv\n",
       "\u001b[1;36m6393\u001b[0m  \u001b[1;36m100\u001b[0m ÐºÐ°Ð·Ð¾Ðº. ÐÐ°Ð¹ÐºÑ€Ð°Ñ‰Ñ– ÑƒÐºÑ€Ð°Ñ—Ð½Ñ\u001b[33m...\u001b[0m    zh-cn\n",
       "\u001b[1;36m7169\u001b[0m         Ð›ÐµÐºÑÐ¸ÐºÐ¾Ð½ Ñ‚Ð°Ñ”Ð¼Ð½Ð¸Ñ… Ð·Ð½Ð°Ð½ÑŒ    zh-cn\n"
      ]
     },
     "metadata": {},
     "output_type": "display_data"
    }
   ],
   "source": [
    "# Set a threshold for suspicious languages (e.g., languages with < 100 titles)\n",
    "suspicious_langs = df['language'].value_counts()\n",
    "suspicious_langs = suspicious_langs[suspicious_langs < 100].index.tolist()\n",
    "\n",
    "# Filter rows with suspicious language codes\n",
    "suspicious_titles = df[df['language'].isin(suspicious_langs)]\n",
    "\n",
    "# View them (e.g., top 30)\n",
    "print(suspicious_titles[['title', 'language']].head(5))\n"
   ]
  },
  {
   "cell_type": "code",
   "execution_count": 116,
   "id": "f009304a",
   "metadata": {},
   "outputs": [],
   "source": [
    "\n",
    "# Step 2: Drop rows where the language is in the suspicious list\n",
    "df = df[~df['language'].isin(suspicious_langs)].reset_index(drop=True)"
   ]
  },
  {
   "cell_type": "markdown",
   "id": "4908d32e",
   "metadata": {},
   "source": [
    "# ===== PHASE 3: ENHANCED FEATURE ENGINEERING ====="
   ]
  },
  {
   "cell_type": "markdown",
   "id": "3646d365",
   "metadata": {},
   "source": [
    "#### Columns before One-hot encoding"
   ]
  },
  {
   "cell_type": "code",
   "execution_count": 117,
   "id": "c631c4da",
   "metadata": {},
   "outputs": [
    {
     "data": {
      "text/plain": [
       "Index(['author', 'bookformat', 'desc', 'genre', 'img', 'isbn', 'isbn13',\n",
       "       'link', 'pages', 'rating', 'reviews', 'title', 'totalratings',\n",
       "       'log_pages', 'log_reviews', 'log_totalratings', 'popularity_score',\n",
       "       'review_ratio', 'language'],\n",
       "      dtype='object')"
      ]
     },
     "execution_count": 117,
     "metadata": {},
     "output_type": "execute_result"
    }
   ],
   "source": [
    "df.columns"
   ]
  },
  {
   "cell_type": "code",
   "execution_count": 118,
   "id": "4b4bdd40",
   "metadata": {},
   "outputs": [
    {
     "data": {
      "text/html": [
       "<pre style=\"white-space:pre;overflow-x:auto;line-height:normal;font-family:Menlo,'DejaVu Sans Mono',consolas,'Courier New',monospace\">Performing feature engineering<span style=\"color: #808000; text-decoration-color: #808000\">...</span>\n",
       "</pre>\n"
      ],
      "text/plain": [
       "Performing feature engineering\u001b[33m...\u001b[0m\n"
      ]
     },
     "metadata": {},
     "output_type": "display_data"
    },
    {
     "data": {
      "text/html": [
       "<pre style=\"white-space:pre;overflow-x:auto;line-height:normal;font-family:Menlo,'DejaVu Sans Mono',consolas,'Courier New',monospace\">Target distribution: <span style=\"font-weight: bold\">[</span><span style=\"color: #008080; text-decoration-color: #008080; font-weight: bold\">52857</span> <span style=\"color: #008080; text-decoration-color: #008080; font-weight: bold\">36549</span><span style=\"font-weight: bold\">]</span>\n",
       "</pre>\n"
      ],
      "text/plain": [
       "Target distribution: \u001b[1m[\u001b[0m\u001b[1;36m52857\u001b[0m \u001b[1;36m36549\u001b[0m\u001b[1m]\u001b[0m\n"
      ]
     },
     "metadata": {},
     "output_type": "display_data"
    }
   ],
   "source": [
    "# ===== PHASE 2: ENHANCED FEATURE ENGINEERING =====\n",
    "print(\"Performing feature engineering...\")\n",
    "# Encode categorical features\n",
    "genre_encoder = LabelEncoder()\n",
    "author_encoder = LabelEncoder()\n",
    "format_encoder = LabelEncoder()\n",
    "\n",
    "df['genre_encoded'] = genre_encoder.fit_transform(df['genre'])\n",
    "df['author_encoded'] = author_encoder.fit_transform(df['author'])\n",
    "df['bookformat'] = df['bookformat'].fillna('Unknown')\n",
    "df['format_encoded'] = format_encoder.fit_transform(df['bookformat'])\n",
    "\n",
    "# Create more informative features\n",
    "df['log_pages'] = np.log1p(df['pages']).astype('float32')\n",
    "df['log_reviews'] = np.log1p(df['reviews']).astype('float32')\n",
    "df['log_totalratings'] = np.log1p(df['totalratings']).astype('float32')\n",
    "df['popularity_score'] = df['rating'] * np.log1p(df['totalratings']).astype('float32')\n",
    "df['review_ratio'] = (df['reviews'] / (df['totalratings'] + 1)).astype('float32')\n",
    "\n",
    "# One-hot encode genre (limited to top genres to save memory)\n",
    "genre_counts = df['genre'].value_counts().head(20)\n",
    "top_genres = genre_counts.index.tolist()\n",
    "df['top_genre'] = df['genre'].apply(lambda x: x if x in top_genres else 'Other')\n",
    "genre_ohe = pd.get_dummies(df['top_genre'], prefix='genre', sparse=True)\n",
    "df = pd.concat([df, genre_ohe], axis=1)\n",
    "\n",
    "# Target variable\n",
    "target = (df['rating'] >= 4.0).astype('int8')\n",
    "print(f\"Target distribution: {np.bincount(target)}\")\n"
   ]
  },
  {
   "cell_type": "markdown",
   "id": "ed8e3a02",
   "metadata": {},
   "source": [
    "#### Columns after One-hot encoding"
   ]
  },
  {
   "cell_type": "code",
   "execution_count": 119,
   "id": "f4d32afe",
   "metadata": {},
   "outputs": [
    {
     "data": {
      "text/plain": [
       "44"
      ]
     },
     "execution_count": 119,
     "metadata": {},
     "output_type": "execute_result"
    }
   ],
   "source": [
    "len(df.columns)"
   ]
  },
  {
   "cell_type": "code",
   "execution_count": 120,
   "id": "f7cdd4ca",
   "metadata": {},
   "outputs": [
    {
     "data": {
      "text/html": [
       "<pre style=\"white-space:pre;overflow-x:auto;line-height:normal;font-family:Menlo,'DejaVu Sans Mono',consolas,'Courier New',monospace\">Preparing training data<span style=\"color: #808000; text-decoration-color: #808000\">...</span>\n",
       "</pre>\n"
      ],
      "text/plain": [
       "Preparing training data\u001b[33m...\u001b[0m\n"
      ]
     },
     "metadata": {},
     "output_type": "display_data"
    }
   ],
   "source": [
    "# ===== PHASE 3: PREPARE TRAINING DATA =====\n",
    "print(\"Preparing training data...\")\n",
    "# Select features with better predictive power\n",
    "numerical_features = [\n",
    "    'log_pages', 'log_reviews', 'log_totalratings', \n",
    "    'popularity_score', 'review_ratio'\n",
    "]\n",
    "\n",
    "categorical_features = ['author_encoded', 'format_encoded']"
   ]
  },
  {
   "cell_type": "code",
   "execution_count": 121,
   "id": "4fc2fea6",
   "metadata": {},
   "outputs": [],
   "source": [
    "# Combine all features, including one-hot encoded genres\n",
    "feature_cols = numerical_features + categorical_features + list(genre_ohe.columns)\n",
    "features = df[feature_cols].copy()"
   ]
  },
  {
   "cell_type": "code",
   "execution_count": 122,
   "id": "4b7c2a4b",
   "metadata": {},
   "outputs": [],
   "source": [
    "# Split the data\n",
    "X_train, X_test, y_train, y_test = train_test_split(\n",
    "    features, target, test_size=0.2, random_state=42, stratify=target\n",
    ")"
   ]
  },
  {
   "cell_type": "code",
   "execution_count": 123,
   "id": "936337cb",
   "metadata": {},
   "outputs": [],
   "source": [
    "# Scale numerical features only\n",
    "scaler = StandardScaler()\n",
    "X_train[numerical_features] = scaler.fit_transform(X_train[numerical_features])\n",
    "X_test[numerical_features] = scaler.transform(X_test[numerical_features])"
   ]
  },
  {
   "cell_type": "code",
   "execution_count": 124,
   "id": "d294ecb1",
   "metadata": {},
   "outputs": [
    {
     "data": {
      "text/html": [
       "<pre style=\"white-space:pre;overflow-x:auto;line-height:normal;font-family:Menlo,'DejaVu Sans Mono',consolas,'Courier New',monospace\">Training data shape: <span style=\"font-weight: bold\">(</span><span style=\"color: #008080; text-decoration-color: #008080; font-weight: bold\">71524</span>, <span style=\"color: #008080; text-decoration-color: #008080; font-weight: bold\">28</span><span style=\"font-weight: bold\">)</span>\n",
       "</pre>\n"
      ],
      "text/plain": [
       "Training data shape: \u001b[1m(\u001b[0m\u001b[1;36m71524\u001b[0m, \u001b[1;36m28\u001b[0m\u001b[1m)\u001b[0m\n"
      ]
     },
     "metadata": {},
     "output_type": "display_data"
    },
    {
     "data": {
      "text/html": [
       "<pre style=\"white-space:pre;overflow-x:auto;line-height:normal;font-family:Menlo,'DejaVu Sans Mono',consolas,'Courier New',monospace\">Test data shape: <span style=\"font-weight: bold\">(</span><span style=\"color: #008080; text-decoration-color: #008080; font-weight: bold\">17882</span>, <span style=\"color: #008080; text-decoration-color: #008080; font-weight: bold\">28</span><span style=\"font-weight: bold\">)</span>\n",
       "</pre>\n"
      ],
      "text/plain": [
       "Test data shape: \u001b[1m(\u001b[0m\u001b[1;36m17882\u001b[0m, \u001b[1;36m28\u001b[0m\u001b[1m)\u001b[0m\n"
      ]
     },
     "metadata": {},
     "output_type": "display_data"
    }
   ],
   "source": [
    "# Memory cleanup\n",
    "del genre_ohe\n",
    "gc.collect()\n",
    "\n",
    "print(f\"Training data shape: {X_train.shape}\")\n",
    "print(f\"Test data shape: {X_test.shape}\")"
   ]
  },
  {
   "cell_type": "code",
   "execution_count": 125,
   "id": "54c06776",
   "metadata": {},
   "outputs": [
    {
     "data": {
      "text/html": [
       "<pre style=\"white-space:pre;overflow-x:auto;line-height:normal;font-family:Menlo,'DejaVu Sans Mono',consolas,'Courier New',monospace\">\n",
       "=== Training XGBoost Model ===\n",
       "</pre>\n"
      ],
      "text/plain": [
       "\n",
       "=== Training XGBoost Model ===\n"
      ]
     },
     "metadata": {},
     "output_type": "display_data"
    }
   ],
   "source": [
    "# ===== MODEL 1: XGBOOST WITH EPOCHS =====\n",
    "print(\"\\n=== Training XGBoost Model ===\")\n",
    "start_time = time.time()"
   ]
  },
  {
   "cell_type": "markdown",
   "id": "3034c5ab",
   "metadata": {},
   "source": [
    "#### Function to print metrics (reusable)"
   ]
  },
  {
   "cell_type": "code",
   "execution_count": 126,
   "id": "e1286721",
   "metadata": {},
   "outputs": [],
   "source": [
    "def print_metrics(y_true, y_pred, model_name):\n",
    "    accuracy = accuracy_score(y_true, y_pred)\n",
    "    precision = precision_score(y_true, y_pred, zero_division=0)\n",
    "    recall = recall_score(y_true, y_pred, zero_division=0)\n",
    "    f1 = f1_score(y_true, y_pred, zero_division=0)\n",
    "    print(f\"{model_name} - Accuracy: {accuracy:.4f}, Precision: {precision:.4f}, Recall: {recall:.4f}, F1: {f1:.4f}\")\n",
    "    return {\"accuracy\": accuracy, \"precision\": precision, \"recall\": recall, \"f1\": f1}"
   ]
  },
  {
   "cell_type": "code",
   "execution_count": 127,
   "id": "370bfc25",
   "metadata": {},
   "outputs": [],
   "source": [
    "import xgboost as xgb\n",
    "from tabulate import tabulate\n",
    "\n",
    "def train_xgboost_with_epochs(X_train, y_train, X_test, y_test, epochs_list=[3, 10, 50, 100]):\n",
    "    results = {}\n",
    "    best_accuracy = 0\n",
    "    best_model = None\n",
    "    best_epoch = 0\n",
    "\n",
    "    print(\"\\nTraining and Evaluating XGBoost Models...\\n\")\n",
    "    \n",
    "    for epochs in epochs_list:\n",
    "        print(f\"Training XGBoost with {epochs} estimators...\")\n",
    "        model = xgb.XGBClassifier(\n",
    "            n_estimators=epochs,\n",
    "            learning_rate=0.1,\n",
    "            max_depth=4,\n",
    "            subsample=0.8,\n",
    "            colsample_bytree=0.8,\n",
    "            eval_metric='logloss',\n",
    "            use_label_encoder=False,\n",
    "            random_state=42\n",
    "        )\n",
    "\n",
    "        # Fit model (eval_set given, early stopping removed for this version)\n",
    "        eval_set = [(X_test, y_test)]\n",
    "        model.fit(X_train, y_train, eval_set=eval_set, verbose=False)\n",
    "\n",
    "        # Evaluate\n",
    "        y_pred = model.predict(X_test)\n",
    "        metrics = print_metrics(y_test, y_pred, f\"XGBoost ({epochs} epochs)\")\n",
    "        results[epochs] = metrics\n",
    "\n",
    "        # Track best\n",
    "        if metrics[\"accuracy\"] > best_accuracy:\n",
    "            best_accuracy = metrics[\"accuracy\"]\n",
    "            best_model = model\n",
    "            best_epoch = epochs\n",
    "\n",
    "    # Tabulate the results\n",
    "    table = []\n",
    "    for epochs, metrics in results.items():\n",
    "        row = [epochs] + [round(metrics.get(m, 0), 4) for m in [\"accuracy\", \"precision\", \"recall\", \"f1_score\"]]\n",
    "        table.append(row)\n",
    "\n",
    "    headers = [\"Epochs\", \"Accuracy\", \"Precision\", \"Recall\", \"F1 Score\"]\n",
    "    print(tabulate(table, headers=headers, tablefmt=\"grid\"))\n",
    "\n",
    "    print(f\"\\n✅ Best XGBoost model: {best_epoch} epochs with accuracy {best_accuracy:.4f}\")\n",
    "    return best_model, results\n"
   ]
  },
  {
   "cell_type": "code",
   "execution_count": 128,
   "id": "b5d18385",
   "metadata": {},
   "outputs": [
    {
     "data": {
      "text/html": [
       "<pre style=\"white-space:pre;overflow-x:auto;line-height:normal;font-family:Menlo,'DejaVu Sans Mono',consolas,'Courier New',monospace\">\n",
       "Training and Evaluating XGBoost Models<span style=\"color: #808000; text-decoration-color: #808000\">...</span>\n",
       "\n",
       "</pre>\n"
      ],
      "text/plain": [
       "\n",
       "Training and Evaluating XGBoost Models\u001b[33m...\u001b[0m\n",
       "\n"
      ]
     },
     "metadata": {},
     "output_type": "display_data"
    },
    {
     "data": {
      "text/html": [
       "<pre style=\"white-space:pre;overflow-x:auto;line-height:normal;font-family:Menlo,'DejaVu Sans Mono',consolas,'Courier New',monospace\">Training XGBoost with <span style=\"color: #008080; text-decoration-color: #008080; font-weight: bold\">3</span> estimators<span style=\"color: #808000; text-decoration-color: #808000\">...</span>\n",
       "</pre>\n"
      ],
      "text/plain": [
       "Training XGBoost with \u001b[1;36m3\u001b[0m estimators\u001b[33m...\u001b[0m\n"
      ]
     },
     "metadata": {},
     "output_type": "display_data"
    },
    {
     "data": {
      "text/html": [
       "<pre style=\"white-space:pre;overflow-x:auto;line-height:normal;font-family:Menlo,'DejaVu Sans Mono',consolas,'Courier New',monospace\">XGBoost <span style=\"font-weight: bold\">(</span><span style=\"color: #008080; text-decoration-color: #008080; font-weight: bold\">3</span> epochs<span style=\"font-weight: bold\">)</span> - Accuracy: <span style=\"color: #008080; text-decoration-color: #008080; font-weight: bold\">0.5963</span>, Precision: <span style=\"color: #008080; text-decoration-color: #008080; font-weight: bold\">0.9789</span>, Recall: <span style=\"color: #008080; text-decoration-color: #008080; font-weight: bold\">0.0127</span>, F1: <span style=\"color: #008080; text-decoration-color: #008080; font-weight: bold\">0.0251</span>\n",
       "</pre>\n"
      ],
      "text/plain": [
       "XGBoost \u001b[1m(\u001b[0m\u001b[1;36m3\u001b[0m epochs\u001b[1m)\u001b[0m - Accuracy: \u001b[1;36m0.5963\u001b[0m, Precision: \u001b[1;36m0.9789\u001b[0m, Recall: \u001b[1;36m0.0127\u001b[0m, F1: \u001b[1;36m0.0251\u001b[0m\n"
      ]
     },
     "metadata": {},
     "output_type": "display_data"
    },
    {
     "data": {
      "text/html": [
       "<pre style=\"white-space:pre;overflow-x:auto;line-height:normal;font-family:Menlo,'DejaVu Sans Mono',consolas,'Courier New',monospace\">Training XGBoost with <span style=\"color: #008080; text-decoration-color: #008080; font-weight: bold\">10</span> estimators<span style=\"color: #808000; text-decoration-color: #808000\">...</span>\n",
       "</pre>\n"
      ],
      "text/plain": [
       "Training XGBoost with \u001b[1;36m10\u001b[0m estimators\u001b[33m...\u001b[0m\n"
      ]
     },
     "metadata": {},
     "output_type": "display_data"
    },
    {
     "data": {
      "text/html": [
       "<pre style=\"white-space:pre;overflow-x:auto;line-height:normal;font-family:Menlo,'DejaVu Sans Mono',consolas,'Courier New',monospace\">XGBoost <span style=\"font-weight: bold\">(</span><span style=\"color: #008080; text-decoration-color: #008080; font-weight: bold\">10</span> epochs<span style=\"font-weight: bold\">)</span> - Accuracy: <span style=\"color: #008080; text-decoration-color: #008080; font-weight: bold\">0.7314</span>, Precision: <span style=\"color: #008080; text-decoration-color: #008080; font-weight: bold\">0.9321</span>, Recall: <span style=\"color: #008080; text-decoration-color: #008080; font-weight: bold\">0.3699</span>, F1: <span style=\"color: #008080; text-decoration-color: #008080; font-weight: bold\">0.5296</span>\n",
       "</pre>\n"
      ],
      "text/plain": [
       "XGBoost \u001b[1m(\u001b[0m\u001b[1;36m10\u001b[0m epochs\u001b[1m)\u001b[0m - Accuracy: \u001b[1;36m0.7314\u001b[0m, Precision: \u001b[1;36m0.9321\u001b[0m, Recall: \u001b[1;36m0.3699\u001b[0m, F1: \u001b[1;36m0.5296\u001b[0m\n"
      ]
     },
     "metadata": {},
     "output_type": "display_data"
    },
    {
     "data": {
      "text/html": [
       "<pre style=\"white-space:pre;overflow-x:auto;line-height:normal;font-family:Menlo,'DejaVu Sans Mono',consolas,'Courier New',monospace\">Training XGBoost with <span style=\"color: #008080; text-decoration-color: #008080; font-weight: bold\">50</span> estimators<span style=\"color: #808000; text-decoration-color: #808000\">...</span>\n",
       "</pre>\n"
      ],
      "text/plain": [
       "Training XGBoost with \u001b[1;36m50\u001b[0m estimators\u001b[33m...\u001b[0m\n"
      ]
     },
     "metadata": {},
     "output_type": "display_data"
    },
    {
     "data": {
      "text/html": [
       "<pre style=\"white-space:pre;overflow-x:auto;line-height:normal;font-family:Menlo,'DejaVu Sans Mono',consolas,'Courier New',monospace\">XGBoost <span style=\"font-weight: bold\">(</span><span style=\"color: #008080; text-decoration-color: #008080; font-weight: bold\">50</span> epochs<span style=\"font-weight: bold\">)</span> - Accuracy: <span style=\"color: #008080; text-decoration-color: #008080; font-weight: bold\">0.9082</span>, Precision: <span style=\"color: #008080; text-decoration-color: #008080; font-weight: bold\">0.9431</span>, Recall: <span style=\"color: #008080; text-decoration-color: #008080; font-weight: bold\">0.8252</span>, F1: <span style=\"color: #008080; text-decoration-color: #008080; font-weight: bold\">0.8802</span>\n",
       "</pre>\n"
      ],
      "text/plain": [
       "XGBoost \u001b[1m(\u001b[0m\u001b[1;36m50\u001b[0m epochs\u001b[1m)\u001b[0m - Accuracy: \u001b[1;36m0.9082\u001b[0m, Precision: \u001b[1;36m0.9431\u001b[0m, Recall: \u001b[1;36m0.8252\u001b[0m, F1: \u001b[1;36m0.8802\u001b[0m\n"
      ]
     },
     "metadata": {},
     "output_type": "display_data"
    },
    {
     "data": {
      "text/html": [
       "<pre style=\"white-space:pre;overflow-x:auto;line-height:normal;font-family:Menlo,'DejaVu Sans Mono',consolas,'Courier New',monospace\">Training XGBoost with <span style=\"color: #008080; text-decoration-color: #008080; font-weight: bold\">100</span> estimators<span style=\"color: #808000; text-decoration-color: #808000\">...</span>\n",
       "</pre>\n"
      ],
      "text/plain": [
       "Training XGBoost with \u001b[1;36m100\u001b[0m estimators\u001b[33m...\u001b[0m\n"
      ]
     },
     "metadata": {},
     "output_type": "display_data"
    },
    {
     "data": {
      "text/html": [
       "<pre style=\"white-space:pre;overflow-x:auto;line-height:normal;font-family:Menlo,'DejaVu Sans Mono',consolas,'Courier New',monospace\">XGBoost <span style=\"font-weight: bold\">(</span><span style=\"color: #008080; text-decoration-color: #008080; font-weight: bold\">100</span> epochs<span style=\"font-weight: bold\">)</span> - Accuracy: <span style=\"color: #008080; text-decoration-color: #008080; font-weight: bold\">0.9592</span>, Precision: <span style=\"color: #008080; text-decoration-color: #008080; font-weight: bold\">0.9603</span>, Recall: <span style=\"color: #008080; text-decoration-color: #008080; font-weight: bold\">0.9390</span>, F1: <span style=\"color: #008080; text-decoration-color: #008080; font-weight: bold\">0.9495</span>\n",
       "</pre>\n"
      ],
      "text/plain": [
       "XGBoost \u001b[1m(\u001b[0m\u001b[1;36m100\u001b[0m epochs\u001b[1m)\u001b[0m - Accuracy: \u001b[1;36m0.9592\u001b[0m, Precision: \u001b[1;36m0.9603\u001b[0m, Recall: \u001b[1;36m0.9390\u001b[0m, F1: \u001b[1;36m0.9495\u001b[0m\n"
      ]
     },
     "metadata": {},
     "output_type": "display_data"
    },
    {
     "data": {
      "text/html": [
       "<pre style=\"white-space:pre;overflow-x:auto;line-height:normal;font-family:Menlo,'DejaVu Sans Mono',consolas,'Courier New',monospace\">Training XGBoost with <span style=\"color: #008080; text-decoration-color: #008080; font-weight: bold\">200</span> estimators<span style=\"color: #808000; text-decoration-color: #808000\">...</span>\n",
       "</pre>\n"
      ],
      "text/plain": [
       "Training XGBoost with \u001b[1;36m200\u001b[0m estimators\u001b[33m...\u001b[0m\n"
      ]
     },
     "metadata": {},
     "output_type": "display_data"
    },
    {
     "data": {
      "text/html": [
       "<pre style=\"white-space:pre;overflow-x:auto;line-height:normal;font-family:Menlo,'DejaVu Sans Mono',consolas,'Courier New',monospace\">XGBoost <span style=\"font-weight: bold\">(</span><span style=\"color: #008080; text-decoration-color: #008080; font-weight: bold\">200</span> epochs<span style=\"font-weight: bold\">)</span> - Accuracy: <span style=\"color: #008080; text-decoration-color: #008080; font-weight: bold\">0.9777</span>, Precision: <span style=\"color: #008080; text-decoration-color: #008080; font-weight: bold\">0.9739</span>, Recall: <span style=\"color: #008080; text-decoration-color: #008080; font-weight: bold\">0.9715</span>, F1: <span style=\"color: #008080; text-decoration-color: #008080; font-weight: bold\">0.9727</span>\n",
       "</pre>\n"
      ],
      "text/plain": [
       "XGBoost \u001b[1m(\u001b[0m\u001b[1;36m200\u001b[0m epochs\u001b[1m)\u001b[0m - Accuracy: \u001b[1;36m0.9777\u001b[0m, Precision: \u001b[1;36m0.9739\u001b[0m, Recall: \u001b[1;36m0.9715\u001b[0m, F1: \u001b[1;36m0.9727\u001b[0m\n"
      ]
     },
     "metadata": {},
     "output_type": "display_data"
    },
    {
     "data": {
      "text/html": [
       "<pre style=\"white-space:pre;overflow-x:auto;line-height:normal;font-family:Menlo,'DejaVu Sans Mono',consolas,'Courier New',monospace\">+----------+------------+-------------+----------+------------+\n",
       "|   Epochs |   Accuracy |   Precision |   Recall |   F1 Score |\n",
       "+==========+============+=============+==========+============+\n",
       "|        <span style=\"color: #008080; text-decoration-color: #008080; font-weight: bold\">3</span> |     <span style=\"color: #008080; text-decoration-color: #008080; font-weight: bold\">0.5963</span> |      <span style=\"color: #008080; text-decoration-color: #008080; font-weight: bold\">0.9789</span> |   <span style=\"color: #008080; text-decoration-color: #008080; font-weight: bold\">0.0127</span> |          <span style=\"color: #008080; text-decoration-color: #008080; font-weight: bold\">0</span> |\n",
       "+----------+------------+-------------+----------+------------+\n",
       "|       <span style=\"color: #008080; text-decoration-color: #008080; font-weight: bold\">10</span> |     <span style=\"color: #008080; text-decoration-color: #008080; font-weight: bold\">0.7314</span> |      <span style=\"color: #008080; text-decoration-color: #008080; font-weight: bold\">0.9321</span> |   <span style=\"color: #008080; text-decoration-color: #008080; font-weight: bold\">0.3699</span> |          <span style=\"color: #008080; text-decoration-color: #008080; font-weight: bold\">0</span> |\n",
       "+----------+------------+-------------+----------+------------+\n",
       "|       <span style=\"color: #008080; text-decoration-color: #008080; font-weight: bold\">50</span> |     <span style=\"color: #008080; text-decoration-color: #008080; font-weight: bold\">0.9082</span> |      <span style=\"color: #008080; text-decoration-color: #008080; font-weight: bold\">0.9431</span> |   <span style=\"color: #008080; text-decoration-color: #008080; font-weight: bold\">0.8252</span> |          <span style=\"color: #008080; text-decoration-color: #008080; font-weight: bold\">0</span> |\n",
       "+----------+------------+-------------+----------+------------+\n",
       "|      <span style=\"color: #008080; text-decoration-color: #008080; font-weight: bold\">100</span> |     <span style=\"color: #008080; text-decoration-color: #008080; font-weight: bold\">0.9592</span> |      <span style=\"color: #008080; text-decoration-color: #008080; font-weight: bold\">0.9603</span> |   <span style=\"color: #008080; text-decoration-color: #008080; font-weight: bold\">0.939</span>  |          <span style=\"color: #008080; text-decoration-color: #008080; font-weight: bold\">0</span> |\n",
       "+----------+------------+-------------+----------+------------+\n",
       "|      <span style=\"color: #008080; text-decoration-color: #008080; font-weight: bold\">200</span> |     <span style=\"color: #008080; text-decoration-color: #008080; font-weight: bold\">0.9777</span> |      <span style=\"color: #008080; text-decoration-color: #008080; font-weight: bold\">0.9739</span> |   <span style=\"color: #008080; text-decoration-color: #008080; font-weight: bold\">0.9715</span> |          <span style=\"color: #008080; text-decoration-color: #008080; font-weight: bold\">0</span> |\n",
       "+----------+------------+-------------+----------+------------+\n",
       "</pre>\n"
      ],
      "text/plain": [
       "+----------+------------+-------------+----------+------------+\n",
       "|   Epochs |   Accuracy |   Precision |   Recall |   F1 Score |\n",
       "+==========+============+=============+==========+============+\n",
       "|        \u001b[1;36m3\u001b[0m |     \u001b[1;36m0.5963\u001b[0m |      \u001b[1;36m0.9789\u001b[0m |   \u001b[1;36m0.0127\u001b[0m |          \u001b[1;36m0\u001b[0m |\n",
       "+----------+------------+-------------+----------+------------+\n",
       "|       \u001b[1;36m10\u001b[0m |     \u001b[1;36m0.7314\u001b[0m |      \u001b[1;36m0.9321\u001b[0m |   \u001b[1;36m0.3699\u001b[0m |          \u001b[1;36m0\u001b[0m |\n",
       "+----------+------------+-------------+----------+------------+\n",
       "|       \u001b[1;36m50\u001b[0m |     \u001b[1;36m0.9082\u001b[0m |      \u001b[1;36m0.9431\u001b[0m |   \u001b[1;36m0.8252\u001b[0m |          \u001b[1;36m0\u001b[0m |\n",
       "+----------+------------+-------------+----------+------------+\n",
       "|      \u001b[1;36m100\u001b[0m |     \u001b[1;36m0.9592\u001b[0m |      \u001b[1;36m0.9603\u001b[0m |   \u001b[1;36m0.939\u001b[0m  |          \u001b[1;36m0\u001b[0m |\n",
       "+----------+------------+-------------+----------+------------+\n",
       "|      \u001b[1;36m200\u001b[0m |     \u001b[1;36m0.9777\u001b[0m |      \u001b[1;36m0.9739\u001b[0m |   \u001b[1;36m0.9715\u001b[0m |          \u001b[1;36m0\u001b[0m |\n",
       "+----------+------------+-------------+----------+------------+\n"
      ]
     },
     "metadata": {},
     "output_type": "display_data"
    },
    {
     "data": {
      "text/html": [
       "<pre style=\"white-space:pre;overflow-x:auto;line-height:normal;font-family:Menlo,'DejaVu Sans Mono',consolas,'Courier New',monospace\">\n",
       "✅ Best XGBoost model: <span style=\"color: #008080; text-decoration-color: #008080; font-weight: bold\">200</span> epochs with accuracy <span style=\"color: #008080; text-decoration-color: #008080; font-weight: bold\">0.9777</span>\n",
       "</pre>\n"
      ],
      "text/plain": [
       "\n",
       "✅ Best XGBoost model: \u001b[1;36m200\u001b[0m epochs with accuracy \u001b[1;36m0.9777\u001b[0m\n"
      ]
     },
     "metadata": {},
     "output_type": "display_data"
    }
   ],
   "source": [
    "# Train XGBoost with different epochs\n",
    "xgb_model, xgb_results = train_xgboost_with_epochs(\n",
    "    X_train, y_train, X_test, y_test, \n",
    "    epochs_list=[3, 10, 50, 100, 200]\n",
    ")"
   ]
  },
  {
   "cell_type": "code",
   "execution_count": 129,
   "id": "b1853133",
   "metadata": {},
   "outputs": [],
   "source": [
    "# Store metrics\n",
    "model_metrics[\"XGBoost\"] = xgb_results\n",
    "model_training_time[\"XGBoost\"] = time.time() - start_time"
   ]
  },
  {
   "cell_type": "code",
   "execution_count": 130,
   "id": "e22a1faa",
   "metadata": {},
   "outputs": [
    {
     "data": {
      "text/plain": [
       "35"
      ]
     },
     "execution_count": 130,
     "metadata": {},
     "output_type": "execute_result"
    }
   ],
   "source": [
    "\n",
    "# Memory cleanup\n",
    "gc.collect()"
   ]
  },
  {
   "cell_type": "code",
   "execution_count": 131,
   "id": "804f8e80",
   "metadata": {},
   "outputs": [
    {
     "data": {
      "text/html": [
       "<pre style=\"white-space:pre;overflow-x:auto;line-height:normal;font-family:Menlo,'DejaVu Sans Mono',consolas,'Courier New',monospace\">\n",
       "=== Training KMeans Model ===\n",
       "</pre>\n"
      ],
      "text/plain": [
       "\n",
       "=== Training KMeans Model ===\n"
      ]
     },
     "metadata": {},
     "output_type": "display_data"
    }
   ],
   "source": [
    "# ===== MODEL 2: KMEANS CLUSTERING =====\n",
    "print(\"\\n=== Training KMeans Model ===\")\n",
    "start_time = time.time()"
   ]
  },
  {
   "cell_type": "code",
   "execution_count": 132,
   "id": "1ebf359e",
   "metadata": {},
   "outputs": [],
   "source": [
    "\n",
    "def train_kmeans_with_different_clusters(X_train, y_train, X_test, y_test, clusters_list=[3, 5, 8, 10]):\n",
    "    results = {}\n",
    "    sample_size = min(10000, len(X_train))\n",
    "    X_train_sample = X_train.iloc[:sample_size].copy()\n",
    "    y_train_sample = y_train[:sample_size].copy()\n",
    "\n",
    "    print(\"\\nTraining and Evaluating KMeans Models...\\n\")\n",
    "    for n_clusters in clusters_list:\n",
    "        kmeans = KMeans(n_clusters=n_clusters, random_state=42, n_init=10)\n",
    "        kmeans.fit(X_train_sample)\n",
    "        \n",
    "        # Assign cluster to each point\n",
    "        train_clusters = kmeans.predict(X_train_sample)\n",
    "        \n",
    "        # For each cluster, determine the majority class\n",
    "        cluster_to_label = {}\n",
    "        for cluster in range(n_clusters):\n",
    "            cluster_points = (train_clusters == cluster)\n",
    "            if sum(cluster_points) > 0:\n",
    "                labels = y_train_sample[cluster_points]\n",
    "                majority_label = 1 if sum(labels) > len(labels)/2 else 0\n",
    "                cluster_to_label[cluster] = majority_label\n",
    "        \n",
    "        # Predict using cluster assignments\n",
    "        test_clusters = kmeans.predict(X_test)\n",
    "        y_pred = np.array([cluster_to_label.get(cluster, 0) for cluster in test_clusters])\n",
    "        \n",
    "        # Evaluate\n",
    "        metrics = print_metrics(y_test, y_pred, f\"KMeans ({n_clusters} clusters)\")\n",
    "        results[n_clusters] = metrics\n",
    "\n",
    "    # Tabulate the results\n",
    "    table = []\n",
    "    for n_clusters, metrics in results.items():\n",
    "        row = [n_clusters] + [round(metrics.get(m, 0), 4) for m in [\"accuracy\", \"precision\", \"recall\", \"f1_score\"]]\n",
    "        table.append(row)\n",
    "\n",
    "    headers = [\"Clusters\", \"Accuracy\", \"Precision\", \"Recall\", \"F1 Score\"]\n",
    "    print(tabulate(table, headers=headers, tablefmt=\"grid\"))\n",
    "\n",
    "    # Find best number of clusters\n",
    "    best_n_clusters = max(results.items(), key=lambda x: x[1][\"accuracy\"])[0]\n",
    "    print(f\"\\nBest KMeans model: {best_n_clusters} clusters with accuracy {results[best_n_clusters]['accuracy']:.4f}\")\n",
    "    \n",
    "    # Train final model with best clusters\n",
    "    best_model = KMeans(n_clusters=best_n_clusters, random_state=42, n_init=10)\n",
    "    best_model.fit(X_train_sample)\n",
    "    return best_model, results"
   ]
  },
  {
   "cell_type": "code",
   "execution_count": 133,
   "id": "ca54a774",
   "metadata": {},
   "outputs": [
    {
     "data": {
      "text/html": [
       "<pre style=\"white-space:pre;overflow-x:auto;line-height:normal;font-family:Menlo,'DejaVu Sans Mono',consolas,'Courier New',monospace\">\n",
       "Training and Evaluating KMeans Models<span style=\"color: #808000; text-decoration-color: #808000\">...</span>\n",
       "\n",
       "</pre>\n"
      ],
      "text/plain": [
       "\n",
       "Training and Evaluating KMeans Models\u001b[33m...\u001b[0m\n",
       "\n"
      ]
     },
     "metadata": {},
     "output_type": "display_data"
    },
    {
     "data": {
      "text/html": [
       "<pre style=\"white-space:pre;overflow-x:auto;line-height:normal;font-family:Menlo,'DejaVu Sans Mono',consolas,'Courier New',monospace\">KMeans <span style=\"font-weight: bold\">(</span><span style=\"color: #008080; text-decoration-color: #008080; font-weight: bold\">3</span> clusters<span style=\"font-weight: bold\">)</span> - Accuracy: <span style=\"color: #008080; text-decoration-color: #008080; font-weight: bold\">0.5912</span>, Precision: <span style=\"color: #008080; text-decoration-color: #008080; font-weight: bold\">0.0000</span>, Recall: <span style=\"color: #008080; text-decoration-color: #008080; font-weight: bold\">0.0000</span>, F1: <span style=\"color: #008080; text-decoration-color: #008080; font-weight: bold\">0.0000</span>\n",
       "</pre>\n"
      ],
      "text/plain": [
       "KMeans \u001b[1m(\u001b[0m\u001b[1;36m3\u001b[0m clusters\u001b[1m)\u001b[0m - Accuracy: \u001b[1;36m0.5912\u001b[0m, Precision: \u001b[1;36m0.0000\u001b[0m, Recall: \u001b[1;36m0.0000\u001b[0m, F1: \u001b[1;36m0.0000\u001b[0m\n"
      ]
     },
     "metadata": {},
     "output_type": "display_data"
    },
    {
     "data": {
      "text/html": [
       "<pre style=\"white-space:pre;overflow-x:auto;line-height:normal;font-family:Menlo,'DejaVu Sans Mono',consolas,'Courier New',monospace\">KMeans <span style=\"font-weight: bold\">(</span><span style=\"color: #008080; text-decoration-color: #008080; font-weight: bold\">5</span> clusters<span style=\"font-weight: bold\">)</span> - Accuracy: <span style=\"color: #008080; text-decoration-color: #008080; font-weight: bold\">0.5912</span>, Precision: <span style=\"color: #008080; text-decoration-color: #008080; font-weight: bold\">0.0000</span>, Recall: <span style=\"color: #008080; text-decoration-color: #008080; font-weight: bold\">0.0000</span>, F1: <span style=\"color: #008080; text-decoration-color: #008080; font-weight: bold\">0.0000</span>\n",
       "</pre>\n"
      ],
      "text/plain": [
       "KMeans \u001b[1m(\u001b[0m\u001b[1;36m5\u001b[0m clusters\u001b[1m)\u001b[0m - Accuracy: \u001b[1;36m0.5912\u001b[0m, Precision: \u001b[1;36m0.0000\u001b[0m, Recall: \u001b[1;36m0.0000\u001b[0m, F1: \u001b[1;36m0.0000\u001b[0m\n"
      ]
     },
     "metadata": {},
     "output_type": "display_data"
    },
    {
     "data": {
      "text/html": [
       "<pre style=\"white-space:pre;overflow-x:auto;line-height:normal;font-family:Menlo,'DejaVu Sans Mono',consolas,'Courier New',monospace\">KMeans <span style=\"font-weight: bold\">(</span><span style=\"color: #008080; text-decoration-color: #008080; font-weight: bold\">8</span> clusters<span style=\"font-weight: bold\">)</span> - Accuracy: <span style=\"color: #008080; text-decoration-color: #008080; font-weight: bold\">0.5912</span>, Precision: <span style=\"color: #008080; text-decoration-color: #008080; font-weight: bold\">0.0000</span>, Recall: <span style=\"color: #008080; text-decoration-color: #008080; font-weight: bold\">0.0000</span>, F1: <span style=\"color: #008080; text-decoration-color: #008080; font-weight: bold\">0.0000</span>\n",
       "</pre>\n"
      ],
      "text/plain": [
       "KMeans \u001b[1m(\u001b[0m\u001b[1;36m8\u001b[0m clusters\u001b[1m)\u001b[0m - Accuracy: \u001b[1;36m0.5912\u001b[0m, Precision: \u001b[1;36m0.0000\u001b[0m, Recall: \u001b[1;36m0.0000\u001b[0m, F1: \u001b[1;36m0.0000\u001b[0m\n"
      ]
     },
     "metadata": {},
     "output_type": "display_data"
    },
    {
     "data": {
      "text/html": [
       "<pre style=\"white-space:pre;overflow-x:auto;line-height:normal;font-family:Menlo,'DejaVu Sans Mono',consolas,'Courier New',monospace\">KMeans <span style=\"font-weight: bold\">(</span><span style=\"color: #008080; text-decoration-color: #008080; font-weight: bold\">10</span> clusters<span style=\"font-weight: bold\">)</span> - Accuracy: <span style=\"color: #008080; text-decoration-color: #008080; font-weight: bold\">0.5912</span>, Precision: <span style=\"color: #008080; text-decoration-color: #008080; font-weight: bold\">0.0000</span>, Recall: <span style=\"color: #008080; text-decoration-color: #008080; font-weight: bold\">0.0000</span>, F1: <span style=\"color: #008080; text-decoration-color: #008080; font-weight: bold\">0.0000</span>\n",
       "</pre>\n"
      ],
      "text/plain": [
       "KMeans \u001b[1m(\u001b[0m\u001b[1;36m10\u001b[0m clusters\u001b[1m)\u001b[0m - Accuracy: \u001b[1;36m0.5912\u001b[0m, Precision: \u001b[1;36m0.0000\u001b[0m, Recall: \u001b[1;36m0.0000\u001b[0m, F1: \u001b[1;36m0.0000\u001b[0m\n"
      ]
     },
     "metadata": {},
     "output_type": "display_data"
    },
    {
     "data": {
      "text/html": [
       "<pre style=\"white-space:pre;overflow-x:auto;line-height:normal;font-family:Menlo,'DejaVu Sans Mono',consolas,'Courier New',monospace\">KMeans <span style=\"font-weight: bold\">(</span><span style=\"color: #008080; text-decoration-color: #008080; font-weight: bold\">15</span> clusters<span style=\"font-weight: bold\">)</span> - Accuracy: <span style=\"color: #008080; text-decoration-color: #008080; font-weight: bold\">0.5912</span>, Precision: <span style=\"color: #008080; text-decoration-color: #008080; font-weight: bold\">0.0000</span>, Recall: <span style=\"color: #008080; text-decoration-color: #008080; font-weight: bold\">0.0000</span>, F1: <span style=\"color: #008080; text-decoration-color: #008080; font-weight: bold\">0.0000</span>\n",
       "</pre>\n"
      ],
      "text/plain": [
       "KMeans \u001b[1m(\u001b[0m\u001b[1;36m15\u001b[0m clusters\u001b[1m)\u001b[0m - Accuracy: \u001b[1;36m0.5912\u001b[0m, Precision: \u001b[1;36m0.0000\u001b[0m, Recall: \u001b[1;36m0.0000\u001b[0m, F1: \u001b[1;36m0.0000\u001b[0m\n"
      ]
     },
     "metadata": {},
     "output_type": "display_data"
    },
    {
     "data": {
      "text/html": [
       "<pre style=\"white-space:pre;overflow-x:auto;line-height:normal;font-family:Menlo,'DejaVu Sans Mono',consolas,'Courier New',monospace\">+------------+------------+-------------+----------+------------+\n",
       "|   Clusters |   Accuracy |   Precision |   Recall |   F1 Score |\n",
       "+============+============+=============+==========+============+\n",
       "|          <span style=\"color: #008080; text-decoration-color: #008080; font-weight: bold\">3</span> |     <span style=\"color: #008080; text-decoration-color: #008080; font-weight: bold\">0.5912</span> |           <span style=\"color: #008080; text-decoration-color: #008080; font-weight: bold\">0</span> |        <span style=\"color: #008080; text-decoration-color: #008080; font-weight: bold\">0</span> |          <span style=\"color: #008080; text-decoration-color: #008080; font-weight: bold\">0</span> |\n",
       "+------------+------------+-------------+----------+------------+\n",
       "|          <span style=\"color: #008080; text-decoration-color: #008080; font-weight: bold\">5</span> |     <span style=\"color: #008080; text-decoration-color: #008080; font-weight: bold\">0.5912</span> |           <span style=\"color: #008080; text-decoration-color: #008080; font-weight: bold\">0</span> |        <span style=\"color: #008080; text-decoration-color: #008080; font-weight: bold\">0</span> |          <span style=\"color: #008080; text-decoration-color: #008080; font-weight: bold\">0</span> |\n",
       "+------------+------------+-------------+----------+------------+\n",
       "|          <span style=\"color: #008080; text-decoration-color: #008080; font-weight: bold\">8</span> |     <span style=\"color: #008080; text-decoration-color: #008080; font-weight: bold\">0.5912</span> |           <span style=\"color: #008080; text-decoration-color: #008080; font-weight: bold\">0</span> |        <span style=\"color: #008080; text-decoration-color: #008080; font-weight: bold\">0</span> |          <span style=\"color: #008080; text-decoration-color: #008080; font-weight: bold\">0</span> |\n",
       "+------------+------------+-------------+----------+------------+\n",
       "|         <span style=\"color: #008080; text-decoration-color: #008080; font-weight: bold\">10</span> |     <span style=\"color: #008080; text-decoration-color: #008080; font-weight: bold\">0.5912</span> |           <span style=\"color: #008080; text-decoration-color: #008080; font-weight: bold\">0</span> |        <span style=\"color: #008080; text-decoration-color: #008080; font-weight: bold\">0</span> |          <span style=\"color: #008080; text-decoration-color: #008080; font-weight: bold\">0</span> |\n",
       "+------------+------------+-------------+----------+------------+\n",
       "|         <span style=\"color: #008080; text-decoration-color: #008080; font-weight: bold\">15</span> |     <span style=\"color: #008080; text-decoration-color: #008080; font-weight: bold\">0.5912</span> |           <span style=\"color: #008080; text-decoration-color: #008080; font-weight: bold\">0</span> |        <span style=\"color: #008080; text-decoration-color: #008080; font-weight: bold\">0</span> |          <span style=\"color: #008080; text-decoration-color: #008080; font-weight: bold\">0</span> |\n",
       "+------------+------------+-------------+----------+------------+\n",
       "</pre>\n"
      ],
      "text/plain": [
       "+------------+------------+-------------+----------+------------+\n",
       "|   Clusters |   Accuracy |   Precision |   Recall |   F1 Score |\n",
       "+============+============+=============+==========+============+\n",
       "|          \u001b[1;36m3\u001b[0m |     \u001b[1;36m0.5912\u001b[0m |           \u001b[1;36m0\u001b[0m |        \u001b[1;36m0\u001b[0m |          \u001b[1;36m0\u001b[0m |\n",
       "+------------+------------+-------------+----------+------------+\n",
       "|          \u001b[1;36m5\u001b[0m |     \u001b[1;36m0.5912\u001b[0m |           \u001b[1;36m0\u001b[0m |        \u001b[1;36m0\u001b[0m |          \u001b[1;36m0\u001b[0m |\n",
       "+------------+------------+-------------+----------+------------+\n",
       "|          \u001b[1;36m8\u001b[0m |     \u001b[1;36m0.5912\u001b[0m |           \u001b[1;36m0\u001b[0m |        \u001b[1;36m0\u001b[0m |          \u001b[1;36m0\u001b[0m |\n",
       "+------------+------------+-------------+----------+------------+\n",
       "|         \u001b[1;36m10\u001b[0m |     \u001b[1;36m0.5912\u001b[0m |           \u001b[1;36m0\u001b[0m |        \u001b[1;36m0\u001b[0m |          \u001b[1;36m0\u001b[0m |\n",
       "+------------+------------+-------------+----------+------------+\n",
       "|         \u001b[1;36m15\u001b[0m |     \u001b[1;36m0.5912\u001b[0m |           \u001b[1;36m0\u001b[0m |        \u001b[1;36m0\u001b[0m |          \u001b[1;36m0\u001b[0m |\n",
       "+------------+------------+-------------+----------+------------+\n"
      ]
     },
     "metadata": {},
     "output_type": "display_data"
    },
    {
     "data": {
      "text/html": [
       "<pre style=\"white-space:pre;overflow-x:auto;line-height:normal;font-family:Menlo,'DejaVu Sans Mono',consolas,'Courier New',monospace\">\n",
       "Best KMeans model: <span style=\"color: #008080; text-decoration-color: #008080; font-weight: bold\">3</span> clusters with accuracy <span style=\"color: #008080; text-decoration-color: #008080; font-weight: bold\">0.5912</span>\n",
       "</pre>\n"
      ],
      "text/plain": [
       "\n",
       "Best KMeans model: \u001b[1;36m3\u001b[0m clusters with accuracy \u001b[1;36m0.5912\u001b[0m\n"
      ]
     },
     "metadata": {},
     "output_type": "display_data"
    }
   ],
   "source": [
    "# Train KMeans with different numbers of clusters\n",
    "kmeans_model, kmeans_results = train_kmeans_with_different_clusters(\n",
    "    X_train, y_train, X_test, y_test,\n",
    "    clusters_list=[3, 5, 8, 10, 15]\n",
    ")"
   ]
  },
  {
   "cell_type": "code",
   "execution_count": 134,
   "id": "2832f3ae",
   "metadata": {},
   "outputs": [],
   "source": [
    "# Store metrics\n",
    "model_metrics[\"KMeans\"] = kmeans_results\n",
    "model_training_time[\"KMeans\"] = time.time() - start_time"
   ]
  },
  {
   "cell_type": "code",
   "execution_count": 135,
   "id": "8a9eb4e9",
   "metadata": {},
   "outputs": [
    {
     "data": {
      "text/plain": [
       "0"
      ]
     },
     "execution_count": 135,
     "metadata": {},
     "output_type": "execute_result"
    }
   ],
   "source": [
    "# Memory cleanup\n",
    "gc.collect()"
   ]
  },
  {
   "cell_type": "code",
   "execution_count": 136,
   "id": "45097a81",
   "metadata": {},
   "outputs": [
    {
     "data": {
      "text/html": [
       "<pre style=\"white-space:pre;overflow-x:auto;line-height:normal;font-family:Menlo,'DejaVu Sans Mono',consolas,'Courier New',monospace\">\n",
       "=== Training KNN Model ===\n",
       "</pre>\n"
      ],
      "text/plain": [
       "\n",
       "=== Training KNN Model ===\n"
      ]
     },
     "metadata": {},
     "output_type": "display_data"
    }
   ],
   "source": [
    "# ===== MODEL 3: KNN WITH DIFFERENT K VALUES =====\n",
    "print(\"\\n=== Training KNN Model ===\")\n",
    "start_time = time.time()"
   ]
  },
  {
   "cell_type": "code",
   "execution_count": 137,
   "id": "f906c543",
   "metadata": {},
   "outputs": [],
   "source": [
    "\n",
    "# Function to train KNN with different K values and display results using tabulate\n",
    "def train_knn_with_different_k(X_train, y_train, X_test, y_test, k_values=[1, 3, 5, 7, 10]):\n",
    "    results = {}\n",
    "    best_accuracy = 0\n",
    "    best_model = None\n",
    "    best_k = 0\n",
    "\n",
    "    # Use a smaller sample for memory efficiency\n",
    "    sample_size = min(10000, len(X_train))\n",
    "    X_train_sample = X_train.iloc[:sample_size].copy()\n",
    "    y_train_sample = y_train[:sample_size].copy()\n",
    "\n",
    "    print(\"\\nTraining and Evaluating KNN Models...\\n\")\n",
    "    for k in k_values:\n",
    "        model = KNeighborsClassifier(n_neighbors=k)\n",
    "        model.fit(X_train_sample, y_train_sample)\n",
    "\n",
    "        # Evaluate on test data\n",
    "        y_pred = model.predict(X_test)\n",
    "        metrics = print_metrics(y_test, y_pred, f\"KNN (k={k})\")\n",
    "        results[k] = metrics\n",
    "\n",
    "        # Track best model\n",
    "        if metrics[\"accuracy\"] > best_accuracy:\n",
    "            best_accuracy = metrics[\"accuracy\"]\n",
    "            best_model = model\n",
    "            best_k = k\n",
    "\n",
    "    # Tabulate the results\n",
    "    table = []\n",
    "    for k, metrics in results.items():\n",
    "        row = [k] + [round(metrics.get(m, 0), 4) for m in [\"accuracy\", \"precision\", \"recall\", \"f1_score\"]]\n",
    "        table.append(row)\n",
    "\n",
    "    headers = [\"k\", \"Accuracy\", \"Precision\", \"Recall\", \"F1 Score\"]\n",
    "    print(tabulate(table, headers=headers, tablefmt=\"grid\"))\n",
    "\n",
    "    print(f\"\\nBest KNN model: k={best_k} with accuracy {best_accuracy:.4f}\")\n",
    "    return best_model, results\n"
   ]
  },
  {
   "cell_type": "code",
   "execution_count": 138,
   "id": "f0cf6985",
   "metadata": {},
   "outputs": [
    {
     "data": {
      "text/html": [
       "<pre style=\"white-space:pre;overflow-x:auto;line-height:normal;font-family:Menlo,'DejaVu Sans Mono',consolas,'Courier New',monospace\">\n",
       "Training and Evaluating KNN Models<span style=\"color: #808000; text-decoration-color: #808000\">...</span>\n",
       "\n",
       "</pre>\n"
      ],
      "text/plain": [
       "\n",
       "Training and Evaluating KNN Models\u001b[33m...\u001b[0m\n",
       "\n"
      ]
     },
     "metadata": {},
     "output_type": "display_data"
    },
    {
     "data": {
      "text/html": [
       "<pre style=\"white-space:pre;overflow-x:auto;line-height:normal;font-family:Menlo,'DejaVu Sans Mono',consolas,'Courier New',monospace\">KNN <span style=\"font-weight: bold\">(</span><span style=\"color: #808000; text-decoration-color: #808000\">k</span>=<span style=\"color: #008080; text-decoration-color: #008080; font-weight: bold\">1</span><span style=\"font-weight: bold\">)</span> - Accuracy: <span style=\"color: #008080; text-decoration-color: #008080; font-weight: bold\">0.5609</span>, Precision: <span style=\"color: #008080; text-decoration-color: #008080; font-weight: bold\">0.4635</span>, Recall: <span style=\"color: #008080; text-decoration-color: #008080; font-weight: bold\">0.4703</span>, F1: <span style=\"color: #008080; text-decoration-color: #008080; font-weight: bold\">0.4669</span>\n",
       "</pre>\n"
      ],
      "text/plain": [
       "KNN \u001b[1m(\u001b[0m\u001b[33mk\u001b[0m=\u001b[1;36m1\u001b[0m\u001b[1m)\u001b[0m - Accuracy: \u001b[1;36m0.5609\u001b[0m, Precision: \u001b[1;36m0.4635\u001b[0m, Recall: \u001b[1;36m0.4703\u001b[0m, F1: \u001b[1;36m0.4669\u001b[0m\n"
      ]
     },
     "metadata": {},
     "output_type": "display_data"
    },
    {
     "data": {
      "text/html": [
       "<pre style=\"white-space:pre;overflow-x:auto;line-height:normal;font-family:Menlo,'DejaVu Sans Mono',consolas,'Courier New',monospace\">KNN <span style=\"font-weight: bold\">(</span><span style=\"color: #808000; text-decoration-color: #808000\">k</span>=<span style=\"color: #008080; text-decoration-color: #008080; font-weight: bold\">3</span><span style=\"font-weight: bold\">)</span> - Accuracy: <span style=\"color: #008080; text-decoration-color: #008080; font-weight: bold\">0.5514</span>, Precision: <span style=\"color: #008080; text-decoration-color: #008080; font-weight: bold\">0.4474</span>, Recall: <span style=\"color: #008080; text-decoration-color: #008080; font-weight: bold\">0.4146</span>, F1: <span style=\"color: #008080; text-decoration-color: #008080; font-weight: bold\">0.4304</span>\n",
       "</pre>\n"
      ],
      "text/plain": [
       "KNN \u001b[1m(\u001b[0m\u001b[33mk\u001b[0m=\u001b[1;36m3\u001b[0m\u001b[1m)\u001b[0m - Accuracy: \u001b[1;36m0.5514\u001b[0m, Precision: \u001b[1;36m0.4474\u001b[0m, Recall: \u001b[1;36m0.4146\u001b[0m, F1: \u001b[1;36m0.4304\u001b[0m\n"
      ]
     },
     "metadata": {},
     "output_type": "display_data"
    },
    {
     "data": {
      "text/html": [
       "<pre style=\"white-space:pre;overflow-x:auto;line-height:normal;font-family:Menlo,'DejaVu Sans Mono',consolas,'Courier New',monospace\">KNN <span style=\"font-weight: bold\">(</span><span style=\"color: #808000; text-decoration-color: #808000\">k</span>=<span style=\"color: #008080; text-decoration-color: #008080; font-weight: bold\">5</span><span style=\"font-weight: bold\">)</span> - Accuracy: <span style=\"color: #008080; text-decoration-color: #008080; font-weight: bold\">0.5597</span>, Precision: <span style=\"color: #008080; text-decoration-color: #008080; font-weight: bold\">0.4530</span>, Recall: <span style=\"color: #008080; text-decoration-color: #008080; font-weight: bold\">0.3720</span>, F1: <span style=\"color: #008080; text-decoration-color: #008080; font-weight: bold\">0.4085</span>\n",
       "</pre>\n"
      ],
      "text/plain": [
       "KNN \u001b[1m(\u001b[0m\u001b[33mk\u001b[0m=\u001b[1;36m5\u001b[0m\u001b[1m)\u001b[0m - Accuracy: \u001b[1;36m0.5597\u001b[0m, Precision: \u001b[1;36m0.4530\u001b[0m, Recall: \u001b[1;36m0.3720\u001b[0m, F1: \u001b[1;36m0.4085\u001b[0m\n"
      ]
     },
     "metadata": {},
     "output_type": "display_data"
    },
    {
     "data": {
      "text/html": [
       "<pre style=\"white-space:pre;overflow-x:auto;line-height:normal;font-family:Menlo,'DejaVu Sans Mono',consolas,'Courier New',monospace\">KNN <span style=\"font-weight: bold\">(</span><span style=\"color: #808000; text-decoration-color: #808000\">k</span>=<span style=\"color: #008080; text-decoration-color: #008080; font-weight: bold\">7</span><span style=\"font-weight: bold\">)</span> - Accuracy: <span style=\"color: #008080; text-decoration-color: #008080; font-weight: bold\">0.5622</span>, Precision: <span style=\"color: #008080; text-decoration-color: #008080; font-weight: bold\">0.4540</span>, Recall: <span style=\"color: #008080; text-decoration-color: #008080; font-weight: bold\">0.3506</span>, F1: <span style=\"color: #008080; text-decoration-color: #008080; font-weight: bold\">0.3957</span>\n",
       "</pre>\n"
      ],
      "text/plain": [
       "KNN \u001b[1m(\u001b[0m\u001b[33mk\u001b[0m=\u001b[1;36m7\u001b[0m\u001b[1m)\u001b[0m - Accuracy: \u001b[1;36m0.5622\u001b[0m, Precision: \u001b[1;36m0.4540\u001b[0m, Recall: \u001b[1;36m0.3506\u001b[0m, F1: \u001b[1;36m0.3957\u001b[0m\n"
      ]
     },
     "metadata": {},
     "output_type": "display_data"
    },
    {
     "data": {
      "text/html": [
       "<pre style=\"white-space:pre;overflow-x:auto;line-height:normal;font-family:Menlo,'DejaVu Sans Mono',consolas,'Courier New',monospace\">KNN <span style=\"font-weight: bold\">(</span><span style=\"color: #808000; text-decoration-color: #808000\">k</span>=<span style=\"color: #008080; text-decoration-color: #008080; font-weight: bold\">11</span><span style=\"font-weight: bold\">)</span> - Accuracy: <span style=\"color: #008080; text-decoration-color: #008080; font-weight: bold\">0.5619</span>, Precision: <span style=\"color: #008080; text-decoration-color: #008080; font-weight: bold\">0.4481</span>, Recall: <span style=\"color: #008080; text-decoration-color: #008080; font-weight: bold\">0.3092</span>, F1: <span style=\"color: #008080; text-decoration-color: #008080; font-weight: bold\">0.3659</span>\n",
       "</pre>\n"
      ],
      "text/plain": [
       "KNN \u001b[1m(\u001b[0m\u001b[33mk\u001b[0m=\u001b[1;36m11\u001b[0m\u001b[1m)\u001b[0m - Accuracy: \u001b[1;36m0.5619\u001b[0m, Precision: \u001b[1;36m0.4481\u001b[0m, Recall: \u001b[1;36m0.3092\u001b[0m, F1: \u001b[1;36m0.3659\u001b[0m\n"
      ]
     },
     "metadata": {},
     "output_type": "display_data"
    },
    {
     "data": {
      "text/html": [
       "<pre style=\"white-space:pre;overflow-x:auto;line-height:normal;font-family:Menlo,'DejaVu Sans Mono',consolas,'Courier New',monospace\">KNN <span style=\"font-weight: bold\">(</span><span style=\"color: #808000; text-decoration-color: #808000\">k</span>=<span style=\"color: #008080; text-decoration-color: #008080; font-weight: bold\">15</span><span style=\"font-weight: bold\">)</span> - Accuracy: <span style=\"color: #008080; text-decoration-color: #008080; font-weight: bold\">0.5653</span>, Precision: <span style=\"color: #008080; text-decoration-color: #008080; font-weight: bold\">0.4496</span>, Recall: <span style=\"color: #008080; text-decoration-color: #008080; font-weight: bold\">0.2826</span>, F1: <span style=\"color: #008080; text-decoration-color: #008080; font-weight: bold\">0.3471</span>\n",
       "</pre>\n"
      ],
      "text/plain": [
       "KNN \u001b[1m(\u001b[0m\u001b[33mk\u001b[0m=\u001b[1;36m15\u001b[0m\u001b[1m)\u001b[0m - Accuracy: \u001b[1;36m0.5653\u001b[0m, Precision: \u001b[1;36m0.4496\u001b[0m, Recall: \u001b[1;36m0.2826\u001b[0m, F1: \u001b[1;36m0.3471\u001b[0m\n"
      ]
     },
     "metadata": {},
     "output_type": "display_data"
    },
    {
     "data": {
      "text/html": [
       "<pre style=\"white-space:pre;overflow-x:auto;line-height:normal;font-family:Menlo,'DejaVu Sans Mono',consolas,'Courier New',monospace\">+-----+------------+-------------+----------+------------+\n",
       "|   k |   Accuracy |   Precision |   Recall |   F1 Score |\n",
       "+=====+============+=============+==========+============+\n",
       "|   <span style=\"color: #008080; text-decoration-color: #008080; font-weight: bold\">1</span> |     <span style=\"color: #008080; text-decoration-color: #008080; font-weight: bold\">0.5609</span> |      <span style=\"color: #008080; text-decoration-color: #008080; font-weight: bold\">0.4635</span> |   <span style=\"color: #008080; text-decoration-color: #008080; font-weight: bold\">0.4703</span> |          <span style=\"color: #008080; text-decoration-color: #008080; font-weight: bold\">0</span> |\n",
       "+-----+------------+-------------+----------+------------+\n",
       "|   <span style=\"color: #008080; text-decoration-color: #008080; font-weight: bold\">3</span> |     <span style=\"color: #008080; text-decoration-color: #008080; font-weight: bold\">0.5514</span> |      <span style=\"color: #008080; text-decoration-color: #008080; font-weight: bold\">0.4474</span> |   <span style=\"color: #008080; text-decoration-color: #008080; font-weight: bold\">0.4146</span> |          <span style=\"color: #008080; text-decoration-color: #008080; font-weight: bold\">0</span> |\n",
       "+-----+------------+-------------+----------+------------+\n",
       "|   <span style=\"color: #008080; text-decoration-color: #008080; font-weight: bold\">5</span> |     <span style=\"color: #008080; text-decoration-color: #008080; font-weight: bold\">0.5597</span> |      <span style=\"color: #008080; text-decoration-color: #008080; font-weight: bold\">0.453</span>  |   <span style=\"color: #008080; text-decoration-color: #008080; font-weight: bold\">0.372</span>  |          <span style=\"color: #008080; text-decoration-color: #008080; font-weight: bold\">0</span> |\n",
       "+-----+------------+-------------+----------+------------+\n",
       "|   <span style=\"color: #008080; text-decoration-color: #008080; font-weight: bold\">7</span> |     <span style=\"color: #008080; text-decoration-color: #008080; font-weight: bold\">0.5622</span> |      <span style=\"color: #008080; text-decoration-color: #008080; font-weight: bold\">0.454</span>  |   <span style=\"color: #008080; text-decoration-color: #008080; font-weight: bold\">0.3506</span> |          <span style=\"color: #008080; text-decoration-color: #008080; font-weight: bold\">0</span> |\n",
       "+-----+------------+-------------+----------+------------+\n",
       "|  <span style=\"color: #008080; text-decoration-color: #008080; font-weight: bold\">11</span> |     <span style=\"color: #008080; text-decoration-color: #008080; font-weight: bold\">0.5619</span> |      <span style=\"color: #008080; text-decoration-color: #008080; font-weight: bold\">0.4481</span> |   <span style=\"color: #008080; text-decoration-color: #008080; font-weight: bold\">0.3092</span> |          <span style=\"color: #008080; text-decoration-color: #008080; font-weight: bold\">0</span> |\n",
       "+-----+------------+-------------+----------+------------+\n",
       "|  <span style=\"color: #008080; text-decoration-color: #008080; font-weight: bold\">15</span> |     <span style=\"color: #008080; text-decoration-color: #008080; font-weight: bold\">0.5653</span> |      <span style=\"color: #008080; text-decoration-color: #008080; font-weight: bold\">0.4496</span> |   <span style=\"color: #008080; text-decoration-color: #008080; font-weight: bold\">0.2826</span> |          <span style=\"color: #008080; text-decoration-color: #008080; font-weight: bold\">0</span> |\n",
       "+-----+------------+-------------+----------+------------+\n",
       "</pre>\n"
      ],
      "text/plain": [
       "+-----+------------+-------------+----------+------------+\n",
       "|   k |   Accuracy |   Precision |   Recall |   F1 Score |\n",
       "+=====+============+=============+==========+============+\n",
       "|   \u001b[1;36m1\u001b[0m |     \u001b[1;36m0.5609\u001b[0m |      \u001b[1;36m0.4635\u001b[0m |   \u001b[1;36m0.4703\u001b[0m |          \u001b[1;36m0\u001b[0m |\n",
       "+-----+------------+-------------+----------+------------+\n",
       "|   \u001b[1;36m3\u001b[0m |     \u001b[1;36m0.5514\u001b[0m |      \u001b[1;36m0.4474\u001b[0m |   \u001b[1;36m0.4146\u001b[0m |          \u001b[1;36m0\u001b[0m |\n",
       "+-----+------------+-------------+----------+------------+\n",
       "|   \u001b[1;36m5\u001b[0m |     \u001b[1;36m0.5597\u001b[0m |      \u001b[1;36m0.453\u001b[0m  |   \u001b[1;36m0.372\u001b[0m  |          \u001b[1;36m0\u001b[0m |\n",
       "+-----+------------+-------------+----------+------------+\n",
       "|   \u001b[1;36m7\u001b[0m |     \u001b[1;36m0.5622\u001b[0m |      \u001b[1;36m0.454\u001b[0m  |   \u001b[1;36m0.3506\u001b[0m |          \u001b[1;36m0\u001b[0m |\n",
       "+-----+------------+-------------+----------+------------+\n",
       "|  \u001b[1;36m11\u001b[0m |     \u001b[1;36m0.5619\u001b[0m |      \u001b[1;36m0.4481\u001b[0m |   \u001b[1;36m0.3092\u001b[0m |          \u001b[1;36m0\u001b[0m |\n",
       "+-----+------------+-------------+----------+------------+\n",
       "|  \u001b[1;36m15\u001b[0m |     \u001b[1;36m0.5653\u001b[0m |      \u001b[1;36m0.4496\u001b[0m |   \u001b[1;36m0.2826\u001b[0m |          \u001b[1;36m0\u001b[0m |\n",
       "+-----+------------+-------------+----------+------------+\n"
      ]
     },
     "metadata": {},
     "output_type": "display_data"
    },
    {
     "data": {
      "text/html": [
       "<pre style=\"white-space:pre;overflow-x:auto;line-height:normal;font-family:Menlo,'DejaVu Sans Mono',consolas,'Courier New',monospace\">\n",
       "Best KNN model: <span style=\"color: #808000; text-decoration-color: #808000\">k</span>=<span style=\"color: #008080; text-decoration-color: #008080; font-weight: bold\">15</span> with accuracy <span style=\"color: #008080; text-decoration-color: #008080; font-weight: bold\">0.5653</span>\n",
       "</pre>\n"
      ],
      "text/plain": [
       "\n",
       "Best KNN model: \u001b[33mk\u001b[0m=\u001b[1;36m15\u001b[0m with accuracy \u001b[1;36m0.5653\u001b[0m\n"
      ]
     },
     "metadata": {},
     "output_type": "display_data"
    }
   ],
   "source": [
    "# Train KNN with different K values\n",
    "knn_model, knn_results = train_knn_with_different_k(\n",
    "    X_train, y_train, X_test, y_test,\n",
    "    k_values=[1, 3, 5, 7, 11, 15]\n",
    ")"
   ]
  },
  {
   "cell_type": "code",
   "execution_count": 139,
   "id": "0937beae",
   "metadata": {},
   "outputs": [],
   "source": [
    "# Store metrics\n",
    "model_metrics[\"KNN\"] = knn_results\n",
    "model_training_time[\"KNN\"] = time.time() - start_time"
   ]
  },
  {
   "cell_type": "code",
   "execution_count": 140,
   "id": "e30a7e1b",
   "metadata": {},
   "outputs": [
    {
     "data": {
      "text/plain": [
       "0"
      ]
     },
     "execution_count": 140,
     "metadata": {},
     "output_type": "execute_result"
    }
   ],
   "source": [
    "# Memory cleanup\n",
    "gc.collect()"
   ]
  },
  {
   "cell_type": "code",
   "execution_count": 141,
   "id": "5d424d07",
   "metadata": {},
   "outputs": [
    {
     "data": {
      "text/html": [
       "<pre style=\"white-space:pre;overflow-x:auto;line-height:normal;font-family:Menlo,'DejaVu Sans Mono',consolas,'Courier New',monospace\">\n",
       "=== Training SVD Model ===\n",
       "</pre>\n"
      ],
      "text/plain": [
       "\n",
       "=== Training SVD Model ===\n"
      ]
     },
     "metadata": {},
     "output_type": "display_data"
    }
   ],
   "source": [
    "# ===== MODEL 4: SVD DIMENSIONALITY REDUCTION =====\n",
    "print(\"\\n=== Training SVD Model ===\")\n",
    "start_time = time.time()"
   ]
  },
  {
   "cell_type": "code",
   "execution_count": 142,
   "id": "a14ed402",
   "metadata": {},
   "outputs": [],
   "source": [
    "from sklearn.decomposition import TruncatedSVD\n",
    "from sklearn.linear_model import LogisticRegression\n",
    "from tabulate import tabulate\n",
    "import numpy as np\n",
    "\n",
    "def train_svd_with_different_components(X_train, y_train, X_test, y_test, n_components_list=None):\n",
    "    # Get the maximum number of components possible\n",
    "    max_components = min(X_train.shape[0], X_train.shape[1]) - 1\n",
    "    \n",
    "    if n_components_list is None:\n",
    "        if max_components <= 5:\n",
    "            n_components_list = [2, max_components]\n",
    "        elif max_components <= 10:\n",
    "            n_components_list = [2, 5, max_components]\n",
    "        elif max_components <= 20:\n",
    "            n_components_list = [2, 5, 10, max_components]\n",
    "        else:\n",
    "            n_components_list = [2, 5, 10, max(15, max_components // 4), max(20, max_components // 2)]\n",
    "    else:\n",
    "        n_components_list = [n for n in n_components_list if n < max_components]\n",
    "\n",
    "    print(f\"Testing SVD with components: {n_components_list} (max possible: {max_components})\")\n",
    "\n",
    "    results = {}\n",
    "    best_accuracy = 0\n",
    "    best_model = None\n",
    "    best_n_components = 0\n",
    "\n",
    "    for n_components in n_components_list:\n",
    "        print(f\"\\nTraining SVD with {n_components} components...\")\n",
    "        \n",
    "        # Dimensionality reduction\n",
    "        svd = TruncatedSVD(n_components=n_components, random_state=42)\n",
    "        X_train_svd = svd.fit_transform(X_train)\n",
    "        X_test_svd = svd.transform(X_test)\n",
    "\n",
    "        # Train classifier\n",
    "        clf = LogisticRegression(max_iter=1000, random_state=42)\n",
    "        clf.fit(X_train_svd, y_train)\n",
    "\n",
    "        # Evaluate\n",
    "        y_pred = clf.predict(X_test_svd)\n",
    "        metrics = print_metrics(y_test, y_pred, f\"SVD ({n_components} components) + LR\")\n",
    "        results[n_components] = metrics\n",
    "\n",
    "        # Track best\n",
    "        if metrics[\"accuracy\"] > best_accuracy:\n",
    "            best_accuracy = metrics[\"accuracy\"]\n",
    "            best_model = (svd, clf)\n",
    "            best_n_components = n_components\n",
    "\n",
    "    # Tabulate the results\n",
    "    table = []\n",
    "    for n_components, metrics in results.items():\n",
    "        row = [n_components] + [round(metrics.get(m, 0), 4) for m in [\"accuracy\", \"precision\", \"recall\", \"f1_score\"]]\n",
    "        table.append(row)\n",
    "\n",
    "    headers = [\"Components\", \"Accuracy\", \"Precision\", \"Recall\", \"F1 Score\"]\n",
    "    print(tabulate(table, headers=headers, tablefmt=\"grid\"))\n",
    "\n",
    "    print(f\"\\nBest SVD model: {best_n_components} components with accuracy {best_accuracy:.4f}\")\n",
    "    return best_model, results\n"
   ]
  },
  {
   "cell_type": "code",
   "execution_count": 143,
   "id": "e3f48da3",
   "metadata": {},
   "outputs": [
    {
     "data": {
      "text/html": [
       "<pre style=\"white-space:pre;overflow-x:auto;line-height:normal;font-family:Menlo,'DejaVu Sans Mono',consolas,'Courier New',monospace\">Testing SVD with components: <span style=\"font-weight: bold\">[</span><span style=\"color: #008080; text-decoration-color: #008080; font-weight: bold\">2</span>, <span style=\"color: #008080; text-decoration-color: #008080; font-weight: bold\">5</span>, <span style=\"color: #008080; text-decoration-color: #008080; font-weight: bold\">10</span>, <span style=\"color: #008080; text-decoration-color: #008080; font-weight: bold\">15</span>, <span style=\"color: #008080; text-decoration-color: #008080; font-weight: bold\">20</span>, <span style=\"color: #008080; text-decoration-color: #008080; font-weight: bold\">25</span><span style=\"font-weight: bold\">]</span> <span style=\"font-weight: bold\">(</span>max possible: <span style=\"color: #008080; text-decoration-color: #008080; font-weight: bold\">27</span><span style=\"font-weight: bold\">)</span>\n",
       "</pre>\n"
      ],
      "text/plain": [
       "Testing SVD with components: \u001b[1m[\u001b[0m\u001b[1;36m2\u001b[0m, \u001b[1;36m5\u001b[0m, \u001b[1;36m10\u001b[0m, \u001b[1;36m15\u001b[0m, \u001b[1;36m20\u001b[0m, \u001b[1;36m25\u001b[0m\u001b[1m]\u001b[0m \u001b[1m(\u001b[0mmax possible: \u001b[1;36m27\u001b[0m\u001b[1m)\u001b[0m\n"
      ]
     },
     "metadata": {},
     "output_type": "display_data"
    },
    {
     "data": {
      "text/html": [
       "<pre style=\"white-space:pre;overflow-x:auto;line-height:normal;font-family:Menlo,'DejaVu Sans Mono',consolas,'Courier New',monospace\">\n",
       "Training SVD with <span style=\"color: #008080; text-decoration-color: #008080; font-weight: bold\">2</span> components<span style=\"color: #808000; text-decoration-color: #808000\">...</span>\n",
       "</pre>\n"
      ],
      "text/plain": [
       "\n",
       "Training SVD with \u001b[1;36m2\u001b[0m components\u001b[33m...\u001b[0m\n"
      ]
     },
     "metadata": {},
     "output_type": "display_data"
    },
    {
     "data": {
      "text/html": [
       "<pre style=\"white-space:pre;overflow-x:auto;line-height:normal;font-family:Menlo,'DejaVu Sans Mono',consolas,'Courier New',monospace\">SVD <span style=\"font-weight: bold\">(</span><span style=\"color: #008080; text-decoration-color: #008080; font-weight: bold\">2</span> components<span style=\"font-weight: bold\">)</span> + LR - Accuracy: <span style=\"color: #008080; text-decoration-color: #008080; font-weight: bold\">0.5912</span>, Precision: <span style=\"color: #008080; text-decoration-color: #008080; font-weight: bold\">0.0000</span>, Recall: <span style=\"color: #008080; text-decoration-color: #008080; font-weight: bold\">0.0000</span>, F1: <span style=\"color: #008080; text-decoration-color: #008080; font-weight: bold\">0.0000</span>\n",
       "</pre>\n"
      ],
      "text/plain": [
       "SVD \u001b[1m(\u001b[0m\u001b[1;36m2\u001b[0m components\u001b[1m)\u001b[0m + LR - Accuracy: \u001b[1;36m0.5912\u001b[0m, Precision: \u001b[1;36m0.0000\u001b[0m, Recall: \u001b[1;36m0.0000\u001b[0m, F1: \u001b[1;36m0.0000\u001b[0m\n"
      ]
     },
     "metadata": {},
     "output_type": "display_data"
    },
    {
     "data": {
      "text/html": [
       "<pre style=\"white-space:pre;overflow-x:auto;line-height:normal;font-family:Menlo,'DejaVu Sans Mono',consolas,'Courier New',monospace\">\n",
       "Training SVD with <span style=\"color: #008080; text-decoration-color: #008080; font-weight: bold\">5</span> components<span style=\"color: #808000; text-decoration-color: #808000\">...</span>\n",
       "</pre>\n"
      ],
      "text/plain": [
       "\n",
       "Training SVD with \u001b[1;36m5\u001b[0m components\u001b[33m...\u001b[0m\n"
      ]
     },
     "metadata": {},
     "output_type": "display_data"
    },
    {
     "data": {
      "text/html": [
       "<pre style=\"white-space:pre;overflow-x:auto;line-height:normal;font-family:Menlo,'DejaVu Sans Mono',consolas,'Courier New',monospace\">SVD <span style=\"font-weight: bold\">(</span><span style=\"color: #008080; text-decoration-color: #008080; font-weight: bold\">5</span> components<span style=\"font-weight: bold\">)</span> + LR - Accuracy: <span style=\"color: #008080; text-decoration-color: #008080; font-weight: bold\">0.6256</span>, Precision: <span style=\"color: #008080; text-decoration-color: #008080; font-weight: bold\">0.6371</span>, Recall: <span style=\"color: #008080; text-decoration-color: #008080; font-weight: bold\">0.1955</span>, F1: <span style=\"color: #008080; text-decoration-color: #008080; font-weight: bold\">0.2992</span>\n",
       "</pre>\n"
      ],
      "text/plain": [
       "SVD \u001b[1m(\u001b[0m\u001b[1;36m5\u001b[0m components\u001b[1m)\u001b[0m + LR - Accuracy: \u001b[1;36m0.6256\u001b[0m, Precision: \u001b[1;36m0.6371\u001b[0m, Recall: \u001b[1;36m0.1955\u001b[0m, F1: \u001b[1;36m0.2992\u001b[0m\n"
      ]
     },
     "metadata": {},
     "output_type": "display_data"
    },
    {
     "data": {
      "text/html": [
       "<pre style=\"white-space:pre;overflow-x:auto;line-height:normal;font-family:Menlo,'DejaVu Sans Mono',consolas,'Courier New',monospace\">\n",
       "Training SVD with <span style=\"color: #008080; text-decoration-color: #008080; font-weight: bold\">10</span> components<span style=\"color: #808000; text-decoration-color: #808000\">...</span>\n",
       "</pre>\n"
      ],
      "text/plain": [
       "\n",
       "Training SVD with \u001b[1;36m10\u001b[0m components\u001b[33m...\u001b[0m\n"
      ]
     },
     "metadata": {},
     "output_type": "display_data"
    },
    {
     "data": {
      "text/html": [
       "<pre style=\"white-space:pre;overflow-x:auto;line-height:normal;font-family:Menlo,'DejaVu Sans Mono',consolas,'Courier New',monospace\">SVD <span style=\"font-weight: bold\">(</span><span style=\"color: #008080; text-decoration-color: #008080; font-weight: bold\">10</span> components<span style=\"font-weight: bold\">)</span> + LR - Accuracy: <span style=\"color: #008080; text-decoration-color: #008080; font-weight: bold\">0.9795</span>, Precision: <span style=\"color: #008080; text-decoration-color: #008080; font-weight: bold\">0.9735</span>, Recall: <span style=\"color: #008080; text-decoration-color: #008080; font-weight: bold\">0.9765</span>, F1: <span style=\"color: #008080; text-decoration-color: #008080; font-weight: bold\">0.9750</span>\n",
       "</pre>\n"
      ],
      "text/plain": [
       "SVD \u001b[1m(\u001b[0m\u001b[1;36m10\u001b[0m components\u001b[1m)\u001b[0m + LR - Accuracy: \u001b[1;36m0.9795\u001b[0m, Precision: \u001b[1;36m0.9735\u001b[0m, Recall: \u001b[1;36m0.9765\u001b[0m, F1: \u001b[1;36m0.9750\u001b[0m\n"
      ]
     },
     "metadata": {},
     "output_type": "display_data"
    },
    {
     "data": {
      "text/html": [
       "<pre style=\"white-space:pre;overflow-x:auto;line-height:normal;font-family:Menlo,'DejaVu Sans Mono',consolas,'Courier New',monospace\">\n",
       "Training SVD with <span style=\"color: #008080; text-decoration-color: #008080; font-weight: bold\">15</span> components<span style=\"color: #808000; text-decoration-color: #808000\">...</span>\n",
       "</pre>\n"
      ],
      "text/plain": [
       "\n",
       "Training SVD with \u001b[1;36m15\u001b[0m components\u001b[33m...\u001b[0m\n"
      ]
     },
     "metadata": {},
     "output_type": "display_data"
    },
    {
     "data": {
      "text/html": [
       "<pre style=\"white-space:pre;overflow-x:auto;line-height:normal;font-family:Menlo,'DejaVu Sans Mono',consolas,'Courier New',monospace\">SVD <span style=\"font-weight: bold\">(</span><span style=\"color: #008080; text-decoration-color: #008080; font-weight: bold\">15</span> components<span style=\"font-weight: bold\">)</span> + LR - Accuracy: <span style=\"color: #008080; text-decoration-color: #008080; font-weight: bold\">0.9729</span>, Precision: <span style=\"color: #008080; text-decoration-color: #008080; font-weight: bold\">0.9691</span>, Recall: <span style=\"color: #008080; text-decoration-color: #008080; font-weight: bold\">0.9644</span>, F1: <span style=\"color: #008080; text-decoration-color: #008080; font-weight: bold\">0.9667</span>\n",
       "</pre>\n"
      ],
      "text/plain": [
       "SVD \u001b[1m(\u001b[0m\u001b[1;36m15\u001b[0m components\u001b[1m)\u001b[0m + LR - Accuracy: \u001b[1;36m0.9729\u001b[0m, Precision: \u001b[1;36m0.9691\u001b[0m, Recall: \u001b[1;36m0.9644\u001b[0m, F1: \u001b[1;36m0.9667\u001b[0m\n"
      ]
     },
     "metadata": {},
     "output_type": "display_data"
    },
    {
     "data": {
      "text/html": [
       "<pre style=\"white-space:pre;overflow-x:auto;line-height:normal;font-family:Menlo,'DejaVu Sans Mono',consolas,'Courier New',monospace\">\n",
       "Training SVD with <span style=\"color: #008080; text-decoration-color: #008080; font-weight: bold\">20</span> components<span style=\"color: #808000; text-decoration-color: #808000\">...</span>\n",
       "</pre>\n"
      ],
      "text/plain": [
       "\n",
       "Training SVD with \u001b[1;36m20\u001b[0m components\u001b[33m...\u001b[0m\n"
      ]
     },
     "metadata": {},
     "output_type": "display_data"
    },
    {
     "data": {
      "text/html": [
       "<pre style=\"white-space:pre;overflow-x:auto;line-height:normal;font-family:Menlo,'DejaVu Sans Mono',consolas,'Courier New',monospace\">SVD <span style=\"font-weight: bold\">(</span><span style=\"color: #008080; text-decoration-color: #008080; font-weight: bold\">20</span> components<span style=\"font-weight: bold\">)</span> + LR - Accuracy: <span style=\"color: #008080; text-decoration-color: #008080; font-weight: bold\">0.9673</span>, Precision: <span style=\"color: #008080; text-decoration-color: #008080; font-weight: bold\">0.9551</span>, Recall: <span style=\"color: #008080; text-decoration-color: #008080; font-weight: bold\">0.9654</span>, F1: <span style=\"color: #008080; text-decoration-color: #008080; font-weight: bold\">0.9602</span>\n",
       "</pre>\n"
      ],
      "text/plain": [
       "SVD \u001b[1m(\u001b[0m\u001b[1;36m20\u001b[0m components\u001b[1m)\u001b[0m + LR - Accuracy: \u001b[1;36m0.9673\u001b[0m, Precision: \u001b[1;36m0.9551\u001b[0m, Recall: \u001b[1;36m0.9654\u001b[0m, F1: \u001b[1;36m0.9602\u001b[0m\n"
      ]
     },
     "metadata": {},
     "output_type": "display_data"
    },
    {
     "data": {
      "text/html": [
       "<pre style=\"white-space:pre;overflow-x:auto;line-height:normal;font-family:Menlo,'DejaVu Sans Mono',consolas,'Courier New',monospace\">\n",
       "Training SVD with <span style=\"color: #008080; text-decoration-color: #008080; font-weight: bold\">25</span> components<span style=\"color: #808000; text-decoration-color: #808000\">...</span>\n",
       "</pre>\n"
      ],
      "text/plain": [
       "\n",
       "Training SVD with \u001b[1;36m25\u001b[0m components\u001b[33m...\u001b[0m\n"
      ]
     },
     "metadata": {},
     "output_type": "display_data"
    },
    {
     "data": {
      "text/html": [
       "<pre style=\"white-space:pre;overflow-x:auto;line-height:normal;font-family:Menlo,'DejaVu Sans Mono',consolas,'Courier New',monospace\">SVD <span style=\"font-weight: bold\">(</span><span style=\"color: #008080; text-decoration-color: #008080; font-weight: bold\">25</span> components<span style=\"font-weight: bold\">)</span> + LR - Accuracy: <span style=\"color: #008080; text-decoration-color: #008080; font-weight: bold\">0.9810</span>, Precision: <span style=\"color: #008080; text-decoration-color: #008080; font-weight: bold\">0.9770</span>, Recall: <span style=\"color: #008080; text-decoration-color: #008080; font-weight: bold\">0.9765</span>, F1: <span style=\"color: #008080; text-decoration-color: #008080; font-weight: bold\">0.9767</span>\n",
       "</pre>\n"
      ],
      "text/plain": [
       "SVD \u001b[1m(\u001b[0m\u001b[1;36m25\u001b[0m components\u001b[1m)\u001b[0m + LR - Accuracy: \u001b[1;36m0.9810\u001b[0m, Precision: \u001b[1;36m0.9770\u001b[0m, Recall: \u001b[1;36m0.9765\u001b[0m, F1: \u001b[1;36m0.9767\u001b[0m\n"
      ]
     },
     "metadata": {},
     "output_type": "display_data"
    },
    {
     "data": {
      "text/html": [
       "<pre style=\"white-space:pre;overflow-x:auto;line-height:normal;font-family:Menlo,'DejaVu Sans Mono',consolas,'Courier New',monospace\">+--------------+------------+-------------+----------+------------+\n",
       "|   Components |   Accuracy |   Precision |   Recall |   F1 Score |\n",
       "+==============+============+=============+==========+============+\n",
       "|            <span style=\"color: #008080; text-decoration-color: #008080; font-weight: bold\">2</span> |     <span style=\"color: #008080; text-decoration-color: #008080; font-weight: bold\">0.5912</span> |      <span style=\"color: #008080; text-decoration-color: #008080; font-weight: bold\">0</span>      |   <span style=\"color: #008080; text-decoration-color: #008080; font-weight: bold\">0</span>      |          <span style=\"color: #008080; text-decoration-color: #008080; font-weight: bold\">0</span> |\n",
       "+--------------+------------+-------------+----------+------------+\n",
       "|            <span style=\"color: #008080; text-decoration-color: #008080; font-weight: bold\">5</span> |     <span style=\"color: #008080; text-decoration-color: #008080; font-weight: bold\">0.6256</span> |      <span style=\"color: #008080; text-decoration-color: #008080; font-weight: bold\">0.6371</span> |   <span style=\"color: #008080; text-decoration-color: #008080; font-weight: bold\">0.1955</span> |          <span style=\"color: #008080; text-decoration-color: #008080; font-weight: bold\">0</span> |\n",
       "+--------------+------------+-------------+----------+------------+\n",
       "|           <span style=\"color: #008080; text-decoration-color: #008080; font-weight: bold\">10</span> |     <span style=\"color: #008080; text-decoration-color: #008080; font-weight: bold\">0.9795</span> |      <span style=\"color: #008080; text-decoration-color: #008080; font-weight: bold\">0.9735</span> |   <span style=\"color: #008080; text-decoration-color: #008080; font-weight: bold\">0.9765</span> |          <span style=\"color: #008080; text-decoration-color: #008080; font-weight: bold\">0</span> |\n",
       "+--------------+------------+-------------+----------+------------+\n",
       "|           <span style=\"color: #008080; text-decoration-color: #008080; font-weight: bold\">15</span> |     <span style=\"color: #008080; text-decoration-color: #008080; font-weight: bold\">0.9729</span> |      <span style=\"color: #008080; text-decoration-color: #008080; font-weight: bold\">0.9691</span> |   <span style=\"color: #008080; text-decoration-color: #008080; font-weight: bold\">0.9644</span> |          <span style=\"color: #008080; text-decoration-color: #008080; font-weight: bold\">0</span> |\n",
       "+--------------+------------+-------------+----------+------------+\n",
       "|           <span style=\"color: #008080; text-decoration-color: #008080; font-weight: bold\">20</span> |     <span style=\"color: #008080; text-decoration-color: #008080; font-weight: bold\">0.9673</span> |      <span style=\"color: #008080; text-decoration-color: #008080; font-weight: bold\">0.9551</span> |   <span style=\"color: #008080; text-decoration-color: #008080; font-weight: bold\">0.9654</span> |          <span style=\"color: #008080; text-decoration-color: #008080; font-weight: bold\">0</span> |\n",
       "+--------------+------------+-------------+----------+------------+\n",
       "|           <span style=\"color: #008080; text-decoration-color: #008080; font-weight: bold\">25</span> |     <span style=\"color: #008080; text-decoration-color: #008080; font-weight: bold\">0.981</span>  |      <span style=\"color: #008080; text-decoration-color: #008080; font-weight: bold\">0.977</span>  |   <span style=\"color: #008080; text-decoration-color: #008080; font-weight: bold\">0.9765</span> |          <span style=\"color: #008080; text-decoration-color: #008080; font-weight: bold\">0</span> |\n",
       "+--------------+------------+-------------+----------+------------+\n",
       "</pre>\n"
      ],
      "text/plain": [
       "+--------------+------------+-------------+----------+------------+\n",
       "|   Components |   Accuracy |   Precision |   Recall |   F1 Score |\n",
       "+==============+============+=============+==========+============+\n",
       "|            \u001b[1;36m2\u001b[0m |     \u001b[1;36m0.5912\u001b[0m |      \u001b[1;36m0\u001b[0m      |   \u001b[1;36m0\u001b[0m      |          \u001b[1;36m0\u001b[0m |\n",
       "+--------------+------------+-------------+----------+------------+\n",
       "|            \u001b[1;36m5\u001b[0m |     \u001b[1;36m0.6256\u001b[0m |      \u001b[1;36m0.6371\u001b[0m |   \u001b[1;36m0.1955\u001b[0m |          \u001b[1;36m0\u001b[0m |\n",
       "+--------------+------------+-------------+----------+------------+\n",
       "|           \u001b[1;36m10\u001b[0m |     \u001b[1;36m0.9795\u001b[0m |      \u001b[1;36m0.9735\u001b[0m |   \u001b[1;36m0.9765\u001b[0m |          \u001b[1;36m0\u001b[0m |\n",
       "+--------------+------------+-------------+----------+------------+\n",
       "|           \u001b[1;36m15\u001b[0m |     \u001b[1;36m0.9729\u001b[0m |      \u001b[1;36m0.9691\u001b[0m |   \u001b[1;36m0.9644\u001b[0m |          \u001b[1;36m0\u001b[0m |\n",
       "+--------------+------------+-------------+----------+------------+\n",
       "|           \u001b[1;36m20\u001b[0m |     \u001b[1;36m0.9673\u001b[0m |      \u001b[1;36m0.9551\u001b[0m |   \u001b[1;36m0.9654\u001b[0m |          \u001b[1;36m0\u001b[0m |\n",
       "+--------------+------------+-------------+----------+------------+\n",
       "|           \u001b[1;36m25\u001b[0m |     \u001b[1;36m0.981\u001b[0m  |      \u001b[1;36m0.977\u001b[0m  |   \u001b[1;36m0.9765\u001b[0m |          \u001b[1;36m0\u001b[0m |\n",
       "+--------------+------------+-------------+----------+------------+\n"
      ]
     },
     "metadata": {},
     "output_type": "display_data"
    },
    {
     "data": {
      "text/html": [
       "<pre style=\"white-space:pre;overflow-x:auto;line-height:normal;font-family:Menlo,'DejaVu Sans Mono',consolas,'Courier New',monospace\">\n",
       "Best SVD model: <span style=\"color: #008080; text-decoration-color: #008080; font-weight: bold\">25</span> components with accuracy <span style=\"color: #008080; text-decoration-color: #008080; font-weight: bold\">0.9810</span>\n",
       "</pre>\n"
      ],
      "text/plain": [
       "\n",
       "Best SVD model: \u001b[1;36m25\u001b[0m components with accuracy \u001b[1;36m0.9810\u001b[0m\n"
      ]
     },
     "metadata": {},
     "output_type": "display_data"
    }
   ],
   "source": [
    "# Train SVD with different components\n",
    "svd_models, svd_results = train_svd_with_different_components(\n",
    "    X_train, y_train, X_test, y_test,\n",
    "    n_components_list=[2, 5, 10, 15, 20, 25]  # Reduced max components to 25\n",
    ")\n"
   ]
  },
  {
   "cell_type": "code",
   "execution_count": 144,
   "id": "4df2eecf",
   "metadata": {},
   "outputs": [],
   "source": [
    "# Store metrics\n",
    "model_metrics[\"SVD\"] = svd_results\n",
    "model_training_time[\"SVD\"] = time.time() - start_time"
   ]
  },
  {
   "cell_type": "code",
   "execution_count": 145,
   "id": "93c7f7ff",
   "metadata": {},
   "outputs": [
    {
     "data": {
      "text/plain": [
       "0"
      ]
     },
     "execution_count": 145,
     "metadata": {},
     "output_type": "execute_result"
    }
   ],
   "source": [
    "# Memory cleanup\n",
    "gc.collect()"
   ]
  },
  {
   "cell_type": "code",
   "execution_count": 146,
   "id": "6ba0ac80",
   "metadata": {},
   "outputs": [
    {
     "data": {
      "text/html": [
       "<pre style=\"white-space:pre;overflow-x:auto;line-height:normal;font-family:Menlo,'DejaVu Sans Mono',consolas,'Courier New',monospace\">\n",
       "=== Training Logistic Regression Model ===\n",
       "</pre>\n"
      ],
      "text/plain": [
       "\n",
       "=== Training Logistic Regression Model ===\n"
      ]
     },
     "metadata": {},
     "output_type": "display_data"
    }
   ],
   "source": [
    "# ===== MODEL 5: LOGISTIC REGRESSION WITH DIFFERENT REGULARIZATION =====\n",
    "print(\"\\n=== Training Logistic Regression Model ===\")\n",
    "start_time = time.time()"
   ]
  },
  {
   "cell_type": "code",
   "execution_count": 147,
   "id": "6eb30add",
   "metadata": {},
   "outputs": [],
   "source": [
    "from sklearn.linear_model import LogisticRegression\n",
    "from tabulate import tabulate\n",
    "\n",
    "def train_logreg_with_different_params(X_train, y_train, X_test, y_test):\n",
    "    results = {}\n",
    "    best_accuracy = 0\n",
    "    best_model = None\n",
    "    best_params = None\n",
    "\n",
    "    param_grid = [\n",
    "        {'C': 0.01, 'solver': 'liblinear'},\n",
    "        {'C': 0.1, 'solver': 'liblinear'},\n",
    "        {'C': 1.0, 'solver': 'liblinear'},\n",
    "        {'C': 10.0, 'solver': 'liblinear'},\n",
    "        {'C': 100.0, 'solver': 'liblinear'}\n",
    "    ]\n",
    "\n",
    "    print(\"\\nTraining and Evaluating Logistic Regression Models...\\n\")\n",
    "    for params in param_grid:\n",
    "        c_val = params['C']\n",
    "        solver = params['solver']\n",
    "        model = LogisticRegression(C=c_val, solver=solver, max_iter=1000, random_state=42)\n",
    "        model.fit(X_train, y_train)\n",
    "\n",
    "        # Evaluate\n",
    "        y_pred = model.predict(X_test)\n",
    "        metrics = print_metrics(y_test, y_pred, f\"LogReg (C={c_val})\")\n",
    "        results[c_val] = metrics\n",
    "\n",
    "        # Track best model\n",
    "        if metrics[\"accuracy\"] > best_accuracy:\n",
    "            best_accuracy = metrics[\"accuracy\"]\n",
    "            best_model = model\n",
    "            best_params = params\n",
    "\n",
    "    # Tabulate the results\n",
    "    table = []\n",
    "    for c_val, metrics in results.items():\n",
    "        row = [c_val] + [round(metrics.get(m, 0), 4) for m in [\"accuracy\", \"precision\", \"recall\", \"f1_score\"]]\n",
    "        table.append(row)\n",
    "\n",
    "    headers = [\"C\", \"Accuracy\", \"Precision\", \"Recall\", \"F1 Score\"]\n",
    "    print(tabulate(table, headers=headers, tablefmt=\"grid\"))\n",
    "\n",
    "    print(f\"\\nBest Logistic Regression model: C={best_params['C']} with accuracy {best_accuracy:.4f}\")\n",
    "    return best_model, results\n"
   ]
  },
  {
   "cell_type": "code",
   "execution_count": 148,
   "id": "5d3e585a",
   "metadata": {},
   "outputs": [
    {
     "data": {
      "text/html": [
       "<pre style=\"white-space:pre;overflow-x:auto;line-height:normal;font-family:Menlo,'DejaVu Sans Mono',consolas,'Courier New',monospace\">\n",
       "Training and Evaluating Logistic Regression Models<span style=\"color: #808000; text-decoration-color: #808000\">...</span>\n",
       "\n",
       "</pre>\n"
      ],
      "text/plain": [
       "\n",
       "Training and Evaluating Logistic Regression Models\u001b[33m...\u001b[0m\n",
       "\n"
      ]
     },
     "metadata": {},
     "output_type": "display_data"
    },
    {
     "data": {
      "text/html": [
       "<pre style=\"white-space:pre;overflow-x:auto;line-height:normal;font-family:Menlo,'DejaVu Sans Mono',consolas,'Courier New',monospace\">LogReg <span style=\"font-weight: bold\">(</span><span style=\"color: #808000; text-decoration-color: #808000\">C</span>=<span style=\"color: #008080; text-decoration-color: #008080; font-weight: bold\">0.01</span><span style=\"font-weight: bold\">)</span> - Accuracy: <span style=\"color: #008080; text-decoration-color: #008080; font-weight: bold\">0.6479</span>, Precision: <span style=\"color: #008080; text-decoration-color: #008080; font-weight: bold\">0.6903</span>, Recall: <span style=\"color: #008080; text-decoration-color: #008080; font-weight: bold\">0.2516</span>, F1: <span style=\"color: #008080; text-decoration-color: #008080; font-weight: bold\">0.3688</span>\n",
       "</pre>\n"
      ],
      "text/plain": [
       "LogReg \u001b[1m(\u001b[0m\u001b[33mC\u001b[0m=\u001b[1;36m0\u001b[0m\u001b[1;36m.01\u001b[0m\u001b[1m)\u001b[0m - Accuracy: \u001b[1;36m0.6479\u001b[0m, Precision: \u001b[1;36m0.6903\u001b[0m, Recall: \u001b[1;36m0.2516\u001b[0m, F1: \u001b[1;36m0.3688\u001b[0m\n"
      ]
     },
     "metadata": {},
     "output_type": "display_data"
    },
    {
     "data": {
      "text/html": [
       "<pre style=\"white-space:pre;overflow-x:auto;line-height:normal;font-family:Menlo,'DejaVu Sans Mono',consolas,'Courier New',monospace\">LogReg <span style=\"font-weight: bold\">(</span><span style=\"color: #808000; text-decoration-color: #808000\">C</span>=<span style=\"color: #008080; text-decoration-color: #008080; font-weight: bold\">0.1</span><span style=\"font-weight: bold\">)</span> - Accuracy: <span style=\"color: #008080; text-decoration-color: #008080; font-weight: bold\">0.6479</span>, Precision: <span style=\"color: #008080; text-decoration-color: #008080; font-weight: bold\">0.6901</span>, Recall: <span style=\"color: #008080; text-decoration-color: #008080; font-weight: bold\">0.2516</span>, F1: <span style=\"color: #008080; text-decoration-color: #008080; font-weight: bold\">0.3687</span>\n",
       "</pre>\n"
      ],
      "text/plain": [
       "LogReg \u001b[1m(\u001b[0m\u001b[33mC\u001b[0m=\u001b[1;36m0\u001b[0m\u001b[1;36m.1\u001b[0m\u001b[1m)\u001b[0m - Accuracy: \u001b[1;36m0.6479\u001b[0m, Precision: \u001b[1;36m0.6901\u001b[0m, Recall: \u001b[1;36m0.2516\u001b[0m, F1: \u001b[1;36m0.3687\u001b[0m\n"
      ]
     },
     "metadata": {},
     "output_type": "display_data"
    },
    {
     "data": {
      "text/html": [
       "<pre style=\"white-space:pre;overflow-x:auto;line-height:normal;font-family:Menlo,'DejaVu Sans Mono',consolas,'Courier New',monospace\">LogReg <span style=\"font-weight: bold\">(</span><span style=\"color: #808000; text-decoration-color: #808000\">C</span>=<span style=\"color: #008080; text-decoration-color: #008080; font-weight: bold\">1.0</span><span style=\"font-weight: bold\">)</span> - Accuracy: <span style=\"color: #008080; text-decoration-color: #008080; font-weight: bold\">0.6479</span>, Precision: <span style=\"color: #008080; text-decoration-color: #008080; font-weight: bold\">0.6901</span>, Recall: <span style=\"color: #008080; text-decoration-color: #008080; font-weight: bold\">0.2516</span>, F1: <span style=\"color: #008080; text-decoration-color: #008080; font-weight: bold\">0.3687</span>\n",
       "</pre>\n"
      ],
      "text/plain": [
       "LogReg \u001b[1m(\u001b[0m\u001b[33mC\u001b[0m=\u001b[1;36m1\u001b[0m\u001b[1;36m.0\u001b[0m\u001b[1m)\u001b[0m - Accuracy: \u001b[1;36m0.6479\u001b[0m, Precision: \u001b[1;36m0.6901\u001b[0m, Recall: \u001b[1;36m0.2516\u001b[0m, F1: \u001b[1;36m0.3687\u001b[0m\n"
      ]
     },
     "metadata": {},
     "output_type": "display_data"
    },
    {
     "data": {
      "text/html": [
       "<pre style=\"white-space:pre;overflow-x:auto;line-height:normal;font-family:Menlo,'DejaVu Sans Mono',consolas,'Courier New',monospace\">LogReg <span style=\"font-weight: bold\">(</span><span style=\"color: #808000; text-decoration-color: #808000\">C</span>=<span style=\"color: #008080; text-decoration-color: #008080; font-weight: bold\">10.0</span><span style=\"font-weight: bold\">)</span> - Accuracy: <span style=\"color: #008080; text-decoration-color: #008080; font-weight: bold\">0.6479</span>, Precision: <span style=\"color: #008080; text-decoration-color: #008080; font-weight: bold\">0.6901</span>, Recall: <span style=\"color: #008080; text-decoration-color: #008080; font-weight: bold\">0.2516</span>, F1: <span style=\"color: #008080; text-decoration-color: #008080; font-weight: bold\">0.3687</span>\n",
       "</pre>\n"
      ],
      "text/plain": [
       "LogReg \u001b[1m(\u001b[0m\u001b[33mC\u001b[0m=\u001b[1;36m10\u001b[0m\u001b[1;36m.0\u001b[0m\u001b[1m)\u001b[0m - Accuracy: \u001b[1;36m0.6479\u001b[0m, Precision: \u001b[1;36m0.6901\u001b[0m, Recall: \u001b[1;36m0.2516\u001b[0m, F1: \u001b[1;36m0.3687\u001b[0m\n"
      ]
     },
     "metadata": {},
     "output_type": "display_data"
    },
    {
     "data": {
      "text/html": [
       "<pre style=\"white-space:pre;overflow-x:auto;line-height:normal;font-family:Menlo,'DejaVu Sans Mono',consolas,'Courier New',monospace\">LogReg <span style=\"font-weight: bold\">(</span><span style=\"color: #808000; text-decoration-color: #808000\">C</span>=<span style=\"color: #008080; text-decoration-color: #008080; font-weight: bold\">100.0</span><span style=\"font-weight: bold\">)</span> - Accuracy: <span style=\"color: #008080; text-decoration-color: #008080; font-weight: bold\">0.6479</span>, Precision: <span style=\"color: #008080; text-decoration-color: #008080; font-weight: bold\">0.6901</span>, Recall: <span style=\"color: #008080; text-decoration-color: #008080; font-weight: bold\">0.2516</span>, F1: <span style=\"color: #008080; text-decoration-color: #008080; font-weight: bold\">0.3687</span>\n",
       "</pre>\n"
      ],
      "text/plain": [
       "LogReg \u001b[1m(\u001b[0m\u001b[33mC\u001b[0m=\u001b[1;36m100\u001b[0m\u001b[1;36m.0\u001b[0m\u001b[1m)\u001b[0m - Accuracy: \u001b[1;36m0.6479\u001b[0m, Precision: \u001b[1;36m0.6901\u001b[0m, Recall: \u001b[1;36m0.2516\u001b[0m, F1: \u001b[1;36m0.3687\u001b[0m\n"
      ]
     },
     "metadata": {},
     "output_type": "display_data"
    },
    {
     "data": {
      "text/html": [
       "<pre style=\"white-space:pre;overflow-x:auto;line-height:normal;font-family:Menlo,'DejaVu Sans Mono',consolas,'Courier New',monospace\">+--------+------------+-------------+----------+------------+\n",
       "|      C |   Accuracy |   Precision |   Recall |   F1 Score |\n",
       "+========+============+=============+==========+============+\n",
       "|   <span style=\"color: #008080; text-decoration-color: #008080; font-weight: bold\">0.01</span> |     <span style=\"color: #008080; text-decoration-color: #008080; font-weight: bold\">0.6479</span> |      <span style=\"color: #008080; text-decoration-color: #008080; font-weight: bold\">0.6903</span> |   <span style=\"color: #008080; text-decoration-color: #008080; font-weight: bold\">0.2516</span> |          <span style=\"color: #008080; text-decoration-color: #008080; font-weight: bold\">0</span> |\n",
       "+--------+------------+-------------+----------+------------+\n",
       "|   <span style=\"color: #008080; text-decoration-color: #008080; font-weight: bold\">0.1</span>  |     <span style=\"color: #008080; text-decoration-color: #008080; font-weight: bold\">0.6479</span> |      <span style=\"color: #008080; text-decoration-color: #008080; font-weight: bold\">0.6901</span> |   <span style=\"color: #008080; text-decoration-color: #008080; font-weight: bold\">0.2516</span> |          <span style=\"color: #008080; text-decoration-color: #008080; font-weight: bold\">0</span> |\n",
       "+--------+------------+-------------+----------+------------+\n",
       "|   <span style=\"color: #008080; text-decoration-color: #008080; font-weight: bold\">1</span>    |     <span style=\"color: #008080; text-decoration-color: #008080; font-weight: bold\">0.6479</span> |      <span style=\"color: #008080; text-decoration-color: #008080; font-weight: bold\">0.6901</span> |   <span style=\"color: #008080; text-decoration-color: #008080; font-weight: bold\">0.2516</span> |          <span style=\"color: #008080; text-decoration-color: #008080; font-weight: bold\">0</span> |\n",
       "+--------+------------+-------------+----------+------------+\n",
       "|  <span style=\"color: #008080; text-decoration-color: #008080; font-weight: bold\">10</span>    |     <span style=\"color: #008080; text-decoration-color: #008080; font-weight: bold\">0.6479</span> |      <span style=\"color: #008080; text-decoration-color: #008080; font-weight: bold\">0.6901</span> |   <span style=\"color: #008080; text-decoration-color: #008080; font-weight: bold\">0.2516</span> |          <span style=\"color: #008080; text-decoration-color: #008080; font-weight: bold\">0</span> |\n",
       "+--------+------------+-------------+----------+------------+\n",
       "| <span style=\"color: #008080; text-decoration-color: #008080; font-weight: bold\">100</span>    |     <span style=\"color: #008080; text-decoration-color: #008080; font-weight: bold\">0.6479</span> |      <span style=\"color: #008080; text-decoration-color: #008080; font-weight: bold\">0.6901</span> |   <span style=\"color: #008080; text-decoration-color: #008080; font-weight: bold\">0.2516</span> |          <span style=\"color: #008080; text-decoration-color: #008080; font-weight: bold\">0</span> |\n",
       "+--------+------------+-------------+----------+------------+\n",
       "</pre>\n"
      ],
      "text/plain": [
       "+--------+------------+-------------+----------+------------+\n",
       "|      C |   Accuracy |   Precision |   Recall |   F1 Score |\n",
       "+========+============+=============+==========+============+\n",
       "|   \u001b[1;36m0.01\u001b[0m |     \u001b[1;36m0.6479\u001b[0m |      \u001b[1;36m0.6903\u001b[0m |   \u001b[1;36m0.2516\u001b[0m |          \u001b[1;36m0\u001b[0m |\n",
       "+--------+------------+-------------+----------+------------+\n",
       "|   \u001b[1;36m0.1\u001b[0m  |     \u001b[1;36m0.6479\u001b[0m |      \u001b[1;36m0.6901\u001b[0m |   \u001b[1;36m0.2516\u001b[0m |          \u001b[1;36m0\u001b[0m |\n",
       "+--------+------------+-------------+----------+------------+\n",
       "|   \u001b[1;36m1\u001b[0m    |     \u001b[1;36m0.6479\u001b[0m |      \u001b[1;36m0.6901\u001b[0m |   \u001b[1;36m0.2516\u001b[0m |          \u001b[1;36m0\u001b[0m |\n",
       "+--------+------------+-------------+----------+------------+\n",
       "|  \u001b[1;36m10\u001b[0m    |     \u001b[1;36m0.6479\u001b[0m |      \u001b[1;36m0.6901\u001b[0m |   \u001b[1;36m0.2516\u001b[0m |          \u001b[1;36m0\u001b[0m |\n",
       "+--------+------------+-------------+----------+------------+\n",
       "| \u001b[1;36m100\u001b[0m    |     \u001b[1;36m0.6479\u001b[0m |      \u001b[1;36m0.6901\u001b[0m |   \u001b[1;36m0.2516\u001b[0m |          \u001b[1;36m0\u001b[0m |\n",
       "+--------+------------+-------------+----------+------------+\n"
      ]
     },
     "metadata": {},
     "output_type": "display_data"
    },
    {
     "data": {
      "text/html": [
       "<pre style=\"white-space:pre;overflow-x:auto;line-height:normal;font-family:Menlo,'DejaVu Sans Mono',consolas,'Courier New',monospace\">\n",
       "Best Logistic Regression model: <span style=\"color: #808000; text-decoration-color: #808000\">C</span>=<span style=\"color: #008080; text-decoration-color: #008080; font-weight: bold\">0.01</span> with accuracy <span style=\"color: #008080; text-decoration-color: #008080; font-weight: bold\">0.6479</span>\n",
       "</pre>\n"
      ],
      "text/plain": [
       "\n",
       "Best Logistic Regression model: \u001b[33mC\u001b[0m=\u001b[1;36m0\u001b[0m\u001b[1;36m.01\u001b[0m with accuracy \u001b[1;36m0.6479\u001b[0m\n"
      ]
     },
     "metadata": {},
     "output_type": "display_data"
    }
   ],
   "source": [
    "# Train Logistic Regression with different parameters\n",
    "logreg_model, logreg_results = train_logreg_with_different_params(\n",
    "    X_train, y_train, X_test, y_test\n",
    ")"
   ]
  },
  {
   "cell_type": "code",
   "execution_count": 149,
   "id": "89432f38",
   "metadata": {},
   "outputs": [],
   "source": [
    "# Store metrics\n",
    "model_metrics[\"LogisticRegression\"] = logreg_results\n",
    "model_training_time[\"LogisticRegression\"] = time.time() - start_time"
   ]
  },
  {
   "cell_type": "code",
   "execution_count": 150,
   "id": "904644af",
   "metadata": {},
   "outputs": [
    {
     "data": {
      "text/plain": [
       "0"
      ]
     },
     "execution_count": 150,
     "metadata": {},
     "output_type": "execute_result"
    }
   ],
   "source": [
    "# Memory cleanup\n",
    "gc.collect()"
   ]
  },
  {
   "cell_type": "code",
   "execution_count": 151,
   "id": "3717721c",
   "metadata": {},
   "outputs": [
    {
     "data": {
      "text/html": [
       "<pre style=\"white-space:pre;overflow-x:auto;line-height:normal;font-family:Menlo,'DejaVu Sans Mono',consolas,'Courier New',monospace\">\n",
       "=== Model Comparison ===\n",
       "</pre>\n"
      ],
      "text/plain": [
       "\n",
       "=== Model Comparison ===\n"
      ]
     },
     "metadata": {},
     "output_type": "display_data"
    }
   ],
   "source": [
    "# ===== MODEL COMPARISON AND VISUALIZATION =====\n",
    "print(\"\\n=== Model Comparison ===\")"
   ]
  },
  {
   "cell_type": "code",
   "execution_count": 152,
   "id": "58c4837b",
   "metadata": {},
   "outputs": [],
   "source": [
    "def visualize_model_comparison():\n",
    "    # Prepare data for visualization\n",
    "    models = []\n",
    "    accuracy_scores = []\n",
    "    f1_scores = []\n",
    "    training_times = []\n",
    "\n",
    "    # Extract best scores for each model\n",
    "    for model_name, results in model_metrics.items():\n",
    "        if isinstance(results, dict):\n",
    "            best_config = max(results.items(), key=lambda x: x[1][\"accuracy\"])\n",
    "            best_param = best_config[0]\n",
    "            best_metrics = best_config[1]\n",
    "\n",
    "            full_name = f\"{model_name} ({best_param})\"\n",
    "            models.append(full_name)\n",
    "            accuracy_scores.append(best_metrics[\"accuracy\"])\n",
    "            f1_scores.append(best_metrics[\"f1\"])\n",
    "            training_times.append(model_training_time.get(model_name, 0))\n",
    "        else:\n",
    "            models.append(model_name)\n",
    "            accuracy_scores.append(results[\"accuracy\"])\n",
    "            f1_scores.append(results[\"f1\"])\n",
    "            training_times.append(model_training_time.get(model_name, 0))\n",
    "\n",
    "    # Build tabular data\n",
    "    table_data = []\n",
    "    for i in range(len(models)):\n",
    "        table_data.append([\n",
    "            models[i],\n",
    "            round(accuracy_scores[i], 4),\n",
    "            round(f1_scores[i], 4),\n",
    "            round(training_times[i], 2)\n",
    "        ])\n",
    "\n",
    "    # Define headers\n",
    "    headers = [\"Model\", \"Accuracy\", \"F1 Score\", \"Training Time (s)\"]\n",
    "\n",
    "    # Print the comparison table\n",
    "    print(\"\\nModel Performance Comparison:\")\n",
    "    print(tabulate(table_data, headers=headers, tablefmt=\"grid\"))\n",
    "\n",
    "    # Best model by accuracy\n",
    "    best_idx = np.argmax(accuracy_scores)\n",
    "    print(f\"\\n✅ Best Model: {models[best_idx]} \"\n",
    "          f\"with accuracy {accuracy_scores[best_idx]:.4f} \"\n",
    "          f\"and F1 {f1_scores[best_idx]:.4f}\")\n",
    "\n",
    "    # Time-efficient model (>= 80% of best accuracy)\n",
    "    threshold = 0.8 * max(accuracy_scores)\n",
    "    valid_indices = [i for i, acc in enumerate(accuracy_scores) if acc >= threshold]\n",
    "    if valid_indices:\n",
    "        most_efficient_idx = min(valid_indices, key=lambda i: training_times[i])\n",
    "        print(f\"⚡ Most Time-Efficient Model: {models[most_efficient_idx]} \"\n",
    "              f\"with accuracy {accuracy_scores[most_efficient_idx]:.4f} \"\n",
    "              f\"and training time {training_times[most_efficient_idx]:.2f}s\")\n"
   ]
  },
  {
   "cell_type": "code",
   "execution_count": 153,
   "id": "5614afbb",
   "metadata": {},
   "outputs": [
    {
     "data": {
      "text/html": [
       "<pre style=\"white-space:pre;overflow-x:auto;line-height:normal;font-family:Menlo,'DejaVu Sans Mono',consolas,'Courier New',monospace\">\n",
       "Model Performance Comparison:\n",
       "</pre>\n"
      ],
      "text/plain": [
       "\n",
       "Model Performance Comparison:\n"
      ]
     },
     "metadata": {},
     "output_type": "display_data"
    },
    {
     "data": {
      "text/html": [
       "<pre style=\"white-space:pre;overflow-x:auto;line-height:normal;font-family:Menlo,'DejaVu Sans Mono',consolas,'Courier New',monospace\">+---------------------------+------------+------------+---------------------+\n",
       "| Model                     |   Accuracy |   F1 Score |   Training Time <span style=\"font-weight: bold\">(</span>s<span style=\"font-weight: bold\">)</span> |\n",
       "+===========================+============+============+=====================+\n",
       "| XGBoost <span style=\"font-weight: bold\">(</span><span style=\"color: #008080; text-decoration-color: #008080; font-weight: bold\">200</span><span style=\"font-weight: bold\">)</span>             |     <span style=\"color: #008080; text-decoration-color: #008080; font-weight: bold\">0.9777</span> |     <span style=\"color: #008080; text-decoration-color: #008080; font-weight: bold\">0.9727</span> |                <span style=\"color: #008080; text-decoration-color: #008080; font-weight: bold\">1.26</span> |\n",
       "+---------------------------+------------+------------+---------------------+\n",
       "| KMeans <span style=\"font-weight: bold\">(</span><span style=\"color: #008080; text-decoration-color: #008080; font-weight: bold\">3</span><span style=\"font-weight: bold\">)</span>                |     <span style=\"color: #008080; text-decoration-color: #008080; font-weight: bold\">0.5912</span> |     <span style=\"color: #008080; text-decoration-color: #008080; font-weight: bold\">0</span>      |                <span style=\"color: #008080; text-decoration-color: #008080; font-weight: bold\">4.5</span>  |\n",
       "+---------------------------+------------+------------+---------------------+\n",
       "| KNN <span style=\"font-weight: bold\">(</span><span style=\"color: #008080; text-decoration-color: #008080; font-weight: bold\">15</span><span style=\"font-weight: bold\">)</span>                  |     <span style=\"color: #008080; text-decoration-color: #008080; font-weight: bold\">0.5653</span> |     <span style=\"color: #008080; text-decoration-color: #008080; font-weight: bold\">0.3471</span> |                <span style=\"color: #008080; text-decoration-color: #008080; font-weight: bold\">1.85</span> |\n",
       "+---------------------------+------------+------------+---------------------+\n",
       "| SVD <span style=\"font-weight: bold\">(</span><span style=\"color: #008080; text-decoration-color: #008080; font-weight: bold\">25</span><span style=\"font-weight: bold\">)</span>                  |     <span style=\"color: #008080; text-decoration-color: #008080; font-weight: bold\">0.981</span>  |     <span style=\"color: #008080; text-decoration-color: #008080; font-weight: bold\">0.9767</span> |               <span style=\"color: #008080; text-decoration-color: #008080; font-weight: bold\">17.69</span> |\n",
       "+---------------------------+------------+------------+---------------------+\n",
       "| LogisticRegression <span style=\"font-weight: bold\">(</span><span style=\"color: #008080; text-decoration-color: #008080; font-weight: bold\">0.01</span><span style=\"font-weight: bold\">)</span> |     <span style=\"color: #008080; text-decoration-color: #008080; font-weight: bold\">0.6479</span> |     <span style=\"color: #008080; text-decoration-color: #008080; font-weight: bold\">0.3688</span> |                <span style=\"color: #008080; text-decoration-color: #008080; font-weight: bold\">0.67</span> |\n",
       "+---------------------------+------------+------------+---------------------+\n",
       "</pre>\n"
      ],
      "text/plain": [
       "+---------------------------+------------+------------+---------------------+\n",
       "| Model                     |   Accuracy |   F1 Score |   Training Time \u001b[1m(\u001b[0ms\u001b[1m)\u001b[0m |\n",
       "+===========================+============+============+=====================+\n",
       "| XGBoost \u001b[1m(\u001b[0m\u001b[1;36m200\u001b[0m\u001b[1m)\u001b[0m             |     \u001b[1;36m0.9777\u001b[0m |     \u001b[1;36m0.9727\u001b[0m |                \u001b[1;36m1.26\u001b[0m |\n",
       "+---------------------------+------------+------------+---------------------+\n",
       "| KMeans \u001b[1m(\u001b[0m\u001b[1;36m3\u001b[0m\u001b[1m)\u001b[0m                |     \u001b[1;36m0.5912\u001b[0m |     \u001b[1;36m0\u001b[0m      |                \u001b[1;36m4.5\u001b[0m  |\n",
       "+---------------------------+------------+------------+---------------------+\n",
       "| KNN \u001b[1m(\u001b[0m\u001b[1;36m15\u001b[0m\u001b[1m)\u001b[0m                  |     \u001b[1;36m0.5653\u001b[0m |     \u001b[1;36m0.3471\u001b[0m |                \u001b[1;36m1.85\u001b[0m |\n",
       "+---------------------------+------------+------------+---------------------+\n",
       "| SVD \u001b[1m(\u001b[0m\u001b[1;36m25\u001b[0m\u001b[1m)\u001b[0m                  |     \u001b[1;36m0.981\u001b[0m  |     \u001b[1;36m0.9767\u001b[0m |               \u001b[1;36m17.69\u001b[0m |\n",
       "+---------------------------+------------+------------+---------------------+\n",
       "| LogisticRegression \u001b[1m(\u001b[0m\u001b[1;36m0.01\u001b[0m\u001b[1m)\u001b[0m |     \u001b[1;36m0.6479\u001b[0m |     \u001b[1;36m0.3688\u001b[0m |                \u001b[1;36m0.67\u001b[0m |\n",
       "+---------------------------+------------+------------+---------------------+\n"
      ]
     },
     "metadata": {},
     "output_type": "display_data"
    },
    {
     "data": {
      "text/html": [
       "<pre style=\"white-space:pre;overflow-x:auto;line-height:normal;font-family:Menlo,'DejaVu Sans Mono',consolas,'Courier New',monospace\">\n",
       "✅ Best Model: SVD <span style=\"font-weight: bold\">(</span><span style=\"color: #008080; text-decoration-color: #008080; font-weight: bold\">25</span><span style=\"font-weight: bold\">)</span> with accuracy <span style=\"color: #008080; text-decoration-color: #008080; font-weight: bold\">0.9810</span> and F1 <span style=\"color: #008080; text-decoration-color: #008080; font-weight: bold\">0.9767</span>\n",
       "</pre>\n"
      ],
      "text/plain": [
       "\n",
       "✅ Best Model: SVD \u001b[1m(\u001b[0m\u001b[1;36m25\u001b[0m\u001b[1m)\u001b[0m with accuracy \u001b[1;36m0.9810\u001b[0m and F1 \u001b[1;36m0.9767\u001b[0m\n"
      ]
     },
     "metadata": {},
     "output_type": "display_data"
    },
    {
     "data": {
      "text/html": [
       "<pre style=\"white-space:pre;overflow-x:auto;line-height:normal;font-family:Menlo,'DejaVu Sans Mono',consolas,'Courier New',monospace\">⚡ Most Time-Efficient Model: XGBoost <span style=\"font-weight: bold\">(</span><span style=\"color: #008080; text-decoration-color: #008080; font-weight: bold\">200</span><span style=\"font-weight: bold\">)</span> with accuracy <span style=\"color: #008080; text-decoration-color: #008080; font-weight: bold\">0.9777</span> and training time <span style=\"color: #008080; text-decoration-color: #008080; font-weight: bold\">1.</span>26s\n",
       "</pre>\n"
      ],
      "text/plain": [
       "⚡ Most Time-Efficient Model: XGBoost \u001b[1m(\u001b[0m\u001b[1;36m200\u001b[0m\u001b[1m)\u001b[0m with accuracy \u001b[1;36m0.9777\u001b[0m and training time \u001b[1;36m1.\u001b[0m26s\n"
      ]
     },
     "metadata": {},
     "output_type": "display_data"
    }
   ],
   "source": [
    "# Visualize model comparison\n",
    "visualize_model_comparison()"
   ]
  },
  {
   "cell_type": "code",
   "execution_count": 154,
   "id": "4ec7f12a",
   "metadata": {},
   "outputs": [
    {
     "data": {
      "text/html": [
       "<pre style=\"white-space:pre;overflow-x:auto;line-height:normal;font-family:Menlo,'DejaVu Sans Mono',consolas,'Courier New',monospace\">\n",
       "=== Parameter Tuning Results ===\n",
       "</pre>\n"
      ],
      "text/plain": [
       "\n",
       "=== Parameter Tuning Results ===\n"
      ]
     },
     "metadata": {},
     "output_type": "display_data"
    },
    {
     "data": {
      "text/html": [
       "<pre style=\"white-space:pre;overflow-x:auto;line-height:normal;font-family:Menlo,'DejaVu Sans Mono',consolas,'Courier New',monospace\">\n",
       "XGBoost Parameter Tuning Results:\n",
       "</pre>\n"
      ],
      "text/plain": [
       "\n",
       "XGBoost Parameter Tuning Results:\n"
      ]
     },
     "metadata": {},
     "output_type": "display_data"
    },
    {
     "data": {
      "text/html": [
       "<pre style=\"white-space:pre;overflow-x:auto;line-height:normal;font-family:Menlo,'DejaVu Sans Mono',consolas,'Courier New',monospace\">==================================================\n",
       "</pre>\n"
      ],
      "text/plain": [
       "==================================================\n"
      ]
     },
     "metadata": {},
     "output_type": "display_data"
    },
    {
     "data": {
      "text/html": [
       "<pre style=\"white-space:pre;overflow-x:auto;line-height:normal;font-family:Menlo,'DejaVu Sans Mono',consolas,'Courier New',monospace\">Epochs          Accuracy   Precision  Recall     F1 Score  \n",
       "</pre>\n"
      ],
      "text/plain": [
       "Epochs          Accuracy   Precision  Recall     F1 Score  \n"
      ]
     },
     "metadata": {},
     "output_type": "display_data"
    },
    {
     "data": {
      "text/html": [
       "<pre style=\"white-space:pre;overflow-x:auto;line-height:normal;font-family:Menlo,'DejaVu Sans Mono',consolas,'Courier New',monospace\">--------------------------------------------------\n",
       "</pre>\n"
      ],
      "text/plain": [
       "--------------------------------------------------\n"
      ]
     },
     "metadata": {},
     "output_type": "display_data"
    },
    {
     "data": {
      "text/html": [
       "<pre style=\"white-space:pre;overflow-x:auto;line-height:normal;font-family:Menlo,'DejaVu Sans Mono',consolas,'Courier New',monospace\"><span style=\"color: #008080; text-decoration-color: #008080; font-weight: bold\">3</span>               <span style=\"color: #008080; text-decoration-color: #008080; font-weight: bold\">0.5963</span>     <span style=\"color: #008080; text-decoration-color: #008080; font-weight: bold\">0.9789</span>     <span style=\"color: #008080; text-decoration-color: #008080; font-weight: bold\">0.0127</span>     <span style=\"color: #008080; text-decoration-color: #008080; font-weight: bold\">0.0251</span>    \n",
       "</pre>\n"
      ],
      "text/plain": [
       "\u001b[1;36m3\u001b[0m               \u001b[1;36m0.5963\u001b[0m     \u001b[1;36m0.9789\u001b[0m     \u001b[1;36m0.0127\u001b[0m     \u001b[1;36m0.0251\u001b[0m    \n"
      ]
     },
     "metadata": {},
     "output_type": "display_data"
    },
    {
     "data": {
      "text/html": [
       "<pre style=\"white-space:pre;overflow-x:auto;line-height:normal;font-family:Menlo,'DejaVu Sans Mono',consolas,'Courier New',monospace\"><span style=\"color: #008080; text-decoration-color: #008080; font-weight: bold\">10</span>              <span style=\"color: #008080; text-decoration-color: #008080; font-weight: bold\">0.7314</span>     <span style=\"color: #008080; text-decoration-color: #008080; font-weight: bold\">0.9321</span>     <span style=\"color: #008080; text-decoration-color: #008080; font-weight: bold\">0.3699</span>     <span style=\"color: #008080; text-decoration-color: #008080; font-weight: bold\">0.5296</span>    \n",
       "</pre>\n"
      ],
      "text/plain": [
       "\u001b[1;36m10\u001b[0m              \u001b[1;36m0.7314\u001b[0m     \u001b[1;36m0.9321\u001b[0m     \u001b[1;36m0.3699\u001b[0m     \u001b[1;36m0.5296\u001b[0m    \n"
      ]
     },
     "metadata": {},
     "output_type": "display_data"
    },
    {
     "data": {
      "text/html": [
       "<pre style=\"white-space:pre;overflow-x:auto;line-height:normal;font-family:Menlo,'DejaVu Sans Mono',consolas,'Courier New',monospace\"><span style=\"color: #008080; text-decoration-color: #008080; font-weight: bold\">50</span>              <span style=\"color: #008080; text-decoration-color: #008080; font-weight: bold\">0.9082</span>     <span style=\"color: #008080; text-decoration-color: #008080; font-weight: bold\">0.9431</span>     <span style=\"color: #008080; text-decoration-color: #008080; font-weight: bold\">0.8252</span>     <span style=\"color: #008080; text-decoration-color: #008080; font-weight: bold\">0.8802</span>    \n",
       "</pre>\n"
      ],
      "text/plain": [
       "\u001b[1;36m50\u001b[0m              \u001b[1;36m0.9082\u001b[0m     \u001b[1;36m0.9431\u001b[0m     \u001b[1;36m0.8252\u001b[0m     \u001b[1;36m0.8802\u001b[0m    \n"
      ]
     },
     "metadata": {},
     "output_type": "display_data"
    },
    {
     "data": {
      "text/html": [
       "<pre style=\"white-space:pre;overflow-x:auto;line-height:normal;font-family:Menlo,'DejaVu Sans Mono',consolas,'Courier New',monospace\"><span style=\"color: #008080; text-decoration-color: #008080; font-weight: bold\">100</span>             <span style=\"color: #008080; text-decoration-color: #008080; font-weight: bold\">0.9592</span>     <span style=\"color: #008080; text-decoration-color: #008080; font-weight: bold\">0.9603</span>     <span style=\"color: #008080; text-decoration-color: #008080; font-weight: bold\">0.9390</span>     <span style=\"color: #008080; text-decoration-color: #008080; font-weight: bold\">0.9495</span>    \n",
       "</pre>\n"
      ],
      "text/plain": [
       "\u001b[1;36m100\u001b[0m             \u001b[1;36m0.9592\u001b[0m     \u001b[1;36m0.9603\u001b[0m     \u001b[1;36m0.9390\u001b[0m     \u001b[1;36m0.9495\u001b[0m    \n"
      ]
     },
     "metadata": {},
     "output_type": "display_data"
    },
    {
     "data": {
      "text/html": [
       "<pre style=\"white-space:pre;overflow-x:auto;line-height:normal;font-family:Menlo,'DejaVu Sans Mono',consolas,'Courier New',monospace\"><span style=\"color: #008080; text-decoration-color: #008080; font-weight: bold\">200</span>             <span style=\"color: #008080; text-decoration-color: #008080; font-weight: bold\">0.9777</span>     <span style=\"color: #008080; text-decoration-color: #008080; font-weight: bold\">0.9739</span>     <span style=\"color: #008080; text-decoration-color: #008080; font-weight: bold\">0.9715</span>     <span style=\"color: #008080; text-decoration-color: #008080; font-weight: bold\">0.9727</span>    \n",
       "</pre>\n"
      ],
      "text/plain": [
       "\u001b[1;36m200\u001b[0m             \u001b[1;36m0.9777\u001b[0m     \u001b[1;36m0.9739\u001b[0m     \u001b[1;36m0.9715\u001b[0m     \u001b[1;36m0.9727\u001b[0m    \n"
      ]
     },
     "metadata": {},
     "output_type": "display_data"
    },
    {
     "data": {
      "text/html": [
       "<pre style=\"white-space:pre;overflow-x:auto;line-height:normal;font-family:Menlo,'DejaVu Sans Mono',consolas,'Courier New',monospace\">==================================================\n",
       "</pre>\n"
      ],
      "text/plain": [
       "==================================================\n"
      ]
     },
     "metadata": {},
     "output_type": "display_data"
    },
    {
     "data": {
      "text/html": [
       "<pre style=\"white-space:pre;overflow-x:auto;line-height:normal;font-family:Menlo,'DejaVu Sans Mono',consolas,'Courier New',monospace\">Best Epochs: <span style=\"color: #008080; text-decoration-color: #008080; font-weight: bold\">200</span> with accuracy <span style=\"color: #008080; text-decoration-color: #008080; font-weight: bold\">0.9777</span>\n",
       "</pre>\n"
      ],
      "text/plain": [
       "Best Epochs: \u001b[1;36m200\u001b[0m with accuracy \u001b[1;36m0.9777\u001b[0m\n"
      ]
     },
     "metadata": {},
     "output_type": "display_data"
    },
    {
     "data": {
      "text/html": [
       "<pre style=\"white-space:pre;overflow-x:auto;line-height:normal;font-family:Menlo,'DejaVu Sans Mono',consolas,'Courier New',monospace\">\n",
       "KMeans Parameter Tuning Results:\n",
       "</pre>\n"
      ],
      "text/plain": [
       "\n",
       "KMeans Parameter Tuning Results:\n"
      ]
     },
     "metadata": {},
     "output_type": "display_data"
    },
    {
     "data": {
      "text/html": [
       "<pre style=\"white-space:pre;overflow-x:auto;line-height:normal;font-family:Menlo,'DejaVu Sans Mono',consolas,'Courier New',monospace\">==================================================\n",
       "</pre>\n"
      ],
      "text/plain": [
       "==================================================\n"
      ]
     },
     "metadata": {},
     "output_type": "display_data"
    },
    {
     "data": {
      "text/html": [
       "<pre style=\"white-space:pre;overflow-x:auto;line-height:normal;font-family:Menlo,'DejaVu Sans Mono',consolas,'Courier New',monospace\">Clusters        Accuracy   Precision  Recall     F1 Score  \n",
       "</pre>\n"
      ],
      "text/plain": [
       "Clusters        Accuracy   Precision  Recall     F1 Score  \n"
      ]
     },
     "metadata": {},
     "output_type": "display_data"
    },
    {
     "data": {
      "text/html": [
       "<pre style=\"white-space:pre;overflow-x:auto;line-height:normal;font-family:Menlo,'DejaVu Sans Mono',consolas,'Courier New',monospace\">--------------------------------------------------\n",
       "</pre>\n"
      ],
      "text/plain": [
       "--------------------------------------------------\n"
      ]
     },
     "metadata": {},
     "output_type": "display_data"
    },
    {
     "data": {
      "text/html": [
       "<pre style=\"white-space:pre;overflow-x:auto;line-height:normal;font-family:Menlo,'DejaVu Sans Mono',consolas,'Courier New',monospace\"><span style=\"color: #008080; text-decoration-color: #008080; font-weight: bold\">3</span>               <span style=\"color: #008080; text-decoration-color: #008080; font-weight: bold\">0.5912</span>     <span style=\"color: #008080; text-decoration-color: #008080; font-weight: bold\">0.0000</span>     <span style=\"color: #008080; text-decoration-color: #008080; font-weight: bold\">0.0000</span>     <span style=\"color: #008080; text-decoration-color: #008080; font-weight: bold\">0.0000</span>    \n",
       "</pre>\n"
      ],
      "text/plain": [
       "\u001b[1;36m3\u001b[0m               \u001b[1;36m0.5912\u001b[0m     \u001b[1;36m0.0000\u001b[0m     \u001b[1;36m0.0000\u001b[0m     \u001b[1;36m0.0000\u001b[0m    \n"
      ]
     },
     "metadata": {},
     "output_type": "display_data"
    },
    {
     "data": {
      "text/html": [
       "<pre style=\"white-space:pre;overflow-x:auto;line-height:normal;font-family:Menlo,'DejaVu Sans Mono',consolas,'Courier New',monospace\"><span style=\"color: #008080; text-decoration-color: #008080; font-weight: bold\">5</span>               <span style=\"color: #008080; text-decoration-color: #008080; font-weight: bold\">0.5912</span>     <span style=\"color: #008080; text-decoration-color: #008080; font-weight: bold\">0.0000</span>     <span style=\"color: #008080; text-decoration-color: #008080; font-weight: bold\">0.0000</span>     <span style=\"color: #008080; text-decoration-color: #008080; font-weight: bold\">0.0000</span>    \n",
       "</pre>\n"
      ],
      "text/plain": [
       "\u001b[1;36m5\u001b[0m               \u001b[1;36m0.5912\u001b[0m     \u001b[1;36m0.0000\u001b[0m     \u001b[1;36m0.0000\u001b[0m     \u001b[1;36m0.0000\u001b[0m    \n"
      ]
     },
     "metadata": {},
     "output_type": "display_data"
    },
    {
     "data": {
      "text/html": [
       "<pre style=\"white-space:pre;overflow-x:auto;line-height:normal;font-family:Menlo,'DejaVu Sans Mono',consolas,'Courier New',monospace\"><span style=\"color: #008080; text-decoration-color: #008080; font-weight: bold\">8</span>               <span style=\"color: #008080; text-decoration-color: #008080; font-weight: bold\">0.5912</span>     <span style=\"color: #008080; text-decoration-color: #008080; font-weight: bold\">0.0000</span>     <span style=\"color: #008080; text-decoration-color: #008080; font-weight: bold\">0.0000</span>     <span style=\"color: #008080; text-decoration-color: #008080; font-weight: bold\">0.0000</span>    \n",
       "</pre>\n"
      ],
      "text/plain": [
       "\u001b[1;36m8\u001b[0m               \u001b[1;36m0.5912\u001b[0m     \u001b[1;36m0.0000\u001b[0m     \u001b[1;36m0.0000\u001b[0m     \u001b[1;36m0.0000\u001b[0m    \n"
      ]
     },
     "metadata": {},
     "output_type": "display_data"
    },
    {
     "data": {
      "text/html": [
       "<pre style=\"white-space:pre;overflow-x:auto;line-height:normal;font-family:Menlo,'DejaVu Sans Mono',consolas,'Courier New',monospace\"><span style=\"color: #008080; text-decoration-color: #008080; font-weight: bold\">10</span>              <span style=\"color: #008080; text-decoration-color: #008080; font-weight: bold\">0.5912</span>     <span style=\"color: #008080; text-decoration-color: #008080; font-weight: bold\">0.0000</span>     <span style=\"color: #008080; text-decoration-color: #008080; font-weight: bold\">0.0000</span>     <span style=\"color: #008080; text-decoration-color: #008080; font-weight: bold\">0.0000</span>    \n",
       "</pre>\n"
      ],
      "text/plain": [
       "\u001b[1;36m10\u001b[0m              \u001b[1;36m0.5912\u001b[0m     \u001b[1;36m0.0000\u001b[0m     \u001b[1;36m0.0000\u001b[0m     \u001b[1;36m0.0000\u001b[0m    \n"
      ]
     },
     "metadata": {},
     "output_type": "display_data"
    },
    {
     "data": {
      "text/html": [
       "<pre style=\"white-space:pre;overflow-x:auto;line-height:normal;font-family:Menlo,'DejaVu Sans Mono',consolas,'Courier New',monospace\"><span style=\"color: #008080; text-decoration-color: #008080; font-weight: bold\">15</span>              <span style=\"color: #008080; text-decoration-color: #008080; font-weight: bold\">0.5912</span>     <span style=\"color: #008080; text-decoration-color: #008080; font-weight: bold\">0.0000</span>     <span style=\"color: #008080; text-decoration-color: #008080; font-weight: bold\">0.0000</span>     <span style=\"color: #008080; text-decoration-color: #008080; font-weight: bold\">0.0000</span>    \n",
       "</pre>\n"
      ],
      "text/plain": [
       "\u001b[1;36m15\u001b[0m              \u001b[1;36m0.5912\u001b[0m     \u001b[1;36m0.0000\u001b[0m     \u001b[1;36m0.0000\u001b[0m     \u001b[1;36m0.0000\u001b[0m    \n"
      ]
     },
     "metadata": {},
     "output_type": "display_data"
    },
    {
     "data": {
      "text/html": [
       "<pre style=\"white-space:pre;overflow-x:auto;line-height:normal;font-family:Menlo,'DejaVu Sans Mono',consolas,'Courier New',monospace\">==================================================\n",
       "</pre>\n"
      ],
      "text/plain": [
       "==================================================\n"
      ]
     },
     "metadata": {},
     "output_type": "display_data"
    },
    {
     "data": {
      "text/html": [
       "<pre style=\"white-space:pre;overflow-x:auto;line-height:normal;font-family:Menlo,'DejaVu Sans Mono',consolas,'Courier New',monospace\">Best Clusters: <span style=\"color: #008080; text-decoration-color: #008080; font-weight: bold\">3</span> with accuracy <span style=\"color: #008080; text-decoration-color: #008080; font-weight: bold\">0.5912</span>\n",
       "</pre>\n"
      ],
      "text/plain": [
       "Best Clusters: \u001b[1;36m3\u001b[0m with accuracy \u001b[1;36m0.5912\u001b[0m\n"
      ]
     },
     "metadata": {},
     "output_type": "display_data"
    },
    {
     "data": {
      "text/html": [
       "<pre style=\"white-space:pre;overflow-x:auto;line-height:normal;font-family:Menlo,'DejaVu Sans Mono',consolas,'Courier New',monospace\">\n",
       "KNN Parameter Tuning Results:\n",
       "</pre>\n"
      ],
      "text/plain": [
       "\n",
       "KNN Parameter Tuning Results:\n"
      ]
     },
     "metadata": {},
     "output_type": "display_data"
    },
    {
     "data": {
      "text/html": [
       "<pre style=\"white-space:pre;overflow-x:auto;line-height:normal;font-family:Menlo,'DejaVu Sans Mono',consolas,'Courier New',monospace\">==================================================\n",
       "</pre>\n"
      ],
      "text/plain": [
       "==================================================\n"
      ]
     },
     "metadata": {},
     "output_type": "display_data"
    },
    {
     "data": {
      "text/html": [
       "<pre style=\"white-space:pre;overflow-x:auto;line-height:normal;font-family:Menlo,'DejaVu Sans Mono',consolas,'Courier New',monospace\">K Value         Accuracy   Precision  Recall     F1 Score  \n",
       "</pre>\n"
      ],
      "text/plain": [
       "K Value         Accuracy   Precision  Recall     F1 Score  \n"
      ]
     },
     "metadata": {},
     "output_type": "display_data"
    },
    {
     "data": {
      "text/html": [
       "<pre style=\"white-space:pre;overflow-x:auto;line-height:normal;font-family:Menlo,'DejaVu Sans Mono',consolas,'Courier New',monospace\">--------------------------------------------------\n",
       "</pre>\n"
      ],
      "text/plain": [
       "--------------------------------------------------\n"
      ]
     },
     "metadata": {},
     "output_type": "display_data"
    },
    {
     "data": {
      "text/html": [
       "<pre style=\"white-space:pre;overflow-x:auto;line-height:normal;font-family:Menlo,'DejaVu Sans Mono',consolas,'Courier New',monospace\"><span style=\"color: #008080; text-decoration-color: #008080; font-weight: bold\">1</span>               <span style=\"color: #008080; text-decoration-color: #008080; font-weight: bold\">0.5609</span>     <span style=\"color: #008080; text-decoration-color: #008080; font-weight: bold\">0.4635</span>     <span style=\"color: #008080; text-decoration-color: #008080; font-weight: bold\">0.4703</span>     <span style=\"color: #008080; text-decoration-color: #008080; font-weight: bold\">0.4669</span>    \n",
       "</pre>\n"
      ],
      "text/plain": [
       "\u001b[1;36m1\u001b[0m               \u001b[1;36m0.5609\u001b[0m     \u001b[1;36m0.4635\u001b[0m     \u001b[1;36m0.4703\u001b[0m     \u001b[1;36m0.4669\u001b[0m    \n"
      ]
     },
     "metadata": {},
     "output_type": "display_data"
    },
    {
     "data": {
      "text/html": [
       "<pre style=\"white-space:pre;overflow-x:auto;line-height:normal;font-family:Menlo,'DejaVu Sans Mono',consolas,'Courier New',monospace\"><span style=\"color: #008080; text-decoration-color: #008080; font-weight: bold\">3</span>               <span style=\"color: #008080; text-decoration-color: #008080; font-weight: bold\">0.5514</span>     <span style=\"color: #008080; text-decoration-color: #008080; font-weight: bold\">0.4474</span>     <span style=\"color: #008080; text-decoration-color: #008080; font-weight: bold\">0.4146</span>     <span style=\"color: #008080; text-decoration-color: #008080; font-weight: bold\">0.4304</span>    \n",
       "</pre>\n"
      ],
      "text/plain": [
       "\u001b[1;36m3\u001b[0m               \u001b[1;36m0.5514\u001b[0m     \u001b[1;36m0.4474\u001b[0m     \u001b[1;36m0.4146\u001b[0m     \u001b[1;36m0.4304\u001b[0m    \n"
      ]
     },
     "metadata": {},
     "output_type": "display_data"
    },
    {
     "data": {
      "text/html": [
       "<pre style=\"white-space:pre;overflow-x:auto;line-height:normal;font-family:Menlo,'DejaVu Sans Mono',consolas,'Courier New',monospace\"><span style=\"color: #008080; text-decoration-color: #008080; font-weight: bold\">5</span>               <span style=\"color: #008080; text-decoration-color: #008080; font-weight: bold\">0.5597</span>     <span style=\"color: #008080; text-decoration-color: #008080; font-weight: bold\">0.4530</span>     <span style=\"color: #008080; text-decoration-color: #008080; font-weight: bold\">0.3720</span>     <span style=\"color: #008080; text-decoration-color: #008080; font-weight: bold\">0.4085</span>    \n",
       "</pre>\n"
      ],
      "text/plain": [
       "\u001b[1;36m5\u001b[0m               \u001b[1;36m0.5597\u001b[0m     \u001b[1;36m0.4530\u001b[0m     \u001b[1;36m0.3720\u001b[0m     \u001b[1;36m0.4085\u001b[0m    \n"
      ]
     },
     "metadata": {},
     "output_type": "display_data"
    },
    {
     "data": {
      "text/html": [
       "<pre style=\"white-space:pre;overflow-x:auto;line-height:normal;font-family:Menlo,'DejaVu Sans Mono',consolas,'Courier New',monospace\"><span style=\"color: #008080; text-decoration-color: #008080; font-weight: bold\">7</span>               <span style=\"color: #008080; text-decoration-color: #008080; font-weight: bold\">0.5622</span>     <span style=\"color: #008080; text-decoration-color: #008080; font-weight: bold\">0.4540</span>     <span style=\"color: #008080; text-decoration-color: #008080; font-weight: bold\">0.3506</span>     <span style=\"color: #008080; text-decoration-color: #008080; font-weight: bold\">0.3957</span>    \n",
       "</pre>\n"
      ],
      "text/plain": [
       "\u001b[1;36m7\u001b[0m               \u001b[1;36m0.5622\u001b[0m     \u001b[1;36m0.4540\u001b[0m     \u001b[1;36m0.3506\u001b[0m     \u001b[1;36m0.3957\u001b[0m    \n"
      ]
     },
     "metadata": {},
     "output_type": "display_data"
    },
    {
     "data": {
      "text/html": [
       "<pre style=\"white-space:pre;overflow-x:auto;line-height:normal;font-family:Menlo,'DejaVu Sans Mono',consolas,'Courier New',monospace\"><span style=\"color: #008080; text-decoration-color: #008080; font-weight: bold\">11</span>              <span style=\"color: #008080; text-decoration-color: #008080; font-weight: bold\">0.5619</span>     <span style=\"color: #008080; text-decoration-color: #008080; font-weight: bold\">0.4481</span>     <span style=\"color: #008080; text-decoration-color: #008080; font-weight: bold\">0.3092</span>     <span style=\"color: #008080; text-decoration-color: #008080; font-weight: bold\">0.3659</span>    \n",
       "</pre>\n"
      ],
      "text/plain": [
       "\u001b[1;36m11\u001b[0m              \u001b[1;36m0.5619\u001b[0m     \u001b[1;36m0.4481\u001b[0m     \u001b[1;36m0.3092\u001b[0m     \u001b[1;36m0.3659\u001b[0m    \n"
      ]
     },
     "metadata": {},
     "output_type": "display_data"
    },
    {
     "data": {
      "text/html": [
       "<pre style=\"white-space:pre;overflow-x:auto;line-height:normal;font-family:Menlo,'DejaVu Sans Mono',consolas,'Courier New',monospace\"><span style=\"color: #008080; text-decoration-color: #008080; font-weight: bold\">15</span>              <span style=\"color: #008080; text-decoration-color: #008080; font-weight: bold\">0.5653</span>     <span style=\"color: #008080; text-decoration-color: #008080; font-weight: bold\">0.4496</span>     <span style=\"color: #008080; text-decoration-color: #008080; font-weight: bold\">0.2826</span>     <span style=\"color: #008080; text-decoration-color: #008080; font-weight: bold\">0.3471</span>    \n",
       "</pre>\n"
      ],
      "text/plain": [
       "\u001b[1;36m15\u001b[0m              \u001b[1;36m0.5653\u001b[0m     \u001b[1;36m0.4496\u001b[0m     \u001b[1;36m0.2826\u001b[0m     \u001b[1;36m0.3471\u001b[0m    \n"
      ]
     },
     "metadata": {},
     "output_type": "display_data"
    },
    {
     "data": {
      "text/html": [
       "<pre style=\"white-space:pre;overflow-x:auto;line-height:normal;font-family:Menlo,'DejaVu Sans Mono',consolas,'Courier New',monospace\">==================================================\n",
       "</pre>\n"
      ],
      "text/plain": [
       "==================================================\n"
      ]
     },
     "metadata": {},
     "output_type": "display_data"
    },
    {
     "data": {
      "text/html": [
       "<pre style=\"white-space:pre;overflow-x:auto;line-height:normal;font-family:Menlo,'DejaVu Sans Mono',consolas,'Courier New',monospace\">Best K Value: <span style=\"color: #008080; text-decoration-color: #008080; font-weight: bold\">15</span> with accuracy <span style=\"color: #008080; text-decoration-color: #008080; font-weight: bold\">0.5653</span>\n",
       "</pre>\n"
      ],
      "text/plain": [
       "Best K Value: \u001b[1;36m15\u001b[0m with accuracy \u001b[1;36m0.5653\u001b[0m\n"
      ]
     },
     "metadata": {},
     "output_type": "display_data"
    },
    {
     "data": {
      "text/html": [
       "<pre style=\"white-space:pre;overflow-x:auto;line-height:normal;font-family:Menlo,'DejaVu Sans Mono',consolas,'Courier New',monospace\">\n",
       "SVD Parameter Tuning Results:\n",
       "</pre>\n"
      ],
      "text/plain": [
       "\n",
       "SVD Parameter Tuning Results:\n"
      ]
     },
     "metadata": {},
     "output_type": "display_data"
    },
    {
     "data": {
      "text/html": [
       "<pre style=\"white-space:pre;overflow-x:auto;line-height:normal;font-family:Menlo,'DejaVu Sans Mono',consolas,'Courier New',monospace\">==================================================\n",
       "</pre>\n"
      ],
      "text/plain": [
       "==================================================\n"
      ]
     },
     "metadata": {},
     "output_type": "display_data"
    },
    {
     "data": {
      "text/html": [
       "<pre style=\"white-space:pre;overflow-x:auto;line-height:normal;font-family:Menlo,'DejaVu Sans Mono',consolas,'Courier New',monospace\">Components      Accuracy   Precision  Recall     F1 Score  \n",
       "</pre>\n"
      ],
      "text/plain": [
       "Components      Accuracy   Precision  Recall     F1 Score  \n"
      ]
     },
     "metadata": {},
     "output_type": "display_data"
    },
    {
     "data": {
      "text/html": [
       "<pre style=\"white-space:pre;overflow-x:auto;line-height:normal;font-family:Menlo,'DejaVu Sans Mono',consolas,'Courier New',monospace\">--------------------------------------------------\n",
       "</pre>\n"
      ],
      "text/plain": [
       "--------------------------------------------------\n"
      ]
     },
     "metadata": {},
     "output_type": "display_data"
    },
    {
     "data": {
      "text/html": [
       "<pre style=\"white-space:pre;overflow-x:auto;line-height:normal;font-family:Menlo,'DejaVu Sans Mono',consolas,'Courier New',monospace\"><span style=\"color: #008080; text-decoration-color: #008080; font-weight: bold\">2</span>               <span style=\"color: #008080; text-decoration-color: #008080; font-weight: bold\">0.5912</span>     <span style=\"color: #008080; text-decoration-color: #008080; font-weight: bold\">0.0000</span>     <span style=\"color: #008080; text-decoration-color: #008080; font-weight: bold\">0.0000</span>     <span style=\"color: #008080; text-decoration-color: #008080; font-weight: bold\">0.0000</span>    \n",
       "</pre>\n"
      ],
      "text/plain": [
       "\u001b[1;36m2\u001b[0m               \u001b[1;36m0.5912\u001b[0m     \u001b[1;36m0.0000\u001b[0m     \u001b[1;36m0.0000\u001b[0m     \u001b[1;36m0.0000\u001b[0m    \n"
      ]
     },
     "metadata": {},
     "output_type": "display_data"
    },
    {
     "data": {
      "text/html": [
       "<pre style=\"white-space:pre;overflow-x:auto;line-height:normal;font-family:Menlo,'DejaVu Sans Mono',consolas,'Courier New',monospace\"><span style=\"color: #008080; text-decoration-color: #008080; font-weight: bold\">5</span>               <span style=\"color: #008080; text-decoration-color: #008080; font-weight: bold\">0.6256</span>     <span style=\"color: #008080; text-decoration-color: #008080; font-weight: bold\">0.6371</span>     <span style=\"color: #008080; text-decoration-color: #008080; font-weight: bold\">0.1955</span>     <span style=\"color: #008080; text-decoration-color: #008080; font-weight: bold\">0.2992</span>    \n",
       "</pre>\n"
      ],
      "text/plain": [
       "\u001b[1;36m5\u001b[0m               \u001b[1;36m0.6256\u001b[0m     \u001b[1;36m0.6371\u001b[0m     \u001b[1;36m0.1955\u001b[0m     \u001b[1;36m0.2992\u001b[0m    \n"
      ]
     },
     "metadata": {},
     "output_type": "display_data"
    },
    {
     "data": {
      "text/html": [
       "<pre style=\"white-space:pre;overflow-x:auto;line-height:normal;font-family:Menlo,'DejaVu Sans Mono',consolas,'Courier New',monospace\"><span style=\"color: #008080; text-decoration-color: #008080; font-weight: bold\">10</span>              <span style=\"color: #008080; text-decoration-color: #008080; font-weight: bold\">0.9795</span>     <span style=\"color: #008080; text-decoration-color: #008080; font-weight: bold\">0.9735</span>     <span style=\"color: #008080; text-decoration-color: #008080; font-weight: bold\">0.9765</span>     <span style=\"color: #008080; text-decoration-color: #008080; font-weight: bold\">0.9750</span>    \n",
       "</pre>\n"
      ],
      "text/plain": [
       "\u001b[1;36m10\u001b[0m              \u001b[1;36m0.9795\u001b[0m     \u001b[1;36m0.9735\u001b[0m     \u001b[1;36m0.9765\u001b[0m     \u001b[1;36m0.9750\u001b[0m    \n"
      ]
     },
     "metadata": {},
     "output_type": "display_data"
    },
    {
     "data": {
      "text/html": [
       "<pre style=\"white-space:pre;overflow-x:auto;line-height:normal;font-family:Menlo,'DejaVu Sans Mono',consolas,'Courier New',monospace\"><span style=\"color: #008080; text-decoration-color: #008080; font-weight: bold\">15</span>              <span style=\"color: #008080; text-decoration-color: #008080; font-weight: bold\">0.9729</span>     <span style=\"color: #008080; text-decoration-color: #008080; font-weight: bold\">0.9691</span>     <span style=\"color: #008080; text-decoration-color: #008080; font-weight: bold\">0.9644</span>     <span style=\"color: #008080; text-decoration-color: #008080; font-weight: bold\">0.9667</span>    \n",
       "</pre>\n"
      ],
      "text/plain": [
       "\u001b[1;36m15\u001b[0m              \u001b[1;36m0.9729\u001b[0m     \u001b[1;36m0.9691\u001b[0m     \u001b[1;36m0.9644\u001b[0m     \u001b[1;36m0.9667\u001b[0m    \n"
      ]
     },
     "metadata": {},
     "output_type": "display_data"
    },
    {
     "data": {
      "text/html": [
       "<pre style=\"white-space:pre;overflow-x:auto;line-height:normal;font-family:Menlo,'DejaVu Sans Mono',consolas,'Courier New',monospace\"><span style=\"color: #008080; text-decoration-color: #008080; font-weight: bold\">20</span>              <span style=\"color: #008080; text-decoration-color: #008080; font-weight: bold\">0.9673</span>     <span style=\"color: #008080; text-decoration-color: #008080; font-weight: bold\">0.9551</span>     <span style=\"color: #008080; text-decoration-color: #008080; font-weight: bold\">0.9654</span>     <span style=\"color: #008080; text-decoration-color: #008080; font-weight: bold\">0.9602</span>    \n",
       "</pre>\n"
      ],
      "text/plain": [
       "\u001b[1;36m20\u001b[0m              \u001b[1;36m0.9673\u001b[0m     \u001b[1;36m0.9551\u001b[0m     \u001b[1;36m0.9654\u001b[0m     \u001b[1;36m0.9602\u001b[0m    \n"
      ]
     },
     "metadata": {},
     "output_type": "display_data"
    },
    {
     "data": {
      "text/html": [
       "<pre style=\"white-space:pre;overflow-x:auto;line-height:normal;font-family:Menlo,'DejaVu Sans Mono',consolas,'Courier New',monospace\"><span style=\"color: #008080; text-decoration-color: #008080; font-weight: bold\">25</span>              <span style=\"color: #008080; text-decoration-color: #008080; font-weight: bold\">0.9810</span>     <span style=\"color: #008080; text-decoration-color: #008080; font-weight: bold\">0.9770</span>     <span style=\"color: #008080; text-decoration-color: #008080; font-weight: bold\">0.9765</span>     <span style=\"color: #008080; text-decoration-color: #008080; font-weight: bold\">0.9767</span>    \n",
       "</pre>\n"
      ],
      "text/plain": [
       "\u001b[1;36m25\u001b[0m              \u001b[1;36m0.9810\u001b[0m     \u001b[1;36m0.9770\u001b[0m     \u001b[1;36m0.9765\u001b[0m     \u001b[1;36m0.9767\u001b[0m    \n"
      ]
     },
     "metadata": {},
     "output_type": "display_data"
    },
    {
     "data": {
      "text/html": [
       "<pre style=\"white-space:pre;overflow-x:auto;line-height:normal;font-family:Menlo,'DejaVu Sans Mono',consolas,'Courier New',monospace\">==================================================\n",
       "</pre>\n"
      ],
      "text/plain": [
       "==================================================\n"
      ]
     },
     "metadata": {},
     "output_type": "display_data"
    },
    {
     "data": {
      "text/html": [
       "<pre style=\"white-space:pre;overflow-x:auto;line-height:normal;font-family:Menlo,'DejaVu Sans Mono',consolas,'Courier New',monospace\">Best Components: <span style=\"color: #008080; text-decoration-color: #008080; font-weight: bold\">25</span> with accuracy <span style=\"color: #008080; text-decoration-color: #008080; font-weight: bold\">0.9810</span>\n",
       "</pre>\n"
      ],
      "text/plain": [
       "Best Components: \u001b[1;36m25\u001b[0m with accuracy \u001b[1;36m0.9810\u001b[0m\n"
      ]
     },
     "metadata": {},
     "output_type": "display_data"
    },
    {
     "data": {
      "text/html": [
       "<pre style=\"white-space:pre;overflow-x:auto;line-height:normal;font-family:Menlo,'DejaVu Sans Mono',consolas,'Courier New',monospace\">\n",
       "LogisticRegression Parameter Tuning Results:\n",
       "</pre>\n"
      ],
      "text/plain": [
       "\n",
       "LogisticRegression Parameter Tuning Results:\n"
      ]
     },
     "metadata": {},
     "output_type": "display_data"
    },
    {
     "data": {
      "text/html": [
       "<pre style=\"white-space:pre;overflow-x:auto;line-height:normal;font-family:Menlo,'DejaVu Sans Mono',consolas,'Courier New',monospace\">==================================================\n",
       "</pre>\n"
      ],
      "text/plain": [
       "==================================================\n"
      ]
     },
     "metadata": {},
     "output_type": "display_data"
    },
    {
     "data": {
      "text/html": [
       "<pre style=\"white-space:pre;overflow-x:auto;line-height:normal;font-family:Menlo,'DejaVu Sans Mono',consolas,'Courier New',monospace\">C Value         Accuracy   Precision  Recall     F1 Score  \n",
       "</pre>\n"
      ],
      "text/plain": [
       "C Value         Accuracy   Precision  Recall     F1 Score  \n"
      ]
     },
     "metadata": {},
     "output_type": "display_data"
    },
    {
     "data": {
      "text/html": [
       "<pre style=\"white-space:pre;overflow-x:auto;line-height:normal;font-family:Menlo,'DejaVu Sans Mono',consolas,'Courier New',monospace\">--------------------------------------------------\n",
       "</pre>\n"
      ],
      "text/plain": [
       "--------------------------------------------------\n"
      ]
     },
     "metadata": {},
     "output_type": "display_data"
    },
    {
     "data": {
      "text/html": [
       "<pre style=\"white-space:pre;overflow-x:auto;line-height:normal;font-family:Menlo,'DejaVu Sans Mono',consolas,'Courier New',monospace\"><span style=\"color: #008080; text-decoration-color: #008080; font-weight: bold\">0.01</span>            <span style=\"color: #008080; text-decoration-color: #008080; font-weight: bold\">0.6479</span>     <span style=\"color: #008080; text-decoration-color: #008080; font-weight: bold\">0.6903</span>     <span style=\"color: #008080; text-decoration-color: #008080; font-weight: bold\">0.2516</span>     <span style=\"color: #008080; text-decoration-color: #008080; font-weight: bold\">0.3688</span>    \n",
       "</pre>\n"
      ],
      "text/plain": [
       "\u001b[1;36m0.01\u001b[0m            \u001b[1;36m0.6479\u001b[0m     \u001b[1;36m0.6903\u001b[0m     \u001b[1;36m0.2516\u001b[0m     \u001b[1;36m0.3688\u001b[0m    \n"
      ]
     },
     "metadata": {},
     "output_type": "display_data"
    },
    {
     "data": {
      "text/html": [
       "<pre style=\"white-space:pre;overflow-x:auto;line-height:normal;font-family:Menlo,'DejaVu Sans Mono',consolas,'Courier New',monospace\"><span style=\"color: #008080; text-decoration-color: #008080; font-weight: bold\">0.1</span>             <span style=\"color: #008080; text-decoration-color: #008080; font-weight: bold\">0.6479</span>     <span style=\"color: #008080; text-decoration-color: #008080; font-weight: bold\">0.6901</span>     <span style=\"color: #008080; text-decoration-color: #008080; font-weight: bold\">0.2516</span>     <span style=\"color: #008080; text-decoration-color: #008080; font-weight: bold\">0.3687</span>    \n",
       "</pre>\n"
      ],
      "text/plain": [
       "\u001b[1;36m0.1\u001b[0m             \u001b[1;36m0.6479\u001b[0m     \u001b[1;36m0.6901\u001b[0m     \u001b[1;36m0.2516\u001b[0m     \u001b[1;36m0.3687\u001b[0m    \n"
      ]
     },
     "metadata": {},
     "output_type": "display_data"
    },
    {
     "data": {
      "text/html": [
       "<pre style=\"white-space:pre;overflow-x:auto;line-height:normal;font-family:Menlo,'DejaVu Sans Mono',consolas,'Courier New',monospace\"><span style=\"color: #008080; text-decoration-color: #008080; font-weight: bold\">1.0</span>             <span style=\"color: #008080; text-decoration-color: #008080; font-weight: bold\">0.6479</span>     <span style=\"color: #008080; text-decoration-color: #008080; font-weight: bold\">0.6901</span>     <span style=\"color: #008080; text-decoration-color: #008080; font-weight: bold\">0.2516</span>     <span style=\"color: #008080; text-decoration-color: #008080; font-weight: bold\">0.3687</span>    \n",
       "</pre>\n"
      ],
      "text/plain": [
       "\u001b[1;36m1.0\u001b[0m             \u001b[1;36m0.6479\u001b[0m     \u001b[1;36m0.6901\u001b[0m     \u001b[1;36m0.2516\u001b[0m     \u001b[1;36m0.3687\u001b[0m    \n"
      ]
     },
     "metadata": {},
     "output_type": "display_data"
    },
    {
     "data": {
      "text/html": [
       "<pre style=\"white-space:pre;overflow-x:auto;line-height:normal;font-family:Menlo,'DejaVu Sans Mono',consolas,'Courier New',monospace\"><span style=\"color: #008080; text-decoration-color: #008080; font-weight: bold\">10.0</span>            <span style=\"color: #008080; text-decoration-color: #008080; font-weight: bold\">0.6479</span>     <span style=\"color: #008080; text-decoration-color: #008080; font-weight: bold\">0.6901</span>     <span style=\"color: #008080; text-decoration-color: #008080; font-weight: bold\">0.2516</span>     <span style=\"color: #008080; text-decoration-color: #008080; font-weight: bold\">0.3687</span>    \n",
       "</pre>\n"
      ],
      "text/plain": [
       "\u001b[1;36m10.0\u001b[0m            \u001b[1;36m0.6479\u001b[0m     \u001b[1;36m0.6901\u001b[0m     \u001b[1;36m0.2516\u001b[0m     \u001b[1;36m0.3687\u001b[0m    \n"
      ]
     },
     "metadata": {},
     "output_type": "display_data"
    },
    {
     "data": {
      "text/html": [
       "<pre style=\"white-space:pre;overflow-x:auto;line-height:normal;font-family:Menlo,'DejaVu Sans Mono',consolas,'Courier New',monospace\"><span style=\"color: #008080; text-decoration-color: #008080; font-weight: bold\">100.0</span>           <span style=\"color: #008080; text-decoration-color: #008080; font-weight: bold\">0.6479</span>     <span style=\"color: #008080; text-decoration-color: #008080; font-weight: bold\">0.6901</span>     <span style=\"color: #008080; text-decoration-color: #008080; font-weight: bold\">0.2516</span>     <span style=\"color: #008080; text-decoration-color: #008080; font-weight: bold\">0.3687</span>    \n",
       "</pre>\n"
      ],
      "text/plain": [
       "\u001b[1;36m100.0\u001b[0m           \u001b[1;36m0.6479\u001b[0m     \u001b[1;36m0.6901\u001b[0m     \u001b[1;36m0.2516\u001b[0m     \u001b[1;36m0.3687\u001b[0m    \n"
      ]
     },
     "metadata": {},
     "output_type": "display_data"
    },
    {
     "data": {
      "text/html": [
       "<pre style=\"white-space:pre;overflow-x:auto;line-height:normal;font-family:Menlo,'DejaVu Sans Mono',consolas,'Courier New',monospace\">==================================================\n",
       "</pre>\n"
      ],
      "text/plain": [
       "==================================================\n"
      ]
     },
     "metadata": {},
     "output_type": "display_data"
    },
    {
     "data": {
      "text/html": [
       "<pre style=\"white-space:pre;overflow-x:auto;line-height:normal;font-family:Menlo,'DejaVu Sans Mono',consolas,'Courier New',monospace\">Best C Value: <span style=\"color: #008080; text-decoration-color: #008080; font-weight: bold\">0.01</span> with accuracy <span style=\"color: #008080; text-decoration-color: #008080; font-weight: bold\">0.6479</span>\n",
       "</pre>\n"
      ],
      "text/plain": [
       "Best C Value: \u001b[1;36m0.01\u001b[0m with accuracy \u001b[1;36m0.6479\u001b[0m\n"
      ]
     },
     "metadata": {},
     "output_type": "display_data"
    }
   ],
   "source": [
    "# ===== MODEL PARAMETER TUNING VISUALIZATION =====\n",
    "# Function to visualize parameter tuning results\n",
    "def visualize_parameter_tuning(model_name, param_results, param_name=\"Parameter\"):\n",
    "    if not param_results:\n",
    "        print(f\"No parameter tuning results available for {model_name}\")\n",
    "        return\n",
    "    \n",
    "    print(f\"\\n{model_name} Parameter Tuning Results:\")\n",
    "    print(\"=\"*50)\n",
    "    print(f\"{param_name:<15} {'Accuracy':<10} {'Precision':<10} {'Recall':<10} {'F1 Score':<10}\")\n",
    "    print(\"-\"*50)\n",
    "    \n",
    "    for param, metrics in sorted(param_results.items()):\n",
    "        print(f\"{param:<15} {metrics['accuracy']:<10.4f} {metrics['precision']:<10.4f} \"\n",
    "              f\"{metrics['recall']:<10.4f} {metrics['f1']:<10.4f}\")\n",
    "    \n",
    "    # Find best parameter\n",
    "    best_param = max(param_results.items(), key=lambda x: x[1][\"accuracy\"])[0]\n",
    "    print(\"=\"*50)\n",
    "    print(f\"Best {param_name}: {best_param} with accuracy {param_results[best_param]['accuracy']:.4f}\")\n",
    "\n",
    "# Visualize parameter tuning for each model\n",
    "print(\"\\n=== Parameter Tuning Results ===\")\n",
    "if \"XGBoost\" in model_metrics:\n",
    "    visualize_parameter_tuning(\"XGBoost\", model_metrics[\"XGBoost\"], \"Epochs\")\n",
    "if \"KMeans\" in model_metrics:\n",
    "    visualize_parameter_tuning(\"KMeans\", model_metrics[\"KMeans\"], \"Clusters\")\n",
    "if \"KNN\" in model_metrics:\n",
    "    visualize_parameter_tuning(\"KNN\", model_metrics[\"KNN\"], \"K Value\")\n",
    "if \"SVD\" in model_metrics:\n",
    "    visualize_parameter_tuning(\"SVD\", model_metrics[\"SVD\"], \"Components\")\n",
    "if \"LogisticRegression\" in model_metrics:\n",
    "    visualize_parameter_tuning(\"LogisticRegression\", model_metrics[\"LogisticRegression\"], \"C Value\")"
   ]
  },
  {
   "cell_type": "code",
   "execution_count": 155,
   "id": "7e8c3791",
   "metadata": {},
   "outputs": [
    {
     "data": {
      "text/html": [
       "<pre style=\"white-space:pre;overflow-x:auto;line-height:normal;font-family:Menlo,'DejaVu Sans Mono',consolas,'Courier New',monospace\">\n",
       "=== Generating Recommendations ===\n",
       "</pre>\n"
      ],
      "text/plain": [
       "\n",
       "=== Generating Recommendations ===\n"
      ]
     },
     "metadata": {},
     "output_type": "display_data"
    }
   ],
   "source": [
    "# ===== RECOMMENDATION FUNCTIONS =====\n",
    "print(\"\\n=== Generating Recommendations ===\")\n",
    "\n",
    "def content_based_recommendation(book_id, df, feature_matrix, n=5):\n",
    "    \"\"\"Generate recommendations based on book similarity\"\"\"\n",
    "    # Ensure book_id is valid\n",
    "    if book_id >= len(feature_matrix):\n",
    "        book_id = 0\n",
    "        \n",
    "    # Get the book vector\n",
    "    book_features = feature_matrix.iloc[book_id:book_id+1]\n",
    "    \n",
    "    # Calculate similarity with all other books (in batches to save memory)\n",
    "    batch_size = 1000\n",
    "    n_batches = len(feature_matrix) // batch_size + 1\n",
    "    similarities = []\n",
    "    \n",
    "    for i in range(n_batches):\n",
    "        start_idx = i * batch_size\n",
    "        end_idx = min((i + 1) * batch_size, len(feature_matrix))\n",
    "        batch = feature_matrix.iloc[start_idx:end_idx]\n",
    "        \n",
    "        # Calculate similarity\n",
    "        sim_batch = cosine_similarity(book_features, batch).flatten()\n",
    "        similarities.extend(list(zip(range(start_idx, end_idx), sim_batch)))\n",
    "    \n",
    "    # Sort by similarity (excluding the book itself)\n",
    "    similarities.sort(key=lambda x: x[1], reverse=True)\n",
    "    similar_books = [pair[0] for pair in similarities if pair[0] != book_id][:n]\n",
    "    \n",
    "    # Return recommendations\n",
    "    return df.iloc[similar_books][['title', 'author', 'rating']]\n",
    "\n",
    "def collaborative_filtering(df, n=5):\n",
    "    \"\"\"Simple memory-efficient collaborative filtering\"\"\"\n",
    "    # Create a smaller user-item matrix (simulate collaborative filtering)\n",
    "    n_users = 100\n",
    "    n_items = min(1000, len(df))\n",
    "    \n",
    "    # Sample some books\n",
    "    sampled_books = df.iloc[:n_items].copy()\n",
    "    \n",
    "    # Generate random user preferences\n",
    "    np.random.seed(42)\n",
    "    user_preferences = np.random.rand(n_users, n_items).astype('float32')\n",
    "    \n",
    "    # Perform SVD on this small matrix\n",
    "    svd = TruncatedSVD(n_components=10, random_state=42)\n",
    "    user_factors = svd.fit_transform(user_preferences)\n",
    "    item_factors = svd.components_.T\n",
    "    \n",
    "    # For a random user, get recommendations\n",
    "    user_id = 0\n",
    "    user_vector = user_factors[user_id]\n",
    "    scores = np.dot(user_vector, item_factors.T)\n",
    "    \n",
    "    # Get top books\n",
    "    top_items = np.argsort(scores)[::-1][:n]\n",
    "    return sampled_books.iloc[top_items][['title', 'author', 'rating']]\n"
   ]
  },
  {
   "cell_type": "code",
   "execution_count": 158,
   "id": "e574c524",
   "metadata": {},
   "outputs": [
    {
     "data": {
      "text/html": [
       "<pre style=\"white-space:pre;overflow-x:auto;line-height:normal;font-family:Menlo,'DejaVu Sans Mono',consolas,'Courier New',monospace\">\n",
       "=== Final Evaluation and Insights ===\n",
       "</pre>\n"
      ],
      "text/plain": [
       "\n",
       "=== Final Evaluation and Insights ===\n"
      ]
     },
     "metadata": {},
     "output_type": "display_data"
    },
    {
     "data": {
      "text/html": [
       "<pre style=\"white-space:pre;overflow-x:auto;line-height:normal;font-family:Menlo,'DejaVu Sans Mono',consolas,'Courier New',monospace\"><span style=\"color: #008080; text-decoration-color: #008080; font-weight: bold\">1</span>. Best Classification Model:\n",
       "</pre>\n"
      ],
      "text/plain": [
       "\u001b[1;36m1\u001b[0m. Best Classification Model:\n"
      ]
     },
     "metadata": {},
     "output_type": "display_data"
    },
    {
     "data": {
      "text/html": [
       "<pre style=\"white-space:pre;overflow-x:auto;line-height:normal;font-family:Menlo,'DejaVu Sans Mono',consolas,'Courier New',monospace\">The best classification model for this dataset is: XGBoost\n",
       "</pre>\n"
      ],
      "text/plain": [
       "The best classification model for this dataset is: XGBoost\n"
      ]
     },
     "metadata": {},
     "output_type": "display_data"
    },
    {
     "data": {
      "text/html": [
       "<pre style=\"white-space:pre;overflow-x:auto;line-height:normal;font-family:Menlo,'DejaVu Sans Mono',consolas,'Courier New',monospace\">This model can be used for predicting whether a book will have a high rating <span style=\"font-weight: bold\">(</span>≥<span style=\"color: #008080; text-decoration-color: #008080; font-weight: bold\">4.0</span><span style=\"font-weight: bold\">)</span>.\n",
       "</pre>\n"
      ],
      "text/plain": [
       "This model can be used for predicting whether a book will have a high rating \u001b[1m(\u001b[0m≥\u001b[1;36m4.0\u001b[0m\u001b[1m)\u001b[0m.\n"
      ]
     },
     "metadata": {},
     "output_type": "display_data"
    },
    {
     "data": {
      "text/html": [
       "<pre style=\"white-space:pre;overflow-x:auto;line-height:normal;font-family:Menlo,'DejaVu Sans Mono',consolas,'Courier New',monospace\">\n",
       "<span style=\"color: #008080; text-decoration-color: #008080; font-weight: bold\">2</span>. Recommendation Systems:\n",
       "</pre>\n"
      ],
      "text/plain": [
       "\n",
       "\u001b[1;36m2\u001b[0m. Recommendation Systems:\n"
      ]
     },
     "metadata": {},
     "output_type": "display_data"
    },
    {
     "data": {
      "text/html": [
       "<pre style=\"white-space:pre;overflow-x:auto;line-height:normal;font-family:Menlo,'DejaVu Sans Mono',consolas,'Courier New',monospace\">- Content-based system: Best for recommending books similar to ones the user already likes\n",
       "</pre>\n"
      ],
      "text/plain": [
       "- Content-based system: Best for recommending books similar to ones the user already likes\n"
      ]
     },
     "metadata": {},
     "output_type": "display_data"
    },
    {
     "data": {
      "text/html": [
       "<pre style=\"white-space:pre;overflow-x:auto;line-height:normal;font-family:Menlo,'DejaVu Sans Mono',consolas,'Courier New',monospace\">- Collaborative filtering: Better for discovering new books based on user behavior patterns\n",
       "</pre>\n"
      ],
      "text/plain": [
       "- Collaborative filtering: Better for discovering new books based on user behavior patterns\n"
      ]
     },
     "metadata": {},
     "output_type": "display_data"
    },
    {
     "data": {
      "text/html": [
       "<pre style=\"white-space:pre;overflow-x:auto;line-height:normal;font-family:Menlo,'DejaVu Sans Mono',consolas,'Courier New',monospace\">- Hybrid system: Combines strengths of both approaches for better recommendations\n",
       "</pre>\n"
      ],
      "text/plain": [
       "- Hybrid system: Combines strengths of both approaches for better recommendations\n"
      ]
     },
     "metadata": {},
     "output_type": "display_data"
    },
    {
     "data": {
      "text/html": [
       "<pre style=\"white-space:pre;overflow-x:auto;line-height:normal;font-family:Menlo,'DejaVu Sans Mono',consolas,'Courier New',monospace\">\n",
       "<span style=\"color: #008080; text-decoration-color: #008080; font-weight: bold\">3</span>. Key Features Importance:\n",
       "</pre>\n"
      ],
      "text/plain": [
       "\n",
       "\u001b[1;36m3\u001b[0m. Key Features Importance:\n"
      ]
     },
     "metadata": {},
     "output_type": "display_data"
    },
    {
     "data": {
      "text/html": [
       "<pre style=\"white-space:pre;overflow-x:auto;line-height:normal;font-family:Menlo,'DejaVu Sans Mono',consolas,'Courier New',monospace\">Top <span style=\"color: #008080; text-decoration-color: #008080; font-weight: bold\">10</span> important features for predicting book ratings:\n",
       "</pre>\n"
      ],
      "text/plain": [
       "Top \u001b[1;36m10\u001b[0m important features for predicting book ratings:\n"
      ]
     },
     "metadata": {},
     "output_type": "display_data"
    },
    {
     "data": {
      "text/html": [
       "<pre style=\"white-space:pre;overflow-x:auto;line-height:normal;font-family:Menlo,'DejaVu Sans Mono',consolas,'Courier New',monospace\"><span style=\"color: #008080; text-decoration-color: #008080; font-weight: bold\">1</span>. log_totalratings: <span style=\"color: #008080; text-decoration-color: #008080; font-weight: bold\">0.2950</span>\n",
       "</pre>\n"
      ],
      "text/plain": [
       "\u001b[1;36m1\u001b[0m. log_totalratings: \u001b[1;36m0.2950\u001b[0m\n"
      ]
     },
     "metadata": {},
     "output_type": "display_data"
    },
    {
     "data": {
      "text/html": [
       "<pre style=\"white-space:pre;overflow-x:auto;line-height:normal;font-family:Menlo,'DejaVu Sans Mono',consolas,'Courier New',monospace\"><span style=\"color: #008080; text-decoration-color: #008080; font-weight: bold\">2</span>. popularity_score: <span style=\"color: #008080; text-decoration-color: #008080; font-weight: bold\">0.2388</span>\n",
       "</pre>\n"
      ],
      "text/plain": [
       "\u001b[1;36m2\u001b[0m. popularity_score: \u001b[1;36m0.2388\u001b[0m\n"
      ]
     },
     "metadata": {},
     "output_type": "display_data"
    },
    {
     "data": {
      "text/html": [
       "<pre style=\"white-space:pre;overflow-x:auto;line-height:normal;font-family:Menlo,'DejaVu Sans Mono',consolas,'Courier New',monospace\"><span style=\"color: #008080; text-decoration-color: #008080; font-weight: bold\">3</span>. log_reviews: <span style=\"color: #008080; text-decoration-color: #008080; font-weight: bold\">0.1340</span>\n",
       "</pre>\n"
      ],
      "text/plain": [
       "\u001b[1;36m3\u001b[0m. log_reviews: \u001b[1;36m0.1340\u001b[0m\n"
      ]
     },
     "metadata": {},
     "output_type": "display_data"
    },
    {
     "data": {
      "text/html": [
       "<pre style=\"white-space:pre;overflow-x:auto;line-height:normal;font-family:Menlo,'DejaVu Sans Mono',consolas,'Courier New',monospace\"><span style=\"color: #008080; text-decoration-color: #008080; font-weight: bold\">4</span>. review_ratio: <span style=\"color: #008080; text-decoration-color: #008080; font-weight: bold\">0.0553</span>\n",
       "</pre>\n"
      ],
      "text/plain": [
       "\u001b[1;36m4\u001b[0m. review_ratio: \u001b[1;36m0.0553\u001b[0m\n"
      ]
     },
     "metadata": {},
     "output_type": "display_data"
    },
    {
     "data": {
      "text/html": [
       "<pre style=\"white-space:pre;overflow-x:auto;line-height:normal;font-family:Menlo,'DejaVu Sans Mono',consolas,'Courier New',monospace\"><span style=\"color: #008080; text-decoration-color: #008080; font-weight: bold\">5</span>. log_pages: <span style=\"color: #008080; text-decoration-color: #008080; font-weight: bold\">0.0477</span>\n",
       "</pre>\n"
      ],
      "text/plain": [
       "\u001b[1;36m5\u001b[0m. log_pages: \u001b[1;36m0.0477\u001b[0m\n"
      ]
     },
     "metadata": {},
     "output_type": "display_data"
    },
    {
     "data": {
      "text/html": [
       "<pre style=\"white-space:pre;overflow-x:auto;line-height:normal;font-family:Menlo,'DejaVu Sans Mono',consolas,'Courier New',monospace\"><span style=\"color: #008080; text-decoration-color: #008080; font-weight: bold\">6</span>. genre_Other: <span style=\"color: #008080; text-decoration-color: #008080; font-weight: bold\">0.0417</span>\n",
       "</pre>\n"
      ],
      "text/plain": [
       "\u001b[1;36m6\u001b[0m. genre_Other: \u001b[1;36m0.0417\u001b[0m\n"
      ]
     },
     "metadata": {},
     "output_type": "display_data"
    },
    {
     "data": {
      "text/html": [
       "<pre style=\"white-space:pre;overflow-x:auto;line-height:normal;font-family:Menlo,'DejaVu Sans Mono',consolas,'Courier New',monospace\"><span style=\"color: #008080; text-decoration-color: #008080; font-weight: bold\">7</span>. format_encoded: <span style=\"color: #008080; text-decoration-color: #008080; font-weight: bold\">0.0358</span>\n",
       "</pre>\n"
      ],
      "text/plain": [
       "\u001b[1;36m7\u001b[0m. format_encoded: \u001b[1;36m0.0358\u001b[0m\n"
      ]
     },
     "metadata": {},
     "output_type": "display_data"
    },
    {
     "data": {
      "text/html": [
       "<pre style=\"white-space:pre;overflow-x:auto;line-height:normal;font-family:Menlo,'DejaVu Sans Mono',consolas,'Courier New',monospace\"><span style=\"color: #008080; text-decoration-color: #008080; font-weight: bold\">8</span>. genre_Romance,Romance,African American Romance: <span style=\"color: #008080; text-decoration-color: #008080; font-weight: bold\">0.0254</span>\n",
       "</pre>\n"
      ],
      "text/plain": [
       "\u001b[1;36m8\u001b[0m. genre_Romance,Romance,African American Romance: \u001b[1;36m0.0254\u001b[0m\n"
      ]
     },
     "metadata": {},
     "output_type": "display_data"
    },
    {
     "data": {
      "text/html": [
       "<pre style=\"white-space:pre;overflow-x:auto;line-height:normal;font-family:Menlo,'DejaVu Sans Mono',consolas,'Courier New',monospace\"><span style=\"color: #008080; text-decoration-color: #008080; font-weight: bold\">9</span>. genre_Poetry: <span style=\"color: #008080; text-decoration-color: #008080; font-weight: bold\">0.0155</span>\n",
       "</pre>\n"
      ],
      "text/plain": [
       "\u001b[1;36m9\u001b[0m. genre_Poetry: \u001b[1;36m0.0155\u001b[0m\n"
      ]
     },
     "metadata": {},
     "output_type": "display_data"
    },
    {
     "data": {
      "text/html": [
       "<pre style=\"white-space:pre;overflow-x:auto;line-height:normal;font-family:Menlo,'DejaVu Sans Mono',consolas,'Courier New',monospace\"><span style=\"color: #008080; text-decoration-color: #008080; font-weight: bold\">10</span>. genre_History: <span style=\"color: #008080; text-decoration-color: #008080; font-weight: bold\">0.0132</span>\n",
       "</pre>\n"
      ],
      "text/plain": [
       "\u001b[1;36m10\u001b[0m. genre_History: \u001b[1;36m0.0132\u001b[0m\n"
      ]
     },
     "metadata": {},
     "output_type": "display_data"
    },
    {
     "data": {
      "text/html": [
       "<pre style=\"white-space:pre;overflow-x:auto;line-height:normal;font-family:Menlo,'DejaVu Sans Mono',consolas,'Courier New',monospace\">\n",
       "<span style=\"color: #008080; text-decoration-color: #008080; font-weight: bold\">4</span>. Model Training Efficiency:\n",
       "</pre>\n"
      ],
      "text/plain": [
       "\n",
       "\u001b[1;36m4\u001b[0m. Model Training Efficiency:\n"
      ]
     },
     "metadata": {},
     "output_type": "display_data"
    },
    {
     "data": {
      "text/html": [
       "<pre style=\"white-space:pre;overflow-x:auto;line-height:normal;font-family:Menlo,'DejaVu Sans Mono',consolas,'Courier New',monospace\">- LogisticRegression: <span style=\"color: #008080; text-decoration-color: #008080; font-weight: bold\">0.67</span> seconds\n",
       "</pre>\n"
      ],
      "text/plain": [
       "- LogisticRegression: \u001b[1;36m0.67\u001b[0m seconds\n"
      ]
     },
     "metadata": {},
     "output_type": "display_data"
    },
    {
     "data": {
      "text/html": [
       "<pre style=\"white-space:pre;overflow-x:auto;line-height:normal;font-family:Menlo,'DejaVu Sans Mono',consolas,'Courier New',monospace\">- XGBoost: <span style=\"color: #008080; text-decoration-color: #008080; font-weight: bold\">1.26</span> seconds\n",
       "</pre>\n"
      ],
      "text/plain": [
       "- XGBoost: \u001b[1;36m1.26\u001b[0m seconds\n"
      ]
     },
     "metadata": {},
     "output_type": "display_data"
    },
    {
     "data": {
      "text/html": [
       "<pre style=\"white-space:pre;overflow-x:auto;line-height:normal;font-family:Menlo,'DejaVu Sans Mono',consolas,'Courier New',monospace\">- KNN: <span style=\"color: #008080; text-decoration-color: #008080; font-weight: bold\">1.85</span> seconds\n",
       "</pre>\n"
      ],
      "text/plain": [
       "- KNN: \u001b[1;36m1.85\u001b[0m seconds\n"
      ]
     },
     "metadata": {},
     "output_type": "display_data"
    },
    {
     "data": {
      "text/html": [
       "<pre style=\"white-space:pre;overflow-x:auto;line-height:normal;font-family:Menlo,'DejaVu Sans Mono',consolas,'Courier New',monospace\">- KMeans: <span style=\"color: #008080; text-decoration-color: #008080; font-weight: bold\">4.50</span> seconds\n",
       "</pre>\n"
      ],
      "text/plain": [
       "- KMeans: \u001b[1;36m4.50\u001b[0m seconds\n"
      ]
     },
     "metadata": {},
     "output_type": "display_data"
    },
    {
     "data": {
      "text/html": [
       "<pre style=\"white-space:pre;overflow-x:auto;line-height:normal;font-family:Menlo,'DejaVu Sans Mono',consolas,'Courier New',monospace\">- SVD: <span style=\"color: #008080; text-decoration-color: #008080; font-weight: bold\">17.69</span> seconds\n",
       "</pre>\n"
      ],
      "text/plain": [
       "- SVD: \u001b[1;36m17.69\u001b[0m seconds\n"
      ]
     },
     "metadata": {},
     "output_type": "display_data"
    },
    {
     "data": {
      "text/html": [
       "<pre style=\"white-space:pre;overflow-x:auto;line-height:normal;font-family:Menlo,'DejaVu Sans Mono',consolas,'Courier New',monospace\">\n",
       "=== Evaluation complete ===\n",
       "</pre>\n"
      ],
      "text/plain": [
       "\n",
       "=== Evaluation complete ===\n"
      ]
     },
     "metadata": {},
     "output_type": "display_data"
    },
    {
     "data": {
      "text/html": [
       "<pre style=\"white-space:pre;overflow-x:auto;line-height:normal;font-family:Menlo,'DejaVu Sans Mono',consolas,'Courier New',monospace\">Recommendation system is ready for deployment.\n",
       "</pre>\n"
      ],
      "text/plain": [
       "Recommendation system is ready for deployment.\n"
      ]
     },
     "metadata": {},
     "output_type": "display_data"
    }
   ],
   "source": [
    "# ===== FINAL EVALUATION =====\n",
    "print(\"\\n=== Final Evaluation and Insights ===\")\n",
    "print(\"1. Best Classification Model:\")\n",
    "best_model_name = max([\n",
    "    (\"XGBoost\", max(model_metrics.get(\"XGBoost\", {}).items(), key=lambda x: x[1][\"accuracy\"])[1][\"accuracy\"] if \"XGBoost\" in model_metrics else 0),\n",
    "    (\"KNN\", max(model_metrics.get(\"KNN\", {}).items(), key=lambda x: x[1][\"accuracy\"])[1][\"accuracy\"] if \"KNN\" in model_metrics else 0),\n",
    "    (\"LogisticRegression\", max(model_metrics.get(\"LogisticRegression\", {}).items(), key=lambda x: x[1][\"accuracy\"])[1][\"accuracy\"] if \"LogisticRegression\" in model_metrics else 0),\n",
    "], key=lambda x: x[1])[0]\n",
    "\n",
    "print(f\"The best classification model for this dataset is: {best_model_name}\")\n",
    "print(\"This model can be used for predicting whether a book will have a high rating (≥4.0).\")\n",
    "\n",
    "print(\"\\n2. Recommendation Systems:\")\n",
    "print(\"- Content-based system: Best for recommending books similar to ones the user already likes\")\n",
    "print(\"- Collaborative filtering: Better for discovering new books based on user behavior patterns\")\n",
    "print(\"- Hybrid system: Combines strengths of both approaches for better recommendations\")\n",
    "\n",
    "print(\"\\n3. Key Features Importance:\")\n",
    "if hasattr(xgb_model, 'feature_importances_'):\n",
    "    feature_importance = xgb_model.feature_importances_\n",
    "    feature_names = X_train.columns\n",
    "    \n",
    "    # Sort features by importance\n",
    "    sorted_idx = np.argsort(feature_importance)[::-1]\n",
    "    top_features = [(feature_names[i], feature_importance[i]) for i in sorted_idx[:10]]\n",
    "    \n",
    "    print(\"Top 10 important features for predicting book ratings:\")\n",
    "    for i, (feature, importance) in enumerate(top_features):\n",
    "        print(f\"{i+1}. {feature}: {importance:.4f}\")\n",
    "\n",
    "print(\"\\n4. Model Training Efficiency:\")\n",
    "for model, time_taken in sorted(model_training_time.items(), key=lambda x: x[1]):\n",
    "    print(f\"- {model}: {time_taken:.2f} seconds\")\n",
    "\n",
    "print(\"\\n=== Evaluation complete ===\")\n",
    "print(\"Recommendation system is ready for deployment.\")"
   ]
  },
  {
   "cell_type": "code",
   "execution_count": 166,
   "id": "c3e0e7d7",
   "metadata": {},
   "outputs": [
    {
     "data": {
      "text/html": [
       "<pre style=\"white-space:pre;overflow-x:auto;line-height:normal;font-family:Menlo,'DejaVu Sans Mono',consolas,'Courier New',monospace\">✅ Saved: xgb_model.pkl, kmeans_model.pkl, knn_model.pkl, svd_transformer.pkl, svd_logistic_model.pkl\n",
       "</pre>\n"
      ],
      "text/plain": [
       "✅ Saved: xgb_model.pkl, kmeans_model.pkl, knn_model.pkl, svd_transformer.pkl, svd_logistic_model.pkl\n"
      ]
     },
     "metadata": {},
     "output_type": "display_data"
    }
   ],
   "source": [
    "\n",
    "joblib.dump(xgb_model,           \"xgb_model.pkl\")\n",
    "joblib.dump(kmeans_model,        \"kmeans_model.pkl\")\n",
    "joblib.dump(knn_model,           \"knn_model.pkl\")\n",
    "svd_transformer, logreg_on_svd = svd_models\n",
    "joblib.dump(svd_transformer,     \"svd_transformer.pkl\")\n",
    "joblib.dump(logreg_on_svd,       \"svd_logistic_model.pkl\")\n",
    "\n",
    "print(\"✅ Saved: xgb_model.pkl, kmeans_model.pkl, knn_model.pkl, svd_transformer.pkl, svd_logistic_model.pkl\")"
   ]
  },
  {
   "cell_type": "code",
   "execution_count": 167,
   "id": "10f8903d",
   "metadata": {},
   "outputs": [],
   "source": [
    "import pandas as pd\n",
    "import numpy as np\n",
    "import joblib\n",
    "from sklearn.preprocessing import LabelEncoder\n",
    "from sklearn.metrics.pairwise import cosine_similarity\n",
    "\n",
    "def prepare_numeric_features(df):\n",
    "    df2 = df.copy()\n",
    "    df2[\"log_pages\"]        = np.log1p(df2[\"pages\"])\n",
    "    df2[\"log_reviews\"]      = np.log1p(df2[\"reviews\"])\n",
    "    df2[\"log_totalratings\"] = np.log1p(df2[\"totalratings\"])\n",
    "    df2[\"popularity_score\"] = df2[\"rating\"] * df2[\"log_totalratings\"]\n",
    "    df2[\"review_ratio\"]     = df2[\"reviews\"] / df2[\"totalratings\"].replace(0, np.nan)\n",
    "    return df2[[\n",
    "        \"log_pages\",\"log_reviews\",\"log_totalratings\",\n",
    "        \"popularity_score\",\"review_ratio\"\n",
    "    ]].fillna(0)\n",
    "\n",
    "def recommend_books(df, genres, top_n=10):\n",
    "    # — filter for candidates —\n",
    "    df_clean = df.dropna(subset=[\"genre\"]).reset_index(drop=True)\n",
    "    df_clean[\"genre_list\"] = df_clean[\"genre\"].str.split(\",\").apply(lambda L: [g.strip() for g in L])\n",
    "    exploded = df_clean.explode(\"genre_list\")\n",
    "    cands = exploded[exploded[\"genre_list\"].isin(genres)].drop_duplicates(\"title\")\n",
    "    if cands.empty:\n",
    "        print(\"⚠️  No books found for those genres.\")\n",
    "        return pd.DataFrame()\n",
    "    idx = cands.index\n",
    "\n",
    "    # — build feature‐matrix on the *entire* df, filling missing genre as \"Other\" —\n",
    "    df_feats = df.copy().reset_index(drop=True)\n",
    "    df_feats[\"genre\"] = df_feats[\"genre\"].fillna(\"Other\")\n",
    "\n",
    "    feats_num = prepare_numeric_features(df_feats)\n",
    "    # label‐encode author & format\n",
    "    le_a = LabelEncoder().fit(df_feats[\"author\"])\n",
    "    feats_num[\"author_encoded\"] = le_a.transform(df_feats[\"author\"])\n",
    "    le_f = LabelEncoder().fit(df_feats[\"bookformat\"].fillna(\"Unknown\"))\n",
    "    feats_num[\"format_encoded\"] = le_f.transform(df_feats[\"bookformat\"].fillna(\"Unknown\"))\n",
    "\n",
    "    # one‐hot the entire genre string (matches training)\n",
    "    genre_dummies = pd.get_dummies(df_feats[\"genre\"], prefix=\"genre\")\n",
    "    feats_full = pd.concat([feats_num, genre_dummies], axis=1)\n",
    "\n",
    "    # — load your saved artifacts —\n",
    "    xgb    = joblib.load(\"xgb_model.pkl\")\n",
    "    svd    = joblib.load(\"svd_transformer.pkl\")\n",
    "    logreg = joblib.load(\"svd_logistic_model.pkl\")\n",
    "\n",
    "    # — reindex to exactly XGB’s training columns (fill zeros for any missing) —\n",
    "    feat_names = xgb.get_booster().feature_names\n",
    "    feats_full = feats_full.reindex(columns=feat_names, fill_value=0)\n",
    "\n",
    "    # — score with XGB —\n",
    "    cands = cands.copy()\n",
    "    cands[\"xgb_proba\"] = xgb.predict_proba(feats_full.loc[idx])[:,1]\n",
    "\n",
    "    # — project + score with SVD+LogReg —\n",
    "    latent_all  = svd.transform(feats_full)\n",
    "    latent_cand = latent_all[idx]\n",
    "    cands[\"svd_proba\"] = logreg.predict_proba(latent_cand)[:,1]\n",
    "\n",
    "    # — optional semantic sim in SVD space —\n",
    "    user_vec = latent_cand.mean(axis=0).reshape(1,-1)\n",
    "    cands[\"sim_score\"] = cosine_similarity(latent_cand, user_vec).flatten()\n",
    "\n",
    "    # — blend & pick top-N —\n",
    "    cands[\"final_score\"] = 0.5*cands[\"xgb_proba\"] + 0.5*cands[\"svd_proba\"]\n",
    "    top = cands.sort_values(\"final_score\", ascending=False).head(top_n)\n",
    "\n",
    "    print(f\"✅ Found {len(top)} recommendations.\")\n",
    "    return top[[\n",
    "        \"title\",\"author\",\"genre\",\"rating\",\n",
    "        \"xgb_proba\",\"svd_proba\",\"sim_score\",\"final_score\"\n",
    "    ]].reset_index(drop=True)\n",
    "\n"
   ]
  },
  {
   "cell_type": "code",
   "execution_count": 168,
   "id": "088f52f7",
   "metadata": {},
   "outputs": [
    {
     "data": {
      "text/html": [
       "<pre style=\"white-space:pre;overflow-x:auto;line-height:normal;font-family:Menlo,'DejaVu Sans Mono',consolas,'Courier New',monospace\">✅ Found <span style=\"color: #008080; text-decoration-color: #008080; font-weight: bold\">10</span> recommendations.\n",
       "</pre>\n"
      ],
      "text/plain": [
       "✅ Found \u001b[1;36m10\u001b[0m recommendations.\n"
      ]
     },
     "metadata": {},
     "output_type": "display_data"
    },
    {
     "data": {
      "text/html": [
       "<pre style=\"white-space:pre;overflow-x:auto;line-height:normal;font-family:Menlo,'DejaVu Sans Mono',consolas,'Courier New',monospace\">                                      title  \\\n",
       "<span style=\"color: #008080; text-decoration-color: #008080; font-weight: bold\">0</span>                             E'S: Volume <span style=\"color: #008080; text-decoration-color: #008080; font-weight: bold\">5</span>   \n",
       "<span style=\"color: #008080; text-decoration-color: #008080; font-weight: bold\">1</span>                           Constantine Cay   \n",
       "<span style=\"color: #008080; text-decoration-color: #008080; font-weight: bold\">2</span>                          Ripe for Revenge   \n",
       "<span style=\"color: #008080; text-decoration-color: #008080; font-weight: bold\">3</span>                               Delta Pearl   \n",
       "<span style=\"color: #008080; text-decoration-color: #008080; font-weight: bold\">4</span>                       The Genuine Article   \n",
       "<span style=\"color: #008080; text-decoration-color: #008080; font-weight: bold\">5</span>                      No Place for a Woman   \n",
       "<span style=\"color: #008080; text-decoration-color: #008080; font-weight: bold\">6</span>                               Winter Song   \n",
       "<span style=\"color: #008080; text-decoration-color: #008080; font-weight: bold\">7</span>                      The Devil Of Talland   \n",
       "<span style=\"color: #008080; text-decoration-color: #008080; font-weight: bold\">8</span>                In the House of Dark Music   \n",
       "<span style=\"color: #008080; text-decoration-color: #008080; font-weight: bold\">9</span>  Employee Reward <span style=\"font-weight: bold\">(</span>People &amp; organisations<span style=\"font-weight: bold\">)</span>   \n",
       "\n",
       "                                            author  \\\n",
       "<span style=\"color: #008080; text-decoration-color: #008080; font-weight: bold\">0</span>  Satol Yuiga,Samantha Yamanaka,Satsuki Yamashita   \n",
       "<span style=\"color: #008080; text-decoration-color: #008080; font-weight: bold\">1</span>                                 Catherine Dillon   \n",
       "<span style=\"color: #008080; text-decoration-color: #008080; font-weight: bold\">2</span>                                      Isobel Carr   \n",
       "<span style=\"color: #008080; text-decoration-color: #008080; font-weight: bold\">3</span>                                  Maureen Bronson   \n",
       "<span style=\"color: #008080; text-decoration-color: #008080; font-weight: bold\">4</span>                                   Mary E. Butler   \n",
       "<span style=\"color: #008080; text-decoration-color: #008080; font-weight: bold\">5</span>                                 Suzanne Michelle   \n",
       "<span style=\"color: #008080; text-decoration-color: #008080; font-weight: bold\">6</span>                                     Lisa Plumley   \n",
       "<span style=\"color: #008080; text-decoration-color: #008080; font-weight: bold\">7</span>                                Valentina Luellen   \n",
       "<span style=\"color: #008080; text-decoration-color: #008080; font-weight: bold\">8</span>                                    Frances Lynch   \n",
       "<span style=\"color: #008080; text-decoration-color: #008080; font-weight: bold\">9</span>                                Michael Armstrong   \n",
       "\n",
       "                                            genre  rating  xgb_proba  \\\n",
       "<span style=\"color: #008080; text-decoration-color: #008080; font-weight: bold\">0</span>                     Action,Sequential Art,Manga    <span style=\"color: #008080; text-decoration-color: #008080; font-weight: bold\">5.00</span>   <span style=\"color: #008080; text-decoration-color: #008080; font-weight: bold\">0.999898</span>   \n",
       "<span style=\"color: #008080; text-decoration-color: #008080; font-weight: bold\">1</span>                                         Romance    <span style=\"color: #008080; text-decoration-color: #008080; font-weight: bold\">4.00</span>   <span style=\"color: #008080; text-decoration-color: #008080; font-weight: bold\">0.999864</span>   \n",
       "<span style=\"color: #008080; text-decoration-color: #008080; font-weight: bold\">2</span>  Romance,Historical Romance,Historical,Georgian    <span style=\"color: #008080; text-decoration-color: #008080; font-weight: bold\">5.00</span>   <span style=\"color: #008080; text-decoration-color: #008080; font-weight: bold\">0.999804</span>   \n",
       "<span style=\"color: #008080; text-decoration-color: #008080; font-weight: bold\">3</span>                                         Romance    <span style=\"color: #008080; text-decoration-color: #008080; font-weight: bold\">4.00</span>   <span style=\"color: #008080; text-decoration-color: #008080; font-weight: bold\">0.999527</span>   \n",
       "<span style=\"color: #008080; text-decoration-color: #008080; font-weight: bold\">4</span>                      Romance,Historical Romance    <span style=\"color: #008080; text-decoration-color: #008080; font-weight: bold\">3.00</span>   <span style=\"color: #008080; text-decoration-color: #008080; font-weight: bold\">0.999524</span>   \n",
       "<span style=\"color: #008080; text-decoration-color: #008080; font-weight: bold\">5</span>                                         Romance    <span style=\"color: #008080; text-decoration-color: #008080; font-weight: bold\">3.00</span>   <span style=\"color: #008080; text-decoration-color: #008080; font-weight: bold\">0.999522</span>   \n",
       "<span style=\"color: #008080; text-decoration-color: #008080; font-weight: bold\">6</span>                     Romance,Time Travel Romance    <span style=\"color: #008080; text-decoration-color: #008080; font-weight: bold\">3.00</span>   <span style=\"color: #008080; text-decoration-color: #008080; font-weight: bold\">0.999432</span>   \n",
       "<span style=\"color: #008080; text-decoration-color: #008080; font-weight: bold\">7</span>                                         Romance    <span style=\"color: #008080; text-decoration-color: #008080; font-weight: bold\">2.50</span>   <span style=\"color: #008080; text-decoration-color: #008080; font-weight: bold\">0.999357</span>   \n",
       "<span style=\"color: #008080; text-decoration-color: #008080; font-weight: bold\">8</span>                                  Romance,Gothic    <span style=\"color: #008080; text-decoration-color: #008080; font-weight: bold\">3.33</span>   <span style=\"color: #008080; text-decoration-color: #008080; font-weight: bold\">0.998950</span>   \n",
       "<span style=\"color: #008080; text-decoration-color: #008080; font-weight: bold\">9</span>             Romance,Historical Romance,Business    <span style=\"color: #008080; text-decoration-color: #008080; font-weight: bold\">4.67</span>   <span style=\"color: #008080; text-decoration-color: #008080; font-weight: bold\">0.998920</span>   \n",
       "\n",
       "   svd_proba  sim_score  final_score  \n",
       "<span style=\"color: #008080; text-decoration-color: #008080; font-weight: bold\">0</span>        <span style=\"color: #008080; text-decoration-color: #008080; font-weight: bold\">1.0</span>   <span style=\"color: #008080; text-decoration-color: #008080; font-weight: bold\">0.999999</span>     <span style=\"color: #008080; text-decoration-color: #008080; font-weight: bold\">0.999949</span>  \n",
       "<span style=\"color: #008080; text-decoration-color: #008080; font-weight: bold\">1</span>        <span style=\"color: #008080; text-decoration-color: #008080; font-weight: bold\">1.0</span>   <span style=\"color: #008080; text-decoration-color: #008080; font-weight: bold\">0.999955</span>     <span style=\"color: #008080; text-decoration-color: #008080; font-weight: bold\">0.999932</span>  \n",
       "<span style=\"color: #008080; text-decoration-color: #008080; font-weight: bold\">2</span>        <span style=\"color: #008080; text-decoration-color: #008080; font-weight: bold\">1.0</span>   <span style=\"color: #008080; text-decoration-color: #008080; font-weight: bold\">0.999996</span>     <span style=\"color: #008080; text-decoration-color: #008080; font-weight: bold\">0.999902</span>  \n",
       "<span style=\"color: #008080; text-decoration-color: #008080; font-weight: bold\">3</span>        <span style=\"color: #008080; text-decoration-color: #008080; font-weight: bold\">1.0</span>   <span style=\"color: #008080; text-decoration-color: #008080; font-weight: bold\">0.999999</span>     <span style=\"color: #008080; text-decoration-color: #008080; font-weight: bold\">0.999763</span>  \n",
       "<span style=\"color: #008080; text-decoration-color: #008080; font-weight: bold\">4</span>        <span style=\"color: #008080; text-decoration-color: #008080; font-weight: bold\">1.0</span>   <span style=\"color: #008080; text-decoration-color: #008080; font-weight: bold\">0.999999</span>     <span style=\"color: #008080; text-decoration-color: #008080; font-weight: bold\">0.999762</span>  \n",
       "<span style=\"color: #008080; text-decoration-color: #008080; font-weight: bold\">5</span>        <span style=\"color: #008080; text-decoration-color: #008080; font-weight: bold\">1.0</span>   <span style=\"color: #008080; text-decoration-color: #008080; font-weight: bold\">0.999999</span>     <span style=\"color: #008080; text-decoration-color: #008080; font-weight: bold\">0.999761</span>  \n",
       "<span style=\"color: #008080; text-decoration-color: #008080; font-weight: bold\">6</span>        <span style=\"color: #008080; text-decoration-color: #008080; font-weight: bold\">1.0</span>   <span style=\"color: #008080; text-decoration-color: #008080; font-weight: bold\">0.999999</span>     <span style=\"color: #008080; text-decoration-color: #008080; font-weight: bold\">0.999716</span>  \n",
       "<span style=\"color: #008080; text-decoration-color: #008080; font-weight: bold\">7</span>        <span style=\"color: #008080; text-decoration-color: #008080; font-weight: bold\">1.0</span>   <span style=\"color: #008080; text-decoration-color: #008080; font-weight: bold\">0.999998</span>     <span style=\"color: #008080; text-decoration-color: #008080; font-weight: bold\">0.999679</span>  \n",
       "<span style=\"color: #008080; text-decoration-color: #008080; font-weight: bold\">8</span>        <span style=\"color: #008080; text-decoration-color: #008080; font-weight: bold\">1.0</span>   <span style=\"color: #008080; text-decoration-color: #008080; font-weight: bold\">0.999996</span>     <span style=\"color: #008080; text-decoration-color: #008080; font-weight: bold\">0.999475</span>  \n",
       "<span style=\"color: #008080; text-decoration-color: #008080; font-weight: bold\">9</span>        <span style=\"color: #008080; text-decoration-color: #008080; font-weight: bold\">1.0</span>   <span style=\"color: #008080; text-decoration-color: #008080; font-weight: bold\">0.999999</span>     <span style=\"color: #008080; text-decoration-color: #008080; font-weight: bold\">0.999460</span>  \n",
       "</pre>\n"
      ],
      "text/plain": [
       "                                      title  \\\n",
       "\u001b[1;36m0\u001b[0m                             E'S: Volume \u001b[1;36m5\u001b[0m   \n",
       "\u001b[1;36m1\u001b[0m                           Constantine Cay   \n",
       "\u001b[1;36m2\u001b[0m                          Ripe for Revenge   \n",
       "\u001b[1;36m3\u001b[0m                               Delta Pearl   \n",
       "\u001b[1;36m4\u001b[0m                       The Genuine Article   \n",
       "\u001b[1;36m5\u001b[0m                      No Place for a Woman   \n",
       "\u001b[1;36m6\u001b[0m                               Winter Song   \n",
       "\u001b[1;36m7\u001b[0m                      The Devil Of Talland   \n",
       "\u001b[1;36m8\u001b[0m                In the House of Dark Music   \n",
       "\u001b[1;36m9\u001b[0m  Employee Reward \u001b[1m(\u001b[0mPeople & organisations\u001b[1m)\u001b[0m   \n",
       "\n",
       "                                            author  \\\n",
       "\u001b[1;36m0\u001b[0m  Satol Yuiga,Samantha Yamanaka,Satsuki Yamashita   \n",
       "\u001b[1;36m1\u001b[0m                                 Catherine Dillon   \n",
       "\u001b[1;36m2\u001b[0m                                      Isobel Carr   \n",
       "\u001b[1;36m3\u001b[0m                                  Maureen Bronson   \n",
       "\u001b[1;36m4\u001b[0m                                   Mary E. Butler   \n",
       "\u001b[1;36m5\u001b[0m                                 Suzanne Michelle   \n",
       "\u001b[1;36m6\u001b[0m                                     Lisa Plumley   \n",
       "\u001b[1;36m7\u001b[0m                                Valentina Luellen   \n",
       "\u001b[1;36m8\u001b[0m                                    Frances Lynch   \n",
       "\u001b[1;36m9\u001b[0m                                Michael Armstrong   \n",
       "\n",
       "                                            genre  rating  xgb_proba  \\\n",
       "\u001b[1;36m0\u001b[0m                     Action,Sequential Art,Manga    \u001b[1;36m5.00\u001b[0m   \u001b[1;36m0.999898\u001b[0m   \n",
       "\u001b[1;36m1\u001b[0m                                         Romance    \u001b[1;36m4.00\u001b[0m   \u001b[1;36m0.999864\u001b[0m   \n",
       "\u001b[1;36m2\u001b[0m  Romance,Historical Romance,Historical,Georgian    \u001b[1;36m5.00\u001b[0m   \u001b[1;36m0.999804\u001b[0m   \n",
       "\u001b[1;36m3\u001b[0m                                         Romance    \u001b[1;36m4.00\u001b[0m   \u001b[1;36m0.999527\u001b[0m   \n",
       "\u001b[1;36m4\u001b[0m                      Romance,Historical Romance    \u001b[1;36m3.00\u001b[0m   \u001b[1;36m0.999524\u001b[0m   \n",
       "\u001b[1;36m5\u001b[0m                                         Romance    \u001b[1;36m3.00\u001b[0m   \u001b[1;36m0.999522\u001b[0m   \n",
       "\u001b[1;36m6\u001b[0m                     Romance,Time Travel Romance    \u001b[1;36m3.00\u001b[0m   \u001b[1;36m0.999432\u001b[0m   \n",
       "\u001b[1;36m7\u001b[0m                                         Romance    \u001b[1;36m2.50\u001b[0m   \u001b[1;36m0.999357\u001b[0m   \n",
       "\u001b[1;36m8\u001b[0m                                  Romance,Gothic    \u001b[1;36m3.33\u001b[0m   \u001b[1;36m0.998950\u001b[0m   \n",
       "\u001b[1;36m9\u001b[0m             Romance,Historical Romance,Business    \u001b[1;36m4.67\u001b[0m   \u001b[1;36m0.998920\u001b[0m   \n",
       "\n",
       "   svd_proba  sim_score  final_score  \n",
       "\u001b[1;36m0\u001b[0m        \u001b[1;36m1.0\u001b[0m   \u001b[1;36m0.999999\u001b[0m     \u001b[1;36m0.999949\u001b[0m  \n",
       "\u001b[1;36m1\u001b[0m        \u001b[1;36m1.0\u001b[0m   \u001b[1;36m0.999955\u001b[0m     \u001b[1;36m0.999932\u001b[0m  \n",
       "\u001b[1;36m2\u001b[0m        \u001b[1;36m1.0\u001b[0m   \u001b[1;36m0.999996\u001b[0m     \u001b[1;36m0.999902\u001b[0m  \n",
       "\u001b[1;36m3\u001b[0m        \u001b[1;36m1.0\u001b[0m   \u001b[1;36m0.999999\u001b[0m     \u001b[1;36m0.999763\u001b[0m  \n",
       "\u001b[1;36m4\u001b[0m        \u001b[1;36m1.0\u001b[0m   \u001b[1;36m0.999999\u001b[0m     \u001b[1;36m0.999762\u001b[0m  \n",
       "\u001b[1;36m5\u001b[0m        \u001b[1;36m1.0\u001b[0m   \u001b[1;36m0.999999\u001b[0m     \u001b[1;36m0.999761\u001b[0m  \n",
       "\u001b[1;36m6\u001b[0m        \u001b[1;36m1.0\u001b[0m   \u001b[1;36m0.999999\u001b[0m     \u001b[1;36m0.999716\u001b[0m  \n",
       "\u001b[1;36m7\u001b[0m        \u001b[1;36m1.0\u001b[0m   \u001b[1;36m0.999998\u001b[0m     \u001b[1;36m0.999679\u001b[0m  \n",
       "\u001b[1;36m8\u001b[0m        \u001b[1;36m1.0\u001b[0m   \u001b[1;36m0.999996\u001b[0m     \u001b[1;36m0.999475\u001b[0m  \n",
       "\u001b[1;36m9\u001b[0m        \u001b[1;36m1.0\u001b[0m   \u001b[1;36m0.999999\u001b[0m     \u001b[1;36m0.999460\u001b[0m  \n"
      ]
     },
     "metadata": {},
     "output_type": "display_data"
    }
   ],
   "source": [
    "# ─ run it ─\n",
    "recs = recommend_books(df, genres=[\"Romance\", \"Action\"], top_n=10)\n",
    "print(recs)"
   ]
  },
  {
   "cell_type": "code",
   "execution_count": 169,
   "id": "91e10b25",
   "metadata": {},
   "outputs": [
    {
     "data": {
      "text/html": [
       "<pre style=\"white-space:pre;overflow-x:auto;line-height:normal;font-family:Menlo,'DejaVu Sans Mono',consolas,'Courier New',monospace\">✅ Found <span style=\"color: #008080; text-decoration-color: #008080; font-weight: bold\">5</span> recommendations.\n",
       "</pre>\n"
      ],
      "text/plain": [
       "✅ Found \u001b[1;36m5\u001b[0m recommendations.\n"
      ]
     },
     "metadata": {},
     "output_type": "display_data"
    },
    {
     "data": {
      "text/html": [
       "<pre style=\"white-space:pre;overflow-x:auto;line-height:normal;font-family:Menlo,'DejaVu Sans Mono',consolas,'Courier New',monospace\">✅ Found <span style=\"color: #008080; text-decoration-color: #008080; font-weight: bold\">5</span> recommendations.\n",
       "</pre>\n"
      ],
      "text/plain": [
       "✅ Found \u001b[1;36m5\u001b[0m recommendations.\n"
      ]
     },
     "metadata": {},
     "output_type": "display_data"
    },
    {
     "data": {
      "text/html": [
       "<pre style=\"white-space:pre;overflow-x:auto;line-height:normal;font-family:Menlo,'DejaVu Sans Mono',consolas,'Courier New',monospace\">✅ Found <span style=\"color: #008080; text-decoration-color: #008080; font-weight: bold\">5</span> recommendations.\n",
       "</pre>\n"
      ],
      "text/plain": [
       "✅ Found \u001b[1;36m5\u001b[0m recommendations.\n"
      ]
     },
     "metadata": {},
     "output_type": "display_data"
    },
    {
     "data": {
      "text/html": [
       "<pre style=\"white-space:pre;overflow-x:auto;line-height:normal;font-family:Menlo,'DejaVu Sans Mono',consolas,'Courier New',monospace\">✅ Found <span style=\"color: #008080; text-decoration-color: #008080; font-weight: bold\">5</span> recommendations.\n",
       "</pre>\n"
      ],
      "text/plain": [
       "✅ Found \u001b[1;36m5\u001b[0m recommendations.\n"
      ]
     },
     "metadata": {},
     "output_type": "display_data"
    },
    {
     "data": {
      "text/html": [
       "<pre style=\"white-space:pre;overflow-x:auto;line-height:normal;font-family:Menlo,'DejaVu Sans Mono',consolas,'Courier New',monospace\">✅ Found <span style=\"color: #008080; text-decoration-color: #008080; font-weight: bold\">5</span> recommendations.\n",
       "</pre>\n"
      ],
      "text/plain": [
       "✅ Found \u001b[1;36m5\u001b[0m recommendations.\n"
      ]
     },
     "metadata": {},
     "output_type": "display_data"
    },
    {
     "data": {
      "text/html": [
       "<pre style=\"white-space:pre;overflow-x:auto;line-height:normal;font-family:Menlo,'DejaVu Sans Mono',consolas,'Courier New',monospace\">📊 User‐genre counts:\n",
       " genre_list\n",
       "Fantasy           <span style=\"color: #008080; text-decoration-color: #008080; font-weight: bold\">2</span>\n",
       "Mystery           <span style=\"color: #008080; text-decoration-color: #008080; font-weight: bold\">2</span>\n",
       "Religion          <span style=\"color: #008080; text-decoration-color: #008080; font-weight: bold\">1</span>\n",
       "Travel            <span style=\"color: #008080; text-decoration-color: #008080; font-weight: bold\">1</span>\n",
       "Photography       <span style=\"color: #008080; text-decoration-color: #008080; font-weight: bold\">1</span>\n",
       "Cooking           <span style=\"color: #008080; text-decoration-color: #008080; font-weight: bold\">1</span>\n",
       "Food              <span style=\"color: #008080; text-decoration-color: #008080; font-weight: bold\">1</span>\n",
       "Comics            <span style=\"color: #008080; text-decoration-color: #008080; font-weight: bold\">1</span>\n",
       "Graphic Novels    <span style=\"color: #008080; text-decoration-color: #008080; font-weight: bold\">1</span>\n",
       "Fiction           <span style=\"color: #008080; text-decoration-color: #008080; font-weight: bold\">1</span>\n",
       "Name: count, dtype: int64 \n",
       "\n",
       "</pre>\n"
      ],
      "text/plain": [
       "📊 User‐genre counts:\n",
       " genre_list\n",
       "Fantasy           \u001b[1;36m2\u001b[0m\n",
       "Mystery           \u001b[1;36m2\u001b[0m\n",
       "Religion          \u001b[1;36m1\u001b[0m\n",
       "Travel            \u001b[1;36m1\u001b[0m\n",
       "Photography       \u001b[1;36m1\u001b[0m\n",
       "Cooking           \u001b[1;36m1\u001b[0m\n",
       "Food              \u001b[1;36m1\u001b[0m\n",
       "Comics            \u001b[1;36m1\u001b[0m\n",
       "Graphic Novels    \u001b[1;36m1\u001b[0m\n",
       "Fiction           \u001b[1;36m1\u001b[0m\n",
       "Name: count, dtype: int64 \n",
       "\n"
      ]
     },
     "metadata": {},
     "output_type": "display_data"
    },
    {
     "data": {
      "text/html": [
       "<pre style=\"white-space:pre;overflow-x:auto;line-height:normal;font-family:Menlo,'DejaVu Sans Mono',consolas,'Courier New',monospace\">── Top books to stock for genre: Fantasy ──\n",
       "</pre>\n"
      ],
      "text/plain": [
       "── Top books to stock for genre: Fantasy ──\n"
      ]
     },
     "metadata": {},
     "output_type": "display_data"
    },
    {
     "data": {
      "text/html": [
       "<pre style=\"white-space:pre;overflow-x:auto;line-height:normal;font-family:Menlo,'DejaVu Sans Mono',consolas,'Courier New',monospace\">                                               title               author  \\\n",
       "<span style=\"color: #008080; text-decoration-color: #008080; font-weight: bold\">0</span>  Spook Crooks! Exposing the Secrets of the Prop<span style=\"color: #808000; text-decoration-color: #808000\">...</span>  Julien J. Proskauer   \n",
       "<span style=\"color: #008080; text-decoration-color: #008080; font-weight: bold\">1</span>                                 The Unsteady Earth          M.K. Hobson   \n",
       "<span style=\"color: #008080; text-decoration-color: #008080; font-weight: bold\">2</span>                                 The Ozine Conquest         C.M. Gilbert   \n",
       "<span style=\"color: #008080; text-decoration-color: #008080; font-weight: bold\">3</span>                                   Behind the Magus          John Fowles   \n",
       "<span style=\"color: #008080; text-decoration-color: #008080; font-weight: bold\">4</span>  Holy Grail: The Galahad Quest in the Arthurian<span style=\"color: #808000; text-decoration-color: #808000\">...</span>  Arthur Edward Waite   \n",
       "\n",
       "   rating  final_score  \n",
       "<span style=\"color: #008080; text-decoration-color: #008080; font-weight: bold\">0</span>    <span style=\"color: #008080; text-decoration-color: #008080; font-weight: bold\">4.00</span>     <span style=\"color: #008080; text-decoration-color: #008080; font-weight: bold\">0.999817</span>  \n",
       "<span style=\"color: #008080; text-decoration-color: #008080; font-weight: bold\">1</span>    <span style=\"color: #008080; text-decoration-color: #008080; font-weight: bold\">3.50</span>     <span style=\"color: #008080; text-decoration-color: #008080; font-weight: bold\">0.999759</span>  \n",
       "<span style=\"color: #008080; text-decoration-color: #008080; font-weight: bold\">2</span>    <span style=\"color: #008080; text-decoration-color: #008080; font-weight: bold\">3.00</span>     <span style=\"color: #008080; text-decoration-color: #008080; font-weight: bold\">0.999757</span>  \n",
       "<span style=\"color: #008080; text-decoration-color: #008080; font-weight: bold\">3</span>    <span style=\"color: #008080; text-decoration-color: #008080; font-weight: bold\">3.00</span>     <span style=\"color: #008080; text-decoration-color: #008080; font-weight: bold\">0.999497</span>  \n",
       "<span style=\"color: #008080; text-decoration-color: #008080; font-weight: bold\">4</span>    <span style=\"color: #008080; text-decoration-color: #008080; font-weight: bold\">3.67</span>     <span style=\"color: #008080; text-decoration-color: #008080; font-weight: bold\">0.999475</span>   \n",
       "\n",
       "</pre>\n"
      ],
      "text/plain": [
       "                                               title               author  \\\n",
       "\u001b[1;36m0\u001b[0m  Spook Crooks! Exposing the Secrets of the Prop\u001b[33m...\u001b[0m  Julien J. Proskauer   \n",
       "\u001b[1;36m1\u001b[0m                                 The Unsteady Earth          M.K. Hobson   \n",
       "\u001b[1;36m2\u001b[0m                                 The Ozine Conquest         C.M. Gilbert   \n",
       "\u001b[1;36m3\u001b[0m                                   Behind the Magus          John Fowles   \n",
       "\u001b[1;36m4\u001b[0m  Holy Grail: The Galahad Quest in the Arthurian\u001b[33m...\u001b[0m  Arthur Edward Waite   \n",
       "\n",
       "   rating  final_score  \n",
       "\u001b[1;36m0\u001b[0m    \u001b[1;36m4.00\u001b[0m     \u001b[1;36m0.999817\u001b[0m  \n",
       "\u001b[1;36m1\u001b[0m    \u001b[1;36m3.50\u001b[0m     \u001b[1;36m0.999759\u001b[0m  \n",
       "\u001b[1;36m2\u001b[0m    \u001b[1;36m3.00\u001b[0m     \u001b[1;36m0.999757\u001b[0m  \n",
       "\u001b[1;36m3\u001b[0m    \u001b[1;36m3.00\u001b[0m     \u001b[1;36m0.999497\u001b[0m  \n",
       "\u001b[1;36m4\u001b[0m    \u001b[1;36m3.67\u001b[0m     \u001b[1;36m0.999475\u001b[0m   \n",
       "\n"
      ]
     },
     "metadata": {},
     "output_type": "display_data"
    },
    {
     "data": {
      "text/html": [
       "<pre style=\"white-space:pre;overflow-x:auto;line-height:normal;font-family:Menlo,'DejaVu Sans Mono',consolas,'Courier New',monospace\">── Top books to stock for genre: Mystery ──\n",
       "</pre>\n"
      ],
      "text/plain": [
       "── Top books to stock for genre: Mystery ──\n"
      ]
     },
     "metadata": {},
     "output_type": "display_data"
    },
    {
     "data": {
      "text/html": [
       "<pre style=\"white-space:pre;overflow-x:auto;line-height:normal;font-family:Menlo,'DejaVu Sans Mono',consolas,'Courier New',monospace\">                                               title  \\\n",
       "<span style=\"color: #008080; text-decoration-color: #008080; font-weight: bold\">0</span>                                Under den hvite bro   \n",
       "<span style=\"color: #008080; text-decoration-color: #008080; font-weight: bold\">1</span>  On The Track of the Sasquatch Book <span style=\"color: #008080; text-decoration-color: #008080; font-weight: bold\">2</span>:  Encount<span style=\"color: #808000; text-decoration-color: #808000\">...</span>   \n",
       "<span style=\"color: #008080; text-decoration-color: #008080; font-weight: bold\">2</span>                          Casey Little, Yo Yo Queen   \n",
       "<span style=\"color: #008080; text-decoration-color: #008080; font-weight: bold\">3</span>                           A Pay-Off in Switzerland   \n",
       "<span style=\"color: #008080; text-decoration-color: #008080; font-weight: bold\">4</span>                              The Seventh Crossword   \n",
       "\n",
       "                        author  rating  final_score  \n",
       "<span style=\"color: #008080; text-decoration-color: #008080; font-weight: bold\">0</span>   Natalie Normann,Anan Singh    <span style=\"color: #008080; text-decoration-color: #008080; font-weight: bold\">5.00</span>     <span style=\"color: #008080; text-decoration-color: #008080; font-weight: bold\">0.999947</span>  \n",
       "<span style=\"color: #008080; text-decoration-color: #008080; font-weight: bold\">1</span>          John Willison Green    <span style=\"color: #008080; text-decoration-color: #008080; font-weight: bold\">4.33</span>     <span style=\"color: #008080; text-decoration-color: #008080; font-weight: bold\">0.998715</span>  \n",
       "<span style=\"color: #008080; text-decoration-color: #008080; font-weight: bold\">2</span>                 Nancy Belgue    <span style=\"color: #008080; text-decoration-color: #008080; font-weight: bold\">5.00</span>     <span style=\"color: #008080; text-decoration-color: #008080; font-weight: bold\">0.998651</span>  \n",
       "<span style=\"color: #008080; text-decoration-color: #008080; font-weight: bold\">3</span>                 Noah Webster    <span style=\"color: #008080; text-decoration-color: #008080; font-weight: bold\">3.20</span>     <span style=\"color: #008080; text-decoration-color: #008080; font-weight: bold\">0.998448</span>  \n",
       "<span style=\"color: #008080; text-decoration-color: #008080; font-weight: bold\">4</span>  Herbert Resnicow,Henry Hook    <span style=\"color: #008080; text-decoration-color: #008080; font-weight: bold\">3.00</span>     <span style=\"color: #008080; text-decoration-color: #008080; font-weight: bold\">0.996981</span>   \n",
       "\n",
       "</pre>\n"
      ],
      "text/plain": [
       "                                               title  \\\n",
       "\u001b[1;36m0\u001b[0m                                Under den hvite bro   \n",
       "\u001b[1;36m1\u001b[0m  On The Track of the Sasquatch Book \u001b[1;36m2\u001b[0m:  Encount\u001b[33m...\u001b[0m   \n",
       "\u001b[1;36m2\u001b[0m                          Casey Little, Yo Yo Queen   \n",
       "\u001b[1;36m3\u001b[0m                           A Pay-Off in Switzerland   \n",
       "\u001b[1;36m4\u001b[0m                              The Seventh Crossword   \n",
       "\n",
       "                        author  rating  final_score  \n",
       "\u001b[1;36m0\u001b[0m   Natalie Normann,Anan Singh    \u001b[1;36m5.00\u001b[0m     \u001b[1;36m0.999947\u001b[0m  \n",
       "\u001b[1;36m1\u001b[0m          John Willison Green    \u001b[1;36m4.33\u001b[0m     \u001b[1;36m0.998715\u001b[0m  \n",
       "\u001b[1;36m2\u001b[0m                 Nancy Belgue    \u001b[1;36m5.00\u001b[0m     \u001b[1;36m0.998651\u001b[0m  \n",
       "\u001b[1;36m3\u001b[0m                 Noah Webster    \u001b[1;36m3.20\u001b[0m     \u001b[1;36m0.998448\u001b[0m  \n",
       "\u001b[1;36m4\u001b[0m  Herbert Resnicow,Henry Hook    \u001b[1;36m3.00\u001b[0m     \u001b[1;36m0.996981\u001b[0m   \n",
       "\n"
      ]
     },
     "metadata": {},
     "output_type": "display_data"
    },
    {
     "data": {
      "text/html": [
       "<pre style=\"white-space:pre;overflow-x:auto;line-height:normal;font-family:Menlo,'DejaVu Sans Mono',consolas,'Courier New',monospace\">── Top books to stock for genre: Religion ──\n",
       "</pre>\n"
      ],
      "text/plain": [
       "── Top books to stock for genre: Religion ──\n"
      ]
     },
     "metadata": {},
     "output_type": "display_data"
    },
    {
     "data": {
      "text/html": [
       "<pre style=\"white-space:pre;overflow-x:auto;line-height:normal;font-family:Menlo,'DejaVu Sans Mono',consolas,'Courier New',monospace\">                                               title  \\\n",
       "<span style=\"color: #008080; text-decoration-color: #008080; font-weight: bold\">0</span>                               Les nouvelles sectes   \n",
       "<span style=\"color: #008080; text-decoration-color: #008080; font-weight: bold\">1</span>                           Acts: An Inductive Study   \n",
       "<span style=\"color: #008080; text-decoration-color: #008080; font-weight: bold\">2</span>             African Zion: Studies in Black Judaism   \n",
       "<span style=\"color: #008080; text-decoration-color: #008080; font-weight: bold\">3</span>       Mulla Husayn: <span style=\"color: #008000; text-decoration-color: #008000\">\"Unfurling the Black Standard\"</span>   \n",
       "<span style=\"color: #008080; text-decoration-color: #008080; font-weight: bold\">4</span>  Mysteries; Or, Glimpses Of The Supernatural Co<span style=\"color: #808000; text-decoration-color: #808000\">...</span>   \n",
       "\n",
       "                       author  rating  final_score  \n",
       "<span style=\"color: #008080; text-decoration-color: #008080; font-weight: bold\">0</span>               Alain Woodrow     <span style=\"color: #008080; text-decoration-color: #008080; font-weight: bold\">4.0</span>     <span style=\"color: #008080; text-decoration-color: #008080; font-weight: bold\">0.999942</span>  \n",
       "<span style=\"color: #008080; text-decoration-color: #008080; font-weight: bold\">1</span>            Irving L. Jensen     <span style=\"color: #008080; text-decoration-color: #008080; font-weight: bold\">4.0</span>     <span style=\"color: #008080; text-decoration-color: #008080; font-weight: bold\">0.999942</span>  \n",
       "<span style=\"color: #008080; text-decoration-color: #008080; font-weight: bold\">2</span>  Edith Bruder,Tudor Parfitt     <span style=\"color: #008080; text-decoration-color: #008080; font-weight: bold\">5.0</span>     <span style=\"color: #008080; text-decoration-color: #008080; font-weight: bold\">0.999817</span>  \n",
       "<span style=\"color: #008080; text-decoration-color: #008080; font-weight: bold\">3</span>                  Ivan Lloyd     <span style=\"color: #008080; text-decoration-color: #008080; font-weight: bold\">4.0</span>     <span style=\"color: #008080; text-decoration-color: #008080; font-weight: bold\">0.999809</span>  \n",
       "<span style=\"color: #008080; text-decoration-color: #008080; font-weight: bold\">4</span>      Charles Wyllys Elliott     <span style=\"color: #008080; text-decoration-color: #008080; font-weight: bold\">4.0</span>     <span style=\"color: #008080; text-decoration-color: #008080; font-weight: bold\">0.999809</span>   \n",
       "\n",
       "</pre>\n"
      ],
      "text/plain": [
       "                                               title  \\\n",
       "\u001b[1;36m0\u001b[0m                               Les nouvelles sectes   \n",
       "\u001b[1;36m1\u001b[0m                           Acts: An Inductive Study   \n",
       "\u001b[1;36m2\u001b[0m             African Zion: Studies in Black Judaism   \n",
       "\u001b[1;36m3\u001b[0m       Mulla Husayn: \u001b[32m\"Unfurling the Black Standard\"\u001b[0m   \n",
       "\u001b[1;36m4\u001b[0m  Mysteries; Or, Glimpses Of The Supernatural Co\u001b[33m...\u001b[0m   \n",
       "\n",
       "                       author  rating  final_score  \n",
       "\u001b[1;36m0\u001b[0m               Alain Woodrow     \u001b[1;36m4.0\u001b[0m     \u001b[1;36m0.999942\u001b[0m  \n",
       "\u001b[1;36m1\u001b[0m            Irving L. Jensen     \u001b[1;36m4.0\u001b[0m     \u001b[1;36m0.999942\u001b[0m  \n",
       "\u001b[1;36m2\u001b[0m  Edith Bruder,Tudor Parfitt     \u001b[1;36m5.0\u001b[0m     \u001b[1;36m0.999817\u001b[0m  \n",
       "\u001b[1;36m3\u001b[0m                  Ivan Lloyd     \u001b[1;36m4.0\u001b[0m     \u001b[1;36m0.999809\u001b[0m  \n",
       "\u001b[1;36m4\u001b[0m      Charles Wyllys Elliott     \u001b[1;36m4.0\u001b[0m     \u001b[1;36m0.999809\u001b[0m   \n",
       "\n"
      ]
     },
     "metadata": {},
     "output_type": "display_data"
    },
    {
     "data": {
      "text/html": [
       "<pre style=\"white-space:pre;overflow-x:auto;line-height:normal;font-family:Menlo,'DejaVu Sans Mono',consolas,'Courier New',monospace\">── Top books to stock for genre: Travel ──\n",
       "</pre>\n"
      ],
      "text/plain": [
       "── Top books to stock for genre: Travel ──\n"
      ]
     },
     "metadata": {},
     "output_type": "display_data"
    },
    {
     "data": {
      "text/html": [
       "<pre style=\"white-space:pre;overflow-x:auto;line-height:normal;font-family:Menlo,'DejaVu Sans Mono',consolas,'Courier New',monospace\">                                               title  \\\n",
       "<span style=\"color: #008080; text-decoration-color: #008080; font-weight: bold\">0</span>  Pictorial Guide To The Mountains Of Snowdonia <span style=\"color: #808000; text-decoration-color: #808000\">...</span>   \n",
       "<span style=\"color: #008080; text-decoration-color: #008080; font-weight: bold\">1</span>  Insiders' Guide to South Dakota's Black Hills <span style=\"color: #808000; text-decoration-color: #808000\">...</span>   \n",
       "<span style=\"color: #008080; text-decoration-color: #008080; font-weight: bold\">2</span>  America's Ancient Treasures: A Guide to Archeo<span style=\"color: #808000; text-decoration-color: #808000\">...</span>   \n",
       "<span style=\"color: #008080; text-decoration-color: #008080; font-weight: bold\">3</span>                 Classic Walks In The Peak District   \n",
       "<span style=\"color: #008080; text-decoration-color: #008080; font-weight: bold\">4</span>         The Companion Guide to the South of France   \n",
       "\n",
       "                                              author  rating  final_score  \n",
       "<span style=\"color: #008080; text-decoration-color: #008080; font-weight: bold\">0</span>                                       John Gillham     <span style=\"color: #008080; text-decoration-color: #008080; font-weight: bold\">5.0</span>     <span style=\"color: #008080; text-decoration-color: #008080; font-weight: bold\">0.999950</span>  \n",
       "<span style=\"color: #008080; text-decoration-color: #008080; font-weight: bold\">1</span>  Thomas D. Griffith,Bert Gildart,Dustin D. Floy<span style=\"color: #808000; text-decoration-color: #808000\">...</span>     <span style=\"color: #008080; text-decoration-color: #008080; font-weight: bold\">4.0</span>     <span style=\"color: #008080; text-decoration-color: #008080; font-weight: bold\">0.999943</span>  \n",
       "<span style=\"color: #008080; text-decoration-color: #008080; font-weight: bold\">2</span>                                    Franklin Folsom     <span style=\"color: #008080; text-decoration-color: #008080; font-weight: bold\">4.0</span>     <span style=\"color: #008080; text-decoration-color: #008080; font-weight: bold\">0.999809</span>  \n",
       "<span style=\"color: #008080; text-decoration-color: #008080; font-weight: bold\">3</span>                                     Martin Collins     <span style=\"color: #008080; text-decoration-color: #008080; font-weight: bold\">3.0</span>     <span style=\"color: #008080; text-decoration-color: #008080; font-weight: bold\">0.999774</span>  \n",
       "<span style=\"color: #008080; text-decoration-color: #008080; font-weight: bold\">4</span>                                    Archibald Lyall     <span style=\"color: #008080; text-decoration-color: #008080; font-weight: bold\">3.5</span>     <span style=\"color: #008080; text-decoration-color: #008080; font-weight: bold\">0.999766</span>   \n",
       "\n",
       "</pre>\n"
      ],
      "text/plain": [
       "                                               title  \\\n",
       "\u001b[1;36m0\u001b[0m  Pictorial Guide To The Mountains Of Snowdonia \u001b[33m...\u001b[0m   \n",
       "\u001b[1;36m1\u001b[0m  Insiders' Guide to South Dakota's Black Hills \u001b[33m...\u001b[0m   \n",
       "\u001b[1;36m2\u001b[0m  America's Ancient Treasures: A Guide to Archeo\u001b[33m...\u001b[0m   \n",
       "\u001b[1;36m3\u001b[0m                 Classic Walks In The Peak District   \n",
       "\u001b[1;36m4\u001b[0m         The Companion Guide to the South of France   \n",
       "\n",
       "                                              author  rating  final_score  \n",
       "\u001b[1;36m0\u001b[0m                                       John Gillham     \u001b[1;36m5.0\u001b[0m     \u001b[1;36m0.999950\u001b[0m  \n",
       "\u001b[1;36m1\u001b[0m  Thomas D. Griffith,Bert Gildart,Dustin D. Floy\u001b[33m...\u001b[0m     \u001b[1;36m4.0\u001b[0m     \u001b[1;36m0.999943\u001b[0m  \n",
       "\u001b[1;36m2\u001b[0m                                    Franklin Folsom     \u001b[1;36m4.0\u001b[0m     \u001b[1;36m0.999809\u001b[0m  \n",
       "\u001b[1;36m3\u001b[0m                                     Martin Collins     \u001b[1;36m3.0\u001b[0m     \u001b[1;36m0.999774\u001b[0m  \n",
       "\u001b[1;36m4\u001b[0m                                    Archibald Lyall     \u001b[1;36m3.5\u001b[0m     \u001b[1;36m0.999766\u001b[0m   \n",
       "\n"
      ]
     },
     "metadata": {},
     "output_type": "display_data"
    },
    {
     "data": {
      "text/html": [
       "<pre style=\"white-space:pre;overflow-x:auto;line-height:normal;font-family:Menlo,'DejaVu Sans Mono',consolas,'Courier New',monospace\">── Top books to stock for genre: Photography ──\n",
       "</pre>\n"
      ],
      "text/plain": [
       "── Top books to stock for genre: Photography ──\n"
      ]
     },
     "metadata": {},
     "output_type": "display_data"
    },
    {
     "data": {
      "text/html": [
       "<pre style=\"white-space:pre;overflow-x:auto;line-height:normal;font-family:Menlo,'DejaVu Sans Mono',consolas,'Courier New',monospace\">                                               title  \\\n",
       "<span style=\"color: #008080; text-decoration-color: #008080; font-weight: bold\">0</span>                           For the Love of Tasmania   \n",
       "<span style=\"color: #008080; text-decoration-color: #008080; font-weight: bold\">1</span>                                      Egyptian Time   \n",
       "<span style=\"color: #008080; text-decoration-color: #008080; font-weight: bold\">2</span>                   Medinas: Morocco's Hidden Cities   \n",
       "<span style=\"color: #008080; text-decoration-color: #008080; font-weight: bold\">3</span>  American Politicians: Photographs from <span style=\"color: #008080; text-decoration-color: #008080; font-weight: bold\">1843</span> to<span style=\"color: #808000; text-decoration-color: #808000\">...</span>   \n",
       "<span style=\"color: #008080; text-decoration-color: #008080; font-weight: bold\">4</span>    Portraits Of The Insane: The Case Of Dr Diamond   \n",
       "\n",
       "                                author  rating  final_score  \n",
       "<span style=\"color: #008080; text-decoration-color: #008080; font-weight: bold\">0</span>           Owen Hughes,Martin Gilmour    <span style=\"color: #008080; text-decoration-color: #008080; font-weight: bold\">5.00</span>     <span style=\"color: #008080; text-decoration-color: #008080; font-weight: bold\">0.999947</span>  \n",
       "<span style=\"color: #008080; text-decoration-color: #008080; font-weight: bold\">1</span>        Robert Lyons,Najsib <span style=\"color: #808000; text-decoration-color: #808000\">Ma</span>=<span style=\"color: #800080; text-decoration-color: #800080\">hfsu</span>=z    <span style=\"color: #008080; text-decoration-color: #008080; font-weight: bold\">3.00</span>     <span style=\"color: #008080; text-decoration-color: #008080; font-weight: bold\">0.999767</span>  \n",
       "<span style=\"color: #008080; text-decoration-color: #008080; font-weight: bold\">2</span>  Jean-Marc Tingaud,Tahar Ben Jelloun    <span style=\"color: #008080; text-decoration-color: #008080; font-weight: bold\">4.00</span>     <span style=\"color: #008080; text-decoration-color: #008080; font-weight: bold\">0.998972</span>  \n",
       "<span style=\"color: #008080; text-decoration-color: #008080; font-weight: bold\">3</span>                       Susan Kismaric    <span style=\"color: #008080; text-decoration-color: #008080; font-weight: bold\">3.25</span>     <span style=\"color: #008080; text-decoration-color: #008080; font-weight: bold\">0.998909</span>  \n",
       "<span style=\"color: #008080; text-decoration-color: #008080; font-weight: bold\">4</span>                     Adrienne Burrows    <span style=\"color: #008080; text-decoration-color: #008080; font-weight: bold\">4.83</span>     <span style=\"color: #008080; text-decoration-color: #008080; font-weight: bold\">0.996859</span>   \n",
       "\n",
       "</pre>\n"
      ],
      "text/plain": [
       "                                               title  \\\n",
       "\u001b[1;36m0\u001b[0m                           For the Love of Tasmania   \n",
       "\u001b[1;36m1\u001b[0m                                      Egyptian Time   \n",
       "\u001b[1;36m2\u001b[0m                   Medinas: Morocco's Hidden Cities   \n",
       "\u001b[1;36m3\u001b[0m  American Politicians: Photographs from \u001b[1;36m1843\u001b[0m to\u001b[33m...\u001b[0m   \n",
       "\u001b[1;36m4\u001b[0m    Portraits Of The Insane: The Case Of Dr Diamond   \n",
       "\n",
       "                                author  rating  final_score  \n",
       "\u001b[1;36m0\u001b[0m           Owen Hughes,Martin Gilmour    \u001b[1;36m5.00\u001b[0m     \u001b[1;36m0.999947\u001b[0m  \n",
       "\u001b[1;36m1\u001b[0m        Robert Lyons,Najsib \u001b[33mMa\u001b[0m=\u001b[35mhfsu\u001b[0m=z    \u001b[1;36m3.00\u001b[0m     \u001b[1;36m0.999767\u001b[0m  \n",
       "\u001b[1;36m2\u001b[0m  Jean-Marc Tingaud,Tahar Ben Jelloun    \u001b[1;36m4.00\u001b[0m     \u001b[1;36m0.998972\u001b[0m  \n",
       "\u001b[1;36m3\u001b[0m                       Susan Kismaric    \u001b[1;36m3.25\u001b[0m     \u001b[1;36m0.998909\u001b[0m  \n",
       "\u001b[1;36m4\u001b[0m                     Adrienne Burrows    \u001b[1;36m4.83\u001b[0m     \u001b[1;36m0.996859\u001b[0m   \n",
       "\n"
      ]
     },
     "metadata": {},
     "output_type": "display_data"
    }
   ],
   "source": [
    "def suggest_library_books(\n",
    "    df,\n",
    "    user_df,\n",
    "    top_m_genres: int = 5,\n",
    "    top_n_books: int = 5\n",
    "):\n",
    "    # 1) explode user_df into one row per (user, genre)\n",
    "    uf = user_df.copy()\n",
    "    def norm(g):\n",
    "        if isinstance(g, str):\n",
    "            return [x.strip() for x in g.split(\",\")]\n",
    "        return list(g)\n",
    "    uf[\"genre_list\"] = uf[\"genres\"].apply(norm)\n",
    "    uf_exp = uf.explode(\"genre_list\")\n",
    "\n",
    "    # 2) count preferences\n",
    "    genre_counts = uf_exp[\"genre_list\"].value_counts()\n",
    "\n",
    "    # 3) pick top M genres\n",
    "    top_genres = genre_counts.head(top_m_genres).index.tolist()\n",
    "\n",
    "    # 4) for each genre, get your recommend_books top-N\n",
    "    suggestions = {}\n",
    "    for genre in top_genres:\n",
    "        # recommend_books(df, [genre], top_n_books) returns a DataFrame\n",
    "        recs = recommend_books(df, genres=[genre], top_n=top_n_books)\n",
    "        suggestions[genre] = recs\n",
    "\n",
    "    return suggestions, genre_counts\n",
    "\n",
    "# ─── Example Usage ────────────────────────────────────────────────────────────\n",
    "\n",
    "# (Re‐use your 20‐user DataFrame from before)\n",
    "user_data = pd.DataFrame({\n",
    "    \"user_id\": [f\"user_{i}\" for i in range(1,21)],\n",
    "    \"genres\": [\n",
    "        \"Fiction,Fantasy\", \"Romance,Nonfiction\", \"History\", \"Science Fiction,Mystery\",\n",
    "        \"Fantasy,Young Adult\", \"Mystery,Thriller\", \"Business,Leadership\",\n",
    "        \"Poetry,Art\", \"Science,Mathematics\", \"Biography,Memoir\",\n",
    "        \"Self Help,Health\", \"Travel,Photography\", \"Cooking,Food\",\n",
    "        \"Comics,Graphic Novels\", \"Religion,Spirituality\", \"Music\",\n",
    "        \"Children’s\", \"Horror\", \"Classics,Philosophy\", \"Sports\"\n",
    "    ]\n",
    "})\n",
    "\n",
    "# Get suggestions\n",
    "suggestions, genre_counts = suggest_library_books(\n",
    "    df,\n",
    "    user_data,\n",
    "    top_m_genres=5,    # e.g. pick the 5 most‐popular genres among users\n",
    "    top_n_books=5      # and get top‐5 books per genre\n",
    ")\n",
    "\n",
    "print(\"📊 User‐genre counts:\\n\", genre_counts.head(10), \"\\n\")\n",
    "\n",
    "for genre, rec_df in suggestions.items():\n",
    "    print(f\"── Top books to stock for genre: {genre} ──\")\n",
    "    print(rec_df[[\"title\",\"author\",\"rating\",\"final_score\"]], \"\\n\")\n"
   ]
  }
 ],
 "metadata": {
  "kernelspec": {
   "display_name": "base",
   "language": "python",
   "name": "python3"
  },
  "language_info": {
   "codemirror_mode": {
    "name": "ipython",
    "version": 3
   },
   "file_extension": ".py",
   "mimetype": "text/x-python",
   "name": "python",
   "nbconvert_exporter": "python",
   "pygments_lexer": "ipython3",
   "version": "3.12.7"
  }
 },
 "nbformat": 4,
 "nbformat_minor": 5
}

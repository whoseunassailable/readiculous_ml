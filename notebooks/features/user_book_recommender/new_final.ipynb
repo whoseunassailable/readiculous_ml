{
 "cells": [
  {
   "cell_type": "code",
   "execution_count": null,
   "id": "8b256b59",
   "metadata": {},
   "outputs": [],
   "source": [
    "# loading -> preprocessing -> feature_engineering -> genre_based_filtering -> collaborative_filtering_2"
   ]
  },
  {
   "cell_type": "code",
   "execution_count": null,
   "id": "5c990d9a",
   "metadata": {},
   "outputs": [],
   "source": [
    "import pandas as pd\n",
    "import string\n",
    "import re\n",
    "\n",
    "# from helper_functions.google_books_api import fetch_genre_from_google_books"
   ]
  },
  {
   "cell_type": "code",
   "execution_count": null,
   "id": "aec7f310",
   "metadata": {},
   "outputs": [],
   "source": [
    "df_books = pd.read_csv(\"/Users/whoseunassailable/Documents/coding_projects/college_projects/readiculous/data/raw/Books.csv\", sep=';', engine='python')\n",
    "df_ratings = pd.read_csv(\"/Users/whoseunassailable/Documents/coding_projects/college_projects/readiculous/data/raw/Ratings.csv\", sep=';', engine='python')\n",
    "df_users = pd.read_csv(\"/Users/whoseunassailable/Documents/coding_projects/college_projects/readiculous/data/raw/Users.csv\", sep=';', engine='python')\n"
   ]
  },
  {
   "cell_type": "code",
   "execution_count": null,
   "id": "d42c1bae",
   "metadata": {},
   "outputs": [],
   "source": [
    "df_books.shape"
   ]
  },
  {
   "cell_type": "code",
   "execution_count": null,
   "id": "8b71308e",
   "metadata": {},
   "outputs": [],
   "source": [
    "df_ratings.shape"
   ]
  },
  {
   "cell_type": "code",
   "execution_count": null,
   "id": "e9c9836e",
   "metadata": {},
   "outputs": [],
   "source": [
    "df_users.shape"
   ]
  },
  {
   "cell_type": "code",
   "execution_count": null,
   "id": "e51f9462",
   "metadata": {},
   "outputs": [],
   "source": [
    "# Rename books columns\n",
    "df_books.columns = ['isbn', 'title', 'author', 'year', 'publisher']\n",
    "\n",
    "# Rename ratings columns\n",
    "df_ratings.columns = ['user_id', 'isbn', 'rating']\n",
    "\n",
    "# Rename users columns\n",
    "df_users.columns = ['user_id', 'age']\n"
   ]
  },
  {
   "cell_type": "code",
   "execution_count": null,
   "id": "1b36d4aa",
   "metadata": {},
   "outputs": [],
   "source": [
    "# Convert to string first, then clean\n",
    "df_ratings = df_ratings[df_ratings['user_id'].astype(str).str.strip().str.isnumeric()]\n",
    "df_users = df_users[df_users['user_id'].astype(str).str.strip().str.isnumeric()]\n",
    "\n",
    "# Now convert to integer\n",
    "df_ratings['user_id'] = df_ratings['user_id'].astype(int)\n",
    "df_users['user_id'] = df_users['user_id'].astype(int)\n"
   ]
  },
  {
   "cell_type": "markdown",
   "id": "e72d5a44",
   "metadata": {},
   "source": [
    "### Matching Data Types"
   ]
  },
  {
   "cell_type": "code",
   "execution_count": null,
   "id": "3d1e7f92",
   "metadata": {},
   "outputs": [],
   "source": [
    "# Merge ratings with books on 'isbn'\n",
    "df_merged = pd.merge(df_ratings, df_books, on='isbn', how='inner')\n",
    "\n",
    "# Merge the result with users on 'user_id's\n",
    "df_final = pd.merge(df_merged, df_users, on='user_id', how='inner')\n"
   ]
  },
  {
   "cell_type": "code",
   "execution_count": null,
   "id": "c491a76a",
   "metadata": {},
   "outputs": [],
   "source": [
    "df_final.to_csv(\"/Users/whoseunassailable/Documents/coding_projects/college_projects/readiculous/data/processed/books_dataset.csv\")"
   ]
  },
  {
   "cell_type": "code",
   "execution_count": null,
   "id": "e6fbcd28",
   "metadata": {},
   "outputs": [],
   "source": [
    "df_final.describe(include='all')"
   ]
  },
  {
   "cell_type": "code",
   "execution_count": null,
   "id": "e9f862aa",
   "metadata": {},
   "outputs": [],
   "source": [
    "df_final.columns"
   ]
  },
  {
   "cell_type": "code",
   "execution_count": null,
   "id": "9f3c97d4",
   "metadata": {},
   "outputs": [],
   "source": [
    "# Find duplicated ISBNs (same book listed multiple times)\n",
    "duplicate_isbns = df_books[df_books.duplicated('isbn', keep=False)]\n",
    "\n",
    "# Count frequency of each duplicate ISBN\n",
    "duplicate_isbn_counts = duplicate_isbns.groupby('isbn').size().reset_index(name='count')\n",
    "duplicate_isbn_counts = duplicate_isbn_counts.sort_values(by='count', ascending=False)\n",
    "\n",
    "# Display top duplicates\n",
    "print(duplicate_isbn_counts.head(10))\n"
   ]
  },
  {
   "cell_type": "code",
   "execution_count": null,
   "id": "11d8006f",
   "metadata": {},
   "outputs": [],
   "source": [
    "\n",
    "# Normalize titles: lowercase, strip, remove punctuation\n",
    "df_final['normalized_title'] = df_final['title']\\\n",
    "    .str.lower()\\\n",
    "    .str.strip()\\\n",
    "    .apply(lambda x: x.translate(str.maketrans('', '', string.punctuation)))\n",
    "\n",
    "# Count unique normalized titles\n",
    "unique_title_count = df_final['normalized_title'].nunique()\n",
    "print(f\"Unique normalized titles: {unique_title_count}\")\n"
   ]
  },
  {
   "cell_type": "code",
   "execution_count": null,
   "id": "ab1a5917",
   "metadata": {},
   "outputs": [],
   "source": [
    "# Extract unique normalized titles\n",
    "unique_titles = df_final['normalized_title'].dropna().unique()\n",
    "\n",
    "# Save to CSV\n",
    "import pandas as pd\n",
    "pd.DataFrame(unique_titles, columns=['normalized_title']).to_csv('unique_titles.csv', index=False)\n"
   ]
  },
  {
   "cell_type": "code",
   "execution_count": null,
   "id": "5506dd3f",
   "metadata": {},
   "outputs": [],
   "source": [
    "df_final.shape"
   ]
  },
  {
   "cell_type": "code",
   "execution_count": null,
   "id": "c02d5b04",
   "metadata": {},
   "outputs": [],
   "source": [
    "best_books = pd.read_csv(\"/Users/whoseunassailable/Documents/coding_projects/college_projects/readiculous/data/raw/best_books.csv\")"
   ]
  },
  {
   "cell_type": "code",
   "execution_count": null,
   "id": "28733485",
   "metadata": {},
   "outputs": [],
   "source": [
    "best_books.head()"
   ]
  },
  {
   "cell_type": "code",
   "execution_count": null,
   "id": "ef70e436",
   "metadata": {},
   "outputs": [],
   "source": [
    "# Extract title and genres\n",
    "title_genres_df = best_books[['title', 'genres']]\n",
    "\n",
    "# Save to CSV file\n",
    "title_genres_df.to_csv('/Users/whoseunassailable/Documents/coding_projects/college_projects/readiculous/data/processed/title_genres.csv', index=False)\n"
   ]
  },
  {
   "cell_type": "code",
   "execution_count": null,
   "id": "d6605a97",
   "metadata": {},
   "outputs": [],
   "source": [
    "best_books = pd.read_csv(\"/Users/whoseunassailable/Documents/coding_projects/college_projects/readiculous/data/processed/unique_titles.csv\")\n",
    "unique_title_with_genres = pd.read_csv(\"/Users/whoseunassailable/Documents/coding_projects/college_projects/readiculous/data/processed/title_genres.csv\")"
   ]
  },
  {
   "cell_type": "code",
   "execution_count": null,
   "id": "43272852",
   "metadata": {},
   "outputs": [],
   "source": [
    "best_books.columns"
   ]
  },
  {
   "cell_type": "code",
   "execution_count": null,
   "id": "a75436f5",
   "metadata": {},
   "outputs": [],
   "source": [
    "unique_title_with_genres.columns"
   ]
  },
  {
   "cell_type": "code",
   "execution_count": null,
   "id": "0199deb7",
   "metadata": {},
   "outputs": [],
   "source": [
    "\n",
    "# # Normalize function\n",
    "# def normalize(text):\n",
    "#     return re.sub(r'\\W+', '', str(text).lower().strip())\n",
    "\n",
    "# # Use 'title' instead of 'normalized_title'\n",
    "# unique_title_with_genres['normalized_title_clean'] = unique_title_with_genres['title'].apply(normalize)\n",
    "# best_books['normalized_title_clean'] = best_books['title'].apply(normalize)\n",
    "\n",
    "# # Mapping\n",
    "# genre_map = dict(zip(best_books['normalized_title_clean'], best_books['genres']))\n",
    "\n",
    "# # Add matched genres\n",
    "# unique_title_with_genres['matched_genres'] = None\n",
    "\n",
    "# for i, row in unique_title_with_genres.iterrows():\n",
    "#     current_title = row['normalized_title_clean']\n",
    "#     for norm_title, genres in genre_map.items():\n",
    "#         if norm_title in current_title or current_title in norm_title:\n",
    "#             unique_title_with_genres.at[i, 'matched_genres'] = genres\n",
    "#             break\n",
    "\n",
    "# # Save\n",
    "# unique_title_with_genres.to_csv('/Users/whoseunassailable/Documents/coding_projects/college_projects/readiculous/data/processed/enriched_titles_with_genres.csv', index=False)\n",
    "\n",
    "# print(\"✅ Enriched file saved as 'enriched_titles_with_genres.csv'\")\n"
   ]
  },
  {
   "cell_type": "code",
   "execution_count": null,
   "id": "3c1ad5cb",
   "metadata": {},
   "outputs": [],
   "source": [
    "enriched_titles_with_genres = pd.read_csv(\"/Users/whoseunassailable/Documents/coding_projects/college_projects/readiculous/data/processed/enriched_titles_with_genres.csv\")"
   ]
  },
  {
   "cell_type": "code",
   "execution_count": null,
   "id": "44300821",
   "metadata": {},
   "outputs": [],
   "source": [
    "enriched_titles_with_genres.head(5)"
   ]
  },
  {
   "cell_type": "code",
   "execution_count": null,
   "id": "a9ff7690",
   "metadata": {},
   "outputs": [],
   "source": [
    "enriched_titles_with_genres.shape"
   ]
  },
  {
   "cell_type": "code",
   "execution_count": null,
   "id": "e31a29f0",
   "metadata": {},
   "outputs": [],
   "source": [
    "enriched_titles_with_genres.isna().sum()"
   ]
  },
  {
   "cell_type": "code",
   "execution_count": null,
   "id": "52448148",
   "metadata": {},
   "outputs": [],
   "source": [
    "df_final.head(5)"
   ]
  },
  {
   "cell_type": "code",
   "execution_count": null,
   "id": "60f84f0f",
   "metadata": {},
   "outputs": [],
   "source": [
    "\n",
    "# Merge on normalized_title\n",
    "df_final = df_final.merge(\n",
    "    enriched_titles_with_genres[['normalized_title_clean', 'matched_genres']],\n",
    "    how='left',\n",
    "    left_on='normalized_title',\n",
    "    right_on='normalized_title_clean'\n",
    ")\n",
    "\n",
    "# Drop helper column\n",
    "df_final.drop(columns='normalized_title_clean', inplace=True)\n",
    "\n",
    "# Save result\n",
    "df_final.to_csv('/Users/whoseunassailable/Documents/coding_projects/college_projects/readiculous/data/processed/df_final_with_genres.csv', index=False)"
   ]
  },
  {
   "cell_type": "code",
   "execution_count": null,
   "id": "b5d1621f",
   "metadata": {},
   "outputs": [],
   "source": [
    "data_with_no_null_genre = df_final[~df_final['matched_genres'].isna()]"
   ]
  },
  {
   "cell_type": "code",
   "execution_count": null,
   "id": "fd107ed6",
   "metadata": {},
   "outputs": [],
   "source": [
    "# Divide rating by 2\n",
    "data_with_no_null_genre['rating'] = data_with_no_null_genre['rating'] / 2\n",
    "\n",
    "# Remove rows where rating is NaN or 0\n",
    "data_with_no_null_genre = data_with_no_null_genre[\n",
    "    data_with_no_null_genre['rating'].notna() & (data_with_no_null_genre['rating'] != 0)\n",
    "]"
   ]
  },
  {
   "cell_type": "code",
   "execution_count": null,
   "id": "e282fa53",
   "metadata": {},
   "outputs": [],
   "source": [
    "data_with_no_null_genre.to_csv(\"/Users/whoseunassailable/Documents/coding_projects/college_projects/readiculous/data/processed/data_with_no_null_genre.csv\")"
   ]
  },
  {
   "cell_type": "code",
   "execution_count": null,
   "id": "eb210c55",
   "metadata": {},
   "outputs": [],
   "source": [
    "good_reads = pd.read_csv(\"/Users/whoseunassailable/Documents/coding_projects/college_projects/readiculous/data/raw/good_read_books_100k.csv\")"
   ]
  },
  {
   "cell_type": "code",
   "execution_count": null,
   "id": "28915722",
   "metadata": {},
   "outputs": [],
   "source": [
    "good_reads.columns"
   ]
  },
  {
   "cell_type": "code",
   "execution_count": null,
   "id": "221e7da7",
   "metadata": {},
   "outputs": [],
   "source": [
    "good_reads.head()"
   ]
  },
  {
   "cell_type": "code",
   "execution_count": null,
   "id": "2da5b764",
   "metadata": {},
   "outputs": [],
   "source": [
    "data_with_no_null_genre.head()"
   ]
  },
  {
   "cell_type": "code",
   "execution_count": null,
   "id": "d7c907dd",
   "metadata": {},
   "outputs": [],
   "source": [
    "data_with_no_null_genre.columns"
   ]
  },
  {
   "cell_type": "code",
   "execution_count": null,
   "id": "3055e387",
   "metadata": {},
   "outputs": [],
   "source": [
    "good_reads.columns"
   ]
  },
  {
   "cell_type": "code",
   "execution_count": null,
   "id": "e3389a9e",
   "metadata": {},
   "outputs": [],
   "source": [
    "\n",
    "# Convert genre from string to list if necessary\n",
    "def parse_genre(val):\n",
    "    if pd.isna(val):\n",
    "        return []\n",
    "    if isinstance(val, list):\n",
    "        return val\n",
    "    return [g.strip() for g in str(val).split(',') if g.strip()]\n",
    "\n",
    "good_reads['matched_genres'] = good_reads['genre'].apply(parse_genre)\n",
    "\n",
    "# Create a unified format for good_reads\n",
    "good_reads_standardized = pd.DataFrame({\n",
    "    'user_id': data_with_no_null_genre['user_id'],\n",
    "    'isbn': good_reads['isbn'],\n",
    "    'rating': good_reads['rating'],\n",
    "    'title': good_reads['title'],\n",
    "    'author': good_reads['author'],\n",
    "    'desc':good_reads['desc'],\n",
    "    'year': data_with_no_null_genre['year'],\n",
    "    'publisher': data_with_no_null_genre['publisher'],\n",
    "    'age': data_with_no_null_genre['age'],\n",
    "    'normalized_title': good_reads['title'].str.lower().str.replace(r'[^a-z0-9]', '', regex=True),\n",
    "    'matched_genres': good_reads['matched_genres']\n",
    "})\n",
    "\n",
    "# Select and align columns from data_with_no_null_genre\n",
    "data_with_no_null_genre_aligned = data_with_no_null_genre[[\n",
    "    'user_id', 'isbn', 'rating', 'title', 'author', 'year', 'publisher',\n",
    "    'age', 'normalized_title', 'matched_genres'\n",
    "]]\n",
    "\n",
    "# Combine the two datasets\n",
    "combined_df = pd.concat([data_with_no_null_genre_aligned, good_reads_standardized], ignore_index=True)\n",
    "\n",
    "# Save the result\n",
    "combined_df.to_csv(\"/Users/whoseunassailable/Documents/coding_projects/college_projects/readiculous/data/processed/combined_books.csv\", index=False)\n",
    "\n",
    "print(\"✅ Combined and standardized dataset saved as combined_books.csv\")"
   ]
  },
  {
   "cell_type": "code",
   "execution_count": null,
   "id": "d974f056",
   "metadata": {},
   "outputs": [],
   "source": [
    "combined_df = pd.read_csv(\"/Users/whoseunassailable/Documents/coding_projects/college_projects/readiculous/data/processed/combined_books.csv\")\n"
   ]
  },
  {
   "cell_type": "code",
   "execution_count": null,
   "id": "8c27cb9e",
   "metadata": {},
   "outputs": [],
   "source": [
    "combined_df.shape"
   ]
  },
  {
   "cell_type": "code",
   "execution_count": null,
   "id": "80a772ce",
   "metadata": {},
   "outputs": [],
   "source": [
    "import pandas as pd\n",
    "from ydata_profiling import ProfileReport\n",
    "import seaborn as sns\n",
    "import matplotlib.pyplot as plt\n",
    "import plotly.express as px"
   ]
  },
  {
   "cell_type": "code",
   "execution_count": null,
   "id": "ca72b57f",
   "metadata": {},
   "outputs": [],
   "source": [
    "df = pd.read_csv(\"/Users/whoseunassailable/Documents/coding_projects/college_projects/readiculous/data/processed/combined_books.csv\")"
   ]
  },
  {
   "cell_type": "markdown",
   "id": "bb925933",
   "metadata": {},
   "source": [
    "## We will pre-process the data and see what are all the missing and duplicate values present in the dataset"
   ]
  },
  {
   "cell_type": "code",
   "execution_count": null,
   "id": "134f423c",
   "metadata": {},
   "outputs": [],
   "source": [
    "df.isnull().sum()"
   ]
  },
  {
   "cell_type": "markdown",
   "id": "ffca1cf8",
   "metadata": {},
   "source": [
    "### Columns that should NOT be missing (ideally):\n",
    "rating - Drop rows where rating is missing\n",
    "\n",
    "title -  Drop rows where title is missing\n",
    "\n",
    "author - Drop rows where author is missing\n",
    "\n",
    "matched_genres - Drop rows where matched_genres is missing\n"
   ]
  },
  {
   "cell_type": "code",
   "execution_count": null,
   "id": "ecda4cec",
   "metadata": {},
   "outputs": [],
   "source": [
    "required_cols = ['rating', 'title', 'author', 'matched_genres']\n",
    "df = df.dropna(subset=required_cols).copy()\n"
   ]
  },
  {
   "cell_type": "code",
   "execution_count": null,
   "id": "ff07931e",
   "metadata": {},
   "outputs": [],
   "source": [
    "df.shape"
   ]
  },
  {
   "cell_type": "code",
   "execution_count": null,
   "id": "80a70f8b",
   "metadata": {},
   "outputs": [],
   "source": [
    "df['normalized_title'] = df['normalized_title'].fillna(df['title'].str.lower())\n"
   ]
  },
  {
   "cell_type": "code",
   "execution_count": null,
   "id": "326a3f2e",
   "metadata": {},
   "outputs": [],
   "source": [
    "df.shape"
   ]
  },
  {
   "cell_type": "code",
   "execution_count": null,
   "id": "8a0f8dc4",
   "metadata": {},
   "outputs": [],
   "source": [
    "df = df.drop(columns=['user_id', 'age', 'publisher', 'year'])\n"
   ]
  },
  {
   "cell_type": "code",
   "execution_count": null,
   "id": "173190f7",
   "metadata": {},
   "outputs": [],
   "source": [
    "df.columns"
   ]
  },
  {
   "cell_type": "code",
   "execution_count": null,
   "id": "ab602ba9",
   "metadata": {},
   "outputs": [],
   "source": [
    "def inspect_all_dirty_strings(df):\n",
    "    cols_to_check = [\n",
    "        'isbn', 'rating', 'title', 'author',\n",
    "        'normalized_title', 'matched_genres', 'desc'\n",
    "    ]\n",
    "    \n",
    "    for col in cols_to_check:\n",
    "        print(f\"\\n--- Inspecting column: {col} ---\")\n",
    "        \n",
    "        # Convert to string and drop missing\n",
    "        df_col = df[col].dropna().astype(str)\n",
    "        \n",
    "        print(\"Non-null count:\", df_col.shape[0])\n",
    "        print(\"Unique values:\", df_col.nunique())\n",
    "\n",
    "        # Check for only-numeric strings or very short strings\n",
    "        print(\"\\nSuspicious values (pure numbers or < 3 chars):\")\n",
    "        suspicious = df_col[df_col.str.match(r'^\\d+$') | df_col.str.len().lt(3)]\n",
    "        print(suspicious.value_counts().head(10))\n",
    "\n",
    "        # Check for null-like values stored as strings\n",
    "        print(\"\\nString values that look like nulls ('nan', 'none', etc.):\")\n",
    "        null_like = df_col[df_col.str.lower().isin(['nan', 'none', 'null', 'n/a', 'na'])].value_counts()\n",
    "        print(null_like)\n",
    "\n",
    "        # Top 5 most common values\n",
    "        print(\"\\nTop 5 most frequent entries:\")\n",
    "        print(df_col.value_counts().head(5))\n",
    "        \n",
    "        print(\"-\" * 60)\n"
   ]
  },
  {
   "cell_type": "code",
   "execution_count": null,
   "id": "af08f4ba",
   "metadata": {},
   "outputs": [],
   "source": [
    "inspect_all_dirty_strings(df)\n"
   ]
  },
  {
   "cell_type": "markdown",
   "id": "3cee19c6",
   "metadata": {},
   "source": [
    "### Cleaning Summary & Recommendations\n",
    "isbn\n",
    "Mostly clean. Looks like valid ISBNs (all numeric, fixed length).\n",
    "Optional: Remove rows where isbn is missing if you plan to use it as a unique book key.\n",
    "\n",
    "rating\n",
    "We'll drop rows where rating is missing for collaborative filtering.\n",
    "\n",
    "title / normalized_title\n",
    "Some entries are very short (like \"It\", \"V\", \"14\"), which may be ambiguous or junk.\n",
    "Keep short ones like “1984”, “It” (real books).\n",
    "Remove/flag single-character or number-only titles like \"1\", \"911\", \"Q\".\n",
    "\n",
    "author\n",
    "A few numeric or junk entries (\"19\", \"J.\", \"Ai\") so replace them with empty author\n",
    "Keep known short names if verified (Ai might be real).\n",
    "\n",
    "matched_genres\n",
    "Drop rows where matched_genres == '[]' (these can't be used in genre filtering).\n",
    "\n",
    "for description\n",
    "Remove junk entries like \".\", \">\", \"No\", \"a\", \"PB\" and make the value empty instead\n"
   ]
  },
  {
   "cell_type": "code",
   "execution_count": null,
   "id": "ac336fe3",
   "metadata": {},
   "outputs": [],
   "source": [
    "# Drop rows missing required columns (except isbn)\n",
    "df = df.dropna(subset=['rating', 'title', 'author', 'matched_genres']).copy()\n"
   ]
  },
  {
   "cell_type": "code",
   "execution_count": null,
   "id": "0fcf9f2c",
   "metadata": {},
   "outputs": [],
   "source": [
    "# Convert columns to string for safe processing\n",
    "df['title'] = df['title'].astype(str)\n",
    "df['author'] = df['author'].astype(str)\n",
    "df['matched_genres'] = df['matched_genres'].astype(str)\n",
    "df['desc'] = df['desc'].astype(str)\n",
    "df['normalized_title'] = df['normalized_title'].astype(str)\n"
   ]
  },
  {
   "cell_type": "code",
   "execution_count": null,
   "id": "bf16ac96",
   "metadata": {},
   "outputs": [],
   "source": [
    "# Step 1: Remove titles that are purely numeric or single character (but keep legit short ones like \"1984\", \"It\")\n",
    "legit_short_titles = {'it', 'we', 's.', 'v.', 'v', 'go'}\n",
    "def is_bad_title(title):\n",
    "    t = title.strip().lower()\n",
    "    return ((len(t) <= 3 or t.isdigit()) and t not in legit_short_titles)\n"
   ]
  },
  {
   "cell_type": "code",
   "execution_count": null,
   "id": "25bdc955",
   "metadata": {},
   "outputs": [],
   "source": [
    "df = df[~df['title'].apply(is_bad_title)]\n"
   ]
  },
  {
   "cell_type": "code",
   "execution_count": null,
   "id": "1e405acf",
   "metadata": {},
   "outputs": [],
   "source": [
    "# Step 2: Replace junk author names (numbers or 1-2 character codes) with empty string\n",
    "def clean_author(author):\n",
    "    a = author.strip()\n",
    "    if a.lower() in {'nan', 'none'} or a.isdigit() or len(a) <= 2 or a.lower() in {'j.', 'a.', 'b.'}:\n",
    "        return ''\n",
    "    return a\n",
    "df['author'] = df['author'].apply(clean_author)\n"
   ]
  },
  {
   "cell_type": "code",
   "execution_count": null,
   "id": "4eab8f4a",
   "metadata": {},
   "outputs": [],
   "source": [
    "# Step 3: Drop rows where matched_genres is just an empty list\n",
    "df = df[df['matched_genres'].str.strip() != '[]']\n"
   ]
  },
  {
   "cell_type": "code",
   "execution_count": null,
   "id": "28f39dd6",
   "metadata": {},
   "outputs": [],
   "source": [
    "# Step 4: Replace junk descriptions with empty string\n",
    "junk_descs = {'.', '>', 'no', 'b', 'a', 'pb', 'Â '}\n",
    "df['desc'] = df['desc'].apply(lambda x: '' if x.strip().lower() in junk_descs or len(x.strip()) < 10 else x)\n"
   ]
  },
  {
   "cell_type": "code",
   "execution_count": null,
   "id": "6e7ab729",
   "metadata": {},
   "outputs": [],
   "source": [
    "# Step 5: Normalize title if not available\n",
    "df['normalized_title'] = df['normalized_title'].replace('nan', np.nan)\n",
    "df['normalized_title'] = df['normalized_title'].fillna(df['title'].str.lower())\n"
   ]
  },
  {
   "cell_type": "code",
   "execution_count": null,
   "id": "db4e96a3",
   "metadata": {},
   "outputs": [],
   "source": [
    "# Reset index for safety\n",
    "df = df.reset_index(drop=True)\n"
   ]
  },
  {
   "cell_type": "code",
   "execution_count": null,
   "id": "9c2f9321",
   "metadata": {},
   "outputs": [],
   "source": [
    "df.shape"
   ]
  },
  {
   "cell_type": "code",
   "execution_count": null,
   "id": "eed27edd",
   "metadata": {},
   "outputs": [],
   "source": [
    "df['author'] = df['author'].apply(lambda x: x.title())"
   ]
  },
  {
   "cell_type": "code",
   "execution_count": null,
   "id": "316c0467",
   "metadata": {},
   "outputs": [],
   "source": [
    "df.to_csv(\"/Users/whoseunassailable/Documents/coding_projects/college_projects/readiculous/data/processed/ready_for_feature_engineering.csv\")"
   ]
  },
  {
   "cell_type": "code",
   "execution_count": null,
   "id": "ea6660f8",
   "metadata": {},
   "outputs": [],
   "source": [
    "import pandas as pd\n",
    "import ast\n",
    "from sklearn.preprocessing import MultiLabelBinarizer\n",
    "import ast\n",
    "from sklearn.feature_extraction.text import TfidfVectorizer"
   ]
  },
  {
   "cell_type": "code",
   "execution_count": null,
   "id": "89db1eab",
   "metadata": {},
   "outputs": [],
   "source": [
    "df = pd.read_csv(\"/Users/whoseunassailable/Documents/coding_projects/college_projects/readiculous/data/processed/ready_for_feature_engineering.csv\")"
   ]
  },
  {
   "cell_type": "code",
   "execution_count": null,
   "id": "5b05eba7",
   "metadata": {},
   "outputs": [],
   "source": [
    "def create_combined_text(df):\n",
    "    return (\n",
    "        df['normalized_title'].fillna('') + ' ' +\n",
    "        df['matched_genres'].fillna('') + ' ' +\n",
    "        df['desc'].fillna('')\n",
    "    )\n",
    "\n",
    "df['combined_text'] = create_combined_text(df)\n"
   ]
  },
  {
   "cell_type": "code",
   "execution_count": null,
   "id": "1e3366dc",
   "metadata": {},
   "outputs": [],
   "source": [
    "\n",
    "# Safely convert stringified lists to actual lists\n",
    "df['genres_list'] = df['matched_genres'].apply(lambda x: ast.literal_eval(x) if isinstance(x, str) else [])\n",
    "\n",
    "# One-hot encode genres\n",
    "mlb = MultiLabelBinarizer()\n",
    "genre_features = mlb.fit_transform(df['genres_list'])\n",
    "\n",
    "# Add back to DataFrame (optional)\n",
    "genre_df = pd.DataFrame(genre_features, columns=mlb.classes_)\n",
    "df_clean = pd.concat([df, genre_df], axis=1)\n"
   ]
  },
  {
   "cell_type": "code",
   "execution_count": null,
   "id": "d0b58ec6",
   "metadata": {},
   "outputs": [],
   "source": [
    "tfidf_vectorizer = TfidfVectorizer(stop_words='english', max_features=50000)\n",
    "tfidf_matrix = tfidf_vectorizer.fit_transform(df_clean['combined_text'])"
   ]
  },
  {
   "cell_type": "code",
   "execution_count": null,
   "id": "0b604efe",
   "metadata": {},
   "outputs": [],
   "source": [
    "interaction_df = df_clean[['title', 'rating']].copy()"
   ]
  },
  {
   "cell_type": "code",
   "execution_count": null,
   "id": "568c428d",
   "metadata": {},
   "outputs": [],
   "source": [
    "df.columns"
   ]
  },
  {
   "cell_type": "code",
   "execution_count": null,
   "id": "7017dddc",
   "metadata": {},
   "outputs": [],
   "source": [
    "df.to_csv(\"/Users/whoseunassailable/Documents/coding_projects/college_projects/readiculous/data/processed/feature_engineering_done.csv\")"
   ]
  },
  {
   "cell_type": "code",
   "execution_count": null,
   "id": "7060b20d",
   "metadata": {},
   "outputs": [],
   "source": [
    "import pandas as pd"
   ]
  },
  {
   "cell_type": "code",
   "execution_count": null,
   "id": "c6726887",
   "metadata": {},
   "outputs": [],
   "source": [
    "df = pd.read_csv(\"/Users/whoseunassailable/Documents/coding_projects/college_projects/readiculous/data/processed/feature_engineering_done.csv\")"
   ]
  },
  {
   "cell_type": "markdown",
   "id": "02a59328",
   "metadata": {},
   "source": [
    "### Fix all-uppercase authors (e.g., “KAREN ROBARDS”)\n"
   ]
  },
  {
   "cell_type": "code",
   "execution_count": null,
   "id": "29ef3adf",
   "metadata": {},
   "outputs": [],
   "source": [
    "df['author'] = df['author'].astype(str).apply(lambda x: x.title())"
   ]
  },
  {
   "cell_type": "code",
   "execution_count": null,
   "id": "63dea8c2",
   "metadata": {},
   "outputs": [],
   "source": [
    "df['author'] = df['author'].apply(lambda x: x.title())"
   ]
  },
  {
   "cell_type": "code",
   "execution_count": null,
   "id": "6304d32f",
   "metadata": {},
   "outputs": [],
   "source": [
    "df.shape"
   ]
  },
  {
   "cell_type": "code",
   "execution_count": null,
   "id": "40513a56",
   "metadata": {},
   "outputs": [],
   "source": [
    "def get_books_by_genres(df, selected_genres, top_n=10):\n",
    "    # Filter books that contain at least one selected genre\n",
    "    filtered_df = df[df['genres_list'].apply(lambda genres: any(genre in genres for genre in selected_genres))]\n",
    "\n",
    "    # Optional: Sort by average rating or popularity if available\n",
    "    if 'rating' in filtered_df.columns:\n",
    "        top_books = filtered_df.sort_values(by='rating', ascending=False)\n",
    "        top_books = top_books.drop_duplicates(subset=['title', 'author']).head(top_n)\n",
    "    else:\n",
    "        top_books = filtered_df.head(top_n)\n",
    "    \n",
    "    return top_books[['title', 'author', 'matched_genres', 'rating']].reset_index(drop=True)\n"
   ]
  },
  {
   "cell_type": "code",
   "execution_count": null,
   "id": "46c3e9cd",
   "metadata": {},
   "outputs": [],
   "source": [
    "# User-selected genres (simulate input)\n",
    "user_likes = ['Fantasy', 'Thriller', 'Romance']\n",
    "\n",
    "# Recommend books\n",
    "recommended_books = get_books_by_genres(df, user_likes, top_n=10)\n",
    "\n",
    "print(recommended_books)\n"
   ]
  },
  {
   "cell_type": "code",
   "execution_count": null,
   "id": "1723d300",
   "metadata": {},
   "outputs": [],
   "source": [
    "df.to_csv(\"/Users/whoseunassailable/Documents/coding_projects/college_projects/readiculous/data/processed/genre_based_filtering.csv\")"
   ]
  },
  {
   "cell_type": "code",
   "execution_count": null,
   "id": "e760f403",
   "metadata": {},
   "outputs": [],
   "source": [
    "import pandas as pd\n",
    "from surprise import Dataset, Reader, SVD\n",
    "import ast\n",
    "from sklearn.feature_extraction.text import TfidfVectorizer\n",
    "from sklearn.metrics.pairwise import cosine_similarity\n",
    "from sklearn.neighbors import NearestNeighbors\n",
    "\n"
   ]
  },
  {
   "cell_type": "code",
   "execution_count": null,
   "id": "a111df7b",
   "metadata": {},
   "outputs": [],
   "source": [
    "\n",
    "books_df = pd.read_csv('/Users/whoseunassailable/Documents/coding_projects/college_projects/readiculous/data/raw/Books.csv', sep=';')\n",
    "ratings_df = pd.read_csv('/Users/whoseunassailable/Documents/coding_projects/college_projects/readiculous/data/raw/Ratings.csv', sep=';')\n",
    "\n",
    "ratings_df['Rating'] = ratings_df['Rating'].apply(lambda x: round(x / 2, 1) if x > 0 else 0)\n",
    "ratings_df = ratings_df[ratings_df['Rating'] > 0]\n",
    "\n",
    "ratings_books = ratings_df.merge(books_df[['ISBN', 'Title']], on='ISBN', how='inner')\n",
    "\n",
    "ratings_for_surprise = ratings_books.rename(columns={\n",
    "    'User-ID': 'user_id', 'Title': 'title', 'Rating': 'rating'\n",
    "})[['user_id', 'title', 'rating']]\n",
    "\n",
    "ratings_for_surprise['title'] = ratings_for_surprise['title'].astype(str).str.strip().str.lower()\n"
   ]
  },
  {
   "cell_type": "code",
   "execution_count": null,
   "id": "de77afb3",
   "metadata": {},
   "outputs": [],
   "source": [
    "genre_based_df = pd.read_csv('/Users/whoseunassailable/Documents/coding_projects/college_projects/readiculous/data/processed/genre_based_filtering.csv')\n",
    "genre_based_df['title'] = genre_based_df['title'].astype(str).str.strip().str.lower()\n",
    "genre_based_df['genres_list'] = genre_based_df['genres_list'].apply(lambda x: ast.literal_eval(x) if isinstance(x, str) else [])\n"
   ]
  },
  {
   "cell_type": "code",
   "execution_count": null,
   "id": "11f4db23",
   "metadata": {},
   "outputs": [],
   "source": [
    "\n",
    "reader = Reader(rating_scale=(0.5, 5.0))\n",
    "data = Dataset.load_from_df(ratings_for_surprise[['user_id', 'title', 'rating']], reader)\n",
    "trainset = data.build_full_trainset()\n",
    "\n",
    "model = SVD()\n",
    "model.fit(trainset)\n"
   ]
  },
  {
   "cell_type": "code",
   "execution_count": null,
   "id": "04f8d401",
   "metadata": {},
   "outputs": [],
   "source": [
    "def get_svd_predictions(model, ratings_df, user_id, top_n=50):\n",
    "    rated_books = ratings_df[ratings_df['user_id'] == user_id]['title'].tolist()\n",
    "    all_books = ratings_df['title'].unique()\n",
    "    unseen_books = [book for book in all_books if book not in rated_books]\n",
    "    predictions = [model.predict(user_id, book) for book in unseen_books]\n",
    "    return sorted(predictions, key=lambda x: x.est, reverse=True)[:top_n]\n",
    "\n",
    "def merge_with_genres(predictions, genre_df, selected_genres):\n",
    "    selected_genres = set(selected_genres)\n",
    "    rows = []\n",
    "    for pred in predictions:\n",
    "        title = pred.iid\n",
    "        est = pred.est\n",
    "        match = genre_df[genre_df['title'] == title]\n",
    "        if not match.empty:\n",
    "            genres = match.iloc[0]['genres_list']\n",
    "            overlap = len(set(genres) & selected_genres)\n",
    "            rows.append({\n",
    "                'title': title,\n",
    "                'estimated_rating': est,\n",
    "                'genre_overlap': overlap,\n",
    "                'author': match.iloc[0]['author'],\n",
    "                'matched_genres': match.iloc[0]['matched_genres']\n",
    "            })\n",
    "    return pd.DataFrame(rows)\n"
   ]
  },
  {
   "cell_type": "code",
   "execution_count": null,
   "id": "aef292e1",
   "metadata": {},
   "outputs": [],
   "source": [
    "def hybrid_recommendation(model, ratings_df, genre_df, user_id, selected_genres, alpha=0.7, beta=0.3, top_n=10):\n",
    "    preds = get_svd_predictions(model, ratings_df, user_id, top_n=100)\n",
    "    enriched = merge_with_genres(preds, genre_df, selected_genres)\n",
    "    \n",
    "    if enriched.empty:\n",
    "        return pd.DataFrame()\n",
    "\n",
    "    enriched['norm_rating'] = (enriched['estimated_rating'] - enriched['estimated_rating'].min()) / (\n",
    "        enriched['estimated_rating'].max() - enriched['estimated_rating'].min() + 1e-6\n",
    "    )\n",
    "    enriched['norm_genre'] = enriched['genre_overlap'] / (enriched['genre_overlap'].max() + 1e-6)\n",
    "    \n",
    "    enriched['hybrid_score'] = alpha * enriched['norm_rating'] + beta * enriched['norm_genre']\n",
    "    \n",
    "    return enriched.sort_values(by='hybrid_score', ascending=False).head(top_n)[\n",
    "        ['title', 'author', 'matched_genres', 'estimated_rating', 'genre_overlap', 'hybrid_score']\n",
    "    ]\n"
   ]
  },
  {
   "cell_type": "code",
   "execution_count": null,
   "id": "d340ff02",
   "metadata": {},
   "outputs": [],
   "source": [
    "user_id = 276726\n",
    "selected_genres = ['Fantasy', 'Romance', 'Mystery']\n",
    "\n",
    "hybrid_results = hybrid_recommendation(model, ratings_for_surprise, genre_based_df, user_id, selected_genres)\n",
    "print(hybrid_results)\n"
   ]
  },
  {
   "cell_type": "code",
   "execution_count": null,
   "id": "30411f97",
   "metadata": {},
   "outputs": [],
   "source": [
    "selected_genres = ['Fantasy', 'Romance', 'Mystery']\n",
    "user_id = 276726  # Pick from your real users in ratings_for_surprise\n",
    "\n",
    "recommendations = hybrid_recommendation(\n",
    "    model, ratings_for_surprise, genre_based_df, user_id, selected_genres\n",
    ")\n",
    "\n",
    "print(recommendations)\n"
   ]
  },
  {
   "cell_type": "code",
   "execution_count": null,
   "id": "1f08a8dd",
   "metadata": {},
   "outputs": [],
   "source": [
    "genre_based_df.to_csv(\n",
    "    \"/Users/whoseunassailable/Documents/coding_projects/college_projects/readiculous/data/processed/genre_based_filtering_cleaned.csv\",\n",
    "    index=False\n",
    ")\n"
   ]
  },
  {
   "cell_type": "code",
   "execution_count": null,
   "id": "7160f543",
   "metadata": {},
   "outputs": [],
   "source": [
    "# Load the CSV efficiently\n",
    "df = pd.read_csv(\"/Users/whoseunassailable/Documents/coding_projects/college_projects/readiculous/data/processed/genre_based_filtering_cleaned.csv\")"
   ]
  },
  {
   "cell_type": "code",
   "execution_count": null,
   "id": "d84ce847",
   "metadata": {},
   "outputs": [],
   "source": [
    "# Combine text fields\n",
    "df['combined_text'] = (\n",
    "    df['normalized_title'].fillna('') + ' ' +\n",
    "    df['matched_genres'].fillna('') + ' ' +\n",
    "    df['desc'].fillna('')\n",
    ")\n"
   ]
  },
  {
   "cell_type": "code",
   "execution_count": null,
   "id": "3d48ad11",
   "metadata": {},
   "outputs": [],
   "source": [
    "\n",
    "# TF-IDF vectorization (sparse!)\n",
    "vectorizer = TfidfVectorizer(stop_words='english', max_features=50000)\n",
    "tfidf_matrix = vectorizer.fit_transform(df['combined_text'])\n"
   ]
  },
  {
   "cell_type": "code",
   "execution_count": null,
   "id": "5cad0b14",
   "metadata": {},
   "outputs": [],
   "source": [
    "# Use Nearest Neighbors to get top 10 similar items\n",
    "knn = NearestNeighbors(metric='cosine', algorithm='brute')\n",
    "knn.fit(tfidf_matrix)\n"
   ]
  },
  {
   "cell_type": "code",
   "execution_count": null,
   "id": "e117fd6e",
   "metadata": {},
   "outputs": [],
   "source": [
    "# Example: Get top 10 similar books for the first book\n",
    "distances, indices = knn.kneighbors(tfidf_matrix[0], n_neighbors=10)\n"
   ]
  },
  {
   "cell_type": "code",
   "execution_count": null,
   "id": "31ee5d60",
   "metadata": {},
   "outputs": [],
   "source": [
    "# Print similar book titles\n",
    "similar_books = df.iloc[indices[0]]['normalized_title']\n",
    "print(similar_books)"
   ]
  },
  {
   "cell_type": "code",
   "execution_count": null,
   "id": "191f6fbc",
   "metadata": {},
   "outputs": [],
   "source": [
    "print(distances[0])\n"
   ]
  },
  {
   "cell_type": "code",
   "execution_count": null,
   "id": "fe803cdb",
   "metadata": {},
   "outputs": [],
   "source": [
    "print(df.iloc[indices[0]]['combined_text'])"
   ]
  }
 ],
 "metadata": {
  "language_info": {
   "name": "python"
  }
 },
 "nbformat": 4,
 "nbformat_minor": 5
}

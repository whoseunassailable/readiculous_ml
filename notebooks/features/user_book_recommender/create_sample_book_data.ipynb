{
 "cells": [
  {
   "cell_type": "code",
   "execution_count": 3,
   "id": "dc00ee0b",
   "metadata": {},
   "outputs": [],
   "source": [
    "import pandas as pd\n",
    "\n",
    "# Load the full CSV\n",
    "df = pd.read_csv('/Users/whoseunassailable/Documents/coding_projects/college_projects/readiculous/data/raw/good_read_books_100k.csv')\n",
    "\n",
    "# Randomly sample 10,000 rows\n",
    "sample_df = df.sample(n=10000, random_state=42)  # Set random_state for reproducibility\n",
    "\n",
    "# Optionally save it to a new CSV\n",
    "sample_df.to_csv('/Users/whoseunassailable/Documents/coding_projects/college_projects/readiculous/data/raw/good_reads_sample.csv', index=False)\n"
   ]
  },
  {
   "cell_type": "code",
   "execution_count": null,
   "id": "a0d45239",
   "metadata": {},
   "outputs": [],
   "source": []
  }
 ],
 "metadata": {
  "kernelspec": {
   "display_name": "base",
   "language": "python",
   "name": "python3"
  },
  "language_info": {
   "codemirror_mode": {
    "name": "ipython",
    "version": 3
   },
   "file_extension": ".py",
   "mimetype": "text/x-python",
   "name": "python",
   "nbconvert_exporter": "python",
   "pygments_lexer": "ipython3",
   "version": "3.12.7"
  }
 },
 "nbformat": 4,
 "nbformat_minor": 5
}

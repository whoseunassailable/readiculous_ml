{
 "cells": [
  {
   "cell_type": "code",
   "execution_count": 333,
   "id": "19c0d3ff",
   "metadata": {},
   "outputs": [],
   "source": [
    "import pandas as pd\n",
    "import string\n",
    "import re\n",
    "\n",
    "# from helper_functions.google_books_api import fetch_genre_from_google_books"
   ]
  },
  {
   "cell_type": "markdown",
   "id": "96904a1d",
   "metadata": {},
   "source": [
    "### Read Books, Ratings and Users csv file"
   ]
  },
  {
   "cell_type": "code",
   "execution_count": 334,
   "id": "d85f9c39",
   "metadata": {},
   "outputs": [],
   "source": [
    "df_books = pd.read_csv(\"/Users/whoseunassailable/Documents/coding_projects/college_projects/readiculous/data/raw/Books.csv\", sep=';', engine='python')\n",
    "df_ratings = pd.read_csv(\"/Users/whoseunassailable/Documents/coding_projects/college_projects/readiculous/data/raw/Ratings.csv\", sep=';', engine='python')\n",
    "df_users = pd.read_csv(\"/Users/whoseunassailable/Documents/coding_projects/college_projects/readiculous/data/raw/Users.csv\", sep=';', engine='python')\n"
   ]
  },
  {
   "cell_type": "code",
   "execution_count": 335,
   "id": "04c69ca9",
   "metadata": {},
   "outputs": [
    {
     "data": {
      "text/plain": [
       "(271379, 5)"
      ]
     },
     "execution_count": 335,
     "metadata": {},
     "output_type": "execute_result"
    }
   ],
   "source": [
    "df_books.shape"
   ]
  },
  {
   "cell_type": "code",
   "execution_count": 336,
   "id": "6b605b28",
   "metadata": {},
   "outputs": [
    {
     "data": {
      "text/plain": [
       "(1149780, 3)"
      ]
     },
     "execution_count": 336,
     "metadata": {},
     "output_type": "execute_result"
    }
   ],
   "source": [
    "df_ratings.shape"
   ]
  },
  {
   "cell_type": "code",
   "execution_count": 337,
   "id": "8d32ea3a",
   "metadata": {},
   "outputs": [
    {
     "data": {
      "text/plain": [
       "(278859, 2)"
      ]
     },
     "execution_count": 337,
     "metadata": {},
     "output_type": "execute_result"
    }
   ],
   "source": [
    "df_users.shape"
   ]
  },
  {
   "cell_type": "code",
   "execution_count": 338,
   "id": "83f9cdba",
   "metadata": {},
   "outputs": [],
   "source": [
    "# Rename books columns\n",
    "df_books.columns = ['isbn', 'title', 'author', 'year', 'publisher']\n",
    "\n",
    "# Rename ratings columns\n",
    "df_ratings.columns = ['user_id', 'isbn', 'rating']\n",
    "\n",
    "# Rename users columns\n",
    "df_users.columns = ['user_id', 'age']\n"
   ]
  },
  {
   "cell_type": "code",
   "execution_count": 339,
   "id": "d5c2af5e",
   "metadata": {},
   "outputs": [],
   "source": [
    "# Convert to string first, then clean\n",
    "df_ratings = df_ratings[df_ratings['user_id'].astype(str).str.strip().str.isnumeric()]\n",
    "df_users = df_users[df_users['user_id'].astype(str).str.strip().str.isnumeric()]\n",
    "\n",
    "# Now convert to integer\n",
    "df_ratings['user_id'] = df_ratings['user_id'].astype(int)\n",
    "df_users['user_id'] = df_users['user_id'].astype(int)\n"
   ]
  },
  {
   "cell_type": "markdown",
   "id": "ba6ce367",
   "metadata": {},
   "source": [
    "### Matching Data Types"
   ]
  },
  {
   "cell_type": "code",
   "execution_count": 340,
   "id": "1f9ff58b",
   "metadata": {},
   "outputs": [],
   "source": [
    "# Merge ratings with books on 'isbn'\n",
    "df_merged = pd.merge(df_ratings, df_books, on='isbn', how='inner')\n",
    "\n",
    "# Merge the result with users on 'user_id's\n",
    "df_final = pd.merge(df_merged, df_users, on='user_id', how='inner')\n"
   ]
  },
  {
   "cell_type": "code",
   "execution_count": 341,
   "id": "3f0c022b",
   "metadata": {},
   "outputs": [],
   "source": [
    "df_final.to_csv(\"/Users/whoseunassailable/Documents/coding_projects/college_projects/readiculous/data/processed/books_dataset.csv\")"
   ]
  },
  {
   "cell_type": "code",
   "execution_count": 342,
   "id": "a3133d63",
   "metadata": {},
   "outputs": [
    {
     "data": {
      "text/html": [
       "<div>\n",
       "<style scoped>\n",
       "    .dataframe tbody tr th:only-of-type {\n",
       "        vertical-align: middle;\n",
       "    }\n",
       "\n",
       "    .dataframe tbody tr th {\n",
       "        vertical-align: top;\n",
       "    }\n",
       "\n",
       "    .dataframe thead th {\n",
       "        text-align: right;\n",
       "    }\n",
       "</style>\n",
       "<table border=\"1\" class=\"dataframe\">\n",
       "  <thead>\n",
       "    <tr style=\"text-align: right;\">\n",
       "      <th></th>\n",
       "      <th>user_id</th>\n",
       "      <th>isbn</th>\n",
       "      <th>rating</th>\n",
       "      <th>title</th>\n",
       "      <th>author</th>\n",
       "      <th>year</th>\n",
       "      <th>publisher</th>\n",
       "      <th>age</th>\n",
       "    </tr>\n",
       "  </thead>\n",
       "  <tbody>\n",
       "    <tr>\n",
       "      <th>count</th>\n",
       "      <td>1.031187e+06</td>\n",
       "      <td>1031187</td>\n",
       "      <td>1.031187e+06</td>\n",
       "      <td>1031187</td>\n",
       "      <td>1031185</td>\n",
       "      <td>1.031187e+06</td>\n",
       "      <td>1031185</td>\n",
       "      <td>753677</td>\n",
       "    </tr>\n",
       "    <tr>\n",
       "      <th>unique</th>\n",
       "      <td>NaN</td>\n",
       "      <td>270170</td>\n",
       "      <td>NaN</td>\n",
       "      <td>241090</td>\n",
       "      <td>101594</td>\n",
       "      <td>NaN</td>\n",
       "      <td>16832</td>\n",
       "      <td>189</td>\n",
       "    </tr>\n",
       "    <tr>\n",
       "      <th>top</th>\n",
       "      <td>NaN</td>\n",
       "      <td>0971880107</td>\n",
       "      <td>NaN</td>\n",
       "      <td>Wild Animus</td>\n",
       "      <td>Stephen King</td>\n",
       "      <td>NaN</td>\n",
       "      <td>Ballantine Books</td>\n",
       "      <td>33</td>\n",
       "    </tr>\n",
       "    <tr>\n",
       "      <th>freq</th>\n",
       "      <td>NaN</td>\n",
       "      <td>2502</td>\n",
       "      <td>NaN</td>\n",
       "      <td>2502</td>\n",
       "      <td>10053</td>\n",
       "      <td>NaN</td>\n",
       "      <td>34724</td>\n",
       "      <td>32740</td>\n",
       "    </tr>\n",
       "    <tr>\n",
       "      <th>mean</th>\n",
       "      <td>1.405945e+05</td>\n",
       "      <td>NaN</td>\n",
       "      <td>2.839018e+00</td>\n",
       "      <td>NaN</td>\n",
       "      <td>NaN</td>\n",
       "      <td>1.968194e+03</td>\n",
       "      <td>NaN</td>\n",
       "      <td>NaN</td>\n",
       "    </tr>\n",
       "    <tr>\n",
       "      <th>std</th>\n",
       "      <td>8.052442e+04</td>\n",
       "      <td>NaN</td>\n",
       "      <td>3.854146e+00</td>\n",
       "      <td>NaN</td>\n",
       "      <td>NaN</td>\n",
       "      <td>2.311035e+02</td>\n",
       "      <td>NaN</td>\n",
       "      <td>NaN</td>\n",
       "    </tr>\n",
       "    <tr>\n",
       "      <th>min</th>\n",
       "      <td>2.000000e+00</td>\n",
       "      <td>NaN</td>\n",
       "      <td>0.000000e+00</td>\n",
       "      <td>NaN</td>\n",
       "      <td>NaN</td>\n",
       "      <td>0.000000e+00</td>\n",
       "      <td>NaN</td>\n",
       "      <td>NaN</td>\n",
       "    </tr>\n",
       "    <tr>\n",
       "      <th>25%</th>\n",
       "      <td>7.041500e+04</td>\n",
       "      <td>NaN</td>\n",
       "      <td>0.000000e+00</td>\n",
       "      <td>NaN</td>\n",
       "      <td>NaN</td>\n",
       "      <td>1.992000e+03</td>\n",
       "      <td>NaN</td>\n",
       "      <td>NaN</td>\n",
       "    </tr>\n",
       "    <tr>\n",
       "      <th>50%</th>\n",
       "      <td>1.412100e+05</td>\n",
       "      <td>NaN</td>\n",
       "      <td>0.000000e+00</td>\n",
       "      <td>NaN</td>\n",
       "      <td>NaN</td>\n",
       "      <td>1.997000e+03</td>\n",
       "      <td>NaN</td>\n",
       "      <td>NaN</td>\n",
       "    </tr>\n",
       "    <tr>\n",
       "      <th>75%</th>\n",
       "      <td>2.114260e+05</td>\n",
       "      <td>NaN</td>\n",
       "      <td>7.000000e+00</td>\n",
       "      <td>NaN</td>\n",
       "      <td>NaN</td>\n",
       "      <td>2.001000e+03</td>\n",
       "      <td>NaN</td>\n",
       "      <td>NaN</td>\n",
       "    </tr>\n",
       "    <tr>\n",
       "      <th>max</th>\n",
       "      <td>2.788540e+05</td>\n",
       "      <td>NaN</td>\n",
       "      <td>1.000000e+01</td>\n",
       "      <td>NaN</td>\n",
       "      <td>NaN</td>\n",
       "      <td>2.050000e+03</td>\n",
       "      <td>NaN</td>\n",
       "      <td>NaN</td>\n",
       "    </tr>\n",
       "  </tbody>\n",
       "</table>\n",
       "</div>"
      ],
      "text/plain": [
       "             user_id        isbn        rating        title        author  \\\n",
       "count   1.031187e+06     1031187  1.031187e+06      1031187       1031185   \n",
       "unique           NaN      270170           NaN       241090        101594   \n",
       "top              NaN  0971880107           NaN  Wild Animus  Stephen King   \n",
       "freq             NaN        2502           NaN         2502         10053   \n",
       "mean    1.405945e+05         NaN  2.839018e+00          NaN           NaN   \n",
       "std     8.052442e+04         NaN  3.854146e+00          NaN           NaN   \n",
       "min     2.000000e+00         NaN  0.000000e+00          NaN           NaN   \n",
       "25%     7.041500e+04         NaN  0.000000e+00          NaN           NaN   \n",
       "50%     1.412100e+05         NaN  0.000000e+00          NaN           NaN   \n",
       "75%     2.114260e+05         NaN  7.000000e+00          NaN           NaN   \n",
       "max     2.788540e+05         NaN  1.000000e+01          NaN           NaN   \n",
       "\n",
       "                year         publisher     age  \n",
       "count   1.031187e+06           1031185  753677  \n",
       "unique           NaN             16832     189  \n",
       "top              NaN  Ballantine Books      33  \n",
       "freq             NaN             34724   32740  \n",
       "mean    1.968194e+03               NaN     NaN  \n",
       "std     2.311035e+02               NaN     NaN  \n",
       "min     0.000000e+00               NaN     NaN  \n",
       "25%     1.992000e+03               NaN     NaN  \n",
       "50%     1.997000e+03               NaN     NaN  \n",
       "75%     2.001000e+03               NaN     NaN  \n",
       "max     2.050000e+03               NaN     NaN  "
      ]
     },
     "execution_count": 342,
     "metadata": {},
     "output_type": "execute_result"
    }
   ],
   "source": [
    "df_final.describe(include='all')"
   ]
  },
  {
   "cell_type": "code",
   "execution_count": 343,
   "id": "2a6eae66",
   "metadata": {},
   "outputs": [
    {
     "data": {
      "text/plain": [
       "Index(['user_id', 'isbn', 'rating', 'title', 'author', 'year', 'publisher',\n",
       "       'age'],\n",
       "      dtype='object')"
      ]
     },
     "execution_count": 343,
     "metadata": {},
     "output_type": "execute_result"
    }
   ],
   "source": [
    "df_final.columns"
   ]
  },
  {
   "cell_type": "code",
   "execution_count": 344,
   "id": "f9031db0",
   "metadata": {},
   "outputs": [
    {
     "name": "stdout",
     "output_type": "stream",
     "text": [
      "         isbn  count\n",
      "0  0486404242      2\n"
     ]
    }
   ],
   "source": [
    "# Find duplicated ISBNs (same book listed multiple times)\n",
    "duplicate_isbns = df_books[df_books.duplicated('isbn', keep=False)]\n",
    "\n",
    "# Count frequency of each duplicate ISBN\n",
    "duplicate_isbn_counts = duplicate_isbns.groupby('isbn').size().reset_index(name='count')\n",
    "duplicate_isbn_counts = duplicate_isbn_counts.sort_values(by='count', ascending=False)\n",
    "\n",
    "# Display top duplicates\n",
    "print(duplicate_isbn_counts.head(10))\n"
   ]
  },
  {
   "cell_type": "code",
   "execution_count": 345,
   "id": "ecc2da5c",
   "metadata": {},
   "outputs": [
    {
     "name": "stdout",
     "output_type": "stream",
     "text": [
      "Unique normalized titles: 236507\n"
     ]
    }
   ],
   "source": [
    "\n",
    "# Normalize titles: lowercase, strip, remove punctuation\n",
    "df_final['normalized_title'] = df_final['title']\\\n",
    "    .str.lower()\\\n",
    "    .str.strip()\\\n",
    "    .apply(lambda x: x.translate(str.maketrans('', '', string.punctuation)))\n",
    "\n",
    "# Count unique normalized titles\n",
    "unique_title_count = df_final['normalized_title'].nunique()\n",
    "print(f\"Unique normalized titles: {unique_title_count}\")\n"
   ]
  },
  {
   "cell_type": "code",
   "execution_count": 346,
   "id": "ac7745fd",
   "metadata": {},
   "outputs": [],
   "source": [
    "# Extract unique normalized titles\n",
    "unique_titles = df_final['normalized_title'].dropna().unique()\n",
    "\n",
    "# Save to CSV\n",
    "import pandas as pd\n",
    "pd.DataFrame(unique_titles, columns=['normalized_title']).to_csv('unique_titles.csv', index=False)\n"
   ]
  },
  {
   "cell_type": "code",
   "execution_count": 347,
   "id": "0afd6af3",
   "metadata": {},
   "outputs": [
    {
     "data": {
      "text/plain": [
       "(1031187, 9)"
      ]
     },
     "execution_count": 347,
     "metadata": {},
     "output_type": "execute_result"
    }
   ],
   "source": [
    "df_final.shape"
   ]
  },
  {
   "cell_type": "code",
   "execution_count": 348,
   "id": "70611d74",
   "metadata": {},
   "outputs": [],
   "source": [
    "best_books = pd.read_csv(\"/Users/whoseunassailable/Documents/coding_projects/college_projects/readiculous/data/raw/best_books.csv\")"
   ]
  },
  {
   "cell_type": "code",
   "execution_count": 349,
   "id": "da3f4322",
   "metadata": {},
   "outputs": [
    {
     "data": {
      "text/html": [
       "<div>\n",
       "<style scoped>\n",
       "    .dataframe tbody tr th:only-of-type {\n",
       "        vertical-align: middle;\n",
       "    }\n",
       "\n",
       "    .dataframe tbody tr th {\n",
       "        vertical-align: top;\n",
       "    }\n",
       "\n",
       "    .dataframe thead th {\n",
       "        text-align: right;\n",
       "    }\n",
       "</style>\n",
       "<table border=\"1\" class=\"dataframe\">\n",
       "  <thead>\n",
       "    <tr style=\"text-align: right;\">\n",
       "      <th></th>\n",
       "      <th>bookId</th>\n",
       "      <th>title</th>\n",
       "      <th>series</th>\n",
       "      <th>author</th>\n",
       "      <th>rating</th>\n",
       "      <th>description</th>\n",
       "      <th>language</th>\n",
       "      <th>isbn</th>\n",
       "      <th>genres</th>\n",
       "      <th>characters</th>\n",
       "      <th>...</th>\n",
       "      <th>firstPublishDate</th>\n",
       "      <th>awards</th>\n",
       "      <th>numRatings</th>\n",
       "      <th>ratingsByStars</th>\n",
       "      <th>likedPercent</th>\n",
       "      <th>setting</th>\n",
       "      <th>coverImg</th>\n",
       "      <th>bbeScore</th>\n",
       "      <th>bbeVotes</th>\n",
       "      <th>price</th>\n",
       "    </tr>\n",
       "  </thead>\n",
       "  <tbody>\n",
       "    <tr>\n",
       "      <th>0</th>\n",
       "      <td>2767052-the-hunger-games</td>\n",
       "      <td>The Hunger Games</td>\n",
       "      <td>The Hunger Games #1</td>\n",
       "      <td>Suzanne Collins</td>\n",
       "      <td>4.33</td>\n",
       "      <td>WINNING MEANS FAME AND FORTUNE.LOSING MEANS CE...</td>\n",
       "      <td>English</td>\n",
       "      <td>9780439023481</td>\n",
       "      <td>['Young Adult', 'Fiction', 'Dystopia', 'Fantas...</td>\n",
       "      <td>['Katniss Everdeen', 'Peeta Mellark', 'Cato (H...</td>\n",
       "      <td>...</td>\n",
       "      <td>NaN</td>\n",
       "      <td>['Locus Award Nominee for Best Young Adult Boo...</td>\n",
       "      <td>6376780</td>\n",
       "      <td>['3444695', '1921313', '745221', '171994', '93...</td>\n",
       "      <td>96.0</td>\n",
       "      <td>['District 12, Panem', 'Capitol, Panem', 'Pane...</td>\n",
       "      <td>https://i.gr-assets.com/images/S/compressed.ph...</td>\n",
       "      <td>2993816</td>\n",
       "      <td>30516</td>\n",
       "      <td>5.09</td>\n",
       "    </tr>\n",
       "    <tr>\n",
       "      <th>1</th>\n",
       "      <td>2.Harry_Potter_and_the_Order_of_the_Phoenix</td>\n",
       "      <td>Harry Potter and the Order of the Phoenix</td>\n",
       "      <td>Harry Potter #5</td>\n",
       "      <td>J.K. Rowling, Mary GrandPré (Illustrator)</td>\n",
       "      <td>4.50</td>\n",
       "      <td>There is a door at the end of a silent corrido...</td>\n",
       "      <td>English</td>\n",
       "      <td>9780439358071</td>\n",
       "      <td>['Fantasy', 'Young Adult', 'Fiction', 'Magic',...</td>\n",
       "      <td>['Sirius Black', 'Draco Malfoy', 'Ron Weasley'...</td>\n",
       "      <td>...</td>\n",
       "      <td>06/21/03</td>\n",
       "      <td>['Bram Stoker Award for Works for Young Reader...</td>\n",
       "      <td>2507623</td>\n",
       "      <td>['1593642', '637516', '222366', '39573', '14526']</td>\n",
       "      <td>98.0</td>\n",
       "      <td>['Hogwarts School of Witchcraft and Wizardry (...</td>\n",
       "      <td>https://i.gr-assets.com/images/S/compressed.ph...</td>\n",
       "      <td>2632233</td>\n",
       "      <td>26923</td>\n",
       "      <td>7.38</td>\n",
       "    </tr>\n",
       "    <tr>\n",
       "      <th>2</th>\n",
       "      <td>2657.To_Kill_a_Mockingbird</td>\n",
       "      <td>To Kill a Mockingbird</td>\n",
       "      <td>To Kill a Mockingbird</td>\n",
       "      <td>Harper Lee</td>\n",
       "      <td>4.28</td>\n",
       "      <td>The unforgettable novel of a childhood in a sl...</td>\n",
       "      <td>English</td>\n",
       "      <td>9999999999999</td>\n",
       "      <td>['Classics', 'Fiction', 'Historical Fiction', ...</td>\n",
       "      <td>['Scout Finch', 'Atticus Finch', 'Jem Finch', ...</td>\n",
       "      <td>...</td>\n",
       "      <td>07/11/60</td>\n",
       "      <td>['Pulitzer Prize for Fiction (1961)', 'Audie A...</td>\n",
       "      <td>4501075</td>\n",
       "      <td>['2363896', '1333153', '573280', '149952', '80...</td>\n",
       "      <td>95.0</td>\n",
       "      <td>['Maycomb, Alabama (United States)']</td>\n",
       "      <td>https://i.gr-assets.com/images/S/compressed.ph...</td>\n",
       "      <td>2269402</td>\n",
       "      <td>23328</td>\n",
       "      <td>NaN</td>\n",
       "    </tr>\n",
       "    <tr>\n",
       "      <th>3</th>\n",
       "      <td>1885.Pride_and_Prejudice</td>\n",
       "      <td>Pride and Prejudice</td>\n",
       "      <td>NaN</td>\n",
       "      <td>Jane Austen, Anna Quindlen (Introduction)</td>\n",
       "      <td>4.26</td>\n",
       "      <td>Alternate cover edition of ISBN 9780679783268S...</td>\n",
       "      <td>English</td>\n",
       "      <td>9999999999999</td>\n",
       "      <td>['Classics', 'Fiction', 'Romance', 'Historical...</td>\n",
       "      <td>['Mr. Bennet', 'Mrs. Bennet', 'Jane Bennet', '...</td>\n",
       "      <td>...</td>\n",
       "      <td>01/28/13</td>\n",
       "      <td>[]</td>\n",
       "      <td>2998241</td>\n",
       "      <td>['1617567', '816659', '373311', '113934', '767...</td>\n",
       "      <td>94.0</td>\n",
       "      <td>['United Kingdom', 'Derbyshire, England (Unite...</td>\n",
       "      <td>https://i.gr-assets.com/images/S/compressed.ph...</td>\n",
       "      <td>1983116</td>\n",
       "      <td>20452</td>\n",
       "      <td>NaN</td>\n",
       "    </tr>\n",
       "    <tr>\n",
       "      <th>4</th>\n",
       "      <td>41865.Twilight</td>\n",
       "      <td>Twilight</td>\n",
       "      <td>The Twilight Saga #1</td>\n",
       "      <td>Stephenie Meyer</td>\n",
       "      <td>3.60</td>\n",
       "      <td>About three things I was absolutely positive.\\...</td>\n",
       "      <td>English</td>\n",
       "      <td>9780316015844</td>\n",
       "      <td>['Young Adult', 'Fantasy', 'Romance', 'Vampire...</td>\n",
       "      <td>['Edward Cullen', 'Jacob Black', 'Laurent', 'R...</td>\n",
       "      <td>...</td>\n",
       "      <td>10/05/05</td>\n",
       "      <td>['Georgia Peach Book Award (2007)', 'Buxtehude...</td>\n",
       "      <td>4964519</td>\n",
       "      <td>['1751460', '1113682', '1008686', '542017', '5...</td>\n",
       "      <td>78.0</td>\n",
       "      <td>['Forks, Washington (United States)', 'Phoenix...</td>\n",
       "      <td>https://i.gr-assets.com/images/S/compressed.ph...</td>\n",
       "      <td>1459448</td>\n",
       "      <td>14874</td>\n",
       "      <td>2.1</td>\n",
       "    </tr>\n",
       "  </tbody>\n",
       "</table>\n",
       "<p>5 rows × 25 columns</p>\n",
       "</div>"
      ],
      "text/plain": [
       "                                        bookId  \\\n",
       "0                     2767052-the-hunger-games   \n",
       "1  2.Harry_Potter_and_the_Order_of_the_Phoenix   \n",
       "2                   2657.To_Kill_a_Mockingbird   \n",
       "3                     1885.Pride_and_Prejudice   \n",
       "4                               41865.Twilight   \n",
       "\n",
       "                                       title                 series  \\\n",
       "0                           The Hunger Games    The Hunger Games #1   \n",
       "1  Harry Potter and the Order of the Phoenix        Harry Potter #5   \n",
       "2                      To Kill a Mockingbird  To Kill a Mockingbird   \n",
       "3                        Pride and Prejudice                    NaN   \n",
       "4                                   Twilight   The Twilight Saga #1   \n",
       "\n",
       "                                      author  rating  \\\n",
       "0                            Suzanne Collins    4.33   \n",
       "1  J.K. Rowling, Mary GrandPré (Illustrator)    4.50   \n",
       "2                                 Harper Lee    4.28   \n",
       "3  Jane Austen, Anna Quindlen (Introduction)    4.26   \n",
       "4                            Stephenie Meyer    3.60   \n",
       "\n",
       "                                         description language           isbn  \\\n",
       "0  WINNING MEANS FAME AND FORTUNE.LOSING MEANS CE...  English  9780439023481   \n",
       "1  There is a door at the end of a silent corrido...  English  9780439358071   \n",
       "2  The unforgettable novel of a childhood in a sl...  English  9999999999999   \n",
       "3  Alternate cover edition of ISBN 9780679783268S...  English  9999999999999   \n",
       "4  About three things I was absolutely positive.\\...  English  9780316015844   \n",
       "\n",
       "                                              genres  \\\n",
       "0  ['Young Adult', 'Fiction', 'Dystopia', 'Fantas...   \n",
       "1  ['Fantasy', 'Young Adult', 'Fiction', 'Magic',...   \n",
       "2  ['Classics', 'Fiction', 'Historical Fiction', ...   \n",
       "3  ['Classics', 'Fiction', 'Romance', 'Historical...   \n",
       "4  ['Young Adult', 'Fantasy', 'Romance', 'Vampire...   \n",
       "\n",
       "                                          characters  ... firstPublishDate  \\\n",
       "0  ['Katniss Everdeen', 'Peeta Mellark', 'Cato (H...  ...              NaN   \n",
       "1  ['Sirius Black', 'Draco Malfoy', 'Ron Weasley'...  ...         06/21/03   \n",
       "2  ['Scout Finch', 'Atticus Finch', 'Jem Finch', ...  ...         07/11/60   \n",
       "3  ['Mr. Bennet', 'Mrs. Bennet', 'Jane Bennet', '...  ...         01/28/13   \n",
       "4  ['Edward Cullen', 'Jacob Black', 'Laurent', 'R...  ...         10/05/05   \n",
       "\n",
       "                                              awards numRatings  \\\n",
       "0  ['Locus Award Nominee for Best Young Adult Boo...    6376780   \n",
       "1  ['Bram Stoker Award for Works for Young Reader...    2507623   \n",
       "2  ['Pulitzer Prize for Fiction (1961)', 'Audie A...    4501075   \n",
       "3                                                 []    2998241   \n",
       "4  ['Georgia Peach Book Award (2007)', 'Buxtehude...    4964519   \n",
       "\n",
       "                                      ratingsByStars likedPercent  \\\n",
       "0  ['3444695', '1921313', '745221', '171994', '93...         96.0   \n",
       "1  ['1593642', '637516', '222366', '39573', '14526']         98.0   \n",
       "2  ['2363896', '1333153', '573280', '149952', '80...         95.0   \n",
       "3  ['1617567', '816659', '373311', '113934', '767...         94.0   \n",
       "4  ['1751460', '1113682', '1008686', '542017', '5...         78.0   \n",
       "\n",
       "                                             setting  \\\n",
       "0  ['District 12, Panem', 'Capitol, Panem', 'Pane...   \n",
       "1  ['Hogwarts School of Witchcraft and Wizardry (...   \n",
       "2               ['Maycomb, Alabama (United States)']   \n",
       "3  ['United Kingdom', 'Derbyshire, England (Unite...   \n",
       "4  ['Forks, Washington (United States)', 'Phoenix...   \n",
       "\n",
       "                                            coverImg  bbeScore bbeVotes  price  \n",
       "0  https://i.gr-assets.com/images/S/compressed.ph...   2993816    30516   5.09  \n",
       "1  https://i.gr-assets.com/images/S/compressed.ph...   2632233    26923   7.38  \n",
       "2  https://i.gr-assets.com/images/S/compressed.ph...   2269402    23328    NaN  \n",
       "3  https://i.gr-assets.com/images/S/compressed.ph...   1983116    20452    NaN  \n",
       "4  https://i.gr-assets.com/images/S/compressed.ph...   1459448    14874    2.1  \n",
       "\n",
       "[5 rows x 25 columns]"
      ]
     },
     "execution_count": 349,
     "metadata": {},
     "output_type": "execute_result"
    }
   ],
   "source": [
    "best_books.head()"
   ]
  },
  {
   "cell_type": "code",
   "execution_count": 350,
   "id": "17accf32",
   "metadata": {},
   "outputs": [],
   "source": [
    "# Extract title and genres\n",
    "title_genres_df = best_books[['title', 'genres']]\n",
    "\n",
    "# Save to CSV file\n",
    "title_genres_df.to_csv('/Users/whoseunassailable/Documents/coding_projects/college_projects/readiculous/data/processed/title_genres.csv', index=False)\n"
   ]
  },
  {
   "cell_type": "code",
   "execution_count": 351,
   "id": "f7d1f1b7",
   "metadata": {},
   "outputs": [],
   "source": [
    "best_books = pd.read_csv(\"/Users/whoseunassailable/Documents/coding_projects/college_projects/readiculous/data/processed/unique_titles.csv\")\n",
    "unique_title_with_genres = pd.read_csv(\"/Users/whoseunassailable/Documents/coding_projects/college_projects/readiculous/data/processed/title_genres.csv\")"
   ]
  },
  {
   "cell_type": "code",
   "execution_count": 352,
   "id": "25408273",
   "metadata": {},
   "outputs": [
    {
     "data": {
      "text/plain": [
       "Index(['normalized_title'], dtype='object')"
      ]
     },
     "execution_count": 352,
     "metadata": {},
     "output_type": "execute_result"
    }
   ],
   "source": [
    "best_books.columns"
   ]
  },
  {
   "cell_type": "code",
   "execution_count": 353,
   "id": "3cabab6c",
   "metadata": {},
   "outputs": [
    {
     "data": {
      "text/plain": [
       "Index(['title', 'genres'], dtype='object')"
      ]
     },
     "execution_count": 353,
     "metadata": {},
     "output_type": "execute_result"
    }
   ],
   "source": [
    "unique_title_with_genres.columns"
   ]
  },
  {
   "cell_type": "code",
   "execution_count": 354,
   "id": "0c3e2cde",
   "metadata": {},
   "outputs": [],
   "source": [
    "\n",
    "# # Normalize function\n",
    "# def normalize(text):\n",
    "#     return re.sub(r'\\W+', '', str(text).lower().strip())\n",
    "\n",
    "# # Use 'title' instead of 'normalized_title'\n",
    "# unique_title_with_genres['normalized_title_clean'] = unique_title_with_genres['title'].apply(normalize)\n",
    "# best_books['normalized_title_clean'] = best_books['title'].apply(normalize)\n",
    "\n",
    "# # Mapping\n",
    "# genre_map = dict(zip(best_books['normalized_title_clean'], best_books['genres']))\n",
    "\n",
    "# # Add matched genres\n",
    "# unique_title_with_genres['matched_genres'] = None\n",
    "\n",
    "# for i, row in unique_title_with_genres.iterrows():\n",
    "#     current_title = row['normalized_title_clean']\n",
    "#     for norm_title, genres in genre_map.items():\n",
    "#         if norm_title in current_title or current_title in norm_title:\n",
    "#             unique_title_with_genres.at[i, 'matched_genres'] = genres\n",
    "#             break\n",
    "\n",
    "# # Save\n",
    "# unique_title_with_genres.to_csv('/Users/whoseunassailable/Documents/coding_projects/college_projects/readiculous/data/processed/enriched_titles_with_genres.csv', index=False)\n",
    "\n",
    "# print(\"✅ Enriched file saved as 'enriched_titles_with_genres.csv'\")\n"
   ]
  },
  {
   "cell_type": "code",
   "execution_count": 355,
   "id": "3045cd15",
   "metadata": {},
   "outputs": [],
   "source": [
    "enriched_titles_with_genres = pd.read_csv(\"/Users/whoseunassailable/Documents/coding_projects/college_projects/readiculous/data/processed/enriched_titles_with_genres.csv\")"
   ]
  },
  {
   "cell_type": "code",
   "execution_count": 356,
   "id": "3e07598b",
   "metadata": {},
   "outputs": [
    {
     "data": {
      "text/html": [
       "<div>\n",
       "<style scoped>\n",
       "    .dataframe tbody tr th:only-of-type {\n",
       "        vertical-align: middle;\n",
       "    }\n",
       "\n",
       "    .dataframe tbody tr th {\n",
       "        vertical-align: top;\n",
       "    }\n",
       "\n",
       "    .dataframe thead th {\n",
       "        text-align: right;\n",
       "    }\n",
       "</style>\n",
       "<table border=\"1\" class=\"dataframe\">\n",
       "  <thead>\n",
       "    <tr style=\"text-align: right;\">\n",
       "      <th></th>\n",
       "      <th>title</th>\n",
       "      <th>genres</th>\n",
       "      <th>normalized_title_clean</th>\n",
       "      <th>matched_genres</th>\n",
       "    </tr>\n",
       "  </thead>\n",
       "  <tbody>\n",
       "    <tr>\n",
       "      <th>0</th>\n",
       "      <td>The Hunger Games</td>\n",
       "      <td>['Young Adult', 'Fiction', 'Dystopia', 'Fantas...</td>\n",
       "      <td>thehungergames</td>\n",
       "      <td>['Young Adult', 'Fiction', 'Dystopia', 'Fantas...</td>\n",
       "    </tr>\n",
       "    <tr>\n",
       "      <th>1</th>\n",
       "      <td>Harry Potter and the Order of the Phoenix</td>\n",
       "      <td>['Fantasy', 'Young Adult', 'Fiction', 'Magic',...</td>\n",
       "      <td>harrypotterandtheorderofthephoenix</td>\n",
       "      <td>['Fantasy', 'Young Adult', 'Fiction', 'Magic',...</td>\n",
       "    </tr>\n",
       "    <tr>\n",
       "      <th>2</th>\n",
       "      <td>To Kill a Mockingbird</td>\n",
       "      <td>['Classics', 'Fiction', 'Historical Fiction', ...</td>\n",
       "      <td>tokillamockingbird</td>\n",
       "      <td>['Classics', 'Fiction', 'Historical Fiction', ...</td>\n",
       "    </tr>\n",
       "    <tr>\n",
       "      <th>3</th>\n",
       "      <td>Pride and Prejudice</td>\n",
       "      <td>['Classics', 'Fiction', 'Romance', 'Historical...</td>\n",
       "      <td>prideandprejudice</td>\n",
       "      <td>['Classics', 'Fiction', 'Romance', 'Historical...</td>\n",
       "    </tr>\n",
       "    <tr>\n",
       "      <th>4</th>\n",
       "      <td>Twilight</td>\n",
       "      <td>['Young Adult', 'Fantasy', 'Romance', 'Vampire...</td>\n",
       "      <td>twilight</td>\n",
       "      <td>['Fiction', 'Holocaust', 'Jewish', 'Historical...</td>\n",
       "    </tr>\n",
       "  </tbody>\n",
       "</table>\n",
       "</div>"
      ],
      "text/plain": [
       "                                       title  \\\n",
       "0                           The Hunger Games   \n",
       "1  Harry Potter and the Order of the Phoenix   \n",
       "2                      To Kill a Mockingbird   \n",
       "3                        Pride and Prejudice   \n",
       "4                                   Twilight   \n",
       "\n",
       "                                              genres  \\\n",
       "0  ['Young Adult', 'Fiction', 'Dystopia', 'Fantas...   \n",
       "1  ['Fantasy', 'Young Adult', 'Fiction', 'Magic',...   \n",
       "2  ['Classics', 'Fiction', 'Historical Fiction', ...   \n",
       "3  ['Classics', 'Fiction', 'Romance', 'Historical...   \n",
       "4  ['Young Adult', 'Fantasy', 'Romance', 'Vampire...   \n",
       "\n",
       "               normalized_title_clean  \\\n",
       "0                      thehungergames   \n",
       "1  harrypotterandtheorderofthephoenix   \n",
       "2                  tokillamockingbird   \n",
       "3                   prideandprejudice   \n",
       "4                            twilight   \n",
       "\n",
       "                                      matched_genres  \n",
       "0  ['Young Adult', 'Fiction', 'Dystopia', 'Fantas...  \n",
       "1  ['Fantasy', 'Young Adult', 'Fiction', 'Magic',...  \n",
       "2  ['Classics', 'Fiction', 'Historical Fiction', ...  \n",
       "3  ['Classics', 'Fiction', 'Romance', 'Historical...  \n",
       "4  ['Fiction', 'Holocaust', 'Jewish', 'Historical...  "
      ]
     },
     "execution_count": 356,
     "metadata": {},
     "output_type": "execute_result"
    }
   ],
   "source": [
    "enriched_titles_with_genres.head(5)"
   ]
  },
  {
   "cell_type": "code",
   "execution_count": 357,
   "id": "3b20aba4",
   "metadata": {},
   "outputs": [
    {
     "data": {
      "text/plain": [
       "(52478, 4)"
      ]
     },
     "execution_count": 357,
     "metadata": {},
     "output_type": "execute_result"
    }
   ],
   "source": [
    "enriched_titles_with_genres.shape"
   ]
  },
  {
   "cell_type": "code",
   "execution_count": 358,
   "id": "07f0f4f6",
   "metadata": {},
   "outputs": [
    {
     "data": {
      "text/plain": [
       "title                     0\n",
       "genres                    0\n",
       "normalized_title_clean    0\n",
       "matched_genres            0\n",
       "dtype: int64"
      ]
     },
     "execution_count": 358,
     "metadata": {},
     "output_type": "execute_result"
    }
   ],
   "source": [
    "enriched_titles_with_genres.isna().sum()"
   ]
  },
  {
   "cell_type": "code",
   "execution_count": 359,
   "id": "4fe39e2c",
   "metadata": {},
   "outputs": [
    {
     "data": {
      "text/html": [
       "<div>\n",
       "<style scoped>\n",
       "    .dataframe tbody tr th:only-of-type {\n",
       "        vertical-align: middle;\n",
       "    }\n",
       "\n",
       "    .dataframe tbody tr th {\n",
       "        vertical-align: top;\n",
       "    }\n",
       "\n",
       "    .dataframe thead th {\n",
       "        text-align: right;\n",
       "    }\n",
       "</style>\n",
       "<table border=\"1\" class=\"dataframe\">\n",
       "  <thead>\n",
       "    <tr style=\"text-align: right;\">\n",
       "      <th></th>\n",
       "      <th>user_id</th>\n",
       "      <th>isbn</th>\n",
       "      <th>rating</th>\n",
       "      <th>title</th>\n",
       "      <th>author</th>\n",
       "      <th>year</th>\n",
       "      <th>publisher</th>\n",
       "      <th>age</th>\n",
       "      <th>normalized_title</th>\n",
       "    </tr>\n",
       "  </thead>\n",
       "  <tbody>\n",
       "    <tr>\n",
       "      <th>0</th>\n",
       "      <td>276725</td>\n",
       "      <td>034545104X</td>\n",
       "      <td>0</td>\n",
       "      <td>Flesh Tones: A Novel</td>\n",
       "      <td>M. J. Rose</td>\n",
       "      <td>2002</td>\n",
       "      <td>Ballantine Books</td>\n",
       "      <td>NaN</td>\n",
       "      <td>flesh tones a novel</td>\n",
       "    </tr>\n",
       "    <tr>\n",
       "      <th>1</th>\n",
       "      <td>276726</td>\n",
       "      <td>0155061224</td>\n",
       "      <td>5</td>\n",
       "      <td>Rites of Passage</td>\n",
       "      <td>Judith Rae</td>\n",
       "      <td>2001</td>\n",
       "      <td>Heinle</td>\n",
       "      <td>NaN</td>\n",
       "      <td>rites of passage</td>\n",
       "    </tr>\n",
       "    <tr>\n",
       "      <th>2</th>\n",
       "      <td>276727</td>\n",
       "      <td>0446520802</td>\n",
       "      <td>0</td>\n",
       "      <td>The Notebook</td>\n",
       "      <td>Nicholas Sparks</td>\n",
       "      <td>1996</td>\n",
       "      <td>Warner Books</td>\n",
       "      <td>16</td>\n",
       "      <td>the notebook</td>\n",
       "    </tr>\n",
       "    <tr>\n",
       "      <th>3</th>\n",
       "      <td>276729</td>\n",
       "      <td>052165615X</td>\n",
       "      <td>3</td>\n",
       "      <td>Help!: Level 1</td>\n",
       "      <td>Philip Prowse</td>\n",
       "      <td>1999</td>\n",
       "      <td>Cambridge University Press</td>\n",
       "      <td>16</td>\n",
       "      <td>help level 1</td>\n",
       "    </tr>\n",
       "    <tr>\n",
       "      <th>4</th>\n",
       "      <td>276729</td>\n",
       "      <td>0521795028</td>\n",
       "      <td>6</td>\n",
       "      <td>The Amsterdam Connection : Level 4 (Cambridge ...</td>\n",
       "      <td>Sue Leather</td>\n",
       "      <td>2001</td>\n",
       "      <td>Cambridge University Press</td>\n",
       "      <td>16</td>\n",
       "      <td>the amsterdam connection  level 4 cambridge en...</td>\n",
       "    </tr>\n",
       "  </tbody>\n",
       "</table>\n",
       "</div>"
      ],
      "text/plain": [
       "   user_id        isbn  rating  \\\n",
       "0   276725  034545104X       0   \n",
       "1   276726  0155061224       5   \n",
       "2   276727  0446520802       0   \n",
       "3   276729  052165615X       3   \n",
       "4   276729  0521795028       6   \n",
       "\n",
       "                                               title           author  year  \\\n",
       "0                               Flesh Tones: A Novel       M. J. Rose  2002   \n",
       "1                                   Rites of Passage       Judith Rae  2001   \n",
       "2                                       The Notebook  Nicholas Sparks  1996   \n",
       "3                                     Help!: Level 1    Philip Prowse  1999   \n",
       "4  The Amsterdam Connection : Level 4 (Cambridge ...      Sue Leather  2001   \n",
       "\n",
       "                    publisher  age  \\\n",
       "0            Ballantine Books  NaN   \n",
       "1                      Heinle  NaN   \n",
       "2                Warner Books   16   \n",
       "3  Cambridge University Press   16   \n",
       "4  Cambridge University Press   16   \n",
       "\n",
       "                                    normalized_title  \n",
       "0                                flesh tones a novel  \n",
       "1                                   rites of passage  \n",
       "2                                       the notebook  \n",
       "3                                       help level 1  \n",
       "4  the amsterdam connection  level 4 cambridge en...  "
      ]
     },
     "execution_count": 359,
     "metadata": {},
     "output_type": "execute_result"
    }
   ],
   "source": [
    "df_final.head(5)"
   ]
  },
  {
   "cell_type": "code",
   "execution_count": 360,
   "id": "0586b631",
   "metadata": {},
   "outputs": [],
   "source": [
    "\n",
    "# Merge on normalized_title\n",
    "df_final = df_final.merge(\n",
    "    enriched_titles_with_genres[['normalized_title_clean', 'matched_genres']],\n",
    "    how='left',\n",
    "    left_on='normalized_title',\n",
    "    right_on='normalized_title_clean'\n",
    ")\n",
    "\n",
    "# Drop helper column\n",
    "df_final.drop(columns='normalized_title_clean', inplace=True)\n",
    "\n",
    "# Save result\n",
    "df_final.to_csv('/Users/whoseunassailable/Documents/coding_projects/college_projects/readiculous/data/processed/df_final_with_genres.csv', index=False)"
   ]
  },
  {
   "cell_type": "code",
   "execution_count": 361,
   "id": "2f478c53",
   "metadata": {},
   "outputs": [],
   "source": [
    "data_with_no_null_genre = df_final[~df_final['matched_genres'].isna()]"
   ]
  },
  {
   "cell_type": "code",
   "execution_count": 362,
   "id": "600440dc",
   "metadata": {},
   "outputs": [
    {
     "name": "stderr",
     "output_type": "stream",
     "text": [
      "/var/folders/dw/fn12lc3x2b317ydc5b70v2340000gn/T/ipykernel_46134/1830435904.py:2: SettingWithCopyWarning: \n",
      "A value is trying to be set on a copy of a slice from a DataFrame.\n",
      "Try using .loc[row_indexer,col_indexer] = value instead\n",
      "\n",
      "See the caveats in the documentation: https://pandas.pydata.org/pandas-docs/stable/user_guide/indexing.html#returning-a-view-versus-a-copy\n",
      "  data_with_no_null_genre['rating'] = data_with_no_null_genre['rating'] / 2\n"
     ]
    }
   ],
   "source": [
    "# Divide rating by 2\n",
    "data_with_no_null_genre['rating'] = data_with_no_null_genre['rating'] / 2\n",
    "\n",
    "# Remove rows where rating is NaN or 0\n",
    "data_with_no_null_genre = data_with_no_null_genre[\n",
    "    data_with_no_null_genre['rating'].notna() & (data_with_no_null_genre['rating'] != 0)\n",
    "]"
   ]
  },
  {
   "cell_type": "code",
   "execution_count": 363,
   "id": "2afd9c94",
   "metadata": {},
   "outputs": [],
   "source": [
    "data_with_no_null_genre.to_csv(\"/Users/whoseunassailable/Documents/coding_projects/college_projects/readiculous/data/processed/data_with_no_null_genre.csv\")"
   ]
  },
  {
   "cell_type": "code",
   "execution_count": 364,
   "id": "073d7921",
   "metadata": {},
   "outputs": [],
   "source": [
    "good_reads = pd.read_csv(\"/Users/whoseunassailable/Documents/coding_projects/college_projects/readiculous/data/raw/good_read_books_100k.csv\")"
   ]
  },
  {
   "cell_type": "code",
   "execution_count": 365,
   "id": "3d70d824",
   "metadata": {},
   "outputs": [
    {
     "data": {
      "text/plain": [
       "Index(['author', 'bookformat', 'desc', 'genre', 'img', 'isbn', 'isbn13',\n",
       "       'link', 'pages', 'rating', 'reviews', 'title', 'totalratings'],\n",
       "      dtype='object')"
      ]
     },
     "execution_count": 365,
     "metadata": {},
     "output_type": "execute_result"
    }
   ],
   "source": [
    "good_reads.columns"
   ]
  },
  {
   "cell_type": "code",
   "execution_count": 366,
   "id": "16c6b6e0",
   "metadata": {},
   "outputs": [
    {
     "data": {
      "text/html": [
       "<div>\n",
       "<style scoped>\n",
       "    .dataframe tbody tr th:only-of-type {\n",
       "        vertical-align: middle;\n",
       "    }\n",
       "\n",
       "    .dataframe tbody tr th {\n",
       "        vertical-align: top;\n",
       "    }\n",
       "\n",
       "    .dataframe thead th {\n",
       "        text-align: right;\n",
       "    }\n",
       "</style>\n",
       "<table border=\"1\" class=\"dataframe\">\n",
       "  <thead>\n",
       "    <tr style=\"text-align: right;\">\n",
       "      <th></th>\n",
       "      <th>author</th>\n",
       "      <th>bookformat</th>\n",
       "      <th>desc</th>\n",
       "      <th>genre</th>\n",
       "      <th>img</th>\n",
       "      <th>isbn</th>\n",
       "      <th>isbn13</th>\n",
       "      <th>link</th>\n",
       "      <th>pages</th>\n",
       "      <th>rating</th>\n",
       "      <th>reviews</th>\n",
       "      <th>title</th>\n",
       "      <th>totalratings</th>\n",
       "    </tr>\n",
       "  </thead>\n",
       "  <tbody>\n",
       "    <tr>\n",
       "      <th>0</th>\n",
       "      <td>Laurence M. Hauptman</td>\n",
       "      <td>Hardcover</td>\n",
       "      <td>Reveals that several hundred thousand Indians ...</td>\n",
       "      <td>History,Military History,Civil War,American Hi...</td>\n",
       "      <td>https://i.gr-assets.com/images/S/compressed.ph...</td>\n",
       "      <td>002914180X</td>\n",
       "      <td>9.78E+12</td>\n",
       "      <td>https://goodreads.com/book/show/1001053.Betwee...</td>\n",
       "      <td>0</td>\n",
       "      <td>3.52</td>\n",
       "      <td>5</td>\n",
       "      <td>Between Two Fires: American Indians in the Civ...</td>\n",
       "      <td>33</td>\n",
       "    </tr>\n",
       "    <tr>\n",
       "      <th>1</th>\n",
       "      <td>Charlotte Fiell,Emmanuelle Dirix</td>\n",
       "      <td>Paperback</td>\n",
       "      <td>Fashion Sourcebook - 1920s is the first book i...</td>\n",
       "      <td>Couture,Fashion,Historical,Art,Nonfiction</td>\n",
       "      <td>https://i.gr-assets.com/images/S/compressed.ph...</td>\n",
       "      <td>1906863482</td>\n",
       "      <td>9.78E+12</td>\n",
       "      <td>https://goodreads.com/book/show/10010552-fashi...</td>\n",
       "      <td>576</td>\n",
       "      <td>4.51</td>\n",
       "      <td>6</td>\n",
       "      <td>Fashion Sourcebook 1920s</td>\n",
       "      <td>41</td>\n",
       "    </tr>\n",
       "    <tr>\n",
       "      <th>2</th>\n",
       "      <td>Andy Anderson</td>\n",
       "      <td>Paperback</td>\n",
       "      <td>The seminal history and analysis of the Hungar...</td>\n",
       "      <td>Politics,History</td>\n",
       "      <td>https://i.gr-assets.com/images/S/compressed.ph...</td>\n",
       "      <td>948984147</td>\n",
       "      <td>9.78E+12</td>\n",
       "      <td>https://goodreads.com/book/show/1001077.Hungar...</td>\n",
       "      <td>124</td>\n",
       "      <td>4.15</td>\n",
       "      <td>2</td>\n",
       "      <td>Hungary 56</td>\n",
       "      <td>26</td>\n",
       "    </tr>\n",
       "    <tr>\n",
       "      <th>3</th>\n",
       "      <td>Carlotta R. Anderson</td>\n",
       "      <td>Hardcover</td>\n",
       "      <td>\"All-American Anarchist\" chronicles the life a...</td>\n",
       "      <td>Labor,History</td>\n",
       "      <td>https://i.gr-assets.com/images/S/compressed.ph...</td>\n",
       "      <td>814327079</td>\n",
       "      <td>9.78E+12</td>\n",
       "      <td>https://goodreads.com/book/show/1001079.All_Am...</td>\n",
       "      <td>324</td>\n",
       "      <td>3.83</td>\n",
       "      <td>1</td>\n",
       "      <td>All-American Anarchist: Joseph A. Labadie and ...</td>\n",
       "      <td>6</td>\n",
       "    </tr>\n",
       "    <tr>\n",
       "      <th>4</th>\n",
       "      <td>Jean Leveille</td>\n",
       "      <td>NaN</td>\n",
       "      <td>Aujourdâ€™hui, lâ€™oiseau nous invite Ã  sa ta...</td>\n",
       "      <td>NaN</td>\n",
       "      <td>https://i.gr-assets.com/images/S/compressed.ph...</td>\n",
       "      <td>2761920813</td>\n",
       "      <td>NaN</td>\n",
       "      <td>https://goodreads.com/book/show/10010880-les-o...</td>\n",
       "      <td>177</td>\n",
       "      <td>4.00</td>\n",
       "      <td>1</td>\n",
       "      <td>Les oiseaux gourmands</td>\n",
       "      <td>1</td>\n",
       "    </tr>\n",
       "  </tbody>\n",
       "</table>\n",
       "</div>"
      ],
      "text/plain": [
       "                             author bookformat  \\\n",
       "0              Laurence M. Hauptman  Hardcover   \n",
       "1  Charlotte Fiell,Emmanuelle Dirix  Paperback   \n",
       "2                     Andy Anderson  Paperback   \n",
       "3              Carlotta R. Anderson  Hardcover   \n",
       "4                     Jean Leveille        NaN   \n",
       "\n",
       "                                                desc  \\\n",
       "0  Reveals that several hundred thousand Indians ...   \n",
       "1  Fashion Sourcebook - 1920s is the first book i...   \n",
       "2  The seminal history and analysis of the Hungar...   \n",
       "3  \"All-American Anarchist\" chronicles the life a...   \n",
       "4  Aujourdâ€™hui, lâ€™oiseau nous invite Ã  sa ta...   \n",
       "\n",
       "                                               genre  \\\n",
       "0  History,Military History,Civil War,American Hi...   \n",
       "1          Couture,Fashion,Historical,Art,Nonfiction   \n",
       "2                                   Politics,History   \n",
       "3                                      Labor,History   \n",
       "4                                                NaN   \n",
       "\n",
       "                                                 img        isbn    isbn13  \\\n",
       "0  https://i.gr-assets.com/images/S/compressed.ph...  002914180X  9.78E+12   \n",
       "1  https://i.gr-assets.com/images/S/compressed.ph...  1906863482  9.78E+12   \n",
       "2  https://i.gr-assets.com/images/S/compressed.ph...   948984147  9.78E+12   \n",
       "3  https://i.gr-assets.com/images/S/compressed.ph...   814327079  9.78E+12   \n",
       "4  https://i.gr-assets.com/images/S/compressed.ph...  2761920813       NaN   \n",
       "\n",
       "                                                link  pages  rating  reviews  \\\n",
       "0  https://goodreads.com/book/show/1001053.Betwee...      0    3.52        5   \n",
       "1  https://goodreads.com/book/show/10010552-fashi...    576    4.51        6   \n",
       "2  https://goodreads.com/book/show/1001077.Hungar...    124    4.15        2   \n",
       "3  https://goodreads.com/book/show/1001079.All_Am...    324    3.83        1   \n",
       "4  https://goodreads.com/book/show/10010880-les-o...    177    4.00        1   \n",
       "\n",
       "                                               title  totalratings  \n",
       "0  Between Two Fires: American Indians in the Civ...            33  \n",
       "1                           Fashion Sourcebook 1920s            41  \n",
       "2                                         Hungary 56            26  \n",
       "3  All-American Anarchist: Joseph A. Labadie and ...             6  \n",
       "4                              Les oiseaux gourmands             1  "
      ]
     },
     "execution_count": 366,
     "metadata": {},
     "output_type": "execute_result"
    }
   ],
   "source": [
    "good_reads.head()"
   ]
  },
  {
   "cell_type": "code",
   "execution_count": 367,
   "id": "90229f53",
   "metadata": {},
   "outputs": [
    {
     "data": {
      "text/html": [
       "<div>\n",
       "<style scoped>\n",
       "    .dataframe tbody tr th:only-of-type {\n",
       "        vertical-align: middle;\n",
       "    }\n",
       "\n",
       "    .dataframe tbody tr th {\n",
       "        vertical-align: top;\n",
       "    }\n",
       "\n",
       "    .dataframe thead th {\n",
       "        text-align: right;\n",
       "    }\n",
       "</style>\n",
       "<table border=\"1\" class=\"dataframe\">\n",
       "  <thead>\n",
       "    <tr style=\"text-align: right;\">\n",
       "      <th></th>\n",
       "      <th>user_id</th>\n",
       "      <th>isbn</th>\n",
       "      <th>rating</th>\n",
       "      <th>title</th>\n",
       "      <th>author</th>\n",
       "      <th>year</th>\n",
       "      <th>publisher</th>\n",
       "      <th>age</th>\n",
       "      <th>normalized_title</th>\n",
       "      <th>matched_genres</th>\n",
       "    </tr>\n",
       "  </thead>\n",
       "  <tbody>\n",
       "    <tr>\n",
       "      <th>190</th>\n",
       "      <td>276850</td>\n",
       "      <td>0449217264</td>\n",
       "      <td>3.5</td>\n",
       "      <td>Alaska</td>\n",
       "      <td>James A. Michener</td>\n",
       "      <td>1994</td>\n",
       "      <td>Fawcett Books</td>\n",
       "      <td>16</td>\n",
       "      <td>alaska</td>\n",
       "      <td>['Young Adult', 'Fiction', 'Contemporary', 'Ro...</td>\n",
       "    </tr>\n",
       "    <tr>\n",
       "      <th>262</th>\n",
       "      <td>276872</td>\n",
       "      <td>0425167097</td>\n",
       "      <td>4.0</td>\n",
       "      <td>Toxin</td>\n",
       "      <td>Robin Cook</td>\n",
       "      <td>1999</td>\n",
       "      <td>Berkley Pub Group</td>\n",
       "      <td>43</td>\n",
       "      <td>toxin</td>\n",
       "      <td>[]</td>\n",
       "    </tr>\n",
       "    <tr>\n",
       "      <th>263</th>\n",
       "      <td>276872</td>\n",
       "      <td>042518109X</td>\n",
       "      <td>4.0</td>\n",
       "      <td>Whispers</td>\n",
       "      <td>Dean R. Koontz</td>\n",
       "      <td>2001</td>\n",
       "      <td>Berkley Publishing Group</td>\n",
       "      <td>43</td>\n",
       "      <td>whispers</td>\n",
       "      <td>['Fiction', 'Romance', 'Drama', 'Family', 'Nov...</td>\n",
       "    </tr>\n",
       "    <tr>\n",
       "      <th>264</th>\n",
       "      <td>276872</td>\n",
       "      <td>042518109X</td>\n",
       "      <td>4.0</td>\n",
       "      <td>Whispers</td>\n",
       "      <td>Dean R. Koontz</td>\n",
       "      <td>2001</td>\n",
       "      <td>Berkley Publishing Group</td>\n",
       "      <td>43</td>\n",
       "      <td>whispers</td>\n",
       "      <td>['Fiction', 'Romance', 'Drama', 'Family', 'Nov...</td>\n",
       "    </tr>\n",
       "    <tr>\n",
       "      <th>265</th>\n",
       "      <td>276872</td>\n",
       "      <td>042518109X</td>\n",
       "      <td>4.0</td>\n",
       "      <td>Whispers</td>\n",
       "      <td>Dean R. Koontz</td>\n",
       "      <td>2001</td>\n",
       "      <td>Berkley Publishing Group</td>\n",
       "      <td>43</td>\n",
       "      <td>whispers</td>\n",
       "      <td>['Fiction', 'Romance', 'Drama', 'Family', 'Nov...</td>\n",
       "    </tr>\n",
       "  </tbody>\n",
       "</table>\n",
       "</div>"
      ],
      "text/plain": [
       "     user_id        isbn  rating     title             author  year  \\\n",
       "190   276850  0449217264     3.5    Alaska  James A. Michener  1994   \n",
       "262   276872  0425167097     4.0     Toxin         Robin Cook  1999   \n",
       "263   276872  042518109X     4.0  Whispers     Dean R. Koontz  2001   \n",
       "264   276872  042518109X     4.0  Whispers     Dean R. Koontz  2001   \n",
       "265   276872  042518109X     4.0  Whispers     Dean R. Koontz  2001   \n",
       "\n",
       "                    publisher age normalized_title  \\\n",
       "190             Fawcett Books  16           alaska   \n",
       "262         Berkley Pub Group  43            toxin   \n",
       "263  Berkley Publishing Group  43         whispers   \n",
       "264  Berkley Publishing Group  43         whispers   \n",
       "265  Berkley Publishing Group  43         whispers   \n",
       "\n",
       "                                        matched_genres  \n",
       "190  ['Young Adult', 'Fiction', 'Contemporary', 'Ro...  \n",
       "262                                                 []  \n",
       "263  ['Fiction', 'Romance', 'Drama', 'Family', 'Nov...  \n",
       "264  ['Fiction', 'Romance', 'Drama', 'Family', 'Nov...  \n",
       "265  ['Fiction', 'Romance', 'Drama', 'Family', 'Nov...  "
      ]
     },
     "execution_count": 367,
     "metadata": {},
     "output_type": "execute_result"
    }
   ],
   "source": [
    "data_with_no_null_genre.head()"
   ]
  },
  {
   "cell_type": "code",
   "execution_count": 368,
   "id": "8cf9163e",
   "metadata": {},
   "outputs": [
    {
     "data": {
      "text/plain": [
       "Index(['user_id', 'isbn', 'rating', 'title', 'author', 'year', 'publisher',\n",
       "       'age', 'normalized_title', 'matched_genres'],\n",
       "      dtype='object')"
      ]
     },
     "execution_count": 368,
     "metadata": {},
     "output_type": "execute_result"
    }
   ],
   "source": [
    "data_with_no_null_genre.columns"
   ]
  },
  {
   "cell_type": "code",
   "execution_count": 369,
   "id": "5a4b33a7",
   "metadata": {},
   "outputs": [
    {
     "data": {
      "text/plain": [
       "Index(['author', 'bookformat', 'desc', 'genre', 'img', 'isbn', 'isbn13',\n",
       "       'link', 'pages', 'rating', 'reviews', 'title', 'totalratings'],\n",
       "      dtype='object')"
      ]
     },
     "execution_count": 369,
     "metadata": {},
     "output_type": "execute_result"
    }
   ],
   "source": [
    "good_reads.columns"
   ]
  },
  {
   "cell_type": "code",
   "execution_count": 377,
   "id": "85a4e662",
   "metadata": {},
   "outputs": [
    {
     "name": "stdout",
     "output_type": "stream",
     "text": [
      "✅ Combined and standardized dataset saved as combined_books.csv\n"
     ]
    }
   ],
   "source": [
    "\n",
    "# Convert genre from string to list if necessary\n",
    "def parse_genre(val):\n",
    "    if pd.isna(val):\n",
    "        return []\n",
    "    if isinstance(val, list):\n",
    "        return val\n",
    "    return [g.strip() for g in str(val).split(',') if g.strip()]\n",
    "\n",
    "good_reads['matched_genres'] = good_reads['genre'].apply(parse_genre)\n",
    "\n",
    "# Create a unified format for good_reads\n",
    "good_reads_standardized = pd.DataFrame({\n",
    "    'user_id': data_with_no_null_genre['user_id'],\n",
    "    'isbn': good_reads['isbn'],\n",
    "    'rating': good_reads['rating'],\n",
    "    'title': good_reads['title'],\n",
    "    'author': good_reads['author'],\n",
    "    'desc':good_reads['desc'],\n",
    "    'year': data_with_no_null_genre['year'],\n",
    "    'publisher': data_with_no_null_genre['publisher'],\n",
    "    'age': data_with_no_null_genre['age'],\n",
    "    'normalized_title': good_reads['title'].str.lower().str.replace(r'[^a-z0-9]', '', regex=True),\n",
    "    'matched_genres': good_reads['matched_genres']\n",
    "})\n",
    "\n",
    "# Select and align columns from data_with_no_null_genre\n",
    "data_with_no_null_genre_aligned = data_with_no_null_genre[[\n",
    "    'user_id', 'isbn', 'rating', 'title', 'author', 'year', 'publisher',\n",
    "    'age', 'normalized_title', 'matched_genres'\n",
    "]]\n",
    "\n",
    "# Combine the two datasets\n",
    "combined_df = pd.concat([data_with_no_null_genre_aligned, good_reads_standardized], ignore_index=True)\n",
    "\n",
    "# Save the result\n",
    "combined_df.to_csv(\"/Users/whoseunassailable/Documents/coding_projects/college_projects/readiculous/data/processed/combined_books.csv\", index=False)\n",
    "\n",
    "print(\"✅ Combined and standardized dataset saved as combined_books.csv\")"
   ]
  },
  {
   "cell_type": "code",
   "execution_count": 378,
   "id": "2fbec5b3",
   "metadata": {},
   "outputs": [
    {
     "name": "stderr",
     "output_type": "stream",
     "text": [
      "/var/folders/dw/fn12lc3x2b317ydc5b70v2340000gn/T/ipykernel_46134/3982326125.py:1: DtypeWarning: Columns (1,3,4,8,9,10) have mixed types. Specify dtype option on import or set low_memory=False.\n",
      "  combined_df = pd.read_csv(\"/Users/whoseunassailable/Documents/coding_projects/college_projects/readiculous/data/processed/combined_books.csv\")\n"
     ]
    }
   ],
   "source": [
    "combined_df = pd.read_csv(\"/Users/whoseunassailable/Documents/coding_projects/college_projects/readiculous/data/processed/combined_books.csv\")\n"
   ]
  },
  {
   "cell_type": "code",
   "execution_count": 379,
   "id": "37a07ddb",
   "metadata": {},
   "outputs": [
    {
     "data": {
      "text/plain": [
       "(151774, 11)"
      ]
     },
     "execution_count": 379,
     "metadata": {},
     "output_type": "execute_result"
    }
   ],
   "source": [
    "combined_df.shape"
   ]
  },
  {
   "cell_type": "code",
   "execution_count": null,
   "id": "9b961035",
   "metadata": {},
   "outputs": [],
   "source": []
  }
 ],
 "metadata": {
  "kernelspec": {
   "display_name": "base",
   "language": "python",
   "name": "python3"
  },
  "language_info": {
   "codemirror_mode": {
    "name": "ipython",
    "version": 3
   },
   "file_extension": ".py",
   "mimetype": "text/x-python",
   "name": "python",
   "nbconvert_exporter": "python",
   "pygments_lexer": "ipython3",
   "version": "3.12.7"
  }
 },
 "nbformat": 4,
 "nbformat_minor": 5
}

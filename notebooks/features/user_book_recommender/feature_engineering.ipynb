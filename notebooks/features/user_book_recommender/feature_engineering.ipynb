{
 "cells": [
  {
   "cell_type": "code",
   "execution_count": 13,
   "id": "46eb7148",
   "metadata": {},
   "outputs": [],
   "source": [
    "import pandas as pd\n",
    "import ast\n",
    "from sklearn.preprocessing import MultiLabelBinarizer\n",
    "import ast\n",
    "from sklearn.feature_extraction.text import TfidfVectorizer"
   ]
  },
  {
   "cell_type": "code",
   "execution_count": 9,
   "id": "6e3bae79",
   "metadata": {},
   "outputs": [],
   "source": [
    "df = pd.read_csv(\"/Users/whoseunassailable/Documents/coding_projects/college_projects/readiculous/data/processed/ready_for_feature_engineering.csv\")"
   ]
  },
  {
   "cell_type": "code",
   "execution_count": 10,
   "id": "959058dc",
   "metadata": {},
   "outputs": [],
   "source": [
    "def create_combined_text(df):\n",
    "    return (\n",
    "        df['normalized_title'].fillna('') + ' ' +\n",
    "        df['matched_genres'].fillna('') + ' ' +\n",
    "        df['desc'].fillna('')\n",
    "    )\n",
    "\n",
    "df['combined_text'] = create_combined_text(df)\n"
   ]
  },
  {
   "cell_type": "code",
   "execution_count": 11,
   "id": "a4aaae45",
   "metadata": {},
   "outputs": [],
   "source": [
    "\n",
    "# Safely convert stringified lists to actual lists\n",
    "df['genres_list'] = df['matched_genres'].apply(lambda x: ast.literal_eval(x) if isinstance(x, str) else [])\n",
    "\n",
    "# One-hot encode genres\n",
    "mlb = MultiLabelBinarizer()\n",
    "genre_features = mlb.fit_transform(df['genres_list'])\n",
    "\n",
    "# Add back to DataFrame (optional)\n",
    "genre_df = pd.DataFrame(genre_features, columns=mlb.classes_)\n",
    "df_clean = pd.concat([df, genre_df], axis=1)\n"
   ]
  },
  {
   "cell_type": "code",
   "execution_count": null,
   "id": "e6b2b739",
   "metadata": {},
   "outputs": [],
   "source": [
    "tfidf_vectorizer = TfidfVectorizer(stop_words='english', max_features=50000)\n",
    "tfidf_matrix = tfidf_vectorizer.fit_transform(df_clean['combined_text'])"
   ]
  },
  {
   "cell_type": "code",
   "execution_count": 15,
   "id": "839829c7",
   "metadata": {},
   "outputs": [],
   "source": [
    "interaction_df = df_clean[['title', 'rating']].copy()"
   ]
  },
  {
   "cell_type": "code",
   "execution_count": 18,
   "id": "54a68d33",
   "metadata": {},
   "outputs": [
    {
     "data": {
      "text/plain": [
       "Index(['Unnamed: 0', 'isbn', 'rating', 'title', 'author', 'normalized_title',\n",
       "       'matched_genres', 'desc', 'combined_text', 'genres_list'],\n",
       "      dtype='object')"
      ]
     },
     "execution_count": 18,
     "metadata": {},
     "output_type": "execute_result"
    }
   ],
   "source": [
    "df.columns"
   ]
  },
  {
   "cell_type": "code",
   "execution_count": 19,
   "id": "c49ef87c",
   "metadata": {},
   "outputs": [],
   "source": [
    "df.to_csv(\"/Users/whoseunassailable/Documents/coding_projects/college_projects/readiculous/data/processed/feature_engineering_done.csv\")"
   ]
  }
 ],
 "metadata": {
  "kernelspec": {
   "display_name": "base",
   "language": "python",
   "name": "python3"
  },
  "language_info": {
   "codemirror_mode": {
    "name": "ipython",
    "version": 3
   },
   "file_extension": ".py",
   "mimetype": "text/x-python",
   "name": "python",
   "nbconvert_exporter": "python",
   "pygments_lexer": "ipython3",
   "version": "3.12.7"
  }
 },
 "nbformat": 4,
 "nbformat_minor": 5
}

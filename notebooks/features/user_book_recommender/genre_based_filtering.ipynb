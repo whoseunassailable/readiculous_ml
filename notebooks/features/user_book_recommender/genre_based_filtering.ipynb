{
 "cells": [
  {
   "cell_type": "code",
   "execution_count": 1,
   "id": "bdd4c16d",
   "metadata": {},
   "outputs": [],
   "source": [
    "import pandas as pd"
   ]
  },
  {
   "cell_type": "code",
   "execution_count": 2,
   "id": "6450dc4a",
   "metadata": {},
   "outputs": [],
   "source": [
    "df = pd.read_csv(\"/Users/whoseunassailable/Documents/coding_projects/college_projects/readiculous/data/processed/feature_engineering_done.csv\")"
   ]
  },
  {
   "cell_type": "markdown",
   "id": "84879e01",
   "metadata": {},
   "source": [
    "### Fix all-uppercase authors (e.g., “KAREN ROBARDS”)\n",
    "\n"
   ]
  },
  {
   "cell_type": "code",
   "execution_count": 3,
   "id": "22ac622a",
   "metadata": {},
   "outputs": [],
   "source": [
    "df['author'] = df['author'].astype(str).apply(lambda x: x.title())"
   ]
  },
  {
   "cell_type": "code",
   "execution_count": 4,
   "id": "a0a242cf",
   "metadata": {},
   "outputs": [],
   "source": [
    "df['author'] = df['author'].apply(lambda x: x.title())"
   ]
  },
  {
   "cell_type": "code",
   "execution_count": 5,
   "id": "d7d120ca",
   "metadata": {},
   "outputs": [
    {
     "data": {
      "text/plain": [
       "(115758, 11)"
      ]
     },
     "execution_count": 5,
     "metadata": {},
     "output_type": "execute_result"
    }
   ],
   "source": [
    "df.shape"
   ]
  },
  {
   "cell_type": "code",
   "execution_count": 6,
   "id": "b56b81cd",
   "metadata": {},
   "outputs": [],
   "source": [
    "def get_books_by_genres(df, selected_genres, top_n=10):\n",
    "    # Filter books that contain at least one selected genre\n",
    "    filtered_df = df[df['genres_list'].apply(lambda genres: any(genre in genres for genre in selected_genres))]\n",
    "\n",
    "    # Optional: Sort by average rating or popularity if available\n",
    "    if 'rating' in filtered_df.columns:\n",
    "        top_books = filtered_df.sort_values(by='rating', ascending=False)\n",
    "        top_books = top_books.drop_duplicates(subset=['title', 'author']).head(top_n)\n",
    "    else:\n",
    "        top_books = filtered_df.head(top_n)\n",
    "    \n",
    "    return top_books[['title', 'author', 'matched_genres', 'rating']].reset_index(drop=True)\n"
   ]
  },
  {
   "cell_type": "code",
   "execution_count": 7,
   "id": "93bab2c8",
   "metadata": {},
   "outputs": [
    {
     "name": "stdout",
     "output_type": "stream",
     "text": [
      "          title             author  \\\n",
      "0         Congo   Michael Crichton   \n",
      "1       Impulse  Catherine Coulter   \n",
      "2        Fallen    Celeste Bradley   \n",
      "3         Honey      Stef Ann Holm   \n",
      "4      Standoff       Sandra Brown   \n",
      "5       Charade       Sandra Brown   \n",
      "6  Heartbreaker      Karen Robards   \n",
      "7        Alaska  James A. Michener   \n",
      "8      Firebird    Mercedes Lackey   \n",
      "9       Enticed    Virginia Henley   \n",
      "\n",
      "                                      matched_genres  rating  \n",
      "0  ['Romance', 'Contemporary Romance', 'Historica...     5.0  \n",
      "1  ['Paranormal', 'Paranormal Romance', 'Romance'...     5.0  \n",
      "2  ['Fantasy', 'Angels', 'Romance', 'Paranormal',...     5.0  \n",
      "3  ['Poetry', 'Feminism', 'Nonfiction', 'Contempo...     5.0  \n",
      "4  ['Fiction', 'Mystery', 'Fantasy', 'Books About...     5.0  \n",
      "5  ['Christian Fiction', 'Christian', 'Suspense',...     5.0  \n",
      "6  ['Middle Grade', 'Realistic Fiction', 'Fiction...     5.0  \n",
      "7  ['Young Adult', 'Fiction', 'Contemporary', 'Ro...     5.0  \n",
      "8  ['Fantasy', 'Young Adult', 'Romance', 'Fiction...     5.0  \n",
      "9  ['Romance', 'New Adult', 'College', 'Contempor...     5.0  \n"
     ]
    }
   ],
   "source": [
    "# User-selected genres (simulate input)\n",
    "user_likes = ['Fantasy', 'Thriller', 'Romance']\n",
    "\n",
    "# Recommend books\n",
    "recommended_books = get_books_by_genres(df, user_likes, top_n=10)\n",
    "\n",
    "print(recommended_books)\n"
   ]
  },
  {
   "cell_type": "code",
   "execution_count": 8,
   "id": "f58acf90",
   "metadata": {},
   "outputs": [],
   "source": [
    "df.to_csv(\"/Users/whoseunassailable/Documents/coding_projects/college_projects/readiculous/data/processed/genre_based_filtering.csv\")"
   ]
  }
 ],
 "metadata": {
  "kernelspec": {
   "display_name": "base",
   "language": "python",
   "name": "python3"
  },
  "language_info": {
   "codemirror_mode": {
    "name": "ipython",
    "version": 3
   },
   "file_extension": ".py",
   "mimetype": "text/x-python",
   "name": "python",
   "nbconvert_exporter": "python",
   "pygments_lexer": "ipython3",
   "version": "3.12.7"
  }
 },
 "nbformat": 4,
 "nbformat_minor": 5
}
